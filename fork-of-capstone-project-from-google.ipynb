{
 "cells": [
  {
   "cell_type": "markdown",
   "id": "95a3214e",
   "metadata": {
    "papermill": {
     "duration": 0.024778,
     "end_time": "2022-06-13T13:23:47.763708",
     "exception": false,
     "start_time": "2022-06-13T13:23:47.738930",
     "status": "completed"
    },
    "tags": []
   },
   "source": [
    "# Google data analytics Capstone Project: How does a bike-share navigate speedy success\n",
    "\n",
    "Author: **[Ladislau André](http://https://ladislau2020.github.io/2021/CV/index.html)**\n",
    "dataset: [Cyclistic Dataset](http://)\n",
    "Date: *04-06-2022*\n",
    "\n"
   ]
  },
  {
   "cell_type": "markdown",
   "id": "6a3bea54",
   "metadata": {
    "papermill": {
     "duration": 0.02915,
     "end_time": "2022-06-13T13:23:47.817892",
     "exception": false,
     "start_time": "2022-06-13T13:23:47.788742",
     "status": "completed"
    },
    "tags": []
   },
   "source": [
    "## Introduction\n"
   ]
  },
  {
   "cell_type": "markdown",
   "id": "fa8e81b6",
   "metadata": {
    "papermill": {
     "duration": 0.034841,
     "end_time": "2022-06-13T13:23:47.879587",
     "exception": false,
     "start_time": "2022-06-13T13:23:47.844746",
     "status": "completed"
    },
    "tags": []
   },
   "source": [
    "### Loading the libraries\n",
    "We will be importing the pandas library for the ETL process."
   ]
  },
  {
   "cell_type": "code",
   "execution_count": null,
   "id": "8112c8b7",
   "metadata": {
    "papermill": {
     "duration": 0.027244,
     "end_time": "2022-06-13T13:23:47.940386",
     "exception": false,
     "start_time": "2022-06-13T13:23:47.913142",
     "status": "completed"
    },
    "tags": []
   },
   "outputs": [],
   "source": []
  },
  {
   "cell_type": "code",
   "execution_count": 1,
   "id": "d7c31fc8",
   "metadata": {
    "execution": {
     "iopub.execute_input": "2022-06-13T13:23:47.988750Z",
     "iopub.status.busy": "2022-06-13T13:23:47.988111Z",
     "iopub.status.idle": "2022-06-13T13:23:48.002305Z",
     "shell.execute_reply": "2022-06-13T13:23:48.001543Z"
    },
    "papermill": {
     "duration": 0.041177,
     "end_time": "2022-06-13T13:23:48.004598",
     "exception": false,
     "start_time": "2022-06-13T13:23:47.963421",
     "status": "completed"
    },
    "tags": []
   },
   "outputs": [],
   "source": [
    "import pandas as pd "
   ]
  },
  {
   "cell_type": "code",
   "execution_count": null,
   "id": "8614128f",
   "metadata": {
    "papermill": {
     "duration": 0.023029,
     "end_time": "2022-06-13T13:23:48.050905",
     "exception": false,
     "start_time": "2022-06-13T13:23:48.027876",
     "status": "completed"
    },
    "tags": []
   },
   "outputs": [],
   "source": []
  },
  {
   "cell_type": "markdown",
   "id": "21fc7ea5",
   "metadata": {
    "papermill": {
     "duration": 0.02306,
     "end_time": "2022-06-13T13:23:48.096958",
     "exception": false,
     "start_time": "2022-06-13T13:23:48.073898",
     "status": "completed"
    },
    "tags": []
   },
   "source": [
    "### Loading the Dataset\n",
    "\n",
    "As earlier said we are going to be using the cyclist dataset for the last 12 months for this project."
   ]
  },
  {
   "cell_type": "code",
   "execution_count": null,
   "id": "166dc74e",
   "metadata": {
    "papermill": {
     "duration": 0.022682,
     "end_time": "2022-06-13T13:23:48.143017",
     "exception": false,
     "start_time": "2022-06-13T13:23:48.120335",
     "status": "completed"
    },
    "tags": []
   },
   "outputs": [],
   "source": []
  },
  {
   "cell_type": "code",
   "execution_count": 2,
   "id": "5de99712",
   "metadata": {
    "execution": {
     "iopub.execute_input": "2022-06-13T13:23:48.191373Z",
     "iopub.status.busy": "2022-06-13T13:23:48.190692Z",
     "iopub.status.idle": "2022-06-13T13:24:09.089964Z",
     "shell.execute_reply": "2022-06-13T13:24:09.088891Z"
    },
    "papermill": {
     "duration": 20.926174,
     "end_time": "2022-06-13T13:24:09.092442",
     "exception": false,
     "start_time": "2022-06-13T13:23:48.166268",
     "status": "completed"
    },
    "tags": []
   },
   "outputs": [],
   "source": [
    "\n",
    "month1 = pd.read_csv(\"../input/cyclistic-bike-share/202004-divvy-tripdata.csv\")\n",
    "month2 = pd.read_csv(\"../input/cyclistic-bike-share/202005-divvy-tripdata.csv\")\n",
    "month3 = pd.read_csv(\"../input/cyclistic-bike-share/202006-divvy-tripdata.csv\")\n",
    "month4 = pd.read_csv(\"../input/cyclistic-bike-share/202007-divvy-tripdata.csv\")\n",
    "month5 = pd.read_csv(\"../input/cyclistic-bike-share/202008-divvy-tripdata.csv\")\n",
    "month6 = pd.read_csv(\"../input/cyclistic-bike-share/202009-divvy-tripdata.csv\")\n",
    "month7 = pd.read_csv(\"../input/cyclistic-bike-share/202010-divvy-tripdata.csv\")\n",
    "month8 = pd.read_csv(\"../input/cyclistic-bike-share/202011-divvy-tripdata.csv\")\n",
    "month9 = pd.read_csv(\"../input/cyclistic-bike-share/202012-divvy-tripdata.csv\")\n",
    "month10 = pd.read_csv(\"../input/cyclistic-bike-share/202101-divvy-tripdata.csv\")\n",
    "month11 = pd.read_csv(\"../input/cyclistic-bike-share/202102-divvy-tripdata.csv\")\n",
    "month12 = pd.read_csv(\"../input/cyclistic-bike-share/202103-divvy-tripdata.csv\")\n",
    "\n",
    "# after loading the dataset we are going to bind them using the concat function\n",
    "\n",
    "tripdata = pd.concat([month1, month2, month3, month4, month5, month6, month7, month8, month9, month10, month11, month12])\n"
   ]
  },
  {
   "cell_type": "markdown",
   "id": "c3c2b3f0",
   "metadata": {
    "papermill": {
     "duration": 0.023791,
     "end_time": "2022-06-13T13:24:09.139352",
     "exception": false,
     "start_time": "2022-06-13T13:24:09.115561",
     "status": "completed"
    },
    "tags": []
   },
   "source": [
    "### Inspecting my dataset and gain insights about it\n",
    "\n",
    "I will be using functions allowing me to inspect the dataset and get to know more about it."
   ]
  },
  {
   "cell_type": "markdown",
   "id": "22f74bfd",
   "metadata": {
    "papermill": {
     "duration": 0.023169,
     "end_time": "2022-06-13T13:24:09.186020",
     "exception": false,
     "start_time": "2022-06-13T13:24:09.162851",
     "status": "completed"
    },
    "tags": []
   },
   "source": []
  },
  {
   "cell_type": "code",
   "execution_count": 3,
   "id": "c141a4f1",
   "metadata": {
    "execution": {
     "iopub.execute_input": "2022-06-13T13:24:09.234102Z",
     "iopub.status.busy": "2022-06-13T13:24:09.233707Z",
     "iopub.status.idle": "2022-06-13T13:24:09.253302Z",
     "shell.execute_reply": "2022-06-13T13:24:09.252204Z"
    },
    "papermill": {
     "duration": 0.0465,
     "end_time": "2022-06-13T13:24:09.256042",
     "exception": false,
     "start_time": "2022-06-13T13:24:09.209542",
     "status": "completed"
    },
    "tags": []
   },
   "outputs": [
    {
     "name": "stdout",
     "output_type": "stream",
     "text": [
      "                 ride_id  rideable_type           started_at  \\\n",
      "0       A847FADBBC638E45    docked_bike  2020-04-26 17:45:14   \n",
      "1       5405B80E996FF60D    docked_bike  2020-04-17 17:08:54   \n",
      "2       5DD24A79A4E006F4    docked_bike  2020-04-01 17:54:13   \n",
      "3       2A59BBDF5CDBA725    docked_bike  2020-04-07 12:50:19   \n",
      "4       27AD306C119C6158    docked_bike  2020-04-18 10:22:59   \n",
      "...                  ...            ...                  ...   \n",
      "228491  9397BDD14798A1BA    docked_bike  2021-03-20 14:58:56   \n",
      "228492  BBBEB8D51AAD40DA   classic_bike  2021-03-02 11:35:10   \n",
      "228493  637FF754DA0BD9E1   classic_bike  2021-03-09 11:07:36   \n",
      "228494  F8F43A0B978A7A35   classic_bike  2021-03-01 18:11:57   \n",
      "228495  3AE64EA5BF43CF72  electric_bike  2021-03-26 17:58:14   \n",
      "\n",
      "                   ended_at            start_station_name start_station_id  \\\n",
      "0       2020-04-26 18:12:03                  Eckhart Park               86   \n",
      "1       2020-04-17 17:17:03     Drake Ave & Fullerton Ave              503   \n",
      "2       2020-04-01 18:08:36          McClurg Ct & Erie St              142   \n",
      "3       2020-04-07 13:02:31  California Ave & Division St              216   \n",
      "4       2020-04-18 11:15:54          Rush St & Hubbard St              125   \n",
      "...                     ...                           ...              ...   \n",
      "228491  2021-03-20 17:22:47         Michigan Ave & Oak St            13042   \n",
      "228492  2021-03-02 11:43:37      Kingsbury St & Kinzie St     KA1503000043   \n",
      "228493  2021-03-09 11:49:11         Michigan Ave & Oak St            13042   \n",
      "228494  2021-03-01 18:18:37      Kingsbury St & Kinzie St     KA1503000043   \n",
      "228495  2021-03-26 18:06:43                           NaN              NaN   \n",
      "\n",
      "                   end_station_name end_station_id  start_lat  start_lng  \\\n",
      "0       Lincoln Ave & Diversey Pkwy          152.0  41.896400 -87.661000   \n",
      "1                   Kosciuszko Park          499.0  41.924400 -87.715400   \n",
      "2        Indiana Ave & Roosevelt Rd          255.0  41.894500 -87.617900   \n",
      "3            Wood St & Augusta Blvd          657.0  41.903000 -87.697500   \n",
      "4        Sheridan Rd & Lawrence Ave          323.0  41.890200 -87.626200   \n",
      "...                             ...            ...        ...        ...   \n",
      "228491         New St & Illinois St   TA1306000013  41.900960 -87.623777   \n",
      "228492         New St & Illinois St   TA1306000013  41.889177 -87.638506   \n",
      "228493        Clark St & Berwyn Ave   KA1504000146  41.900960 -87.623777   \n",
      "228494         New St & Illinois St   TA1306000013  41.889177 -87.638506   \n",
      "228495         New St & Illinois St   TA1306000013  41.880000 -87.630000   \n",
      "\n",
      "          end_lat    end_lng member_casual  \n",
      "0       41.932200 -87.658600        member  \n",
      "1       41.930600 -87.723800        member  \n",
      "2       41.867900 -87.623000        member  \n",
      "3       41.899200 -87.672200        member  \n",
      "4       41.969500 -87.654700        casual  \n",
      "...           ...        ...           ...  \n",
      "228491  41.890847 -87.618617        casual  \n",
      "228492  41.890847 -87.618617        member  \n",
      "228493  41.977997 -87.668047        member  \n",
      "228494  41.890847 -87.618617        member  \n",
      "228495  41.890818 -87.619540        member  \n",
      "\n",
      "[3489748 rows x 13 columns]\n"
     ]
    }
   ],
   "source": [
    "print(tripdata)"
   ]
  },
  {
   "cell_type": "markdown",
   "id": "f440d656",
   "metadata": {
    "papermill": {
     "duration": 0.022976,
     "end_time": "2022-06-13T13:24:09.302509",
     "exception": false,
     "start_time": "2022-06-13T13:24:09.279533",
     "status": "completed"
    },
    "tags": []
   },
   "source": [
    "We have merged the whole data and we could notice that it has [3489748 rows x 13 columns] "
   ]
  },
  {
   "cell_type": "code",
   "execution_count": 4,
   "id": "a4688275",
   "metadata": {
    "execution": {
     "iopub.execute_input": "2022-06-13T13:24:09.351835Z",
     "iopub.status.busy": "2022-06-13T13:24:09.351445Z",
     "iopub.status.idle": "2022-06-13T13:24:09.376155Z",
     "shell.execute_reply": "2022-06-13T13:24:09.375095Z"
    },
    "papermill": {
     "duration": 0.051969,
     "end_time": "2022-06-13T13:24:09.378477",
     "exception": false,
     "start_time": "2022-06-13T13:24:09.326508",
     "status": "completed"
    },
    "tags": []
   },
   "outputs": [
    {
     "data": {
      "text/html": [
       "<div>\n",
       "<style scoped>\n",
       "    .dataframe tbody tr th:only-of-type {\n",
       "        vertical-align: middle;\n",
       "    }\n",
       "\n",
       "    .dataframe tbody tr th {\n",
       "        vertical-align: top;\n",
       "    }\n",
       "\n",
       "    .dataframe thead th {\n",
       "        text-align: right;\n",
       "    }\n",
       "</style>\n",
       "<table border=\"1\" class=\"dataframe\">\n",
       "  <thead>\n",
       "    <tr style=\"text-align: right;\">\n",
       "      <th></th>\n",
       "      <th>ride_id</th>\n",
       "      <th>rideable_type</th>\n",
       "      <th>started_at</th>\n",
       "      <th>ended_at</th>\n",
       "      <th>start_station_name</th>\n",
       "      <th>start_station_id</th>\n",
       "      <th>end_station_name</th>\n",
       "      <th>end_station_id</th>\n",
       "      <th>start_lat</th>\n",
       "      <th>start_lng</th>\n",
       "      <th>end_lat</th>\n",
       "      <th>end_lng</th>\n",
       "      <th>member_casual</th>\n",
       "    </tr>\n",
       "  </thead>\n",
       "  <tbody>\n",
       "    <tr>\n",
       "      <th>0</th>\n",
       "      <td>A847FADBBC638E45</td>\n",
       "      <td>docked_bike</td>\n",
       "      <td>2020-04-26 17:45:14</td>\n",
       "      <td>2020-04-26 18:12:03</td>\n",
       "      <td>Eckhart Park</td>\n",
       "      <td>86</td>\n",
       "      <td>Lincoln Ave &amp; Diversey Pkwy</td>\n",
       "      <td>152.0</td>\n",
       "      <td>41.8964</td>\n",
       "      <td>-87.6610</td>\n",
       "      <td>41.9322</td>\n",
       "      <td>-87.6586</td>\n",
       "      <td>member</td>\n",
       "    </tr>\n",
       "    <tr>\n",
       "      <th>1</th>\n",
       "      <td>5405B80E996FF60D</td>\n",
       "      <td>docked_bike</td>\n",
       "      <td>2020-04-17 17:08:54</td>\n",
       "      <td>2020-04-17 17:17:03</td>\n",
       "      <td>Drake Ave &amp; Fullerton Ave</td>\n",
       "      <td>503</td>\n",
       "      <td>Kosciuszko Park</td>\n",
       "      <td>499.0</td>\n",
       "      <td>41.9244</td>\n",
       "      <td>-87.7154</td>\n",
       "      <td>41.9306</td>\n",
       "      <td>-87.7238</td>\n",
       "      <td>member</td>\n",
       "    </tr>\n",
       "    <tr>\n",
       "      <th>2</th>\n",
       "      <td>5DD24A79A4E006F4</td>\n",
       "      <td>docked_bike</td>\n",
       "      <td>2020-04-01 17:54:13</td>\n",
       "      <td>2020-04-01 18:08:36</td>\n",
       "      <td>McClurg Ct &amp; Erie St</td>\n",
       "      <td>142</td>\n",
       "      <td>Indiana Ave &amp; Roosevelt Rd</td>\n",
       "      <td>255.0</td>\n",
       "      <td>41.8945</td>\n",
       "      <td>-87.6179</td>\n",
       "      <td>41.8679</td>\n",
       "      <td>-87.6230</td>\n",
       "      <td>member</td>\n",
       "    </tr>\n",
       "    <tr>\n",
       "      <th>3</th>\n",
       "      <td>2A59BBDF5CDBA725</td>\n",
       "      <td>docked_bike</td>\n",
       "      <td>2020-04-07 12:50:19</td>\n",
       "      <td>2020-04-07 13:02:31</td>\n",
       "      <td>California Ave &amp; Division St</td>\n",
       "      <td>216</td>\n",
       "      <td>Wood St &amp; Augusta Blvd</td>\n",
       "      <td>657.0</td>\n",
       "      <td>41.9030</td>\n",
       "      <td>-87.6975</td>\n",
       "      <td>41.8992</td>\n",
       "      <td>-87.6722</td>\n",
       "      <td>member</td>\n",
       "    </tr>\n",
       "    <tr>\n",
       "      <th>4</th>\n",
       "      <td>27AD306C119C6158</td>\n",
       "      <td>docked_bike</td>\n",
       "      <td>2020-04-18 10:22:59</td>\n",
       "      <td>2020-04-18 11:15:54</td>\n",
       "      <td>Rush St &amp; Hubbard St</td>\n",
       "      <td>125</td>\n",
       "      <td>Sheridan Rd &amp; Lawrence Ave</td>\n",
       "      <td>323.0</td>\n",
       "      <td>41.8902</td>\n",
       "      <td>-87.6262</td>\n",
       "      <td>41.9695</td>\n",
       "      <td>-87.6547</td>\n",
       "      <td>casual</td>\n",
       "    </tr>\n",
       "  </tbody>\n",
       "</table>\n",
       "</div>"
      ],
      "text/plain": [
       "            ride_id rideable_type           started_at             ended_at  \\\n",
       "0  A847FADBBC638E45   docked_bike  2020-04-26 17:45:14  2020-04-26 18:12:03   \n",
       "1  5405B80E996FF60D   docked_bike  2020-04-17 17:08:54  2020-04-17 17:17:03   \n",
       "2  5DD24A79A4E006F4   docked_bike  2020-04-01 17:54:13  2020-04-01 18:08:36   \n",
       "3  2A59BBDF5CDBA725   docked_bike  2020-04-07 12:50:19  2020-04-07 13:02:31   \n",
       "4  27AD306C119C6158   docked_bike  2020-04-18 10:22:59  2020-04-18 11:15:54   \n",
       "\n",
       "             start_station_name start_station_id             end_station_name  \\\n",
       "0                  Eckhart Park               86  Lincoln Ave & Diversey Pkwy   \n",
       "1     Drake Ave & Fullerton Ave              503              Kosciuszko Park   \n",
       "2          McClurg Ct & Erie St              142   Indiana Ave & Roosevelt Rd   \n",
       "3  California Ave & Division St              216       Wood St & Augusta Blvd   \n",
       "4          Rush St & Hubbard St              125   Sheridan Rd & Lawrence Ave   \n",
       "\n",
       "  end_station_id  start_lat  start_lng  end_lat  end_lng member_casual  \n",
       "0          152.0    41.8964   -87.6610  41.9322 -87.6586        member  \n",
       "1          499.0    41.9244   -87.7154  41.9306 -87.7238        member  \n",
       "2          255.0    41.8945   -87.6179  41.8679 -87.6230        member  \n",
       "3          657.0    41.9030   -87.6975  41.8992 -87.6722        member  \n",
       "4          323.0    41.8902   -87.6262  41.9695 -87.6547        casual  "
      ]
     },
     "execution_count": 4,
     "metadata": {},
     "output_type": "execute_result"
    }
   ],
   "source": [
    "#Watching the first five rows of the data for inspecting purposes\n",
    "\n",
    "tripdata.head()"
   ]
  },
  {
   "cell_type": "code",
   "execution_count": 5,
   "id": "2d6ca3d6",
   "metadata": {
    "execution": {
     "iopub.execute_input": "2022-06-13T13:24:09.428351Z",
     "iopub.status.busy": "2022-06-13T13:24:09.427496Z",
     "iopub.status.idle": "2022-06-13T13:24:11.475058Z",
     "shell.execute_reply": "2022-06-13T13:24:11.474183Z"
    },
    "papermill": {
     "duration": 2.075169,
     "end_time": "2022-06-13T13:24:11.477635",
     "exception": false,
     "start_time": "2022-06-13T13:24:09.402466",
     "status": "completed"
    },
    "tags": []
   },
   "outputs": [
    {
     "data": {
      "text/html": [
       "<div>\n",
       "<style scoped>\n",
       "    .dataframe tbody tr th:only-of-type {\n",
       "        vertical-align: middle;\n",
       "    }\n",
       "\n",
       "    .dataframe tbody tr th {\n",
       "        vertical-align: top;\n",
       "    }\n",
       "\n",
       "    .dataframe thead th {\n",
       "        text-align: right;\n",
       "    }\n",
       "</style>\n",
       "<table border=\"1\" class=\"dataframe\">\n",
       "  <thead>\n",
       "    <tr style=\"text-align: right;\">\n",
       "      <th></th>\n",
       "      <th>start_lat</th>\n",
       "      <th>start_lng</th>\n",
       "      <th>end_lat</th>\n",
       "      <th>end_lng</th>\n",
       "    </tr>\n",
       "  </thead>\n",
       "  <tbody>\n",
       "    <tr>\n",
       "      <th>count</th>\n",
       "      <td>3.489748e+06</td>\n",
       "      <td>3.489748e+06</td>\n",
       "      <td>3.485010e+06</td>\n",
       "      <td>3.485010e+06</td>\n",
       "    </tr>\n",
       "    <tr>\n",
       "      <th>mean</th>\n",
       "      <td>4.190417e+01</td>\n",
       "      <td>-8.764494e+01</td>\n",
       "      <td>4.190444e+01</td>\n",
       "      <td>-8.764522e+01</td>\n",
       "    </tr>\n",
       "    <tr>\n",
       "      <th>std</th>\n",
       "      <td>4.364222e-02</td>\n",
       "      <td>2.575969e-02</td>\n",
       "      <td>4.373705e-02</td>\n",
       "      <td>2.589123e-02</td>\n",
       "    </tr>\n",
       "    <tr>\n",
       "      <th>min</th>\n",
       "      <td>4.164000e+01</td>\n",
       "      <td>-8.787000e+01</td>\n",
       "      <td>4.154000e+01</td>\n",
       "      <td>-8.807000e+01</td>\n",
       "    </tr>\n",
       "    <tr>\n",
       "      <th>25%</th>\n",
       "      <td>4.188224e+01</td>\n",
       "      <td>-8.765888e+01</td>\n",
       "      <td>4.188266e+01</td>\n",
       "      <td>-8.765917e+01</td>\n",
       "    </tr>\n",
       "    <tr>\n",
       "      <th>50%</th>\n",
       "      <td>4.190000e+01</td>\n",
       "      <td>-8.764170e+01</td>\n",
       "      <td>4.190068e+01</td>\n",
       "      <td>-8.764275e+01</td>\n",
       "    </tr>\n",
       "    <tr>\n",
       "      <th>75%</th>\n",
       "      <td>4.193000e+01</td>\n",
       "      <td>-8.762773e+01</td>\n",
       "      <td>4.193120e+01</td>\n",
       "      <td>-8.762775e+01</td>\n",
       "    </tr>\n",
       "    <tr>\n",
       "      <th>max</th>\n",
       "      <td>4.208000e+01</td>\n",
       "      <td>-8.752000e+01</td>\n",
       "      <td>4.216000e+01</td>\n",
       "      <td>-8.744000e+01</td>\n",
       "    </tr>\n",
       "  </tbody>\n",
       "</table>\n",
       "</div>"
      ],
      "text/plain": [
       "          start_lat     start_lng       end_lat       end_lng\n",
       "count  3.489748e+06  3.489748e+06  3.485010e+06  3.485010e+06\n",
       "mean   4.190417e+01 -8.764494e+01  4.190444e+01 -8.764522e+01\n",
       "std    4.364222e-02  2.575969e-02  4.373705e-02  2.589123e-02\n",
       "min    4.164000e+01 -8.787000e+01  4.154000e+01 -8.807000e+01\n",
       "25%    4.188224e+01 -8.765888e+01  4.188266e+01 -8.765917e+01\n",
       "50%    4.190000e+01 -8.764170e+01  4.190068e+01 -8.764275e+01\n",
       "75%    4.193000e+01 -8.762773e+01  4.193120e+01 -8.762775e+01\n",
       "max    4.208000e+01 -8.752000e+01  4.216000e+01 -8.744000e+01"
      ]
     },
     "execution_count": 5,
     "metadata": {},
     "output_type": "execute_result"
    }
   ],
   "source": [
    "#The main informations about my dataset as max, min and others\n",
    "\n",
    "tripdata.describe()"
   ]
  },
  {
   "cell_type": "code",
   "execution_count": 6,
   "id": "1826293f",
   "metadata": {
    "execution": {
     "iopub.execute_input": "2022-06-13T13:24:11.528063Z",
     "iopub.status.busy": "2022-06-13T13:24:11.527458Z",
     "iopub.status.idle": "2022-06-13T13:24:11.546145Z",
     "shell.execute_reply": "2022-06-13T13:24:11.545345Z"
    },
    "papermill": {
     "duration": 0.046366,
     "end_time": "2022-06-13T13:24:11.548065",
     "exception": false,
     "start_time": "2022-06-13T13:24:11.501699",
     "status": "completed"
    },
    "tags": []
   },
   "outputs": [
    {
     "data": {
      "text/html": [
       "<div>\n",
       "<style scoped>\n",
       "    .dataframe tbody tr th:only-of-type {\n",
       "        vertical-align: middle;\n",
       "    }\n",
       "\n",
       "    .dataframe tbody tr th {\n",
       "        vertical-align: top;\n",
       "    }\n",
       "\n",
       "    .dataframe thead th {\n",
       "        text-align: right;\n",
       "    }\n",
       "</style>\n",
       "<table border=\"1\" class=\"dataframe\">\n",
       "  <thead>\n",
       "    <tr style=\"text-align: right;\">\n",
       "      <th></th>\n",
       "      <th>ride_id</th>\n",
       "      <th>rideable_type</th>\n",
       "      <th>started_at</th>\n",
       "      <th>ended_at</th>\n",
       "      <th>start_station_name</th>\n",
       "      <th>start_station_id</th>\n",
       "      <th>end_station_name</th>\n",
       "      <th>end_station_id</th>\n",
       "      <th>start_lat</th>\n",
       "      <th>start_lng</th>\n",
       "      <th>end_lat</th>\n",
       "      <th>end_lng</th>\n",
       "      <th>member_casual</th>\n",
       "    </tr>\n",
       "  </thead>\n",
       "  <tbody>\n",
       "    <tr>\n",
       "      <th>228491</th>\n",
       "      <td>9397BDD14798A1BA</td>\n",
       "      <td>docked_bike</td>\n",
       "      <td>2021-03-20 14:58:56</td>\n",
       "      <td>2021-03-20 17:22:47</td>\n",
       "      <td>Michigan Ave &amp; Oak St</td>\n",
       "      <td>13042</td>\n",
       "      <td>New St &amp; Illinois St</td>\n",
       "      <td>TA1306000013</td>\n",
       "      <td>41.900960</td>\n",
       "      <td>-87.623777</td>\n",
       "      <td>41.890847</td>\n",
       "      <td>-87.618617</td>\n",
       "      <td>casual</td>\n",
       "    </tr>\n",
       "    <tr>\n",
       "      <th>228492</th>\n",
       "      <td>BBBEB8D51AAD40DA</td>\n",
       "      <td>classic_bike</td>\n",
       "      <td>2021-03-02 11:35:10</td>\n",
       "      <td>2021-03-02 11:43:37</td>\n",
       "      <td>Kingsbury St &amp; Kinzie St</td>\n",
       "      <td>KA1503000043</td>\n",
       "      <td>New St &amp; Illinois St</td>\n",
       "      <td>TA1306000013</td>\n",
       "      <td>41.889177</td>\n",
       "      <td>-87.638506</td>\n",
       "      <td>41.890847</td>\n",
       "      <td>-87.618617</td>\n",
       "      <td>member</td>\n",
       "    </tr>\n",
       "    <tr>\n",
       "      <th>228493</th>\n",
       "      <td>637FF754DA0BD9E1</td>\n",
       "      <td>classic_bike</td>\n",
       "      <td>2021-03-09 11:07:36</td>\n",
       "      <td>2021-03-09 11:49:11</td>\n",
       "      <td>Michigan Ave &amp; Oak St</td>\n",
       "      <td>13042</td>\n",
       "      <td>Clark St &amp; Berwyn Ave</td>\n",
       "      <td>KA1504000146</td>\n",
       "      <td>41.900960</td>\n",
       "      <td>-87.623777</td>\n",
       "      <td>41.977997</td>\n",
       "      <td>-87.668047</td>\n",
       "      <td>member</td>\n",
       "    </tr>\n",
       "    <tr>\n",
       "      <th>228494</th>\n",
       "      <td>F8F43A0B978A7A35</td>\n",
       "      <td>classic_bike</td>\n",
       "      <td>2021-03-01 18:11:57</td>\n",
       "      <td>2021-03-01 18:18:37</td>\n",
       "      <td>Kingsbury St &amp; Kinzie St</td>\n",
       "      <td>KA1503000043</td>\n",
       "      <td>New St &amp; Illinois St</td>\n",
       "      <td>TA1306000013</td>\n",
       "      <td>41.889177</td>\n",
       "      <td>-87.638506</td>\n",
       "      <td>41.890847</td>\n",
       "      <td>-87.618617</td>\n",
       "      <td>member</td>\n",
       "    </tr>\n",
       "    <tr>\n",
       "      <th>228495</th>\n",
       "      <td>3AE64EA5BF43CF72</td>\n",
       "      <td>electric_bike</td>\n",
       "      <td>2021-03-26 17:58:14</td>\n",
       "      <td>2021-03-26 18:06:43</td>\n",
       "      <td>NaN</td>\n",
       "      <td>NaN</td>\n",
       "      <td>New St &amp; Illinois St</td>\n",
       "      <td>TA1306000013</td>\n",
       "      <td>41.880000</td>\n",
       "      <td>-87.630000</td>\n",
       "      <td>41.890818</td>\n",
       "      <td>-87.619540</td>\n",
       "      <td>member</td>\n",
       "    </tr>\n",
       "  </tbody>\n",
       "</table>\n",
       "</div>"
      ],
      "text/plain": [
       "                 ride_id  rideable_type           started_at  \\\n",
       "228491  9397BDD14798A1BA    docked_bike  2021-03-20 14:58:56   \n",
       "228492  BBBEB8D51AAD40DA   classic_bike  2021-03-02 11:35:10   \n",
       "228493  637FF754DA0BD9E1   classic_bike  2021-03-09 11:07:36   \n",
       "228494  F8F43A0B978A7A35   classic_bike  2021-03-01 18:11:57   \n",
       "228495  3AE64EA5BF43CF72  electric_bike  2021-03-26 17:58:14   \n",
       "\n",
       "                   ended_at        start_station_name start_station_id  \\\n",
       "228491  2021-03-20 17:22:47     Michigan Ave & Oak St            13042   \n",
       "228492  2021-03-02 11:43:37  Kingsbury St & Kinzie St     KA1503000043   \n",
       "228493  2021-03-09 11:49:11     Michigan Ave & Oak St            13042   \n",
       "228494  2021-03-01 18:18:37  Kingsbury St & Kinzie St     KA1503000043   \n",
       "228495  2021-03-26 18:06:43                       NaN              NaN   \n",
       "\n",
       "             end_station_name end_station_id  start_lat  start_lng    end_lat  \\\n",
       "228491   New St & Illinois St   TA1306000013  41.900960 -87.623777  41.890847   \n",
       "228492   New St & Illinois St   TA1306000013  41.889177 -87.638506  41.890847   \n",
       "228493  Clark St & Berwyn Ave   KA1504000146  41.900960 -87.623777  41.977997   \n",
       "228494   New St & Illinois St   TA1306000013  41.889177 -87.638506  41.890847   \n",
       "228495   New St & Illinois St   TA1306000013  41.880000 -87.630000  41.890818   \n",
       "\n",
       "          end_lng member_casual  \n",
       "228491 -87.618617        casual  \n",
       "228492 -87.618617        member  \n",
       "228493 -87.668047        member  \n",
       "228494 -87.618617        member  \n",
       "228495 -87.619540        member  "
      ]
     },
     "execution_count": 6,
     "metadata": {},
     "output_type": "execute_result"
    }
   ],
   "source": [
    "# This function shows random rows informations or observations\n",
    "\n",
    "tripdata.tail()"
   ]
  },
  {
   "cell_type": "code",
   "execution_count": 7,
   "id": "da748a58",
   "metadata": {
    "execution": {
     "iopub.execute_input": "2022-06-13T13:24:11.599029Z",
     "iopub.status.busy": "2022-06-13T13:24:11.598459Z",
     "iopub.status.idle": "2022-06-13T13:24:11.613652Z",
     "shell.execute_reply": "2022-06-13T13:24:11.612034Z"
    },
    "papermill": {
     "duration": 0.043734,
     "end_time": "2022-06-13T13:24:11.616070",
     "exception": false,
     "start_time": "2022-06-13T13:24:11.572336",
     "status": "completed"
    },
    "tags": []
   },
   "outputs": [
    {
     "name": "stdout",
     "output_type": "stream",
     "text": [
      "<class 'pandas.core.frame.DataFrame'>\n",
      "Int64Index: 3489748 entries, 0 to 228495\n",
      "Data columns (total 13 columns):\n",
      " #   Column              Dtype  \n",
      "---  ------              -----  \n",
      " 0   ride_id             object \n",
      " 1   rideable_type       object \n",
      " 2   started_at          object \n",
      " 3   ended_at            object \n",
      " 4   start_station_name  object \n",
      " 5   start_station_id    object \n",
      " 6   end_station_name    object \n",
      " 7   end_station_id      object \n",
      " 8   start_lat           float64\n",
      " 9   start_lng           float64\n",
      " 10  end_lat             float64\n",
      " 11  end_lng             float64\n",
      " 12  member_casual       object \n",
      "dtypes: float64(4), object(9)\n",
      "memory usage: 372.7+ MB\n"
     ]
    }
   ],
   "source": [
    "# More information about the data, this functions displays the type of the variables or columns\n",
    "# it also shows the count of the data format\n",
    "\n",
    "tripdata.info()"
   ]
  },
  {
   "cell_type": "markdown",
   "id": "38b1db09",
   "metadata": {
    "papermill": {
     "duration": 0.024227,
     "end_time": "2022-06-13T13:24:11.664597",
     "exception": false,
     "start_time": "2022-06-13T13:24:11.640370",
     "status": "completed"
    },
    "tags": []
   },
   "source": [
    "**Now that we have a quick overview of what our dataframe looks like, we will clean the data and prepare for analysis**"
   ]
  },
  {
   "cell_type": "markdown",
   "id": "9de66d3e",
   "metadata": {
    "papermill": {
     "duration": 0.024398,
     "end_time": "2022-06-13T13:24:11.713388",
     "exception": false,
     "start_time": "2022-06-13T13:24:11.688990",
     "status": "completed"
    },
    "tags": []
   },
   "source": [
    "# Data Cleaning Process\n",
    "**Remove duplicated rows using the ride_id variable**\n",
    "\n"
   ]
  },
  {
   "cell_type": "code",
   "execution_count": 8,
   "id": "f91db96b",
   "metadata": {
    "execution": {
     "iopub.execute_input": "2022-06-13T13:24:11.764234Z",
     "iopub.status.busy": "2022-06-13T13:24:11.763281Z",
     "iopub.status.idle": "2022-06-13T13:24:14.022602Z",
     "shell.execute_reply": "2022-06-13T13:24:14.021521Z"
    },
    "papermill": {
     "duration": 2.28717,
     "end_time": "2022-06-13T13:24:14.024937",
     "exception": false,
     "start_time": "2022-06-13T13:24:11.737767",
     "status": "completed"
    },
    "tags": []
   },
   "outputs": [
    {
     "data": {
      "text/plain": [
       "209"
      ]
     },
     "execution_count": 8,
     "metadata": {},
     "output_type": "execute_result"
    }
   ],
   "source": [
    "# Using the duplicated() function combined with the sum() to have the total number of duplicated values\n",
    "\n",
    "tripdata[\"ride_id\"].duplicated().sum()\n",
    " "
   ]
  },
  {
   "cell_type": "code",
   "execution_count": null,
   "id": "20dd1242",
   "metadata": {
    "papermill": {
     "duration": 0.024855,
     "end_time": "2022-06-13T13:24:14.074666",
     "exception": false,
     "start_time": "2022-06-13T13:24:14.049811",
     "status": "completed"
    },
    "tags": []
   },
   "outputs": [],
   "source": []
  },
  {
   "cell_type": "code",
   "execution_count": 9,
   "id": "21e1dade",
   "metadata": {
    "execution": {
     "iopub.execute_input": "2022-06-13T13:24:14.125613Z",
     "iopub.status.busy": "2022-06-13T13:24:14.125232Z",
     "iopub.status.idle": "2022-06-13T13:24:20.876816Z",
     "shell.execute_reply": "2022-06-13T13:24:20.876072Z"
    },
    "papermill": {
     "duration": 6.779575,
     "end_time": "2022-06-13T13:24:20.878866",
     "exception": false,
     "start_time": "2022-06-13T13:24:14.099291",
     "status": "completed"
    },
    "tags": []
   },
   "outputs": [
    {
     "data": {
      "text/plain": [
       "EAB41740602B3BA6     True\n",
       "FF49C6C596507F0B     True\n",
       "87D4C892CA85DB8F     True\n",
       "86E0216311A75D74     True\n",
       "50031BC4290040DF     True\n",
       "                    ...  \n",
       "2200D3DB88D6541F    False\n",
       "0DBF9C9E5B2D15D7    False\n",
       "939883F8F15CF27B    False\n",
       "2B05690EF1C97E8B    False\n",
       "3AE64EA5BF43CF72    False\n",
       "Name: ride_id, Length: 3489539, dtype: bool"
      ]
     },
     "execution_count": 9,
     "metadata": {},
     "output_type": "execute_result"
    }
   ],
   "source": [
    "tripdata[\"ride_id\"].value_counts() > 1\n",
    "\n",
    "# we could see that there are duplicated values"
   ]
  },
  {
   "cell_type": "code",
   "execution_count": 10,
   "id": "d989c328",
   "metadata": {
    "execution": {
     "iopub.execute_input": "2022-06-13T13:24:20.937214Z",
     "iopub.status.busy": "2022-06-13T13:24:20.936784Z",
     "iopub.status.idle": "2022-06-13T13:24:24.186452Z",
     "shell.execute_reply": "2022-06-13T13:24:24.185445Z"
    },
    "papermill": {
     "duration": 3.278023,
     "end_time": "2022-06-13T13:24:24.188707",
     "exception": false,
     "start_time": "2022-06-13T13:24:20.910684",
     "status": "completed"
    },
    "tags": []
   },
   "outputs": [
    {
     "data": {
      "text/html": [
       "<div>\n",
       "<style scoped>\n",
       "    .dataframe tbody tr th:only-of-type {\n",
       "        vertical-align: middle;\n",
       "    }\n",
       "\n",
       "    .dataframe tbody tr th {\n",
       "        vertical-align: top;\n",
       "    }\n",
       "\n",
       "    .dataframe thead th {\n",
       "        text-align: right;\n",
       "    }\n",
       "</style>\n",
       "<table border=\"1\" class=\"dataframe\">\n",
       "  <thead>\n",
       "    <tr style=\"text-align: right;\">\n",
       "      <th></th>\n",
       "      <th>ride_id</th>\n",
       "      <th>rideable_type</th>\n",
       "      <th>started_at</th>\n",
       "      <th>ended_at</th>\n",
       "      <th>start_station_name</th>\n",
       "      <th>start_station_id</th>\n",
       "      <th>end_station_name</th>\n",
       "      <th>end_station_id</th>\n",
       "      <th>start_lat</th>\n",
       "      <th>start_lng</th>\n",
       "      <th>end_lat</th>\n",
       "      <th>end_lng</th>\n",
       "      <th>member_casual</th>\n",
       "    </tr>\n",
       "  </thead>\n",
       "  <tbody>\n",
       "    <tr>\n",
       "      <th>0</th>\n",
       "      <td>A847FADBBC638E45</td>\n",
       "      <td>docked_bike</td>\n",
       "      <td>2020-04-26 17:45:14</td>\n",
       "      <td>2020-04-26 18:12:03</td>\n",
       "      <td>Eckhart Park</td>\n",
       "      <td>86</td>\n",
       "      <td>Lincoln Ave &amp; Diversey Pkwy</td>\n",
       "      <td>152.0</td>\n",
       "      <td>41.896400</td>\n",
       "      <td>-87.661000</td>\n",
       "      <td>41.932200</td>\n",
       "      <td>-87.658600</td>\n",
       "      <td>member</td>\n",
       "    </tr>\n",
       "    <tr>\n",
       "      <th>1</th>\n",
       "      <td>5405B80E996FF60D</td>\n",
       "      <td>docked_bike</td>\n",
       "      <td>2020-04-17 17:08:54</td>\n",
       "      <td>2020-04-17 17:17:03</td>\n",
       "      <td>Drake Ave &amp; Fullerton Ave</td>\n",
       "      <td>503</td>\n",
       "      <td>Kosciuszko Park</td>\n",
       "      <td>499.0</td>\n",
       "      <td>41.924400</td>\n",
       "      <td>-87.715400</td>\n",
       "      <td>41.930600</td>\n",
       "      <td>-87.723800</td>\n",
       "      <td>member</td>\n",
       "    </tr>\n",
       "    <tr>\n",
       "      <th>2</th>\n",
       "      <td>5DD24A79A4E006F4</td>\n",
       "      <td>docked_bike</td>\n",
       "      <td>2020-04-01 17:54:13</td>\n",
       "      <td>2020-04-01 18:08:36</td>\n",
       "      <td>McClurg Ct &amp; Erie St</td>\n",
       "      <td>142</td>\n",
       "      <td>Indiana Ave &amp; Roosevelt Rd</td>\n",
       "      <td>255.0</td>\n",
       "      <td>41.894500</td>\n",
       "      <td>-87.617900</td>\n",
       "      <td>41.867900</td>\n",
       "      <td>-87.623000</td>\n",
       "      <td>member</td>\n",
       "    </tr>\n",
       "    <tr>\n",
       "      <th>3</th>\n",
       "      <td>2A59BBDF5CDBA725</td>\n",
       "      <td>docked_bike</td>\n",
       "      <td>2020-04-07 12:50:19</td>\n",
       "      <td>2020-04-07 13:02:31</td>\n",
       "      <td>California Ave &amp; Division St</td>\n",
       "      <td>216</td>\n",
       "      <td>Wood St &amp; Augusta Blvd</td>\n",
       "      <td>657.0</td>\n",
       "      <td>41.903000</td>\n",
       "      <td>-87.697500</td>\n",
       "      <td>41.899200</td>\n",
       "      <td>-87.672200</td>\n",
       "      <td>member</td>\n",
       "    </tr>\n",
       "    <tr>\n",
       "      <th>4</th>\n",
       "      <td>27AD306C119C6158</td>\n",
       "      <td>docked_bike</td>\n",
       "      <td>2020-04-18 10:22:59</td>\n",
       "      <td>2020-04-18 11:15:54</td>\n",
       "      <td>Rush St &amp; Hubbard St</td>\n",
       "      <td>125</td>\n",
       "      <td>Sheridan Rd &amp; Lawrence Ave</td>\n",
       "      <td>323.0</td>\n",
       "      <td>41.890200</td>\n",
       "      <td>-87.626200</td>\n",
       "      <td>41.969500</td>\n",
       "      <td>-87.654700</td>\n",
       "      <td>casual</td>\n",
       "    </tr>\n",
       "    <tr>\n",
       "      <th>...</th>\n",
       "      <td>...</td>\n",
       "      <td>...</td>\n",
       "      <td>...</td>\n",
       "      <td>...</td>\n",
       "      <td>...</td>\n",
       "      <td>...</td>\n",
       "      <td>...</td>\n",
       "      <td>...</td>\n",
       "      <td>...</td>\n",
       "      <td>...</td>\n",
       "      <td>...</td>\n",
       "      <td>...</td>\n",
       "      <td>...</td>\n",
       "    </tr>\n",
       "    <tr>\n",
       "      <th>228491</th>\n",
       "      <td>9397BDD14798A1BA</td>\n",
       "      <td>docked_bike</td>\n",
       "      <td>2021-03-20 14:58:56</td>\n",
       "      <td>2021-03-20 17:22:47</td>\n",
       "      <td>Michigan Ave &amp; Oak St</td>\n",
       "      <td>13042</td>\n",
       "      <td>New St &amp; Illinois St</td>\n",
       "      <td>TA1306000013</td>\n",
       "      <td>41.900960</td>\n",
       "      <td>-87.623777</td>\n",
       "      <td>41.890847</td>\n",
       "      <td>-87.618617</td>\n",
       "      <td>casual</td>\n",
       "    </tr>\n",
       "    <tr>\n",
       "      <th>228492</th>\n",
       "      <td>BBBEB8D51AAD40DA</td>\n",
       "      <td>classic_bike</td>\n",
       "      <td>2021-03-02 11:35:10</td>\n",
       "      <td>2021-03-02 11:43:37</td>\n",
       "      <td>Kingsbury St &amp; Kinzie St</td>\n",
       "      <td>KA1503000043</td>\n",
       "      <td>New St &amp; Illinois St</td>\n",
       "      <td>TA1306000013</td>\n",
       "      <td>41.889177</td>\n",
       "      <td>-87.638506</td>\n",
       "      <td>41.890847</td>\n",
       "      <td>-87.618617</td>\n",
       "      <td>member</td>\n",
       "    </tr>\n",
       "    <tr>\n",
       "      <th>228493</th>\n",
       "      <td>637FF754DA0BD9E1</td>\n",
       "      <td>classic_bike</td>\n",
       "      <td>2021-03-09 11:07:36</td>\n",
       "      <td>2021-03-09 11:49:11</td>\n",
       "      <td>Michigan Ave &amp; Oak St</td>\n",
       "      <td>13042</td>\n",
       "      <td>Clark St &amp; Berwyn Ave</td>\n",
       "      <td>KA1504000146</td>\n",
       "      <td>41.900960</td>\n",
       "      <td>-87.623777</td>\n",
       "      <td>41.977997</td>\n",
       "      <td>-87.668047</td>\n",
       "      <td>member</td>\n",
       "    </tr>\n",
       "    <tr>\n",
       "      <th>228494</th>\n",
       "      <td>F8F43A0B978A7A35</td>\n",
       "      <td>classic_bike</td>\n",
       "      <td>2021-03-01 18:11:57</td>\n",
       "      <td>2021-03-01 18:18:37</td>\n",
       "      <td>Kingsbury St &amp; Kinzie St</td>\n",
       "      <td>KA1503000043</td>\n",
       "      <td>New St &amp; Illinois St</td>\n",
       "      <td>TA1306000013</td>\n",
       "      <td>41.889177</td>\n",
       "      <td>-87.638506</td>\n",
       "      <td>41.890847</td>\n",
       "      <td>-87.618617</td>\n",
       "      <td>member</td>\n",
       "    </tr>\n",
       "    <tr>\n",
       "      <th>228495</th>\n",
       "      <td>3AE64EA5BF43CF72</td>\n",
       "      <td>electric_bike</td>\n",
       "      <td>2021-03-26 17:58:14</td>\n",
       "      <td>2021-03-26 18:06:43</td>\n",
       "      <td>NaN</td>\n",
       "      <td>NaN</td>\n",
       "      <td>New St &amp; Illinois St</td>\n",
       "      <td>TA1306000013</td>\n",
       "      <td>41.880000</td>\n",
       "      <td>-87.630000</td>\n",
       "      <td>41.890818</td>\n",
       "      <td>-87.619540</td>\n",
       "      <td>member</td>\n",
       "    </tr>\n",
       "  </tbody>\n",
       "</table>\n",
       "<p>3489539 rows × 13 columns</p>\n",
       "</div>"
      ],
      "text/plain": [
       "                 ride_id  rideable_type           started_at  \\\n",
       "0       A847FADBBC638E45    docked_bike  2020-04-26 17:45:14   \n",
       "1       5405B80E996FF60D    docked_bike  2020-04-17 17:08:54   \n",
       "2       5DD24A79A4E006F4    docked_bike  2020-04-01 17:54:13   \n",
       "3       2A59BBDF5CDBA725    docked_bike  2020-04-07 12:50:19   \n",
       "4       27AD306C119C6158    docked_bike  2020-04-18 10:22:59   \n",
       "...                  ...            ...                  ...   \n",
       "228491  9397BDD14798A1BA    docked_bike  2021-03-20 14:58:56   \n",
       "228492  BBBEB8D51AAD40DA   classic_bike  2021-03-02 11:35:10   \n",
       "228493  637FF754DA0BD9E1   classic_bike  2021-03-09 11:07:36   \n",
       "228494  F8F43A0B978A7A35   classic_bike  2021-03-01 18:11:57   \n",
       "228495  3AE64EA5BF43CF72  electric_bike  2021-03-26 17:58:14   \n",
       "\n",
       "                   ended_at            start_station_name start_station_id  \\\n",
       "0       2020-04-26 18:12:03                  Eckhart Park               86   \n",
       "1       2020-04-17 17:17:03     Drake Ave & Fullerton Ave              503   \n",
       "2       2020-04-01 18:08:36          McClurg Ct & Erie St              142   \n",
       "3       2020-04-07 13:02:31  California Ave & Division St              216   \n",
       "4       2020-04-18 11:15:54          Rush St & Hubbard St              125   \n",
       "...                     ...                           ...              ...   \n",
       "228491  2021-03-20 17:22:47         Michigan Ave & Oak St            13042   \n",
       "228492  2021-03-02 11:43:37      Kingsbury St & Kinzie St     KA1503000043   \n",
       "228493  2021-03-09 11:49:11         Michigan Ave & Oak St            13042   \n",
       "228494  2021-03-01 18:18:37      Kingsbury St & Kinzie St     KA1503000043   \n",
       "228495  2021-03-26 18:06:43                           NaN              NaN   \n",
       "\n",
       "                   end_station_name end_station_id  start_lat  start_lng  \\\n",
       "0       Lincoln Ave & Diversey Pkwy          152.0  41.896400 -87.661000   \n",
       "1                   Kosciuszko Park          499.0  41.924400 -87.715400   \n",
       "2        Indiana Ave & Roosevelt Rd          255.0  41.894500 -87.617900   \n",
       "3            Wood St & Augusta Blvd          657.0  41.903000 -87.697500   \n",
       "4        Sheridan Rd & Lawrence Ave          323.0  41.890200 -87.626200   \n",
       "...                             ...            ...        ...        ...   \n",
       "228491         New St & Illinois St   TA1306000013  41.900960 -87.623777   \n",
       "228492         New St & Illinois St   TA1306000013  41.889177 -87.638506   \n",
       "228493        Clark St & Berwyn Ave   KA1504000146  41.900960 -87.623777   \n",
       "228494         New St & Illinois St   TA1306000013  41.889177 -87.638506   \n",
       "228495         New St & Illinois St   TA1306000013  41.880000 -87.630000   \n",
       "\n",
       "          end_lat    end_lng member_casual  \n",
       "0       41.932200 -87.658600        member  \n",
       "1       41.930600 -87.723800        member  \n",
       "2       41.867900 -87.623000        member  \n",
       "3       41.899200 -87.672200        member  \n",
       "4       41.969500 -87.654700        casual  \n",
       "...           ...        ...           ...  \n",
       "228491  41.890847 -87.618617        casual  \n",
       "228492  41.890847 -87.618617        member  \n",
       "228493  41.977997 -87.668047        member  \n",
       "228494  41.890847 -87.618617        member  \n",
       "228495  41.890818 -87.619540        member  \n",
       "\n",
       "[3489539 rows x 13 columns]"
      ]
     },
     "execution_count": 10,
     "metadata": {},
     "output_type": "execute_result"
    }
   ],
   "source": [
    "# assigning the filtered data to a new variable with the duplicates removed \n",
    "\n",
    "tripdataV1 = tripdata.drop_duplicates(subset=[\"ride_id\"])\n",
    "\n",
    "tripdataV1\n",
    "\n",
    "# It´s good to know that i have made the difference between the tripdata and the tripdata_filtered to have sure we removed the exact number of duplicated rows and yeah it was 209."
   ]
  },
  {
   "cell_type": "code",
   "execution_count": 11,
   "id": "c19d83b9",
   "metadata": {
    "execution": {
     "iopub.execute_input": "2022-06-13T13:24:24.241047Z",
     "iopub.status.busy": "2022-06-13T13:24:24.240471Z",
     "iopub.status.idle": "2022-06-13T13:24:24.264744Z",
     "shell.execute_reply": "2022-06-13T13:24:24.263714Z"
    },
    "papermill": {
     "duration": 0.052563,
     "end_time": "2022-06-13T13:24:24.266866",
     "exception": false,
     "start_time": "2022-06-13T13:24:24.214303",
     "status": "completed"
    },
    "tags": []
   },
   "outputs": [
    {
     "data": {
      "text/html": [
       "<div>\n",
       "<style scoped>\n",
       "    .dataframe tbody tr th:only-of-type {\n",
       "        vertical-align: middle;\n",
       "    }\n",
       "\n",
       "    .dataframe tbody tr th {\n",
       "        vertical-align: top;\n",
       "    }\n",
       "\n",
       "    .dataframe thead th {\n",
       "        text-align: right;\n",
       "    }\n",
       "</style>\n",
       "<table border=\"1\" class=\"dataframe\">\n",
       "  <thead>\n",
       "    <tr style=\"text-align: right;\">\n",
       "      <th></th>\n",
       "      <th>ride_id</th>\n",
       "      <th>rideable_type</th>\n",
       "      <th>started_at</th>\n",
       "      <th>ended_at</th>\n",
       "      <th>start_station_name</th>\n",
       "      <th>start_station_id</th>\n",
       "      <th>end_station_name</th>\n",
       "      <th>end_station_id</th>\n",
       "      <th>start_lat</th>\n",
       "      <th>start_lng</th>\n",
       "      <th>end_lat</th>\n",
       "      <th>end_lng</th>\n",
       "      <th>member_casual</th>\n",
       "    </tr>\n",
       "  </thead>\n",
       "  <tbody>\n",
       "    <tr>\n",
       "      <th>0</th>\n",
       "      <td>A847FADBBC638E45</td>\n",
       "      <td>docked_bike</td>\n",
       "      <td>2020-04-26 17:45:14</td>\n",
       "      <td>2020-04-26 18:12:03</td>\n",
       "      <td>Eckhart Park</td>\n",
       "      <td>86</td>\n",
       "      <td>Lincoln Ave &amp; Diversey Pkwy</td>\n",
       "      <td>152.0</td>\n",
       "      <td>41.896400</td>\n",
       "      <td>-87.661000</td>\n",
       "      <td>41.932200</td>\n",
       "      <td>-87.658600</td>\n",
       "      <td>member</td>\n",
       "    </tr>\n",
       "    <tr>\n",
       "      <th>1</th>\n",
       "      <td>5405B80E996FF60D</td>\n",
       "      <td>docked_bike</td>\n",
       "      <td>2020-04-17 17:08:54</td>\n",
       "      <td>2020-04-17 17:17:03</td>\n",
       "      <td>Drake Ave &amp; Fullerton Ave</td>\n",
       "      <td>503</td>\n",
       "      <td>Kosciuszko Park</td>\n",
       "      <td>499.0</td>\n",
       "      <td>41.924400</td>\n",
       "      <td>-87.715400</td>\n",
       "      <td>41.930600</td>\n",
       "      <td>-87.723800</td>\n",
       "      <td>member</td>\n",
       "    </tr>\n",
       "    <tr>\n",
       "      <th>2</th>\n",
       "      <td>5DD24A79A4E006F4</td>\n",
       "      <td>docked_bike</td>\n",
       "      <td>2020-04-01 17:54:13</td>\n",
       "      <td>2020-04-01 18:08:36</td>\n",
       "      <td>McClurg Ct &amp; Erie St</td>\n",
       "      <td>142</td>\n",
       "      <td>Indiana Ave &amp; Roosevelt Rd</td>\n",
       "      <td>255.0</td>\n",
       "      <td>41.894500</td>\n",
       "      <td>-87.617900</td>\n",
       "      <td>41.867900</td>\n",
       "      <td>-87.623000</td>\n",
       "      <td>member</td>\n",
       "    </tr>\n",
       "    <tr>\n",
       "      <th>3</th>\n",
       "      <td>2A59BBDF5CDBA725</td>\n",
       "      <td>docked_bike</td>\n",
       "      <td>2020-04-07 12:50:19</td>\n",
       "      <td>2020-04-07 13:02:31</td>\n",
       "      <td>California Ave &amp; Division St</td>\n",
       "      <td>216</td>\n",
       "      <td>Wood St &amp; Augusta Blvd</td>\n",
       "      <td>657.0</td>\n",
       "      <td>41.903000</td>\n",
       "      <td>-87.697500</td>\n",
       "      <td>41.899200</td>\n",
       "      <td>-87.672200</td>\n",
       "      <td>member</td>\n",
       "    </tr>\n",
       "    <tr>\n",
       "      <th>4</th>\n",
       "      <td>27AD306C119C6158</td>\n",
       "      <td>docked_bike</td>\n",
       "      <td>2020-04-18 10:22:59</td>\n",
       "      <td>2020-04-18 11:15:54</td>\n",
       "      <td>Rush St &amp; Hubbard St</td>\n",
       "      <td>125</td>\n",
       "      <td>Sheridan Rd &amp; Lawrence Ave</td>\n",
       "      <td>323.0</td>\n",
       "      <td>41.890200</td>\n",
       "      <td>-87.626200</td>\n",
       "      <td>41.969500</td>\n",
       "      <td>-87.654700</td>\n",
       "      <td>casual</td>\n",
       "    </tr>\n",
       "    <tr>\n",
       "      <th>...</th>\n",
       "      <td>...</td>\n",
       "      <td>...</td>\n",
       "      <td>...</td>\n",
       "      <td>...</td>\n",
       "      <td>...</td>\n",
       "      <td>...</td>\n",
       "      <td>...</td>\n",
       "      <td>...</td>\n",
       "      <td>...</td>\n",
       "      <td>...</td>\n",
       "      <td>...</td>\n",
       "      <td>...</td>\n",
       "      <td>...</td>\n",
       "    </tr>\n",
       "    <tr>\n",
       "      <th>228491</th>\n",
       "      <td>9397BDD14798A1BA</td>\n",
       "      <td>docked_bike</td>\n",
       "      <td>2021-03-20 14:58:56</td>\n",
       "      <td>2021-03-20 17:22:47</td>\n",
       "      <td>Michigan Ave &amp; Oak St</td>\n",
       "      <td>13042</td>\n",
       "      <td>New St &amp; Illinois St</td>\n",
       "      <td>TA1306000013</td>\n",
       "      <td>41.900960</td>\n",
       "      <td>-87.623777</td>\n",
       "      <td>41.890847</td>\n",
       "      <td>-87.618617</td>\n",
       "      <td>casual</td>\n",
       "    </tr>\n",
       "    <tr>\n",
       "      <th>228492</th>\n",
       "      <td>BBBEB8D51AAD40DA</td>\n",
       "      <td>classic_bike</td>\n",
       "      <td>2021-03-02 11:35:10</td>\n",
       "      <td>2021-03-02 11:43:37</td>\n",
       "      <td>Kingsbury St &amp; Kinzie St</td>\n",
       "      <td>KA1503000043</td>\n",
       "      <td>New St &amp; Illinois St</td>\n",
       "      <td>TA1306000013</td>\n",
       "      <td>41.889177</td>\n",
       "      <td>-87.638506</td>\n",
       "      <td>41.890847</td>\n",
       "      <td>-87.618617</td>\n",
       "      <td>member</td>\n",
       "    </tr>\n",
       "    <tr>\n",
       "      <th>228493</th>\n",
       "      <td>637FF754DA0BD9E1</td>\n",
       "      <td>classic_bike</td>\n",
       "      <td>2021-03-09 11:07:36</td>\n",
       "      <td>2021-03-09 11:49:11</td>\n",
       "      <td>Michigan Ave &amp; Oak St</td>\n",
       "      <td>13042</td>\n",
       "      <td>Clark St &amp; Berwyn Ave</td>\n",
       "      <td>KA1504000146</td>\n",
       "      <td>41.900960</td>\n",
       "      <td>-87.623777</td>\n",
       "      <td>41.977997</td>\n",
       "      <td>-87.668047</td>\n",
       "      <td>member</td>\n",
       "    </tr>\n",
       "    <tr>\n",
       "      <th>228494</th>\n",
       "      <td>F8F43A0B978A7A35</td>\n",
       "      <td>classic_bike</td>\n",
       "      <td>2021-03-01 18:11:57</td>\n",
       "      <td>2021-03-01 18:18:37</td>\n",
       "      <td>Kingsbury St &amp; Kinzie St</td>\n",
       "      <td>KA1503000043</td>\n",
       "      <td>New St &amp; Illinois St</td>\n",
       "      <td>TA1306000013</td>\n",
       "      <td>41.889177</td>\n",
       "      <td>-87.638506</td>\n",
       "      <td>41.890847</td>\n",
       "      <td>-87.618617</td>\n",
       "      <td>member</td>\n",
       "    </tr>\n",
       "    <tr>\n",
       "      <th>228495</th>\n",
       "      <td>3AE64EA5BF43CF72</td>\n",
       "      <td>electric_bike</td>\n",
       "      <td>2021-03-26 17:58:14</td>\n",
       "      <td>2021-03-26 18:06:43</td>\n",
       "      <td>NaN</td>\n",
       "      <td>NaN</td>\n",
       "      <td>New St &amp; Illinois St</td>\n",
       "      <td>TA1306000013</td>\n",
       "      <td>41.880000</td>\n",
       "      <td>-87.630000</td>\n",
       "      <td>41.890818</td>\n",
       "      <td>-87.619540</td>\n",
       "      <td>member</td>\n",
       "    </tr>\n",
       "  </tbody>\n",
       "</table>\n",
       "<p>3489539 rows × 13 columns</p>\n",
       "</div>"
      ],
      "text/plain": [
       "                 ride_id  rideable_type           started_at  \\\n",
       "0       A847FADBBC638E45    docked_bike  2020-04-26 17:45:14   \n",
       "1       5405B80E996FF60D    docked_bike  2020-04-17 17:08:54   \n",
       "2       5DD24A79A4E006F4    docked_bike  2020-04-01 17:54:13   \n",
       "3       2A59BBDF5CDBA725    docked_bike  2020-04-07 12:50:19   \n",
       "4       27AD306C119C6158    docked_bike  2020-04-18 10:22:59   \n",
       "...                  ...            ...                  ...   \n",
       "228491  9397BDD14798A1BA    docked_bike  2021-03-20 14:58:56   \n",
       "228492  BBBEB8D51AAD40DA   classic_bike  2021-03-02 11:35:10   \n",
       "228493  637FF754DA0BD9E1   classic_bike  2021-03-09 11:07:36   \n",
       "228494  F8F43A0B978A7A35   classic_bike  2021-03-01 18:11:57   \n",
       "228495  3AE64EA5BF43CF72  electric_bike  2021-03-26 17:58:14   \n",
       "\n",
       "                   ended_at            start_station_name start_station_id  \\\n",
       "0       2020-04-26 18:12:03                  Eckhart Park               86   \n",
       "1       2020-04-17 17:17:03     Drake Ave & Fullerton Ave              503   \n",
       "2       2020-04-01 18:08:36          McClurg Ct & Erie St              142   \n",
       "3       2020-04-07 13:02:31  California Ave & Division St              216   \n",
       "4       2020-04-18 11:15:54          Rush St & Hubbard St              125   \n",
       "...                     ...                           ...              ...   \n",
       "228491  2021-03-20 17:22:47         Michigan Ave & Oak St            13042   \n",
       "228492  2021-03-02 11:43:37      Kingsbury St & Kinzie St     KA1503000043   \n",
       "228493  2021-03-09 11:49:11         Michigan Ave & Oak St            13042   \n",
       "228494  2021-03-01 18:18:37      Kingsbury St & Kinzie St     KA1503000043   \n",
       "228495  2021-03-26 18:06:43                           NaN              NaN   \n",
       "\n",
       "                   end_station_name end_station_id  start_lat  start_lng  \\\n",
       "0       Lincoln Ave & Diversey Pkwy          152.0  41.896400 -87.661000   \n",
       "1                   Kosciuszko Park          499.0  41.924400 -87.715400   \n",
       "2        Indiana Ave & Roosevelt Rd          255.0  41.894500 -87.617900   \n",
       "3            Wood St & Augusta Blvd          657.0  41.903000 -87.697500   \n",
       "4        Sheridan Rd & Lawrence Ave          323.0  41.890200 -87.626200   \n",
       "...                             ...            ...        ...        ...   \n",
       "228491         New St & Illinois St   TA1306000013  41.900960 -87.623777   \n",
       "228492         New St & Illinois St   TA1306000013  41.889177 -87.638506   \n",
       "228493        Clark St & Berwyn Ave   KA1504000146  41.900960 -87.623777   \n",
       "228494         New St & Illinois St   TA1306000013  41.889177 -87.638506   \n",
       "228495         New St & Illinois St   TA1306000013  41.880000 -87.630000   \n",
       "\n",
       "          end_lat    end_lng member_casual  \n",
       "0       41.932200 -87.658600        member  \n",
       "1       41.930600 -87.723800        member  \n",
       "2       41.867900 -87.623000        member  \n",
       "3       41.899200 -87.672200        member  \n",
       "4       41.969500 -87.654700        casual  \n",
       "...           ...        ...           ...  \n",
       "228491  41.890847 -87.618617        casual  \n",
       "228492  41.890847 -87.618617        member  \n",
       "228493  41.977997 -87.668047        member  \n",
       "228494  41.890847 -87.618617        member  \n",
       "228495  41.890818 -87.619540        member  \n",
       "\n",
       "[3489539 rows x 13 columns]"
      ]
     },
     "execution_count": 11,
     "metadata": {},
     "output_type": "execute_result"
    }
   ],
   "source": [
    "\n",
    "tripdataV1\n",
    "\n",
    "        "
   ]
  },
  {
   "cell_type": "code",
   "execution_count": null,
   "id": "c326e81c",
   "metadata": {
    "papermill": {
     "duration": 0.024818,
     "end_time": "2022-06-13T13:24:24.316927",
     "exception": false,
     "start_time": "2022-06-13T13:24:24.292109",
     "status": "completed"
    },
    "tags": []
   },
   "outputs": [],
   "source": []
  },
  {
   "cell_type": "code",
   "execution_count": null,
   "id": "de6a045e",
   "metadata": {
    "papermill": {
     "duration": 0.024738,
     "end_time": "2022-06-13T13:24:24.367327",
     "exception": false,
     "start_time": "2022-06-13T13:24:24.342589",
     "status": "completed"
    },
    "tags": []
   },
   "outputs": [],
   "source": []
  },
  {
   "cell_type": "code",
   "execution_count": 12,
   "id": "946f1ee5",
   "metadata": {
    "execution": {
     "iopub.execute_input": "2022-06-13T13:24:24.419903Z",
     "iopub.status.busy": "2022-06-13T13:24:24.419285Z",
     "iopub.status.idle": "2022-06-13T13:24:26.960405Z",
     "shell.execute_reply": "2022-06-13T13:24:26.959186Z"
    },
    "papermill": {
     "duration": 2.570079,
     "end_time": "2022-06-13T13:24:26.962772",
     "exception": false,
     "start_time": "2022-06-13T13:24:24.392693",
     "status": "completed"
    },
    "tags": []
   },
   "outputs": [
    {
     "data": {
      "text/plain": [
       "ride_id                    0\n",
       "rideable_type              0\n",
       "started_at                 0\n",
       "ended_at                   0\n",
       "start_station_name    122175\n",
       "start_station_id      122801\n",
       "end_station_name      143241\n",
       "end_station_id        143702\n",
       "start_lat                  0\n",
       "start_lng                  0\n",
       "end_lat                 4737\n",
       "end_lng                 4737\n",
       "member_casual              0\n",
       "dtype: int64"
      ]
     },
     "execution_count": 12,
     "metadata": {},
     "output_type": "execute_result"
    }
   ],
   "source": [
    "#Checking the null values and counting with the sum() function\n",
    "# Yeah i know it's weird the sum() function be counting\n",
    "# I was thinking it should be the count() function\n",
    "\n",
    "tripdataV1.isna().sum()\n"
   ]
  },
  {
   "cell_type": "markdown",
   "id": "7e4705a4",
   "metadata": {
    "papermill": {
     "duration": 0.025867,
     "end_time": "2022-06-13T13:24:27.015077",
     "exception": false,
     "start_time": "2022-06-13T13:24:26.989210",
     "status": "completed"
    },
    "tags": []
   },
   "source": [
    "Now we could see there are lot of null values such as:\n",
    "1. start_station_name has 122175\n",
    "2. start_station_id has 122801\n",
    "3. end_station_name has 143241\n",
    "4. end_station_id has 143702\n",
    "5. end_lat has 4737\n",
    "6. end_lng has 4737\n",
    "\n",
    "We will handle this null values"
   ]
  },
  {
   "cell_type": "code",
   "execution_count": 13,
   "id": "92b18a31",
   "metadata": {
    "execution": {
     "iopub.execute_input": "2022-06-13T13:24:27.068637Z",
     "iopub.status.busy": "2022-06-13T13:24:27.068254Z",
     "iopub.status.idle": "2022-06-13T13:24:27.379542Z",
     "shell.execute_reply": "2022-06-13T13:24:27.378490Z"
    },
    "papermill": {
     "duration": 0.340467,
     "end_time": "2022-06-13T13:24:27.381798",
     "exception": false,
     "start_time": "2022-06-13T13:24:27.041331",
     "status": "completed"
    },
    "tags": []
   },
   "outputs": [
    {
     "data": {
      "text/plain": [
       "0"
      ]
     },
     "execution_count": 13,
     "metadata": {},
     "output_type": "execute_result"
    }
   ],
   "source": [
    "# As we can see in my unique values i don't have nulls values\n",
    "\n",
    "tripdataV1[\"ride_id\"].isna().sum()\n"
   ]
  },
  {
   "cell_type": "code",
   "execution_count": 14,
   "id": "b12de0f2",
   "metadata": {
    "execution": {
     "iopub.execute_input": "2022-06-13T13:24:27.434675Z",
     "iopub.status.busy": "2022-06-13T13:24:27.434283Z",
     "iopub.status.idle": "2022-06-13T13:24:27.442419Z",
     "shell.execute_reply": "2022-06-13T13:24:27.441586Z"
    },
    "papermill": {
     "duration": 0.037226,
     "end_time": "2022-06-13T13:24:27.444319",
     "exception": false,
     "start_time": "2022-06-13T13:24:27.407093",
     "status": "completed"
    },
    "tags": []
   },
   "outputs": [
    {
     "data": {
      "text/plain": [
       "ride_id                         E4CE369DF59D80C5\n",
       "rideable_type                        docked_bike\n",
       "started_at                   2020-05-12 13:14:43\n",
       "ended_at                     2020-05-12 13:21:55\n",
       "start_station_name    Larrabee St & Kingsbury St\n",
       "start_station_id                              48\n",
       "end_station_name           Dearborn St & Erie St\n",
       "end_station_id                             110.0\n",
       "start_lat                                41.8978\n",
       "start_lng                               -87.6429\n",
       "end_lat                                   41.894\n",
       "end_lng                                 -87.6293\n",
       "member_casual                             member\n",
       "Name: 143718, dtype: object"
      ]
     },
     "execution_count": 14,
     "metadata": {},
     "output_type": "execute_result"
    }
   ],
   "source": [
    "# Using this function to see this specific row index values\n",
    "\n",
    "tripdataV1.iloc[228494]\n"
   ]
  },
  {
   "cell_type": "markdown",
   "id": "306f3589",
   "metadata": {
    "papermill": {
     "duration": 0.025701,
     "end_time": "2022-06-13T13:24:27.495995",
     "exception": false,
     "start_time": "2022-06-13T13:24:27.470294",
     "status": "completed"
    },
    "tags": []
   },
   "source": [
    "## **Converting types**\n"
   ]
  },
  {
   "cell_type": "code",
   "execution_count": 15,
   "id": "4dedcdcb",
   "metadata": {
    "execution": {
     "iopub.execute_input": "2022-06-13T13:24:27.549862Z",
     "iopub.status.busy": "2022-06-13T13:24:27.549475Z",
     "iopub.status.idle": "2022-06-13T13:24:27.555896Z",
     "shell.execute_reply": "2022-06-13T13:24:27.554781Z"
    },
    "papermill": {
     "duration": 0.035988,
     "end_time": "2022-06-13T13:24:27.558348",
     "exception": false,
     "start_time": "2022-06-13T13:24:27.522360",
     "status": "completed"
    },
    "tags": []
   },
   "outputs": [
    {
     "data": {
      "text/plain": [
       "3489539"
      ]
     },
     "execution_count": 15,
     "metadata": {},
     "output_type": "execute_result"
    }
   ],
   "source": [
    "# Checking again the number of rows\n",
    "\n",
    "len(tripdataV1)\n"
   ]
  },
  {
   "cell_type": "code",
   "execution_count": 16,
   "id": "cb57d424",
   "metadata": {
    "execution": {
     "iopub.execute_input": "2022-06-13T13:24:27.612233Z",
     "iopub.status.busy": "2022-06-13T13:24:27.611773Z",
     "iopub.status.idle": "2022-06-13T13:24:27.851250Z",
     "shell.execute_reply": "2022-06-13T13:24:27.850165Z"
    },
    "papermill": {
     "duration": 0.268923,
     "end_time": "2022-06-13T13:24:27.853515",
     "exception": false,
     "start_time": "2022-06-13T13:24:27.584592",
     "status": "completed"
    },
    "tags": []
   },
   "outputs": [
    {
     "data": {
      "text/plain": [
       "2"
      ]
     },
     "execution_count": 16,
     "metadata": {},
     "output_type": "execute_result"
    }
   ],
   "source": [
    "# Checking outliers\n",
    "\n",
    "tripdataV1[\"member_casual\"].nunique()\n"
   ]
  },
  {
   "cell_type": "code",
   "execution_count": 17,
   "id": "0538c8e9",
   "metadata": {
    "execution": {
     "iopub.execute_input": "2022-06-13T13:24:27.907333Z",
     "iopub.status.busy": "2022-06-13T13:24:27.906874Z",
     "iopub.status.idle": "2022-06-13T13:24:28.145535Z",
     "shell.execute_reply": "2022-06-13T13:24:28.144326Z"
    },
    "papermill": {
     "duration": 0.268423,
     "end_time": "2022-06-13T13:24:28.147867",
     "exception": false,
     "start_time": "2022-06-13T13:24:27.879444",
     "status": "completed"
    },
    "tags": []
   },
   "outputs": [
    {
     "data": {
      "text/plain": [
       "3"
      ]
     },
     "execution_count": 17,
     "metadata": {},
     "output_type": "execute_result"
    }
   ],
   "source": [
    "# Checking outliers\n",
    "\n",
    "tripdataV1[\"rideable_type\"].nunique()\n"
   ]
  },
  {
   "cell_type": "code",
   "execution_count": 18,
   "id": "878d83ef",
   "metadata": {
    "execution": {
     "iopub.execute_input": "2022-06-13T13:24:28.202401Z",
     "iopub.status.busy": "2022-06-13T13:24:28.201608Z",
     "iopub.status.idle": "2022-06-13T13:24:32.346260Z",
     "shell.execute_reply": "2022-06-13T13:24:32.345186Z"
    },
    "papermill": {
     "duration": 4.175043,
     "end_time": "2022-06-13T13:24:32.348811",
     "exception": false,
     "start_time": "2022-06-13T13:24:28.173768",
     "status": "completed"
    },
    "tags": []
   },
   "outputs": [
    {
     "data": {
      "text/plain": [
       "count                 3489539\n",
       "unique                3040064\n",
       "top       2020-07-12 13:16:59\n",
       "freq                       12\n",
       "Name: started_at, dtype: object"
      ]
     },
     "execution_count": 18,
     "metadata": {},
     "output_type": "execute_result"
    }
   ],
   "source": [
    "# Watching a brief description about the column so i can be sure of the type\n",
    "\n",
    "tripdataV1[\"started_at\"].describe()\n",
    "\n"
   ]
  },
  {
   "cell_type": "markdown",
   "id": "8c9b6b90",
   "metadata": {
    "papermill": {
     "duration": 0.026646,
     "end_time": "2022-06-13T13:24:32.403041",
     "exception": false,
     "start_time": "2022-06-13T13:24:32.376395",
     "status": "completed"
    },
    "tags": []
   },
   "source": [
    "**As seem above the started_at is in an object data type**\n",
    "**The ended_at column has the same format and we want them to be datetime**"
   ]
  },
  {
   "cell_type": "code",
   "execution_count": 19,
   "id": "71e7448a",
   "metadata": {
    "execution": {
     "iopub.execute_input": "2022-06-13T13:24:32.457970Z",
     "iopub.status.busy": "2022-06-13T13:24:32.457577Z",
     "iopub.status.idle": "2022-06-13T13:24:34.057698Z",
     "shell.execute_reply": "2022-06-13T13:24:34.056703Z"
    },
    "papermill": {
     "duration": 1.63075,
     "end_time": "2022-06-13T13:24:34.060572",
     "exception": false,
     "start_time": "2022-06-13T13:24:32.429822",
     "status": "completed"
    },
    "tags": []
   },
   "outputs": [
    {
     "name": "stderr",
     "output_type": "stream",
     "text": [
      "/opt/conda/lib/python3.7/site-packages/ipykernel_launcher.py:4: SettingWithCopyWarning: \n",
      "A value is trying to be set on a copy of a slice from a DataFrame.\n",
      "Try using .loc[row_indexer,col_indexer] = value instead\n",
      "\n",
      "See the caveats in the documentation: https://pandas.pydata.org/pandas-docs/stable/user_guide/indexing.html#returning-a-view-versus-a-copy\n",
      "  after removing the cwd from sys.path.\n"
     ]
    }
   ],
   "source": [
    "# Converting to a datetime format the column that was in an object format\n",
    "\n",
    "\n",
    "tripdataV1[\"started_at\"] = pd.to_datetime(tripdataV1[\"started_at\"])\n"
   ]
  },
  {
   "cell_type": "code",
   "execution_count": 20,
   "id": "c95c0486",
   "metadata": {
    "execution": {
     "iopub.execute_input": "2022-06-13T13:24:34.115916Z",
     "iopub.status.busy": "2022-06-13T13:24:34.115331Z",
     "iopub.status.idle": "2022-06-13T13:24:34.122766Z",
     "shell.execute_reply": "2022-06-13T13:24:34.122027Z"
    },
    "papermill": {
     "duration": 0.03704,
     "end_time": "2022-06-13T13:24:34.124645",
     "exception": false,
     "start_time": "2022-06-13T13:24:34.087605",
     "status": "completed"
    },
    "tags": []
   },
   "outputs": [
    {
     "data": {
      "text/plain": [
       "0        2020-04-26 17:45:14\n",
       "1        2020-04-17 17:08:54\n",
       "2        2020-04-01 17:54:13\n",
       "3        2020-04-07 12:50:19\n",
       "4        2020-04-18 10:22:59\n",
       "                 ...        \n",
       "228491   2021-03-20 14:58:56\n",
       "228492   2021-03-02 11:35:10\n",
       "228493   2021-03-09 11:07:36\n",
       "228494   2021-03-01 18:11:57\n",
       "228495   2021-03-26 17:58:14\n",
       "Name: started_at, Length: 3489539, dtype: datetime64[ns]"
      ]
     },
     "execution_count": 20,
     "metadata": {},
     "output_type": "execute_result"
    }
   ],
   "source": [
    "# Checking if the started_at column already has a datatime type format\n",
    "\n",
    "tripdataV1[\"started_at\"]\n"
   ]
  },
  {
   "cell_type": "code",
   "execution_count": 21,
   "id": "9e9956e5",
   "metadata": {
    "execution": {
     "iopub.execute_input": "2022-06-13T13:24:34.179775Z",
     "iopub.status.busy": "2022-06-13T13:24:34.179196Z",
     "iopub.status.idle": "2022-06-13T13:24:35.795444Z",
     "shell.execute_reply": "2022-06-13T13:24:35.794012Z"
    },
    "papermill": {
     "duration": 1.647124,
     "end_time": "2022-06-13T13:24:35.798322",
     "exception": false,
     "start_time": "2022-06-13T13:24:34.151198",
     "status": "completed"
    },
    "tags": []
   },
   "outputs": [
    {
     "name": "stderr",
     "output_type": "stream",
     "text": [
      "/opt/conda/lib/python3.7/site-packages/ipykernel_launcher.py:3: SettingWithCopyWarning: \n",
      "A value is trying to be set on a copy of a slice from a DataFrame.\n",
      "Try using .loc[row_indexer,col_indexer] = value instead\n",
      "\n",
      "See the caveats in the documentation: https://pandas.pydata.org/pandas-docs/stable/user_guide/indexing.html#returning-a-view-versus-a-copy\n",
      "  This is separate from the ipykernel package so we can avoid doing imports until\n"
     ]
    }
   ],
   "source": [
    "# Converting the ended_at column to datetime format\n",
    "\n",
    "tripdataV1[\"ended_at\"] = pd.to_datetime(tripdataV1[\"ended_at\"])\n",
    "\n"
   ]
  },
  {
   "cell_type": "code",
   "execution_count": 22,
   "id": "d605f92c",
   "metadata": {
    "execution": {
     "iopub.execute_input": "2022-06-13T13:24:35.854538Z",
     "iopub.status.busy": "2022-06-13T13:24:35.854159Z",
     "iopub.status.idle": "2022-06-13T13:24:35.863673Z",
     "shell.execute_reply": "2022-06-13T13:24:35.862508Z"
    },
    "papermill": {
     "duration": 0.038966,
     "end_time": "2022-06-13T13:24:35.865622",
     "exception": false,
     "start_time": "2022-06-13T13:24:35.826656",
     "status": "completed"
    },
    "tags": []
   },
   "outputs": [
    {
     "data": {
      "text/plain": [
       "0        2020-04-26 18:12:03\n",
       "1        2020-04-17 17:17:03\n",
       "2        2020-04-01 18:08:36\n",
       "3        2020-04-07 13:02:31\n",
       "4        2020-04-18 11:15:54\n",
       "                 ...        \n",
       "228491   2021-03-20 17:22:47\n",
       "228492   2021-03-02 11:43:37\n",
       "228493   2021-03-09 11:49:11\n",
       "228494   2021-03-01 18:18:37\n",
       "228495   2021-03-26 18:06:43\n",
       "Name: ended_at, Length: 3489539, dtype: datetime64[ns]"
      ]
     },
     "execution_count": 22,
     "metadata": {},
     "output_type": "execute_result"
    }
   ],
   "source": [
    "# Checking if the changed was made\n",
    "\n",
    "tripdataV1[\"ended_at\"]\n"
   ]
  },
  {
   "cell_type": "code",
   "execution_count": 23,
   "id": "d664f613",
   "metadata": {
    "execution": {
     "iopub.execute_input": "2022-06-13T13:24:35.921929Z",
     "iopub.status.busy": "2022-06-13T13:24:35.920969Z",
     "iopub.status.idle": "2022-06-13T13:24:35.932347Z",
     "shell.execute_reply": "2022-06-13T13:24:35.931170Z"
    },
    "papermill": {
     "duration": 0.042714,
     "end_time": "2022-06-13T13:24:35.935343",
     "exception": false,
     "start_time": "2022-06-13T13:24:35.892629",
     "status": "completed"
    },
    "tags": []
   },
   "outputs": [
    {
     "name": "stdout",
     "output_type": "stream",
     "text": [
      "<class 'pandas.core.frame.DataFrame'>\n",
      "Int64Index: 3489539 entries, 0 to 228495\n",
      "Data columns (total 13 columns):\n",
      " #   Column              Dtype         \n",
      "---  ------              -----         \n",
      " 0   ride_id             object        \n",
      " 1   rideable_type       object        \n",
      " 2   started_at          datetime64[ns]\n",
      " 3   ended_at            datetime64[ns]\n",
      " 4   start_station_name  object        \n",
      " 5   start_station_id    object        \n",
      " 6   end_station_name    object        \n",
      " 7   end_station_id      object        \n",
      " 8   start_lat           float64       \n",
      " 9   start_lng           float64       \n",
      " 10  end_lat             float64       \n",
      " 11  end_lng             float64       \n",
      " 12  member_casual       object        \n",
      "dtypes: datetime64[ns](2), float64(4), object(7)\n",
      "memory usage: 372.7+ MB\n"
     ]
    }
   ],
   "source": [
    "tripdataV1.info()\n",
    "\n",
    "# Checking my data types format and we have two date times as intended"
   ]
  },
  {
   "cell_type": "code",
   "execution_count": null,
   "id": "9e14dcdd",
   "metadata": {
    "papermill": {
     "duration": 0.026531,
     "end_time": "2022-06-13T13:24:35.989878",
     "exception": false,
     "start_time": "2022-06-13T13:24:35.963347",
     "status": "completed"
    },
    "tags": []
   },
   "outputs": [],
   "source": []
  },
  {
   "cell_type": "markdown",
   "id": "e80141a4",
   "metadata": {
    "papermill": {
     "duration": 0.026596,
     "end_time": "2022-06-13T13:24:36.043314",
     "exception": false,
     "start_time": "2022-06-13T13:24:36.016718",
     "status": "completed"
    },
    "tags": []
   },
   "source": [
    "## Manipulating the data"
   ]
  },
  {
   "cell_type": "markdown",
   "id": "232247cb",
   "metadata": {
    "papermill": {
     "duration": 0.026648,
     "end_time": "2022-06-13T13:24:36.096929",
     "exception": false,
     "start_time": "2022-06-13T13:24:36.070281",
     "status": "completed"
    },
    "tags": []
   },
   "source": [
    "* **Add new columns**"
   ]
  },
  {
   "cell_type": "code",
   "execution_count": null,
   "id": "7048bc1e",
   "metadata": {
    "papermill": {
     "duration": 0.026918,
     "end_time": "2022-06-13T13:24:36.151080",
     "exception": false,
     "start_time": "2022-06-13T13:24:36.124162",
     "status": "completed"
    },
    "tags": []
   },
   "outputs": [],
   "source": []
  },
  {
   "cell_type": "code",
   "execution_count": null,
   "id": "71fce3e3",
   "metadata": {
    "papermill": {
     "duration": 0.026531,
     "end_time": "2022-06-13T13:24:36.204635",
     "exception": false,
     "start_time": "2022-06-13T13:24:36.178104",
     "status": "completed"
    },
    "tags": []
   },
   "outputs": [],
   "source": []
  },
  {
   "cell_type": "code",
   "execution_count": 24,
   "id": "238cd5ab",
   "metadata": {
    "execution": {
     "iopub.execute_input": "2022-06-13T13:24:36.260604Z",
     "iopub.status.busy": "2022-06-13T13:24:36.259845Z",
     "iopub.status.idle": "2022-06-13T13:24:36.636197Z",
     "shell.execute_reply": "2022-06-13T13:24:36.635430Z"
    },
    "papermill": {
     "duration": 0.407025,
     "end_time": "2022-06-13T13:24:36.638576",
     "exception": false,
     "start_time": "2022-06-13T13:24:36.231551",
     "status": "completed"
    },
    "tags": []
   },
   "outputs": [
    {
     "data": {
      "text/plain": [
       "0         6\n",
       "1         4\n",
       "2         2\n",
       "3         1\n",
       "4         5\n",
       "         ..\n",
       "228491    5\n",
       "228492    1\n",
       "228493    1\n",
       "228494    0\n",
       "228495    4\n",
       "Name: started_at, Length: 3489539, dtype: int64"
      ]
     },
     "execution_count": 24,
     "metadata": {},
     "output_type": "execute_result"
    }
   ],
   "source": [
    "# Using the dt.dayofweek to find the day of the week for each date\n",
    "\n",
    "tripdataV1[\"started_at\"].dt.dayofweek"
   ]
  },
  {
   "cell_type": "code",
   "execution_count": null,
   "id": "d085cf49",
   "metadata": {
    "papermill": {
     "duration": 0.028817,
     "end_time": "2022-06-13T13:24:36.695388",
     "exception": false,
     "start_time": "2022-06-13T13:24:36.666571",
     "status": "completed"
    },
    "tags": []
   },
   "outputs": [],
   "source": []
  },
  {
   "cell_type": "code",
   "execution_count": 25,
   "id": "03d611cd",
   "metadata": {
    "execution": {
     "iopub.execute_input": "2022-06-13T13:24:36.752517Z",
     "iopub.status.busy": "2022-06-13T13:24:36.752132Z",
     "iopub.status.idle": "2022-06-13T13:24:38.011542Z",
     "shell.execute_reply": "2022-06-13T13:24:38.010552Z"
    },
    "papermill": {
     "duration": 1.290972,
     "end_time": "2022-06-13T13:24:38.014388",
     "exception": false,
     "start_time": "2022-06-13T13:24:36.723416",
     "status": "completed"
    },
    "tags": []
   },
   "outputs": [
    {
     "data": {
      "text/plain": [
       "0            Sunday\n",
       "1            Friday\n",
       "2         Wednesday\n",
       "3           Tuesday\n",
       "4          Saturday\n",
       "            ...    \n",
       "228491     Saturday\n",
       "228492      Tuesday\n",
       "228493      Tuesday\n",
       "228494       Monday\n",
       "228495       Friday\n",
       "Name: started_at, Length: 3489539, dtype: object"
      ]
     },
     "execution_count": 25,
     "metadata": {},
     "output_type": "execute_result"
    }
   ],
   "source": [
    "# Using the dt.day_name() to get the name of the day to each date\n",
    "\n",
    "tripdataV1[\"started_at\"].dt.day_name()\n"
   ]
  },
  {
   "cell_type": "code",
   "execution_count": 26,
   "id": "e60eb0f9",
   "metadata": {
    "execution": {
     "iopub.execute_input": "2022-06-13T13:24:38.073171Z",
     "iopub.status.busy": "2022-06-13T13:24:38.072554Z",
     "iopub.status.idle": "2022-06-13T13:24:38.418844Z",
     "shell.execute_reply": "2022-06-13T13:24:38.418009Z"
    },
    "papermill": {
     "duration": 0.377997,
     "end_time": "2022-06-13T13:24:38.420962",
     "exception": false,
     "start_time": "2022-06-13T13:24:38.042965",
     "status": "completed"
    },
    "tags": []
   },
   "outputs": [
    {
     "data": {
      "text/plain": [
       "0         4\n",
       "1         4\n",
       "2         4\n",
       "3         4\n",
       "4         4\n",
       "         ..\n",
       "228491    3\n",
       "228492    3\n",
       "228493    3\n",
       "228494    3\n",
       "228495    3\n",
       "Name: started_at, Length: 3489539, dtype: int64"
      ]
     },
     "execution_count": 26,
     "metadata": {},
     "output_type": "execute_result"
    }
   ],
   "source": [
    "# df['month_of_date'] = df['date_given'].dt.month\n",
    "\n",
    "tripdataV1[\"started_at\"].dt.month\n"
   ]
  },
  {
   "cell_type": "code",
   "execution_count": 27,
   "id": "286712b9",
   "metadata": {
    "execution": {
     "iopub.execute_input": "2022-06-13T13:24:38.478367Z",
     "iopub.status.busy": "2022-06-13T13:24:38.477717Z",
     "iopub.status.idle": "2022-06-13T13:24:39.655045Z",
     "shell.execute_reply": "2022-06-13T13:24:39.653853Z"
    },
    "papermill": {
     "duration": 1.20872,
     "end_time": "2022-06-13T13:24:39.657335",
     "exception": false,
     "start_time": "2022-06-13T13:24:38.448615",
     "status": "completed"
    },
    "tags": []
   },
   "outputs": [
    {
     "data": {
      "text/plain": [
       "0         April\n",
       "1         April\n",
       "2         April\n",
       "3         April\n",
       "4         April\n",
       "          ...  \n",
       "228491    March\n",
       "228492    March\n",
       "228493    March\n",
       "228494    March\n",
       "228495    March\n",
       "Name: started_at, Length: 3489539, dtype: object"
      ]
     },
     "execution_count": 27,
     "metadata": {},
     "output_type": "execute_result"
    }
   ],
   "source": [
    "# Using the dat.month_name to see the months of each date\n",
    "# later we will assign it into a new column\n",
    "\n",
    "tripdataV1[\"started_at\"].dt.month_name()\n"
   ]
  },
  {
   "cell_type": "code",
   "execution_count": 28,
   "id": "580305a1",
   "metadata": {
    "execution": {
     "iopub.execute_input": "2022-06-13T13:24:39.714767Z",
     "iopub.status.busy": "2022-06-13T13:24:39.714340Z",
     "iopub.status.idle": "2022-06-13T13:24:40.061147Z",
     "shell.execute_reply": "2022-06-13T13:24:40.060152Z"
    },
    "papermill": {
     "duration": 0.378528,
     "end_time": "2022-06-13T13:24:40.063254",
     "exception": false,
     "start_time": "2022-06-13T13:24:39.684726",
     "status": "completed"
    },
    "tags": []
   },
   "outputs": [
    {
     "data": {
      "text/plain": [
       "0         2020\n",
       "1         2020\n",
       "2         2020\n",
       "3         2020\n",
       "4         2020\n",
       "          ... \n",
       "228491    2021\n",
       "228492    2021\n",
       "228493    2021\n",
       "228494    2021\n",
       "228495    2021\n",
       "Name: started_at, Length: 3489539, dtype: int64"
      ]
     },
     "execution_count": 28,
     "metadata": {},
     "output_type": "execute_result"
    }
   ],
   "source": [
    "# Now taking the year this \"dt.\" is kind a a library to manipulate date\n",
    "\n",
    "tripdataV1[\"started_at\"].dt.year"
   ]
  },
  {
   "cell_type": "code",
   "execution_count": 29,
   "id": "7e69bc6a",
   "metadata": {
    "execution": {
     "iopub.execute_input": "2022-06-13T13:24:40.119302Z",
     "iopub.status.busy": "2022-06-13T13:24:40.118661Z",
     "iopub.status.idle": "2022-06-13T13:24:40.466334Z",
     "shell.execute_reply": "2022-06-13T13:24:40.465217Z"
    },
    "papermill": {
     "duration": 0.378396,
     "end_time": "2022-06-13T13:24:40.468625",
     "exception": false,
     "start_time": "2022-06-13T13:24:40.090229",
     "status": "completed"
    },
    "tags": []
   },
   "outputs": [
    {
     "data": {
      "text/plain": [
       "0         26\n",
       "1         17\n",
       "2          1\n",
       "3          7\n",
       "4         18\n",
       "          ..\n",
       "228491    20\n",
       "228492     2\n",
       "228493     9\n",
       "228494     1\n",
       "228495    26\n",
       "Name: started_at, Length: 3489539, dtype: int64"
      ]
     },
     "execution_count": 29,
     "metadata": {},
     "output_type": "execute_result"
    }
   ],
   "source": [
    "# Extracting the specific day\n",
    "\n",
    "tripdataV1[\"started_at\"].dt.day"
   ]
  },
  {
   "cell_type": "markdown",
   "id": "bcb223f0",
   "metadata": {
    "papermill": {
     "duration": 0.027613,
     "end_time": "2022-06-13T13:24:40.523950",
     "exception": false,
     "start_time": "2022-06-13T13:24:40.496337",
     "status": "completed"
    },
    "tags": []
   },
   "source": [
    "**After wacthing the new values we need to create new columns we are going to create and insert the new columns**"
   ]
  },
  {
   "cell_type": "code",
   "execution_count": 30,
   "id": "fa87ecd3",
   "metadata": {
    "execution": {
     "iopub.execute_input": "2022-06-13T13:24:40.581506Z",
     "iopub.status.busy": "2022-06-13T13:24:40.580690Z",
     "iopub.status.idle": "2022-06-13T13:24:43.038043Z",
     "shell.execute_reply": "2022-06-13T13:24:43.036862Z"
    },
    "papermill": {
     "duration": 2.489407,
     "end_time": "2022-06-13T13:24:43.041204",
     "exception": false,
     "start_time": "2022-06-13T13:24:40.551797",
     "status": "completed"
    },
    "tags": []
   },
   "outputs": [
    {
     "name": "stderr",
     "output_type": "stream",
     "text": [
      "/opt/conda/lib/python3.7/site-packages/ipykernel_launcher.py:3: SettingWithCopyWarning: \n",
      "A value is trying to be set on a copy of a slice from a DataFrame.\n",
      "Try using .loc[row_indexer,col_indexer] = value instead\n",
      "\n",
      "See the caveats in the documentation: https://pandas.pydata.org/pandas-docs/stable/user_guide/indexing.html#returning-a-view-versus-a-copy\n",
      "  This is separate from the ipykernel package so we can avoid doing imports until\n",
      "/opt/conda/lib/python3.7/site-packages/ipykernel_launcher.py:5: SettingWithCopyWarning: \n",
      "A value is trying to be set on a copy of a slice from a DataFrame.\n",
      "Try using .loc[row_indexer,col_indexer] = value instead\n",
      "\n",
      "See the caveats in the documentation: https://pandas.pydata.org/pandas-docs/stable/user_guide/indexing.html#returning-a-view-versus-a-copy\n",
      "  \"\"\"\n",
      "/opt/conda/lib/python3.7/site-packages/ipykernel_launcher.py:6: SettingWithCopyWarning: \n",
      "A value is trying to be set on a copy of a slice from a DataFrame.\n",
      "Try using .loc[row_indexer,col_indexer] = value instead\n",
      "\n",
      "See the caveats in the documentation: https://pandas.pydata.org/pandas-docs/stable/user_guide/indexing.html#returning-a-view-versus-a-copy\n",
      "  \n",
      "/opt/conda/lib/python3.7/site-packages/ipykernel_launcher.py:7: SettingWithCopyWarning: \n",
      "A value is trying to be set on a copy of a slice from a DataFrame.\n",
      "Try using .loc[row_indexer,col_indexer] = value instead\n",
      "\n",
      "See the caveats in the documentation: https://pandas.pydata.org/pandas-docs/stable/user_guide/indexing.html#returning-a-view-versus-a-copy\n",
      "  import sys\n"
     ]
    },
    {
     "data": {
      "text/html": [
       "<div>\n",
       "<style scoped>\n",
       "    .dataframe tbody tr th:only-of-type {\n",
       "        vertical-align: middle;\n",
       "    }\n",
       "\n",
       "    .dataframe tbody tr th {\n",
       "        vertical-align: top;\n",
       "    }\n",
       "\n",
       "    .dataframe thead th {\n",
       "        text-align: right;\n",
       "    }\n",
       "</style>\n",
       "<table border=\"1\" class=\"dataframe\">\n",
       "  <thead>\n",
       "    <tr style=\"text-align: right;\">\n",
       "      <th></th>\n",
       "      <th>ride_id</th>\n",
       "      <th>rideable_type</th>\n",
       "      <th>started_at</th>\n",
       "      <th>ended_at</th>\n",
       "      <th>start_station_name</th>\n",
       "      <th>start_station_id</th>\n",
       "      <th>end_station_name</th>\n",
       "      <th>end_station_id</th>\n",
       "      <th>start_lat</th>\n",
       "      <th>start_lng</th>\n",
       "      <th>end_lat</th>\n",
       "      <th>end_lng</th>\n",
       "      <th>member_casual</th>\n",
       "      <th>weekday</th>\n",
       "      <th>day</th>\n",
       "      <th>month</th>\n",
       "      <th>year</th>\n",
       "    </tr>\n",
       "  </thead>\n",
       "  <tbody>\n",
       "    <tr>\n",
       "      <th>0</th>\n",
       "      <td>A847FADBBC638E45</td>\n",
       "      <td>docked_bike</td>\n",
       "      <td>2020-04-26 17:45:14</td>\n",
       "      <td>2020-04-26 18:12:03</td>\n",
       "      <td>Eckhart Park</td>\n",
       "      <td>86</td>\n",
       "      <td>Lincoln Ave &amp; Diversey Pkwy</td>\n",
       "      <td>152.0</td>\n",
       "      <td>41.896400</td>\n",
       "      <td>-87.661000</td>\n",
       "      <td>41.932200</td>\n",
       "      <td>-87.658600</td>\n",
       "      <td>member</td>\n",
       "      <td>Sunday</td>\n",
       "      <td>26</td>\n",
       "      <td>4</td>\n",
       "      <td>2020</td>\n",
       "    </tr>\n",
       "    <tr>\n",
       "      <th>1</th>\n",
       "      <td>5405B80E996FF60D</td>\n",
       "      <td>docked_bike</td>\n",
       "      <td>2020-04-17 17:08:54</td>\n",
       "      <td>2020-04-17 17:17:03</td>\n",
       "      <td>Drake Ave &amp; Fullerton Ave</td>\n",
       "      <td>503</td>\n",
       "      <td>Kosciuszko Park</td>\n",
       "      <td>499.0</td>\n",
       "      <td>41.924400</td>\n",
       "      <td>-87.715400</td>\n",
       "      <td>41.930600</td>\n",
       "      <td>-87.723800</td>\n",
       "      <td>member</td>\n",
       "      <td>Friday</td>\n",
       "      <td>17</td>\n",
       "      <td>4</td>\n",
       "      <td>2020</td>\n",
       "    </tr>\n",
       "    <tr>\n",
       "      <th>2</th>\n",
       "      <td>5DD24A79A4E006F4</td>\n",
       "      <td>docked_bike</td>\n",
       "      <td>2020-04-01 17:54:13</td>\n",
       "      <td>2020-04-01 18:08:36</td>\n",
       "      <td>McClurg Ct &amp; Erie St</td>\n",
       "      <td>142</td>\n",
       "      <td>Indiana Ave &amp; Roosevelt Rd</td>\n",
       "      <td>255.0</td>\n",
       "      <td>41.894500</td>\n",
       "      <td>-87.617900</td>\n",
       "      <td>41.867900</td>\n",
       "      <td>-87.623000</td>\n",
       "      <td>member</td>\n",
       "      <td>Wednesday</td>\n",
       "      <td>1</td>\n",
       "      <td>4</td>\n",
       "      <td>2020</td>\n",
       "    </tr>\n",
       "    <tr>\n",
       "      <th>3</th>\n",
       "      <td>2A59BBDF5CDBA725</td>\n",
       "      <td>docked_bike</td>\n",
       "      <td>2020-04-07 12:50:19</td>\n",
       "      <td>2020-04-07 13:02:31</td>\n",
       "      <td>California Ave &amp; Division St</td>\n",
       "      <td>216</td>\n",
       "      <td>Wood St &amp; Augusta Blvd</td>\n",
       "      <td>657.0</td>\n",
       "      <td>41.903000</td>\n",
       "      <td>-87.697500</td>\n",
       "      <td>41.899200</td>\n",
       "      <td>-87.672200</td>\n",
       "      <td>member</td>\n",
       "      <td>Tuesday</td>\n",
       "      <td>7</td>\n",
       "      <td>4</td>\n",
       "      <td>2020</td>\n",
       "    </tr>\n",
       "    <tr>\n",
       "      <th>4</th>\n",
       "      <td>27AD306C119C6158</td>\n",
       "      <td>docked_bike</td>\n",
       "      <td>2020-04-18 10:22:59</td>\n",
       "      <td>2020-04-18 11:15:54</td>\n",
       "      <td>Rush St &amp; Hubbard St</td>\n",
       "      <td>125</td>\n",
       "      <td>Sheridan Rd &amp; Lawrence Ave</td>\n",
       "      <td>323.0</td>\n",
       "      <td>41.890200</td>\n",
       "      <td>-87.626200</td>\n",
       "      <td>41.969500</td>\n",
       "      <td>-87.654700</td>\n",
       "      <td>casual</td>\n",
       "      <td>Saturday</td>\n",
       "      <td>18</td>\n",
       "      <td>4</td>\n",
       "      <td>2020</td>\n",
       "    </tr>\n",
       "    <tr>\n",
       "      <th>...</th>\n",
       "      <td>...</td>\n",
       "      <td>...</td>\n",
       "      <td>...</td>\n",
       "      <td>...</td>\n",
       "      <td>...</td>\n",
       "      <td>...</td>\n",
       "      <td>...</td>\n",
       "      <td>...</td>\n",
       "      <td>...</td>\n",
       "      <td>...</td>\n",
       "      <td>...</td>\n",
       "      <td>...</td>\n",
       "      <td>...</td>\n",
       "      <td>...</td>\n",
       "      <td>...</td>\n",
       "      <td>...</td>\n",
       "      <td>...</td>\n",
       "    </tr>\n",
       "    <tr>\n",
       "      <th>228491</th>\n",
       "      <td>9397BDD14798A1BA</td>\n",
       "      <td>docked_bike</td>\n",
       "      <td>2021-03-20 14:58:56</td>\n",
       "      <td>2021-03-20 17:22:47</td>\n",
       "      <td>Michigan Ave &amp; Oak St</td>\n",
       "      <td>13042</td>\n",
       "      <td>New St &amp; Illinois St</td>\n",
       "      <td>TA1306000013</td>\n",
       "      <td>41.900960</td>\n",
       "      <td>-87.623777</td>\n",
       "      <td>41.890847</td>\n",
       "      <td>-87.618617</td>\n",
       "      <td>casual</td>\n",
       "      <td>Saturday</td>\n",
       "      <td>20</td>\n",
       "      <td>3</td>\n",
       "      <td>2021</td>\n",
       "    </tr>\n",
       "    <tr>\n",
       "      <th>228492</th>\n",
       "      <td>BBBEB8D51AAD40DA</td>\n",
       "      <td>classic_bike</td>\n",
       "      <td>2021-03-02 11:35:10</td>\n",
       "      <td>2021-03-02 11:43:37</td>\n",
       "      <td>Kingsbury St &amp; Kinzie St</td>\n",
       "      <td>KA1503000043</td>\n",
       "      <td>New St &amp; Illinois St</td>\n",
       "      <td>TA1306000013</td>\n",
       "      <td>41.889177</td>\n",
       "      <td>-87.638506</td>\n",
       "      <td>41.890847</td>\n",
       "      <td>-87.618617</td>\n",
       "      <td>member</td>\n",
       "      <td>Tuesday</td>\n",
       "      <td>2</td>\n",
       "      <td>3</td>\n",
       "      <td>2021</td>\n",
       "    </tr>\n",
       "    <tr>\n",
       "      <th>228493</th>\n",
       "      <td>637FF754DA0BD9E1</td>\n",
       "      <td>classic_bike</td>\n",
       "      <td>2021-03-09 11:07:36</td>\n",
       "      <td>2021-03-09 11:49:11</td>\n",
       "      <td>Michigan Ave &amp; Oak St</td>\n",
       "      <td>13042</td>\n",
       "      <td>Clark St &amp; Berwyn Ave</td>\n",
       "      <td>KA1504000146</td>\n",
       "      <td>41.900960</td>\n",
       "      <td>-87.623777</td>\n",
       "      <td>41.977997</td>\n",
       "      <td>-87.668047</td>\n",
       "      <td>member</td>\n",
       "      <td>Tuesday</td>\n",
       "      <td>9</td>\n",
       "      <td>3</td>\n",
       "      <td>2021</td>\n",
       "    </tr>\n",
       "    <tr>\n",
       "      <th>228494</th>\n",
       "      <td>F8F43A0B978A7A35</td>\n",
       "      <td>classic_bike</td>\n",
       "      <td>2021-03-01 18:11:57</td>\n",
       "      <td>2021-03-01 18:18:37</td>\n",
       "      <td>Kingsbury St &amp; Kinzie St</td>\n",
       "      <td>KA1503000043</td>\n",
       "      <td>New St &amp; Illinois St</td>\n",
       "      <td>TA1306000013</td>\n",
       "      <td>41.889177</td>\n",
       "      <td>-87.638506</td>\n",
       "      <td>41.890847</td>\n",
       "      <td>-87.618617</td>\n",
       "      <td>member</td>\n",
       "      <td>Monday</td>\n",
       "      <td>1</td>\n",
       "      <td>3</td>\n",
       "      <td>2021</td>\n",
       "    </tr>\n",
       "    <tr>\n",
       "      <th>228495</th>\n",
       "      <td>3AE64EA5BF43CF72</td>\n",
       "      <td>electric_bike</td>\n",
       "      <td>2021-03-26 17:58:14</td>\n",
       "      <td>2021-03-26 18:06:43</td>\n",
       "      <td>NaN</td>\n",
       "      <td>NaN</td>\n",
       "      <td>New St &amp; Illinois St</td>\n",
       "      <td>TA1306000013</td>\n",
       "      <td>41.880000</td>\n",
       "      <td>-87.630000</td>\n",
       "      <td>41.890818</td>\n",
       "      <td>-87.619540</td>\n",
       "      <td>member</td>\n",
       "      <td>Friday</td>\n",
       "      <td>26</td>\n",
       "      <td>3</td>\n",
       "      <td>2021</td>\n",
       "    </tr>\n",
       "  </tbody>\n",
       "</table>\n",
       "<p>3489539 rows × 17 columns</p>\n",
       "</div>"
      ],
      "text/plain": [
       "                 ride_id  rideable_type          started_at  \\\n",
       "0       A847FADBBC638E45    docked_bike 2020-04-26 17:45:14   \n",
       "1       5405B80E996FF60D    docked_bike 2020-04-17 17:08:54   \n",
       "2       5DD24A79A4E006F4    docked_bike 2020-04-01 17:54:13   \n",
       "3       2A59BBDF5CDBA725    docked_bike 2020-04-07 12:50:19   \n",
       "4       27AD306C119C6158    docked_bike 2020-04-18 10:22:59   \n",
       "...                  ...            ...                 ...   \n",
       "228491  9397BDD14798A1BA    docked_bike 2021-03-20 14:58:56   \n",
       "228492  BBBEB8D51AAD40DA   classic_bike 2021-03-02 11:35:10   \n",
       "228493  637FF754DA0BD9E1   classic_bike 2021-03-09 11:07:36   \n",
       "228494  F8F43A0B978A7A35   classic_bike 2021-03-01 18:11:57   \n",
       "228495  3AE64EA5BF43CF72  electric_bike 2021-03-26 17:58:14   \n",
       "\n",
       "                  ended_at            start_station_name start_station_id  \\\n",
       "0      2020-04-26 18:12:03                  Eckhart Park               86   \n",
       "1      2020-04-17 17:17:03     Drake Ave & Fullerton Ave              503   \n",
       "2      2020-04-01 18:08:36          McClurg Ct & Erie St              142   \n",
       "3      2020-04-07 13:02:31  California Ave & Division St              216   \n",
       "4      2020-04-18 11:15:54          Rush St & Hubbard St              125   \n",
       "...                    ...                           ...              ...   \n",
       "228491 2021-03-20 17:22:47         Michigan Ave & Oak St            13042   \n",
       "228492 2021-03-02 11:43:37      Kingsbury St & Kinzie St     KA1503000043   \n",
       "228493 2021-03-09 11:49:11         Michigan Ave & Oak St            13042   \n",
       "228494 2021-03-01 18:18:37      Kingsbury St & Kinzie St     KA1503000043   \n",
       "228495 2021-03-26 18:06:43                           NaN              NaN   \n",
       "\n",
       "                   end_station_name end_station_id  start_lat  start_lng  \\\n",
       "0       Lincoln Ave & Diversey Pkwy          152.0  41.896400 -87.661000   \n",
       "1                   Kosciuszko Park          499.0  41.924400 -87.715400   \n",
       "2        Indiana Ave & Roosevelt Rd          255.0  41.894500 -87.617900   \n",
       "3            Wood St & Augusta Blvd          657.0  41.903000 -87.697500   \n",
       "4        Sheridan Rd & Lawrence Ave          323.0  41.890200 -87.626200   \n",
       "...                             ...            ...        ...        ...   \n",
       "228491         New St & Illinois St   TA1306000013  41.900960 -87.623777   \n",
       "228492         New St & Illinois St   TA1306000013  41.889177 -87.638506   \n",
       "228493        Clark St & Berwyn Ave   KA1504000146  41.900960 -87.623777   \n",
       "228494         New St & Illinois St   TA1306000013  41.889177 -87.638506   \n",
       "228495         New St & Illinois St   TA1306000013  41.880000 -87.630000   \n",
       "\n",
       "          end_lat    end_lng member_casual    weekday  day  month  year  \n",
       "0       41.932200 -87.658600        member     Sunday   26      4  2020  \n",
       "1       41.930600 -87.723800        member     Friday   17      4  2020  \n",
       "2       41.867900 -87.623000        member  Wednesday    1      4  2020  \n",
       "3       41.899200 -87.672200        member    Tuesday    7      4  2020  \n",
       "4       41.969500 -87.654700        casual   Saturday   18      4  2020  \n",
       "...           ...        ...           ...        ...  ...    ...   ...  \n",
       "228491  41.890847 -87.618617        casual   Saturday   20      3  2021  \n",
       "228492  41.890847 -87.618617        member    Tuesday    2      3  2021  \n",
       "228493  41.977997 -87.668047        member    Tuesday    9      3  2021  \n",
       "228494  41.890847 -87.618617        member     Monday    1      3  2021  \n",
       "228495  41.890818 -87.619540        member     Friday   26      3  2021  \n",
       "\n",
       "[3489539 rows x 17 columns]"
      ]
     },
     "execution_count": 30,
     "metadata": {},
     "output_type": "execute_result"
    }
   ],
   "source": [
    "# Adding the day as a new columns \n",
    "\n",
    "tripdataV1[\"weekday\"] = tripdataV1[\"started_at\"].dt.day_name() #the code for the new \"weekday\" column\n",
    "\n",
    "tripdataV1[\"day\"] = tripdataV1[\"started_at\"].dt.day\n",
    "tripdataV1[\"month\"] = tripdataV1[\"started_at\"].dt.month\n",
    "tripdataV1[\"year\"] = tripdataV1[\"started_at\"].dt.year\n",
    "\n",
    "\n",
    "tripdataV1"
   ]
  },
  {
   "cell_type": "markdown",
   "id": "9b12c6a4",
   "metadata": {
    "papermill": {
     "duration": 0.029116,
     "end_time": "2022-06-13T13:24:43.099393",
     "exception": false,
     "start_time": "2022-06-13T13:24:43.070277",
     "status": "completed"
    },
    "tags": []
   },
   "source": [
    "**We have added the new four columns**\n",
    "**The weekday, day, month and year**\n",
    "**This columns will help us make a deep analysis between the casual and members**"
   ]
  },
  {
   "cell_type": "code",
   "execution_count": 31,
   "id": "91373abd",
   "metadata": {
    "execution": {
     "iopub.execute_input": "2022-06-13T13:24:43.160003Z",
     "iopub.status.busy": "2022-06-13T13:24:43.159538Z",
     "iopub.status.idle": "2022-06-13T13:24:43.298858Z",
     "shell.execute_reply": "2022-06-13T13:24:43.297581Z"
    },
    "papermill": {
     "duration": 0.174791,
     "end_time": "2022-06-13T13:24:43.303885",
     "exception": false,
     "start_time": "2022-06-13T13:24:43.129094",
     "status": "completed"
    },
    "tags": []
   },
   "outputs": [
    {
     "name": "stderr",
     "output_type": "stream",
     "text": [
      "/opt/conda/lib/python3.7/site-packages/ipykernel_launcher.py:3: SettingWithCopyWarning: \n",
      "A value is trying to be set on a copy of a slice from a DataFrame.\n",
      "Try using .loc[row_indexer,col_indexer] = value instead\n",
      "\n",
      "See the caveats in the documentation: https://pandas.pydata.org/pandas-docs/stable/user_guide/indexing.html#returning-a-view-versus-a-copy\n",
      "  This is separate from the ipykernel package so we can avoid doing imports until\n"
     ]
    },
    {
     "data": {
      "text/plain": [
       "0          26.816667\n",
       "1           8.150000\n",
       "2          14.383333\n",
       "3          12.200000\n",
       "4          52.916667\n",
       "             ...    \n",
       "228491    143.850000\n",
       "228492      8.450000\n",
       "228493     41.583333\n",
       "228494      6.666667\n",
       "228495      8.483333\n",
       "Name: ride_length_s, Length: 3489539, dtype: float64"
      ]
     },
     "execution_count": 31,
     "metadata": {},
     "output_type": "execute_result"
    }
   ],
   "source": [
    "# calculating the ride lenght in seconds\n",
    "\n",
    "tripdataV1[\"ride_length_s\"] = (tripdataV1[\"ended_at\"] - tripdataV1[\"started_at\"]).dt.seconds/60 \n",
    "\n",
    "tripdataV1[\"ride_length_s\"]\n"
   ]
  },
  {
   "cell_type": "code",
   "execution_count": 32,
   "id": "03863455",
   "metadata": {
    "execution": {
     "iopub.execute_input": "2022-06-13T13:24:43.365030Z",
     "iopub.status.busy": "2022-06-13T13:24:43.364679Z",
     "iopub.status.idle": "2022-06-13T13:24:43.368584Z",
     "shell.execute_reply": "2022-06-13T13:24:43.367491Z"
    },
    "papermill": {
     "duration": 0.037223,
     "end_time": "2022-06-13T13:24:43.370544",
     "exception": false,
     "start_time": "2022-06-13T13:24:43.333321",
     "status": "completed"
    },
    "tags": []
   },
   "outputs": [],
   "source": [
    "# tripdataV1[\"weekday\"] = tripdataV1[\"started_at\"].dt.day_name() \n",
    "\n",
    "# tripdataV1[\"day\"] = tripdataV1[\"started_at\"].dt.day\n",
    "# tripdataV1[\"month\"] = tripdataV1[\"started_at\"].dt.month\n",
    "# tripdataV1[\"year\"] = tripdataV1[\"started_at\"].dt.year\n"
   ]
  },
  {
   "cell_type": "code",
   "execution_count": 33,
   "id": "2238f235",
   "metadata": {
    "execution": {
     "iopub.execute_input": "2022-06-13T13:24:43.430171Z",
     "iopub.status.busy": "2022-06-13T13:24:43.429465Z",
     "iopub.status.idle": "2022-06-13T13:24:49.820372Z",
     "shell.execute_reply": "2022-06-13T13:24:49.818863Z"
    },
    "papermill": {
     "duration": 6.424148,
     "end_time": "2022-06-13T13:24:49.822987",
     "exception": false,
     "start_time": "2022-06-13T13:24:43.398839",
     "status": "completed"
    },
    "tags": []
   },
   "outputs": [
    {
     "name": "stderr",
     "output_type": "stream",
     "text": [
      "/opt/conda/lib/python3.7/site-packages/ipykernel_launcher.py:5: SettingWithCopyWarning: \n",
      "A value is trying to be set on a copy of a slice from a DataFrame.\n",
      "Try using .loc[row_indexer,col_indexer] = value instead\n",
      "\n",
      "See the caveats in the documentation: https://pandas.pydata.org/pandas-docs/stable/user_guide/indexing.html#returning-a-view-versus-a-copy\n",
      "  \"\"\"\n"
     ]
    },
    {
     "data": {
      "text/plain": [
       "0         2020 - 4 (April)\n",
       "1         2020 - 4 (April)\n",
       "2         2020 - 4 (April)\n",
       "3         2020 - 4 (April)\n",
       "4         2020 - 4 (April)\n",
       "                ...       \n",
       "228491    2021 - 3 (March)\n",
       "228492    2021 - 3 (March)\n",
       "228493    2021 - 3 (March)\n",
       "228494    2021 - 3 (March)\n",
       "228495    2021 - 3 (March)\n",
       "Name: year_month, Length: 3489539, dtype: object"
      ]
     },
     "execution_count": 33,
     "metadata": {},
     "output_type": "execute_result"
    }
   ],
   "source": [
    "# Now we are going to add new one column here\n",
    "# the year_month\n",
    "# .map(str)\n",
    "\n",
    "tripdataV1[\"year_month\"] = tripdataV1[\"year\"].map(str) + \" - \" + tripdataV1[\"month\"].map(str) + \" (\" + tripdataV1[\"started_at\"].dt.month_name().map(str) + \")\"\n",
    "\n",
    "tripdataV1[\"year_month\"]"
   ]
  },
  {
   "cell_type": "code",
   "execution_count": 34,
   "id": "9a0d4caf",
   "metadata": {
    "execution": {
     "iopub.execute_input": "2022-06-13T13:24:49.884065Z",
     "iopub.status.busy": "2022-06-13T13:24:49.883315Z",
     "iopub.status.idle": "2022-06-13T13:24:52.861163Z",
     "shell.execute_reply": "2022-06-13T13:24:52.859648Z"
    },
    "papermill": {
     "duration": 3.011087,
     "end_time": "2022-06-13T13:24:52.863538",
     "exception": false,
     "start_time": "2022-06-13T13:24:49.852451",
     "status": "completed"
    },
    "tags": []
   },
   "outputs": [
    {
     "name": "stderr",
     "output_type": "stream",
     "text": [
      "/opt/conda/lib/python3.7/site-packages/ipykernel_launcher.py:5: SettingWithCopyWarning: \n",
      "A value is trying to be set on a copy of a slice from a DataFrame.\n",
      "Try using .loc[row_indexer,col_indexer] = value instead\n",
      "\n",
      "See the caveats in the documentation: https://pandas.pydata.org/pandas-docs/stable/user_guide/indexing.html#returning-a-view-versus-a-copy\n",
      "  \"\"\"\n"
     ]
    },
    {
     "data": {
      "text/plain": [
       "0            6 - Sunday\n",
       "1            4 - Friday\n",
       "2         2 - Wednesday\n",
       "3           1 - Tuesday\n",
       "4          5 - Saturday\n",
       "              ...      \n",
       "228491     5 - Saturday\n",
       "228492      1 - Tuesday\n",
       "228493      1 - Tuesday\n",
       "228494       0 - Monday\n",
       "228495       4 - Friday\n",
       "Name: dayofweek_weekday, Length: 3489539, dtype: object"
      ]
     },
     "execution_count": 34,
     "metadata": {},
     "output_type": "execute_result"
    }
   ],
   "source": [
    "# Now we are going to add new one column here\n",
    "# the dayofweek_weekday\n",
    "# .map(str)\n",
    " \n",
    "tripdataV1[\"dayofweek_weekday\"] = tripdataV1[\"started_at\"].dt.dayofweek.map(str) + \" - \" + tripdataV1[\"weekday\"].map(str)\n",
    "\n",
    "tripdataV1[\"dayofweek_weekday\"]\n"
   ]
  },
  {
   "cell_type": "markdown",
   "id": "aad8cf19",
   "metadata": {
    "papermill": {
     "duration": 0.029201,
     "end_time": "2022-06-13T13:24:52.922203",
     "exception": false,
     "start_time": "2022-06-13T13:24:52.893002",
     "status": "completed"
    },
    "tags": []
   },
   "source": [
    "**Now we have added all the new columns we are going to need for our analysis**"
   ]
  },
  {
   "cell_type": "code",
   "execution_count": 35,
   "id": "2291a3a4",
   "metadata": {
    "execution": {
     "iopub.execute_input": "2022-06-13T13:24:52.983677Z",
     "iopub.status.busy": "2022-06-13T13:24:52.983302Z",
     "iopub.status.idle": "2022-06-13T13:24:53.020337Z",
     "shell.execute_reply": "2022-06-13T13:24:53.019497Z"
    },
    "papermill": {
     "duration": 0.070759,
     "end_time": "2022-06-13T13:24:53.022256",
     "exception": false,
     "start_time": "2022-06-13T13:24:52.951497",
     "status": "completed"
    },
    "tags": []
   },
   "outputs": [
    {
     "data": {
      "text/html": [
       "<div>\n",
       "<style scoped>\n",
       "    .dataframe tbody tr th:only-of-type {\n",
       "        vertical-align: middle;\n",
       "    }\n",
       "\n",
       "    .dataframe tbody tr th {\n",
       "        vertical-align: top;\n",
       "    }\n",
       "\n",
       "    .dataframe thead th {\n",
       "        text-align: right;\n",
       "    }\n",
       "</style>\n",
       "<table border=\"1\" class=\"dataframe\">\n",
       "  <thead>\n",
       "    <tr style=\"text-align: right;\">\n",
       "      <th></th>\n",
       "      <th>ride_id</th>\n",
       "      <th>rideable_type</th>\n",
       "      <th>started_at</th>\n",
       "      <th>ended_at</th>\n",
       "      <th>start_station_name</th>\n",
       "      <th>start_station_id</th>\n",
       "      <th>end_station_name</th>\n",
       "      <th>end_station_id</th>\n",
       "      <th>start_lat</th>\n",
       "      <th>start_lng</th>\n",
       "      <th>end_lat</th>\n",
       "      <th>end_lng</th>\n",
       "      <th>member_casual</th>\n",
       "      <th>weekday</th>\n",
       "      <th>day</th>\n",
       "      <th>month</th>\n",
       "      <th>year</th>\n",
       "      <th>ride_length_s</th>\n",
       "      <th>year_month</th>\n",
       "      <th>dayofweek_weekday</th>\n",
       "    </tr>\n",
       "  </thead>\n",
       "  <tbody>\n",
       "    <tr>\n",
       "      <th>0</th>\n",
       "      <td>A847FADBBC638E45</td>\n",
       "      <td>docked_bike</td>\n",
       "      <td>2020-04-26 17:45:14</td>\n",
       "      <td>2020-04-26 18:12:03</td>\n",
       "      <td>Eckhart Park</td>\n",
       "      <td>86</td>\n",
       "      <td>Lincoln Ave &amp; Diversey Pkwy</td>\n",
       "      <td>152.0</td>\n",
       "      <td>41.896400</td>\n",
       "      <td>-87.661000</td>\n",
       "      <td>41.932200</td>\n",
       "      <td>-87.658600</td>\n",
       "      <td>member</td>\n",
       "      <td>Sunday</td>\n",
       "      <td>26</td>\n",
       "      <td>4</td>\n",
       "      <td>2020</td>\n",
       "      <td>26.816667</td>\n",
       "      <td>2020 - 4 (April)</td>\n",
       "      <td>6 - Sunday</td>\n",
       "    </tr>\n",
       "    <tr>\n",
       "      <th>1</th>\n",
       "      <td>5405B80E996FF60D</td>\n",
       "      <td>docked_bike</td>\n",
       "      <td>2020-04-17 17:08:54</td>\n",
       "      <td>2020-04-17 17:17:03</td>\n",
       "      <td>Drake Ave &amp; Fullerton Ave</td>\n",
       "      <td>503</td>\n",
       "      <td>Kosciuszko Park</td>\n",
       "      <td>499.0</td>\n",
       "      <td>41.924400</td>\n",
       "      <td>-87.715400</td>\n",
       "      <td>41.930600</td>\n",
       "      <td>-87.723800</td>\n",
       "      <td>member</td>\n",
       "      <td>Friday</td>\n",
       "      <td>17</td>\n",
       "      <td>4</td>\n",
       "      <td>2020</td>\n",
       "      <td>8.150000</td>\n",
       "      <td>2020 - 4 (April)</td>\n",
       "      <td>4 - Friday</td>\n",
       "    </tr>\n",
       "    <tr>\n",
       "      <th>2</th>\n",
       "      <td>5DD24A79A4E006F4</td>\n",
       "      <td>docked_bike</td>\n",
       "      <td>2020-04-01 17:54:13</td>\n",
       "      <td>2020-04-01 18:08:36</td>\n",
       "      <td>McClurg Ct &amp; Erie St</td>\n",
       "      <td>142</td>\n",
       "      <td>Indiana Ave &amp; Roosevelt Rd</td>\n",
       "      <td>255.0</td>\n",
       "      <td>41.894500</td>\n",
       "      <td>-87.617900</td>\n",
       "      <td>41.867900</td>\n",
       "      <td>-87.623000</td>\n",
       "      <td>member</td>\n",
       "      <td>Wednesday</td>\n",
       "      <td>1</td>\n",
       "      <td>4</td>\n",
       "      <td>2020</td>\n",
       "      <td>14.383333</td>\n",
       "      <td>2020 - 4 (April)</td>\n",
       "      <td>2 - Wednesday</td>\n",
       "    </tr>\n",
       "    <tr>\n",
       "      <th>3</th>\n",
       "      <td>2A59BBDF5CDBA725</td>\n",
       "      <td>docked_bike</td>\n",
       "      <td>2020-04-07 12:50:19</td>\n",
       "      <td>2020-04-07 13:02:31</td>\n",
       "      <td>California Ave &amp; Division St</td>\n",
       "      <td>216</td>\n",
       "      <td>Wood St &amp; Augusta Blvd</td>\n",
       "      <td>657.0</td>\n",
       "      <td>41.903000</td>\n",
       "      <td>-87.697500</td>\n",
       "      <td>41.899200</td>\n",
       "      <td>-87.672200</td>\n",
       "      <td>member</td>\n",
       "      <td>Tuesday</td>\n",
       "      <td>7</td>\n",
       "      <td>4</td>\n",
       "      <td>2020</td>\n",
       "      <td>12.200000</td>\n",
       "      <td>2020 - 4 (April)</td>\n",
       "      <td>1 - Tuesday</td>\n",
       "    </tr>\n",
       "    <tr>\n",
       "      <th>4</th>\n",
       "      <td>27AD306C119C6158</td>\n",
       "      <td>docked_bike</td>\n",
       "      <td>2020-04-18 10:22:59</td>\n",
       "      <td>2020-04-18 11:15:54</td>\n",
       "      <td>Rush St &amp; Hubbard St</td>\n",
       "      <td>125</td>\n",
       "      <td>Sheridan Rd &amp; Lawrence Ave</td>\n",
       "      <td>323.0</td>\n",
       "      <td>41.890200</td>\n",
       "      <td>-87.626200</td>\n",
       "      <td>41.969500</td>\n",
       "      <td>-87.654700</td>\n",
       "      <td>casual</td>\n",
       "      <td>Saturday</td>\n",
       "      <td>18</td>\n",
       "      <td>4</td>\n",
       "      <td>2020</td>\n",
       "      <td>52.916667</td>\n",
       "      <td>2020 - 4 (April)</td>\n",
       "      <td>5 - Saturday</td>\n",
       "    </tr>\n",
       "    <tr>\n",
       "      <th>...</th>\n",
       "      <td>...</td>\n",
       "      <td>...</td>\n",
       "      <td>...</td>\n",
       "      <td>...</td>\n",
       "      <td>...</td>\n",
       "      <td>...</td>\n",
       "      <td>...</td>\n",
       "      <td>...</td>\n",
       "      <td>...</td>\n",
       "      <td>...</td>\n",
       "      <td>...</td>\n",
       "      <td>...</td>\n",
       "      <td>...</td>\n",
       "      <td>...</td>\n",
       "      <td>...</td>\n",
       "      <td>...</td>\n",
       "      <td>...</td>\n",
       "      <td>...</td>\n",
       "      <td>...</td>\n",
       "      <td>...</td>\n",
       "    </tr>\n",
       "    <tr>\n",
       "      <th>228491</th>\n",
       "      <td>9397BDD14798A1BA</td>\n",
       "      <td>docked_bike</td>\n",
       "      <td>2021-03-20 14:58:56</td>\n",
       "      <td>2021-03-20 17:22:47</td>\n",
       "      <td>Michigan Ave &amp; Oak St</td>\n",
       "      <td>13042</td>\n",
       "      <td>New St &amp; Illinois St</td>\n",
       "      <td>TA1306000013</td>\n",
       "      <td>41.900960</td>\n",
       "      <td>-87.623777</td>\n",
       "      <td>41.890847</td>\n",
       "      <td>-87.618617</td>\n",
       "      <td>casual</td>\n",
       "      <td>Saturday</td>\n",
       "      <td>20</td>\n",
       "      <td>3</td>\n",
       "      <td>2021</td>\n",
       "      <td>143.850000</td>\n",
       "      <td>2021 - 3 (March)</td>\n",
       "      <td>5 - Saturday</td>\n",
       "    </tr>\n",
       "    <tr>\n",
       "      <th>228492</th>\n",
       "      <td>BBBEB8D51AAD40DA</td>\n",
       "      <td>classic_bike</td>\n",
       "      <td>2021-03-02 11:35:10</td>\n",
       "      <td>2021-03-02 11:43:37</td>\n",
       "      <td>Kingsbury St &amp; Kinzie St</td>\n",
       "      <td>KA1503000043</td>\n",
       "      <td>New St &amp; Illinois St</td>\n",
       "      <td>TA1306000013</td>\n",
       "      <td>41.889177</td>\n",
       "      <td>-87.638506</td>\n",
       "      <td>41.890847</td>\n",
       "      <td>-87.618617</td>\n",
       "      <td>member</td>\n",
       "      <td>Tuesday</td>\n",
       "      <td>2</td>\n",
       "      <td>3</td>\n",
       "      <td>2021</td>\n",
       "      <td>8.450000</td>\n",
       "      <td>2021 - 3 (March)</td>\n",
       "      <td>1 - Tuesday</td>\n",
       "    </tr>\n",
       "    <tr>\n",
       "      <th>228493</th>\n",
       "      <td>637FF754DA0BD9E1</td>\n",
       "      <td>classic_bike</td>\n",
       "      <td>2021-03-09 11:07:36</td>\n",
       "      <td>2021-03-09 11:49:11</td>\n",
       "      <td>Michigan Ave &amp; Oak St</td>\n",
       "      <td>13042</td>\n",
       "      <td>Clark St &amp; Berwyn Ave</td>\n",
       "      <td>KA1504000146</td>\n",
       "      <td>41.900960</td>\n",
       "      <td>-87.623777</td>\n",
       "      <td>41.977997</td>\n",
       "      <td>-87.668047</td>\n",
       "      <td>member</td>\n",
       "      <td>Tuesday</td>\n",
       "      <td>9</td>\n",
       "      <td>3</td>\n",
       "      <td>2021</td>\n",
       "      <td>41.583333</td>\n",
       "      <td>2021 - 3 (March)</td>\n",
       "      <td>1 - Tuesday</td>\n",
       "    </tr>\n",
       "    <tr>\n",
       "      <th>228494</th>\n",
       "      <td>F8F43A0B978A7A35</td>\n",
       "      <td>classic_bike</td>\n",
       "      <td>2021-03-01 18:11:57</td>\n",
       "      <td>2021-03-01 18:18:37</td>\n",
       "      <td>Kingsbury St &amp; Kinzie St</td>\n",
       "      <td>KA1503000043</td>\n",
       "      <td>New St &amp; Illinois St</td>\n",
       "      <td>TA1306000013</td>\n",
       "      <td>41.889177</td>\n",
       "      <td>-87.638506</td>\n",
       "      <td>41.890847</td>\n",
       "      <td>-87.618617</td>\n",
       "      <td>member</td>\n",
       "      <td>Monday</td>\n",
       "      <td>1</td>\n",
       "      <td>3</td>\n",
       "      <td>2021</td>\n",
       "      <td>6.666667</td>\n",
       "      <td>2021 - 3 (March)</td>\n",
       "      <td>0 - Monday</td>\n",
       "    </tr>\n",
       "    <tr>\n",
       "      <th>228495</th>\n",
       "      <td>3AE64EA5BF43CF72</td>\n",
       "      <td>electric_bike</td>\n",
       "      <td>2021-03-26 17:58:14</td>\n",
       "      <td>2021-03-26 18:06:43</td>\n",
       "      <td>NaN</td>\n",
       "      <td>NaN</td>\n",
       "      <td>New St &amp; Illinois St</td>\n",
       "      <td>TA1306000013</td>\n",
       "      <td>41.880000</td>\n",
       "      <td>-87.630000</td>\n",
       "      <td>41.890818</td>\n",
       "      <td>-87.619540</td>\n",
       "      <td>member</td>\n",
       "      <td>Friday</td>\n",
       "      <td>26</td>\n",
       "      <td>3</td>\n",
       "      <td>2021</td>\n",
       "      <td>8.483333</td>\n",
       "      <td>2021 - 3 (March)</td>\n",
       "      <td>4 - Friday</td>\n",
       "    </tr>\n",
       "  </tbody>\n",
       "</table>\n",
       "<p>3489539 rows × 20 columns</p>\n",
       "</div>"
      ],
      "text/plain": [
       "                 ride_id  rideable_type          started_at  \\\n",
       "0       A847FADBBC638E45    docked_bike 2020-04-26 17:45:14   \n",
       "1       5405B80E996FF60D    docked_bike 2020-04-17 17:08:54   \n",
       "2       5DD24A79A4E006F4    docked_bike 2020-04-01 17:54:13   \n",
       "3       2A59BBDF5CDBA725    docked_bike 2020-04-07 12:50:19   \n",
       "4       27AD306C119C6158    docked_bike 2020-04-18 10:22:59   \n",
       "...                  ...            ...                 ...   \n",
       "228491  9397BDD14798A1BA    docked_bike 2021-03-20 14:58:56   \n",
       "228492  BBBEB8D51AAD40DA   classic_bike 2021-03-02 11:35:10   \n",
       "228493  637FF754DA0BD9E1   classic_bike 2021-03-09 11:07:36   \n",
       "228494  F8F43A0B978A7A35   classic_bike 2021-03-01 18:11:57   \n",
       "228495  3AE64EA5BF43CF72  electric_bike 2021-03-26 17:58:14   \n",
       "\n",
       "                  ended_at            start_station_name start_station_id  \\\n",
       "0      2020-04-26 18:12:03                  Eckhart Park               86   \n",
       "1      2020-04-17 17:17:03     Drake Ave & Fullerton Ave              503   \n",
       "2      2020-04-01 18:08:36          McClurg Ct & Erie St              142   \n",
       "3      2020-04-07 13:02:31  California Ave & Division St              216   \n",
       "4      2020-04-18 11:15:54          Rush St & Hubbard St              125   \n",
       "...                    ...                           ...              ...   \n",
       "228491 2021-03-20 17:22:47         Michigan Ave & Oak St            13042   \n",
       "228492 2021-03-02 11:43:37      Kingsbury St & Kinzie St     KA1503000043   \n",
       "228493 2021-03-09 11:49:11         Michigan Ave & Oak St            13042   \n",
       "228494 2021-03-01 18:18:37      Kingsbury St & Kinzie St     KA1503000043   \n",
       "228495 2021-03-26 18:06:43                           NaN              NaN   \n",
       "\n",
       "                   end_station_name end_station_id  start_lat  start_lng  \\\n",
       "0       Lincoln Ave & Diversey Pkwy          152.0  41.896400 -87.661000   \n",
       "1                   Kosciuszko Park          499.0  41.924400 -87.715400   \n",
       "2        Indiana Ave & Roosevelt Rd          255.0  41.894500 -87.617900   \n",
       "3            Wood St & Augusta Blvd          657.0  41.903000 -87.697500   \n",
       "4        Sheridan Rd & Lawrence Ave          323.0  41.890200 -87.626200   \n",
       "...                             ...            ...        ...        ...   \n",
       "228491         New St & Illinois St   TA1306000013  41.900960 -87.623777   \n",
       "228492         New St & Illinois St   TA1306000013  41.889177 -87.638506   \n",
       "228493        Clark St & Berwyn Ave   KA1504000146  41.900960 -87.623777   \n",
       "228494         New St & Illinois St   TA1306000013  41.889177 -87.638506   \n",
       "228495         New St & Illinois St   TA1306000013  41.880000 -87.630000   \n",
       "\n",
       "          end_lat    end_lng member_casual    weekday  day  month  year  \\\n",
       "0       41.932200 -87.658600        member     Sunday   26      4  2020   \n",
       "1       41.930600 -87.723800        member     Friday   17      4  2020   \n",
       "2       41.867900 -87.623000        member  Wednesday    1      4  2020   \n",
       "3       41.899200 -87.672200        member    Tuesday    7      4  2020   \n",
       "4       41.969500 -87.654700        casual   Saturday   18      4  2020   \n",
       "...           ...        ...           ...        ...  ...    ...   ...   \n",
       "228491  41.890847 -87.618617        casual   Saturday   20      3  2021   \n",
       "228492  41.890847 -87.618617        member    Tuesday    2      3  2021   \n",
       "228493  41.977997 -87.668047        member    Tuesday    9      3  2021   \n",
       "228494  41.890847 -87.618617        member     Monday    1      3  2021   \n",
       "228495  41.890818 -87.619540        member     Friday   26      3  2021   \n",
       "\n",
       "        ride_length_s        year_month dayofweek_weekday  \n",
       "0           26.816667  2020 - 4 (April)        6 - Sunday  \n",
       "1            8.150000  2020 - 4 (April)        4 - Friday  \n",
       "2           14.383333  2020 - 4 (April)     2 - Wednesday  \n",
       "3           12.200000  2020 - 4 (April)       1 - Tuesday  \n",
       "4           52.916667  2020 - 4 (April)      5 - Saturday  \n",
       "...               ...               ...               ...  \n",
       "228491     143.850000  2021 - 3 (March)      5 - Saturday  \n",
       "228492       8.450000  2021 - 3 (March)       1 - Tuesday  \n",
       "228493      41.583333  2021 - 3 (March)       1 - Tuesday  \n",
       "228494       6.666667  2021 - 3 (March)        0 - Monday  \n",
       "228495       8.483333  2021 - 3 (March)        4 - Friday  \n",
       "\n",
       "[3489539 rows x 20 columns]"
      ]
     },
     "execution_count": 35,
     "metadata": {},
     "output_type": "execute_result"
    }
   ],
   "source": [
    "# Watch my data again\n",
    "\n",
    "tripdataV1\n",
    "\n"
   ]
  },
  {
   "cell_type": "code",
   "execution_count": 36,
   "id": "69e35bb3",
   "metadata": {
    "execution": {
     "iopub.execute_input": "2022-06-13T13:24:53.084238Z",
     "iopub.status.busy": "2022-06-13T13:24:53.083482Z",
     "iopub.status.idle": "2022-06-13T13:24:53.087802Z",
     "shell.execute_reply": "2022-06-13T13:24:53.086817Z"
    },
    "papermill": {
     "duration": 0.03786,
     "end_time": "2022-06-13T13:24:53.089852",
     "exception": false,
     "start_time": "2022-06-13T13:24:53.051992",
     "status": "completed"
    },
    "tags": []
   },
   "outputs": [],
   "source": [
    "# reindex(DAYS, fill_value=0)\n",
    "\n",
    "\n",
    "\n"
   ]
  },
  {
   "cell_type": "markdown",
   "id": "d6ea8dae",
   "metadata": {
    "papermill": {
     "duration": 0.029638,
     "end_time": "2022-06-13T13:24:53.149619",
     "exception": false,
     "start_time": "2022-06-13T13:24:53.119981",
     "status": "completed"
    },
    "tags": []
   },
   "source": [
    "## Converting and Saving to a CSV file format"
   ]
  },
  {
   "cell_type": "markdown",
   "id": "f969d328",
   "metadata": {
    "papermill": {
     "duration": 0.030004,
     "end_time": "2022-06-13T13:24:53.210251",
     "exception": false,
     "start_time": "2022-06-13T13:24:53.180247",
     "status": "completed"
    },
    "tags": []
   },
   "source": [
    "**Now we are going to save the last version of our dataset and also export it into a CSV file.**\n",
    "\n",
    "**It is cleaned now so, will be good to have it cleaned as a CSV**"
   ]
  },
  {
   "cell_type": "code",
   "execution_count": 37,
   "id": "c90a2383",
   "metadata": {
    "execution": {
     "iopub.execute_input": "2022-06-13T13:24:53.272484Z",
     "iopub.status.busy": "2022-06-13T13:24:53.272060Z",
     "iopub.status.idle": "2022-06-13T13:24:53.275967Z",
     "shell.execute_reply": "2022-06-13T13:24:53.275275Z"
    },
    "papermill": {
     "duration": 0.037532,
     "end_time": "2022-06-13T13:24:53.277846",
     "exception": false,
     "start_time": "2022-06-13T13:24:53.240314",
     "status": "completed"
    },
    "tags": []
   },
   "outputs": [],
   "source": [
    "tripdataV2 = tripdataV1\n"
   ]
  },
  {
   "cell_type": "markdown",
   "id": "fc607900",
   "metadata": {
    "papermill": {
     "duration": 0.029803,
     "end_time": "2022-06-13T13:24:53.337492",
     "exception": false,
     "start_time": "2022-06-13T13:24:53.307689",
     "status": "completed"
    },
    "tags": []
   },
   "source": []
  },
  {
   "cell_type": "code",
   "execution_count": 38,
   "id": "38624a51",
   "metadata": {
    "execution": {
     "iopub.execute_input": "2022-06-13T13:24:53.400012Z",
     "iopub.status.busy": "2022-06-13T13:24:53.399418Z",
     "iopub.status.idle": "2022-06-13T13:26:05.444264Z",
     "shell.execute_reply": "2022-06-13T13:26:05.443329Z"
    },
    "papermill": {
     "duration": 72.078848,
     "end_time": "2022-06-13T13:26:05.447015",
     "exception": false,
     "start_time": "2022-06-13T13:24:53.368167",
     "status": "completed"
    },
    "tags": []
   },
   "outputs": [],
   "source": [
    "# df.to_csv(\"your_name.csv\")\n",
    "\n",
    "tripdataV2.to_csv(\"tripdata_clean.csv\")\n"
   ]
  },
  {
   "cell_type": "markdown",
   "id": "09cb443d",
   "metadata": {
    "execution": {
     "iopub.execute_input": "2022-06-09T03:44:53.465375Z",
     "iopub.status.busy": "2022-06-09T03:44:53.46496Z",
     "iopub.status.idle": "2022-06-09T03:44:53.480744Z",
     "shell.execute_reply": "2022-06-09T03:44:53.480066Z",
     "shell.execute_reply.started": "2022-06-09T03:44:53.465342Z"
    },
    "papermill": {
     "duration": 0.031198,
     "end_time": "2022-06-13T13:26:05.509882",
     "exception": false,
     "start_time": "2022-06-13T13:26:05.478684",
     "status": "completed"
    },
    "tags": []
   },
   "source": [
    "# Analyze Process"
   ]
  },
  {
   "cell_type": "markdown",
   "id": "51f97af9",
   "metadata": {
    "papermill": {
     "duration": 0.030928,
     "end_time": "2022-06-13T13:26:05.573385",
     "exception": false,
     "start_time": "2022-06-13T13:26:05.542457",
     "status": "completed"
    },
    "tags": []
   },
   "source": [
    "## Descriptive analysis"
   ]
  },
  {
   "cell_type": "markdown",
   "id": "1e01d79f",
   "metadata": {
    "papermill": {
     "duration": 0.031394,
     "end_time": "2022-06-13T13:26:05.636861",
     "exception": false,
     "start_time": "2022-06-13T13:26:05.605467",
     "status": "completed"
    },
    "tags": []
   },
   "source": [
    "**Now we are going to have a deep qualitative and quantintative dept of our data**"
   ]
  },
  {
   "cell_type": "code",
   "execution_count": 39,
   "id": "cf6b2f83",
   "metadata": {
    "execution": {
     "iopub.execute_input": "2022-06-13T13:26:05.709773Z",
     "iopub.status.busy": "2022-06-13T13:26:05.709368Z",
     "iopub.status.idle": "2022-06-13T13:26:05.881479Z",
     "shell.execute_reply": "2022-06-13T13:26:05.880247Z"
    },
    "papermill": {
     "duration": 0.215367,
     "end_time": "2022-06-13T13:26:05.883813",
     "exception": false,
     "start_time": "2022-06-13T13:26:05.668446",
     "status": "completed"
    },
    "tags": []
   },
   "outputs": [
    {
     "data": {
      "text/plain": [
       "count    3.489539e+06\n",
       "mean     2.855945e+01\n",
       "std      9.031763e+01\n",
       "min      0.000000e+00\n",
       "25%      7.950000e+00\n",
       "50%      1.461667e+01\n",
       "75%      2.683333e+01\n",
       "max      1.439983e+03\n",
       "Name: ride_length_s, dtype: float64"
      ]
     },
     "execution_count": 39,
     "metadata": {},
     "output_type": "execute_result"
    }
   ],
   "source": [
    "# Checking the description of the ride_length_s\n",
    "\n",
    "tripdataV2[\"ride_length_s\"].describe()\n"
   ]
  },
  {
   "cell_type": "code",
   "execution_count": 40,
   "id": "67af2670",
   "metadata": {
    "execution": {
     "iopub.execute_input": "2022-06-13T13:26:05.960841Z",
     "iopub.status.busy": "2022-06-13T13:26:05.959830Z",
     "iopub.status.idle": "2022-06-13T13:26:05.971025Z",
     "shell.execute_reply": "2022-06-13T13:26:05.970267Z"
    },
    "papermill": {
     "duration": 0.059801,
     "end_time": "2022-06-13T13:26:05.974372",
     "exception": false,
     "start_time": "2022-06-13T13:26:05.914571",
     "status": "completed"
    },
    "tags": []
   },
   "outputs": [
    {
     "name": "stdout",
     "output_type": "stream",
     "text": [
      "<class 'pandas.core.frame.DataFrame'>\n",
      "Int64Index: 3489539 entries, 0 to 228495\n",
      "Data columns (total 20 columns):\n",
      " #   Column              Dtype         \n",
      "---  ------              -----         \n",
      " 0   ride_id             object        \n",
      " 1   rideable_type       object        \n",
      " 2   started_at          datetime64[ns]\n",
      " 3   ended_at            datetime64[ns]\n",
      " 4   start_station_name  object        \n",
      " 5   start_station_id    object        \n",
      " 6   end_station_name    object        \n",
      " 7   end_station_id      object        \n",
      " 8   start_lat           float64       \n",
      " 9   start_lng           float64       \n",
      " 10  end_lat             float64       \n",
      " 11  end_lng             float64       \n",
      " 12  member_casual       object        \n",
      " 13  weekday             object        \n",
      " 14  day                 int64         \n",
      " 15  month               int64         \n",
      " 16  year                int64         \n",
      " 17  ride_length_s       float64       \n",
      " 18  year_month          object        \n",
      " 19  dayofweek_weekday   object        \n",
      "dtypes: datetime64[ns](2), float64(5), int64(3), object(10)\n",
      "memory usage: 559.1+ MB\n"
     ]
    }
   ],
   "source": [
    "\n",
    "tripdataV2.info()\n"
   ]
  },
  {
   "cell_type": "code",
   "execution_count": 41,
   "id": "956f9998",
   "metadata": {
    "execution": {
     "iopub.execute_input": "2022-06-13T13:26:06.047094Z",
     "iopub.status.busy": "2022-06-13T13:26:06.045996Z",
     "iopub.status.idle": "2022-06-13T13:26:08.875781Z",
     "shell.execute_reply": "2022-06-13T13:26:08.875008Z"
    },
    "papermill": {
     "duration": 2.866045,
     "end_time": "2022-06-13T13:26:08.877898",
     "exception": false,
     "start_time": "2022-06-13T13:26:06.011853",
     "status": "completed"
    },
    "tags": []
   },
   "outputs": [
    {
     "data": {
      "text/html": [
       "<div>\n",
       "<style scoped>\n",
       "    .dataframe tbody tr th:only-of-type {\n",
       "        vertical-align: middle;\n",
       "    }\n",
       "\n",
       "    .dataframe tbody tr th {\n",
       "        vertical-align: top;\n",
       "    }\n",
       "\n",
       "    .dataframe thead th {\n",
       "        text-align: right;\n",
       "    }\n",
       "</style>\n",
       "<table border=\"1\" class=\"dataframe\">\n",
       "  <thead>\n",
       "    <tr style=\"text-align: right;\">\n",
       "      <th></th>\n",
       "      <th>start_lat</th>\n",
       "      <th>start_lng</th>\n",
       "      <th>end_lat</th>\n",
       "      <th>end_lng</th>\n",
       "      <th>day</th>\n",
       "      <th>month</th>\n",
       "      <th>year</th>\n",
       "      <th>ride_length_s</th>\n",
       "    </tr>\n",
       "  </thead>\n",
       "  <tbody>\n",
       "    <tr>\n",
       "      <th>count</th>\n",
       "      <td>3.489539e+06</td>\n",
       "      <td>3.489539e+06</td>\n",
       "      <td>3.484802e+06</td>\n",
       "      <td>3.484802e+06</td>\n",
       "      <td>3.489539e+06</td>\n",
       "      <td>3.489539e+06</td>\n",
       "      <td>3.489539e+06</td>\n",
       "      <td>3.489539e+06</td>\n",
       "    </tr>\n",
       "    <tr>\n",
       "      <th>mean</th>\n",
       "      <td>4.190417e+01</td>\n",
       "      <td>-8.764494e+01</td>\n",
       "      <td>4.190444e+01</td>\n",
       "      <td>-8.764522e+01</td>\n",
       "      <td>1.586048e+01</td>\n",
       "      <td>7.518390e+00</td>\n",
       "      <td>2.020107e+03</td>\n",
       "      <td>2.855945e+01</td>\n",
       "    </tr>\n",
       "    <tr>\n",
       "      <th>std</th>\n",
       "      <td>4.364222e-02</td>\n",
       "      <td>2.575990e-02</td>\n",
       "      <td>4.373714e-02</td>\n",
       "      <td>2.589148e-02</td>\n",
       "      <td>8.763003e+00</td>\n",
       "      <td>2.569745e+00</td>\n",
       "      <td>3.096849e-01</td>\n",
       "      <td>9.031763e+01</td>\n",
       "    </tr>\n",
       "    <tr>\n",
       "      <th>min</th>\n",
       "      <td>4.164000e+01</td>\n",
       "      <td>-8.787000e+01</td>\n",
       "      <td>4.154000e+01</td>\n",
       "      <td>-8.807000e+01</td>\n",
       "      <td>1.000000e+00</td>\n",
       "      <td>1.000000e+00</td>\n",
       "      <td>2.020000e+03</td>\n",
       "      <td>0.000000e+00</td>\n",
       "    </tr>\n",
       "    <tr>\n",
       "      <th>25%</th>\n",
       "      <td>4.188224e+01</td>\n",
       "      <td>-8.765888e+01</td>\n",
       "      <td>4.188266e+01</td>\n",
       "      <td>-8.765917e+01</td>\n",
       "      <td>8.000000e+00</td>\n",
       "      <td>6.000000e+00</td>\n",
       "      <td>2.020000e+03</td>\n",
       "      <td>7.950000e+00</td>\n",
       "    </tr>\n",
       "    <tr>\n",
       "      <th>50%</th>\n",
       "      <td>4.190000e+01</td>\n",
       "      <td>-8.764170e+01</td>\n",
       "      <td>4.190068e+01</td>\n",
       "      <td>-8.764275e+01</td>\n",
       "      <td>1.600000e+01</td>\n",
       "      <td>8.000000e+00</td>\n",
       "      <td>2.020000e+03</td>\n",
       "      <td>1.461667e+01</td>\n",
       "    </tr>\n",
       "    <tr>\n",
       "      <th>75%</th>\n",
       "      <td>4.193000e+01</td>\n",
       "      <td>-8.762773e+01</td>\n",
       "      <td>4.193120e+01</td>\n",
       "      <td>-8.762775e+01</td>\n",
       "      <td>2.300000e+01</td>\n",
       "      <td>9.000000e+00</td>\n",
       "      <td>2.020000e+03</td>\n",
       "      <td>2.683333e+01</td>\n",
       "    </tr>\n",
       "    <tr>\n",
       "      <th>max</th>\n",
       "      <td>4.208000e+01</td>\n",
       "      <td>-8.752000e+01</td>\n",
       "      <td>4.216000e+01</td>\n",
       "      <td>-8.744000e+01</td>\n",
       "      <td>3.100000e+01</td>\n",
       "      <td>1.200000e+01</td>\n",
       "      <td>2.021000e+03</td>\n",
       "      <td>1.439983e+03</td>\n",
       "    </tr>\n",
       "  </tbody>\n",
       "</table>\n",
       "</div>"
      ],
      "text/plain": [
       "          start_lat     start_lng       end_lat       end_lng           day  \\\n",
       "count  3.489539e+06  3.489539e+06  3.484802e+06  3.484802e+06  3.489539e+06   \n",
       "mean   4.190417e+01 -8.764494e+01  4.190444e+01 -8.764522e+01  1.586048e+01   \n",
       "std    4.364222e-02  2.575990e-02  4.373714e-02  2.589148e-02  8.763003e+00   \n",
       "min    4.164000e+01 -8.787000e+01  4.154000e+01 -8.807000e+01  1.000000e+00   \n",
       "25%    4.188224e+01 -8.765888e+01  4.188266e+01 -8.765917e+01  8.000000e+00   \n",
       "50%    4.190000e+01 -8.764170e+01  4.190068e+01 -8.764275e+01  1.600000e+01   \n",
       "75%    4.193000e+01 -8.762773e+01  4.193120e+01 -8.762775e+01  2.300000e+01   \n",
       "max    4.208000e+01 -8.752000e+01  4.216000e+01 -8.744000e+01  3.100000e+01   \n",
       "\n",
       "              month          year  ride_length_s  \n",
       "count  3.489539e+06  3.489539e+06   3.489539e+06  \n",
       "mean   7.518390e+00  2.020107e+03   2.855945e+01  \n",
       "std    2.569745e+00  3.096849e-01   9.031763e+01  \n",
       "min    1.000000e+00  2.020000e+03   0.000000e+00  \n",
       "25%    6.000000e+00  2.020000e+03   7.950000e+00  \n",
       "50%    8.000000e+00  2.020000e+03   1.461667e+01  \n",
       "75%    9.000000e+00  2.020000e+03   2.683333e+01  \n",
       "max    1.200000e+01  2.021000e+03   1.439983e+03  "
      ]
     },
     "execution_count": 41,
     "metadata": {},
     "output_type": "execute_result"
    }
   ],
   "source": [
    "# a closer view to my numeric data\n",
    "\n",
    "tripdataV2.describe()"
   ]
  },
  {
   "cell_type": "markdown",
   "id": "0da59e65",
   "metadata": {
    "papermill": {
     "duration": 0.030972,
     "end_time": "2022-06-13T13:26:08.939014",
     "exception": false,
     "start_time": "2022-06-13T13:26:08.908042",
     "status": "completed"
    },
    "tags": []
   },
   "source": [
    "## Analyze the key differences between members and casuals\n",
    "\n",
    "**Now we are going to analyze the members and casuals ride_length_s**"
   ]
  },
  {
   "cell_type": "markdown",
   "id": "e0d006c4",
   "metadata": {
    "papermill": {
     "duration": 0.031337,
     "end_time": "2022-06-13T13:26:09.001831",
     "exception": false,
     "start_time": "2022-06-13T13:26:08.970494",
     "status": "completed"
    },
    "tags": []
   },
   "source": []
  },
  {
   "cell_type": "code",
   "execution_count": 42,
   "id": "c0fff2c1",
   "metadata": {
    "execution": {
     "iopub.execute_input": "2022-06-13T13:26:09.065513Z",
     "iopub.status.busy": "2022-06-13T13:26:09.064614Z",
     "iopub.status.idle": "2022-06-13T13:26:10.112099Z",
     "shell.execute_reply": "2022-06-13T13:26:10.111068Z"
    },
    "papermill": {
     "duration": 1.081795,
     "end_time": "2022-06-13T13:26:10.114440",
     "exception": false,
     "start_time": "2022-06-13T13:26:09.032645",
     "status": "completed"
    },
    "tags": []
   },
   "outputs": [
    {
     "data": {
      "text/html": [
       "<div>\n",
       "<style scoped>\n",
       "    .dataframe tbody tr th:only-of-type {\n",
       "        vertical-align: middle;\n",
       "    }\n",
       "\n",
       "    .dataframe tbody tr th {\n",
       "        vertical-align: top;\n",
       "    }\n",
       "\n",
       "    .dataframe thead th {\n",
       "        text-align: right;\n",
       "    }\n",
       "</style>\n",
       "<table border=\"1\" class=\"dataframe\">\n",
       "  <thead>\n",
       "    <tr style=\"text-align: right;\">\n",
       "      <th></th>\n",
       "      <th>start_lat</th>\n",
       "      <th>start_lng</th>\n",
       "      <th>end_lat</th>\n",
       "      <th>end_lng</th>\n",
       "      <th>day</th>\n",
       "      <th>month</th>\n",
       "      <th>year</th>\n",
       "      <th>ride_length_s</th>\n",
       "    </tr>\n",
       "    <tr>\n",
       "      <th>member_casual</th>\n",
       "      <th></th>\n",
       "      <th></th>\n",
       "      <th></th>\n",
       "      <th></th>\n",
       "      <th></th>\n",
       "      <th></th>\n",
       "      <th></th>\n",
       "      <th></th>\n",
       "    </tr>\n",
       "  </thead>\n",
       "  <tbody>\n",
       "    <tr>\n",
       "      <th>casual</th>\n",
       "      <td>5.993541e+07</td>\n",
       "      <td>-1.253602e+08</td>\n",
       "      <td>5.984433e+07</td>\n",
       "      <td>-1.251690e+08</td>\n",
       "      <td>22741159</td>\n",
       "      <td>10806300</td>\n",
       "      <td>2889421301</td>\n",
       "      <td>5.746084e+07</td>\n",
       "    </tr>\n",
       "    <tr>\n",
       "      <th>member</th>\n",
       "      <td>8.629083e+07</td>\n",
       "      <td>-1.804802e+08</td>\n",
       "      <td>8.618433e+07</td>\n",
       "      <td>-1.802572e+08</td>\n",
       "      <td>32604609</td>\n",
       "      <td>15429414</td>\n",
       "      <td>4159822431</td>\n",
       "      <td>4.219847e+07</td>\n",
       "    </tr>\n",
       "  </tbody>\n",
       "</table>\n",
       "</div>"
      ],
      "text/plain": [
       "                  start_lat     start_lng       end_lat       end_lng  \\\n",
       "member_casual                                                           \n",
       "casual         5.993541e+07 -1.253602e+08  5.984433e+07 -1.251690e+08   \n",
       "member         8.629083e+07 -1.804802e+08  8.618433e+07 -1.802572e+08   \n",
       "\n",
       "                    day     month        year  ride_length_s  \n",
       "member_casual                                                 \n",
       "casual         22741159  10806300  2889421301   5.746084e+07  \n",
       "member         32604609  15429414  4159822431   4.219847e+07  "
      ]
     },
     "execution_count": 42,
     "metadata": {},
     "output_type": "execute_result"
    }
   ],
   "source": [
    "\n",
    "\n",
    "\n",
    "tripdataV2.groupby(\"member_casual\").sum()\n"
   ]
  },
  {
   "cell_type": "code",
   "execution_count": null,
   "id": "d52af760",
   "metadata": {
    "papermill": {
     "duration": 0.03151,
     "end_time": "2022-06-13T13:26:10.176852",
     "exception": false,
     "start_time": "2022-06-13T13:26:10.145342",
     "status": "completed"
    },
    "tags": []
   },
   "outputs": [],
   "source": []
  },
  {
   "cell_type": "markdown",
   "id": "4923ce21",
   "metadata": {
    "papermill": {
     "duration": 0.030579,
     "end_time": "2022-06-13T13:26:10.246517",
     "exception": false,
     "start_time": "2022-06-13T13:26:10.215938",
     "status": "completed"
    },
    "tags": []
   },
   "source": [
    "* **We have to create another dataframe to that we are going to call compare_ride_length**\n",
    "\n",
    "**With this dataframe we are going to compare the differences between member and casuals by ride length in seconds**"
   ]
  },
  {
   "cell_type": "code",
   "execution_count": 43,
   "id": "7dbe9318",
   "metadata": {
    "execution": {
     "iopub.execute_input": "2022-06-13T13:26:10.311334Z",
     "iopub.status.busy": "2022-06-13T13:26:10.310620Z",
     "iopub.status.idle": "2022-06-13T13:26:10.347720Z",
     "shell.execute_reply": "2022-06-13T13:26:10.346615Z"
    },
    "papermill": {
     "duration": 0.072256,
     "end_time": "2022-06-13T13:26:10.350009",
     "exception": false,
     "start_time": "2022-06-13T13:26:10.277753",
     "status": "completed"
    },
    "tags": []
   },
   "outputs": [
    {
     "data": {
      "text/html": [
       "<div>\n",
       "<style scoped>\n",
       "    .dataframe tbody tr th:only-of-type {\n",
       "        vertical-align: middle;\n",
       "    }\n",
       "\n",
       "    .dataframe tbody tr th {\n",
       "        vertical-align: top;\n",
       "    }\n",
       "\n",
       "    .dataframe thead th {\n",
       "        text-align: right;\n",
       "    }\n",
       "</style>\n",
       "<table border=\"1\" class=\"dataframe\">\n",
       "  <thead>\n",
       "    <tr style=\"text-align: right;\">\n",
       "      <th></th>\n",
       "      <th>member_casual</th>\n",
       "      <th>ride_length_s</th>\n",
       "    </tr>\n",
       "  </thead>\n",
       "  <tbody>\n",
       "    <tr>\n",
       "      <th>0</th>\n",
       "      <td>member</td>\n",
       "      <td>26.816667</td>\n",
       "    </tr>\n",
       "    <tr>\n",
       "      <th>1</th>\n",
       "      <td>member</td>\n",
       "      <td>8.150000</td>\n",
       "    </tr>\n",
       "    <tr>\n",
       "      <th>2</th>\n",
       "      <td>member</td>\n",
       "      <td>14.383333</td>\n",
       "    </tr>\n",
       "    <tr>\n",
       "      <th>3</th>\n",
       "      <td>member</td>\n",
       "      <td>12.200000</td>\n",
       "    </tr>\n",
       "    <tr>\n",
       "      <th>4</th>\n",
       "      <td>casual</td>\n",
       "      <td>52.916667</td>\n",
       "    </tr>\n",
       "    <tr>\n",
       "      <th>...</th>\n",
       "      <td>...</td>\n",
       "      <td>...</td>\n",
       "    </tr>\n",
       "    <tr>\n",
       "      <th>228491</th>\n",
       "      <td>casual</td>\n",
       "      <td>143.850000</td>\n",
       "    </tr>\n",
       "    <tr>\n",
       "      <th>228492</th>\n",
       "      <td>member</td>\n",
       "      <td>8.450000</td>\n",
       "    </tr>\n",
       "    <tr>\n",
       "      <th>228493</th>\n",
       "      <td>member</td>\n",
       "      <td>41.583333</td>\n",
       "    </tr>\n",
       "    <tr>\n",
       "      <th>228494</th>\n",
       "      <td>member</td>\n",
       "      <td>6.666667</td>\n",
       "    </tr>\n",
       "    <tr>\n",
       "      <th>228495</th>\n",
       "      <td>member</td>\n",
       "      <td>8.483333</td>\n",
       "    </tr>\n",
       "  </tbody>\n",
       "</table>\n",
       "<p>3489539 rows × 2 columns</p>\n",
       "</div>"
      ],
      "text/plain": [
       "       member_casual  ride_length_s\n",
       "0             member      26.816667\n",
       "1             member       8.150000\n",
       "2             member      14.383333\n",
       "3             member      12.200000\n",
       "4             casual      52.916667\n",
       "...              ...            ...\n",
       "228491        casual     143.850000\n",
       "228492        member       8.450000\n",
       "228493        member      41.583333\n",
       "228494        member       6.666667\n",
       "228495        member       8.483333\n",
       "\n",
       "[3489539 rows x 2 columns]"
      ]
     },
     "execution_count": 43,
     "metadata": {},
     "output_type": "execute_result"
    }
   ],
   "source": [
    "# Comparison between member and casuals by ride_length_s\n",
    "\n",
    "\n",
    "compare_ride_length = pd.DataFrame({'member_casual': tripdataV2[\"member_casual\"],\n",
    "                   'ride_length_s': tripdataV2[\"ride_length_s\"]})\n",
    "\n",
    "compare_ride_length"
   ]
  },
  {
   "cell_type": "markdown",
   "id": "3429c6f9",
   "metadata": {
    "papermill": {
     "duration": 0.032731,
     "end_time": "2022-06-13T13:26:10.414379",
     "exception": false,
     "start_time": "2022-06-13T13:26:10.381648",
     "status": "completed"
    },
    "tags": []
   },
   "source": [
    "**After create the dataframe we can use the describe function to see the differences between members and casuals**"
   ]
  },
  {
   "cell_type": "code",
   "execution_count": 44,
   "id": "aadf6f21",
   "metadata": {
    "execution": {
     "iopub.execute_input": "2022-06-13T13:26:10.479627Z",
     "iopub.status.busy": "2022-06-13T13:26:10.478763Z",
     "iopub.status.idle": "2022-06-13T13:26:11.013323Z",
     "shell.execute_reply": "2022-06-13T13:26:11.012193Z"
    },
    "papermill": {
     "duration": 0.570017,
     "end_time": "2022-06-13T13:26:11.015845",
     "exception": false,
     "start_time": "2022-06-13T13:26:10.445828",
     "status": "completed"
    },
    "tags": []
   },
   "outputs": [
    {
     "data": {
      "text/html": [
       "<div>\n",
       "<style scoped>\n",
       "    .dataframe tbody tr th:only-of-type {\n",
       "        vertical-align: middle;\n",
       "    }\n",
       "\n",
       "    .dataframe tbody tr th {\n",
       "        vertical-align: top;\n",
       "    }\n",
       "\n",
       "    .dataframe thead tr th {\n",
       "        text-align: left;\n",
       "    }\n",
       "\n",
       "    .dataframe thead tr:last-of-type th {\n",
       "        text-align: right;\n",
       "    }\n",
       "</style>\n",
       "<table border=\"1\" class=\"dataframe\">\n",
       "  <thead>\n",
       "    <tr>\n",
       "      <th></th>\n",
       "      <th colspan=\"8\" halign=\"left\">ride_length_s</th>\n",
       "    </tr>\n",
       "    <tr>\n",
       "      <th></th>\n",
       "      <th>count</th>\n",
       "      <th>mean</th>\n",
       "      <th>std</th>\n",
       "      <th>min</th>\n",
       "      <th>25%</th>\n",
       "      <th>50%</th>\n",
       "      <th>75%</th>\n",
       "      <th>max</th>\n",
       "    </tr>\n",
       "    <tr>\n",
       "      <th>member_casual</th>\n",
       "      <th></th>\n",
       "      <th></th>\n",
       "      <th></th>\n",
       "      <th></th>\n",
       "      <th></th>\n",
       "      <th></th>\n",
       "      <th></th>\n",
       "      <th></th>\n",
       "    </tr>\n",
       "  </thead>\n",
       "  <tbody>\n",
       "    <tr>\n",
       "      <th>casual</th>\n",
       "      <td>1430351.0</td>\n",
       "      <td>40.172548</td>\n",
       "      <td>94.778521</td>\n",
       "      <td>0.0</td>\n",
       "      <td>11.583333</td>\n",
       "      <td>21.266667</td>\n",
       "      <td>40.450000</td>\n",
       "      <td>1439.983333</td>\n",
       "    </tr>\n",
       "    <tr>\n",
       "      <th>member</th>\n",
       "      <td>2059188.0</td>\n",
       "      <td>20.492773</td>\n",
       "      <td>86.168355</td>\n",
       "      <td>0.0</td>\n",
       "      <td>6.533333</td>\n",
       "      <td>11.533333</td>\n",
       "      <td>20.233333</td>\n",
       "      <td>1439.983333</td>\n",
       "    </tr>\n",
       "  </tbody>\n",
       "</table>\n",
       "</div>"
      ],
      "text/plain": [
       "              ride_length_s                                                   \\\n",
       "                      count       mean        std  min        25%        50%   \n",
       "member_casual                                                                  \n",
       "casual            1430351.0  40.172548  94.778521  0.0  11.583333  21.266667   \n",
       "member            2059188.0  20.492773  86.168355  0.0   6.533333  11.533333   \n",
       "\n",
       "                                       \n",
       "                     75%          max  \n",
       "member_casual                          \n",
       "casual         40.450000  1439.983333  \n",
       "member         20.233333  1439.983333  "
      ]
     },
     "execution_count": 44,
     "metadata": {},
     "output_type": "execute_result"
    }
   ],
   "source": [
    "compare_ride_length.groupby(\"member_casual\").describe()\n"
   ]
  },
  {
   "cell_type": "markdown",
   "id": "8c097b52",
   "metadata": {
    "papermill": {
     "duration": 0.030402,
     "end_time": "2022-06-13T13:26:11.077581",
     "exception": false,
     "start_time": "2022-06-13T13:26:11.047179",
     "status": "completed"
    },
    "tags": []
   },
   "source": [
    "* **We have to do another separeted comparison because the describe function don't show this to us.**\n",
    "* **We will use the sum function to see the total length did between members and casuals**"
   ]
  },
  {
   "cell_type": "code",
   "execution_count": 45,
   "id": "f3046339",
   "metadata": {
    "execution": {
     "iopub.execute_input": "2022-06-13T13:26:11.141434Z",
     "iopub.status.busy": "2022-06-13T13:26:11.140998Z",
     "iopub.status.idle": "2022-06-13T13:26:11.465036Z",
     "shell.execute_reply": "2022-06-13T13:26:11.463985Z"
    },
    "papermill": {
     "duration": 0.358816,
     "end_time": "2022-06-13T13:26:11.467413",
     "exception": false,
     "start_time": "2022-06-13T13:26:11.108597",
     "status": "completed"
    },
    "tags": []
   },
   "outputs": [
    {
     "data": {
      "text/html": [
       "<div>\n",
       "<style scoped>\n",
       "    .dataframe tbody tr th:only-of-type {\n",
       "        vertical-align: middle;\n",
       "    }\n",
       "\n",
       "    .dataframe tbody tr th {\n",
       "        vertical-align: top;\n",
       "    }\n",
       "\n",
       "    .dataframe thead th {\n",
       "        text-align: right;\n",
       "    }\n",
       "</style>\n",
       "<table border=\"1\" class=\"dataframe\">\n",
       "  <thead>\n",
       "    <tr style=\"text-align: right;\">\n",
       "      <th></th>\n",
       "      <th>ride_length_s</th>\n",
       "    </tr>\n",
       "    <tr>\n",
       "      <th>member_casual</th>\n",
       "      <th></th>\n",
       "    </tr>\n",
       "  </thead>\n",
       "  <tbody>\n",
       "    <tr>\n",
       "      <th>casual</th>\n",
       "      <td>21.266667</td>\n",
       "    </tr>\n",
       "    <tr>\n",
       "      <th>member</th>\n",
       "      <td>11.533333</td>\n",
       "    </tr>\n",
       "  </tbody>\n",
       "</table>\n",
       "</div>"
      ],
      "text/plain": [
       "               ride_length_s\n",
       "member_casual               \n",
       "casual             21.266667\n",
       "member             11.533333"
      ]
     },
     "execution_count": 45,
     "metadata": {},
     "output_type": "execute_result"
    }
   ],
   "source": [
    "# Using the sum function to see the median length between members and casulas\n",
    "\n",
    "compare_ride_length.groupby(\"member_casual\").median()\n"
   ]
  },
  {
   "cell_type": "code",
   "execution_count": 46,
   "id": "dce8c60c",
   "metadata": {
    "execution": {
     "iopub.execute_input": "2022-06-13T13:26:11.533973Z",
     "iopub.status.busy": "2022-06-13T13:26:11.533380Z",
     "iopub.status.idle": "2022-06-13T13:26:12.055744Z",
     "shell.execute_reply": "2022-06-13T13:26:12.054699Z"
    },
    "papermill": {
     "duration": 0.558706,
     "end_time": "2022-06-13T13:26:12.058002",
     "exception": false,
     "start_time": "2022-06-13T13:26:11.499296",
     "status": "completed"
    },
    "tags": []
   },
   "outputs": [
    {
     "data": {
      "text/html": [
       "<div>\n",
       "<style scoped>\n",
       "    .dataframe tbody tr th:only-of-type {\n",
       "        vertical-align: middle;\n",
       "    }\n",
       "\n",
       "    .dataframe tbody tr th {\n",
       "        vertical-align: top;\n",
       "    }\n",
       "\n",
       "    .dataframe thead tr th {\n",
       "        text-align: left;\n",
       "    }\n",
       "\n",
       "    .dataframe thead tr:last-of-type th {\n",
       "        text-align: right;\n",
       "    }\n",
       "</style>\n",
       "<table border=\"1\" class=\"dataframe\">\n",
       "  <thead>\n",
       "    <tr>\n",
       "      <th></th>\n",
       "      <th colspan=\"8\" halign=\"left\">ride_length_s</th>\n",
       "    </tr>\n",
       "    <tr>\n",
       "      <th></th>\n",
       "      <th>count</th>\n",
       "      <th>mean</th>\n",
       "      <th>std</th>\n",
       "      <th>min</th>\n",
       "      <th>25%</th>\n",
       "      <th>50%</th>\n",
       "      <th>75%</th>\n",
       "      <th>max</th>\n",
       "    </tr>\n",
       "    <tr>\n",
       "      <th>member_casual</th>\n",
       "      <th></th>\n",
       "      <th></th>\n",
       "      <th></th>\n",
       "      <th></th>\n",
       "      <th></th>\n",
       "      <th></th>\n",
       "      <th></th>\n",
       "      <th></th>\n",
       "    </tr>\n",
       "  </thead>\n",
       "  <tbody>\n",
       "    <tr>\n",
       "      <th>casual</th>\n",
       "      <td>1430351.0</td>\n",
       "      <td>40.172548</td>\n",
       "      <td>94.778521</td>\n",
       "      <td>0.0</td>\n",
       "      <td>11.583333</td>\n",
       "      <td>21.266667</td>\n",
       "      <td>40.450000</td>\n",
       "      <td>1439.983333</td>\n",
       "    </tr>\n",
       "    <tr>\n",
       "      <th>member</th>\n",
       "      <td>2059188.0</td>\n",
       "      <td>20.492773</td>\n",
       "      <td>86.168355</td>\n",
       "      <td>0.0</td>\n",
       "      <td>6.533333</td>\n",
       "      <td>11.533333</td>\n",
       "      <td>20.233333</td>\n",
       "      <td>1439.983333</td>\n",
       "    </tr>\n",
       "  </tbody>\n",
       "</table>\n",
       "</div>"
      ],
      "text/plain": [
       "              ride_length_s                                                   \\\n",
       "                      count       mean        std  min        25%        50%   \n",
       "member_casual                                                                  \n",
       "casual            1430351.0  40.172548  94.778521  0.0  11.583333  21.266667   \n",
       "member            2059188.0  20.492773  86.168355  0.0   6.533333  11.533333   \n",
       "\n",
       "                                       \n",
       "                     75%          max  \n",
       "member_casual                          \n",
       "casual         40.450000  1439.983333  \n",
       "member         20.233333  1439.983333  "
      ]
     },
     "execution_count": 46,
     "metadata": {},
     "output_type": "execute_result"
    }
   ],
   "source": [
    "compare_ride_length.groupby(\"member_casual\").describe() "
   ]
  },
  {
   "cell_type": "code",
   "execution_count": 47,
   "id": "e6d0693f",
   "metadata": {
    "execution": {
     "iopub.execute_input": "2022-06-13T13:26:12.122911Z",
     "iopub.status.busy": "2022-06-13T13:26:12.122280Z",
     "iopub.status.idle": "2022-06-13T13:26:12.390759Z",
     "shell.execute_reply": "2022-06-13T13:26:12.389785Z"
    },
    "papermill": {
     "duration": 0.303977,
     "end_time": "2022-06-13T13:26:12.393396",
     "exception": false,
     "start_time": "2022-06-13T13:26:12.089419",
     "status": "completed"
    },
    "tags": []
   },
   "outputs": [
    {
     "data": {
      "text/html": [
       "<div>\n",
       "<style scoped>\n",
       "    .dataframe tbody tr th:only-of-type {\n",
       "        vertical-align: middle;\n",
       "    }\n",
       "\n",
       "    .dataframe tbody tr th {\n",
       "        vertical-align: top;\n",
       "    }\n",
       "\n",
       "    .dataframe thead th {\n",
       "        text-align: right;\n",
       "    }\n",
       "</style>\n",
       "<table border=\"1\" class=\"dataframe\">\n",
       "  <thead>\n",
       "    <tr style=\"text-align: right;\">\n",
       "      <th></th>\n",
       "      <th>ride_length_s</th>\n",
       "    </tr>\n",
       "    <tr>\n",
       "      <th>member_casual</th>\n",
       "      <th></th>\n",
       "    </tr>\n",
       "  </thead>\n",
       "  <tbody>\n",
       "    <tr>\n",
       "      <th>casual</th>\n",
       "      <td>40.989684</td>\n",
       "    </tr>\n",
       "    <tr>\n",
       "      <th>member</th>\n",
       "      <td>59.010316</td>\n",
       "    </tr>\n",
       "  </tbody>\n",
       "</table>\n",
       "</div>"
      ],
      "text/plain": [
       "               ride_length_s\n",
       "member_casual               \n",
       "casual             40.989684\n",
       "member             59.010316"
      ]
     },
     "execution_count": 47,
     "metadata": {},
     "output_type": "execute_result"
    }
   ],
   "source": [
    "# Counting the distribution in percenatage of members and casuals\n",
    "\n",
    "compare_ride_length.groupby(\"member_casual\").count() / len(compare_ride_length) * 100\n"
   ]
  },
  {
   "cell_type": "markdown",
   "id": "2503c511",
   "metadata": {
    "papermill": {
     "duration": 0.031579,
     "end_time": "2022-06-13T13:26:12.457334",
     "exception": false,
     "start_time": "2022-06-13T13:26:12.425755",
     "status": "completed"
    },
    "tags": []
   },
   "source": [
    "**There's another easier way to find the count, median and other statistics data between members and casuals using the agregate function and that's what we are going to do below**"
   ]
  },
  {
   "cell_type": "code",
   "execution_count": 48,
   "id": "2e112f6a",
   "metadata": {
    "execution": {
     "iopub.execute_input": "2022-06-13T13:26:12.523243Z",
     "iopub.status.busy": "2022-06-13T13:26:12.522650Z",
     "iopub.status.idle": "2022-06-13T13:26:12.892251Z",
     "shell.execute_reply": "2022-06-13T13:26:12.891129Z"
    },
    "papermill": {
     "duration": 0.405692,
     "end_time": "2022-06-13T13:26:12.894765",
     "exception": false,
     "start_time": "2022-06-13T13:26:12.489073",
     "status": "completed"
    },
    "tags": []
   },
   "outputs": [
    {
     "data": {
      "text/html": [
       "<div>\n",
       "<style scoped>\n",
       "    .dataframe tbody tr th:only-of-type {\n",
       "        vertical-align: middle;\n",
       "    }\n",
       "\n",
       "    .dataframe tbody tr th {\n",
       "        vertical-align: top;\n",
       "    }\n",
       "\n",
       "    .dataframe thead tr th {\n",
       "        text-align: left;\n",
       "    }\n",
       "\n",
       "    .dataframe thead tr:last-of-type th {\n",
       "        text-align: right;\n",
       "    }\n",
       "</style>\n",
       "<table border=\"1\" class=\"dataframe\">\n",
       "  <thead>\n",
       "    <tr>\n",
       "      <th></th>\n",
       "      <th colspan=\"3\" halign=\"left\">ride_length_s</th>\n",
       "    </tr>\n",
       "    <tr>\n",
       "      <th></th>\n",
       "      <th>count</th>\n",
       "      <th>median</th>\n",
       "      <th>mean</th>\n",
       "    </tr>\n",
       "    <tr>\n",
       "      <th>member_casual</th>\n",
       "      <th></th>\n",
       "      <th></th>\n",
       "      <th></th>\n",
       "    </tr>\n",
       "  </thead>\n",
       "  <tbody>\n",
       "    <tr>\n",
       "      <th>casual</th>\n",
       "      <td>1430351</td>\n",
       "      <td>21.266667</td>\n",
       "      <td>40.172548</td>\n",
       "    </tr>\n",
       "    <tr>\n",
       "      <th>member</th>\n",
       "      <td>2059188</td>\n",
       "      <td>11.533333</td>\n",
       "      <td>20.492773</td>\n",
       "    </tr>\n",
       "  </tbody>\n",
       "</table>\n",
       "</div>"
      ],
      "text/plain": [
       "              ride_length_s                      \n",
       "                      count     median       mean\n",
       "member_casual                                    \n",
       "casual              1430351  21.266667  40.172548\n",
       "member              2059188  11.533333  20.492773"
      ]
     },
     "execution_count": 48,
     "metadata": {},
     "output_type": "execute_result"
    }
   ],
   "source": [
    "# Now the easiest way using the agregate function, not forgeting the groupby as well.\n",
    "\n",
    "tripdataV2.groupby(tripdataV2[\"member_casual\"]).aggregate({\"ride_length_s\":['count', 'median', 'mean']})\n"
   ]
  },
  {
   "cell_type": "code",
   "execution_count": 49,
   "id": "d34eb8cc",
   "metadata": {
    "execution": {
     "iopub.execute_input": "2022-06-13T13:26:12.960394Z",
     "iopub.status.busy": "2022-06-13T13:26:12.959620Z",
     "iopub.status.idle": "2022-06-13T13:26:12.967518Z",
     "shell.execute_reply": "2022-06-13T13:26:12.966552Z"
    },
    "papermill": {
     "duration": 0.04332,
     "end_time": "2022-06-13T13:26:12.969962",
     "exception": false,
     "start_time": "2022-06-13T13:26:12.926642",
     "status": "completed"
    },
    "tags": []
   },
   "outputs": [
    {
     "data": {
      "text/plain": [
       "0            Sunday\n",
       "1            Friday\n",
       "2         Wednesday\n",
       "3           Tuesday\n",
       "4          Saturday\n",
       "            ...    \n",
       "228491     Saturday\n",
       "228492      Tuesday\n",
       "228493      Tuesday\n",
       "228494       Monday\n",
       "228495       Friday\n",
       "Name: weekday, Length: 3489539, dtype: object"
      ]
     },
     "execution_count": 49,
     "metadata": {},
     "output_type": "execute_result"
    }
   ],
   "source": [
    "tripdataV2[\"weekday\"]\n",
    "\n"
   ]
  },
  {
   "cell_type": "markdown",
   "id": "07eab66b",
   "metadata": {
    "papermill": {
     "duration": 0.032107,
     "end_time": "2022-06-13T13:26:13.035030",
     "exception": false,
     "start_time": "2022-06-13T13:26:13.002923",
     "status": "completed"
    },
    "tags": []
   },
   "source": [
    "**Watching first the count, median and mean from the days of the week**"
   ]
  },
  {
   "cell_type": "code",
   "execution_count": 50,
   "id": "a2dd3b5f",
   "metadata": {
    "execution": {
     "iopub.execute_input": "2022-06-13T13:26:13.101376Z",
     "iopub.status.busy": "2022-06-13T13:26:13.100779Z",
     "iopub.status.idle": "2022-06-13T13:26:13.518964Z",
     "shell.execute_reply": "2022-06-13T13:26:13.517726Z"
    },
    "papermill": {
     "duration": 0.454373,
     "end_time": "2022-06-13T13:26:13.521247",
     "exception": false,
     "start_time": "2022-06-13T13:26:13.066874",
     "status": "completed"
    },
    "tags": []
   },
   "outputs": [
    {
     "data": {
      "text/html": [
       "<div>\n",
       "<style scoped>\n",
       "    .dataframe tbody tr th:only-of-type {\n",
       "        vertical-align: middle;\n",
       "    }\n",
       "\n",
       "    .dataframe tbody tr th {\n",
       "        vertical-align: top;\n",
       "    }\n",
       "\n",
       "    .dataframe thead tr th {\n",
       "        text-align: left;\n",
       "    }\n",
       "\n",
       "    .dataframe thead tr:last-of-type th {\n",
       "        text-align: right;\n",
       "    }\n",
       "</style>\n",
       "<table border=\"1\" class=\"dataframe\">\n",
       "  <thead>\n",
       "    <tr>\n",
       "      <th></th>\n",
       "      <th colspan=\"3\" halign=\"left\">ride_length_s</th>\n",
       "    </tr>\n",
       "    <tr>\n",
       "      <th></th>\n",
       "      <th>count</th>\n",
       "      <th>median</th>\n",
       "      <th>mean</th>\n",
       "    </tr>\n",
       "    <tr>\n",
       "      <th>weekday</th>\n",
       "      <th></th>\n",
       "      <th></th>\n",
       "      <th></th>\n",
       "    </tr>\n",
       "  </thead>\n",
       "  <tbody>\n",
       "    <tr>\n",
       "      <th>Friday</th>\n",
       "      <td>516802</td>\n",
       "      <td>14.066667</td>\n",
       "      <td>28.536724</td>\n",
       "    </tr>\n",
       "    <tr>\n",
       "      <th>Monday</th>\n",
       "      <td>419556</td>\n",
       "      <td>13.450000</td>\n",
       "      <td>26.286407</td>\n",
       "    </tr>\n",
       "    <tr>\n",
       "      <th>Saturday</th>\n",
       "      <td>660184</td>\n",
       "      <td>17.450000</td>\n",
       "      <td>32.968669</td>\n",
       "    </tr>\n",
       "    <tr>\n",
       "      <th>Sunday</th>\n",
       "      <td>529117</td>\n",
       "      <td>17.733333</td>\n",
       "      <td>33.466815</td>\n",
       "    </tr>\n",
       "    <tr>\n",
       "      <th>Thursday</th>\n",
       "      <td>467993</td>\n",
       "      <td>13.150000</td>\n",
       "      <td>25.023554</td>\n",
       "    </tr>\n",
       "    <tr>\n",
       "      <th>Tuesday</th>\n",
       "      <td>431083</td>\n",
       "      <td>12.983333</td>\n",
       "      <td>25.640836</td>\n",
       "    </tr>\n",
       "    <tr>\n",
       "      <th>Wednesday</th>\n",
       "      <td>464804</td>\n",
       "      <td>13.000000</td>\n",
       "      <td>25.054509</td>\n",
       "    </tr>\n",
       "  </tbody>\n",
       "</table>\n",
       "</div>"
      ],
      "text/plain": [
       "          ride_length_s                      \n",
       "                  count     median       mean\n",
       "weekday                                      \n",
       "Friday           516802  14.066667  28.536724\n",
       "Monday           419556  13.450000  26.286407\n",
       "Saturday         660184  17.450000  32.968669\n",
       "Sunday           529117  17.733333  33.466815\n",
       "Thursday         467993  13.150000  25.023554\n",
       "Tuesday          431083  12.983333  25.640836\n",
       "Wednesday        464804  13.000000  25.054509"
      ]
     },
     "execution_count": 50,
     "metadata": {},
     "output_type": "execute_result"
    }
   ],
   "source": [
    "tripdataV2.groupby(\"weekday\").aggregate({\"ride_length_s\":['count', 'median', \"mean\"]})\n"
   ]
  },
  {
   "cell_type": "code",
   "execution_count": 51,
   "id": "8f0df8f4",
   "metadata": {
    "execution": {
     "iopub.execute_input": "2022-06-13T13:26:13.588733Z",
     "iopub.status.busy": "2022-06-13T13:26:13.588335Z",
     "iopub.status.idle": "2022-06-13T13:26:16.225336Z",
     "shell.execute_reply": "2022-06-13T13:26:16.224192Z"
    },
    "papermill": {
     "duration": 2.673444,
     "end_time": "2022-06-13T13:26:16.227668",
     "exception": false,
     "start_time": "2022-06-13T13:26:13.554224",
     "status": "completed"
    },
    "tags": []
   },
   "outputs": [
    {
     "data": {
      "text/html": [
       "<div>\n",
       "<style scoped>\n",
       "    .dataframe tbody tr th:only-of-type {\n",
       "        vertical-align: middle;\n",
       "    }\n",
       "\n",
       "    .dataframe tbody tr th {\n",
       "        vertical-align: top;\n",
       "    }\n",
       "\n",
       "    .dataframe thead th {\n",
       "        text-align: right;\n",
       "    }\n",
       "</style>\n",
       "<table border=\"1\" class=\"dataframe\">\n",
       "  <thead>\n",
       "    <tr style=\"text-align: right;\">\n",
       "      <th></th>\n",
       "      <th>ride_id</th>\n",
       "      <th>rideable_type</th>\n",
       "      <th>started_at</th>\n",
       "      <th>ended_at</th>\n",
       "      <th>start_station_name</th>\n",
       "      <th>start_station_id</th>\n",
       "      <th>end_station_name</th>\n",
       "      <th>end_station_id</th>\n",
       "      <th>start_lat</th>\n",
       "      <th>start_lng</th>\n",
       "      <th>end_lat</th>\n",
       "      <th>end_lng</th>\n",
       "      <th>member_casual</th>\n",
       "      <th>weekday</th>\n",
       "      <th>day</th>\n",
       "      <th>month</th>\n",
       "      <th>year</th>\n",
       "      <th>ride_length_s</th>\n",
       "      <th>year_month</th>\n",
       "      <th>dayofweek_weekday</th>\n",
       "    </tr>\n",
       "  </thead>\n",
       "  <tbody>\n",
       "    <tr>\n",
       "      <th>6</th>\n",
       "      <td>09275CC10F854E9E</td>\n",
       "      <td>electric_bike</td>\n",
       "      <td>2021-01-04 05:05:04</td>\n",
       "      <td>2021-01-04 05:10:39</td>\n",
       "      <td>California Ave &amp; Cortez St</td>\n",
       "      <td>17660</td>\n",
       "      <td>NaN</td>\n",
       "      <td>NaN</td>\n",
       "      <td>41.900391</td>\n",
       "      <td>-87.696757</td>\n",
       "      <td>41.900000</td>\n",
       "      <td>-87.710000</td>\n",
       "      <td>member</td>\n",
       "      <td>Monday</td>\n",
       "      <td>4</td>\n",
       "      <td>1</td>\n",
       "      <td>2021</td>\n",
       "      <td>5.583333</td>\n",
       "      <td>2021 - 1 (January)</td>\n",
       "      <td>0 - Monday</td>\n",
       "    </tr>\n",
       "    <tr>\n",
       "      <th>44</th>\n",
       "      <td>7297C6B623D5F03B</td>\n",
       "      <td>classic_bike</td>\n",
       "      <td>2021-01-04 18:56:13</td>\n",
       "      <td>2021-01-04 19:23:34</td>\n",
       "      <td>Halsted St &amp; North Branch St</td>\n",
       "      <td>KA1504000117</td>\n",
       "      <td>Fairbanks Ct &amp; Grand Ave</td>\n",
       "      <td>TA1305000003</td>\n",
       "      <td>41.899368</td>\n",
       "      <td>-87.648480</td>\n",
       "      <td>41.891847</td>\n",
       "      <td>-87.620580</td>\n",
       "      <td>casual</td>\n",
       "      <td>Monday</td>\n",
       "      <td>4</td>\n",
       "      <td>1</td>\n",
       "      <td>2021</td>\n",
       "      <td>27.350000</td>\n",
       "      <td>2021 - 1 (January)</td>\n",
       "      <td>0 - Monday</td>\n",
       "    </tr>\n",
       "    <tr>\n",
       "      <th>105</th>\n",
       "      <td>D96D0A942E12C4D4</td>\n",
       "      <td>classic_bike</td>\n",
       "      <td>2021-01-04 10:05:49</td>\n",
       "      <td>2021-01-04 10:29:53</td>\n",
       "      <td>Sedgwick St &amp; North Ave</td>\n",
       "      <td>TA1307000038</td>\n",
       "      <td>Sheridan Rd &amp; Irving Park Rd</td>\n",
       "      <td>13063</td>\n",
       "      <td>41.911386</td>\n",
       "      <td>-87.638677</td>\n",
       "      <td>41.954245</td>\n",
       "      <td>-87.654406</td>\n",
       "      <td>casual</td>\n",
       "      <td>Monday</td>\n",
       "      <td>4</td>\n",
       "      <td>1</td>\n",
       "      <td>2021</td>\n",
       "      <td>24.066667</td>\n",
       "      <td>2021 - 1 (January)</td>\n",
       "      <td>0 - Monday</td>\n",
       "    </tr>\n",
       "    <tr>\n",
       "      <th>175</th>\n",
       "      <td>2CE7583737A818C4</td>\n",
       "      <td>classic_bike</td>\n",
       "      <td>2021-01-04 14:03:49</td>\n",
       "      <td>2021-01-04 15:18:26</td>\n",
       "      <td>Rush St &amp; Superior St</td>\n",
       "      <td>15530</td>\n",
       "      <td>Dearborn St &amp; Erie St</td>\n",
       "      <td>13045</td>\n",
       "      <td>41.895765</td>\n",
       "      <td>-87.625908</td>\n",
       "      <td>41.893992</td>\n",
       "      <td>-87.629318</td>\n",
       "      <td>casual</td>\n",
       "      <td>Monday</td>\n",
       "      <td>4</td>\n",
       "      <td>1</td>\n",
       "      <td>2021</td>\n",
       "      <td>74.616667</td>\n",
       "      <td>2021 - 1 (January)</td>\n",
       "      <td>0 - Monday</td>\n",
       "    </tr>\n",
       "    <tr>\n",
       "      <th>186</th>\n",
       "      <td>C8AF1AFE70065085</td>\n",
       "      <td>classic_bike</td>\n",
       "      <td>2021-01-04 06:50:30</td>\n",
       "      <td>2021-01-04 06:53:34</td>\n",
       "      <td>Franklin St &amp; Monroe St</td>\n",
       "      <td>TA1309000007</td>\n",
       "      <td>LaSalle St &amp; Jackson Blvd</td>\n",
       "      <td>TA1309000004</td>\n",
       "      <td>41.880317</td>\n",
       "      <td>-87.635185</td>\n",
       "      <td>41.878166</td>\n",
       "      <td>-87.631929</td>\n",
       "      <td>member</td>\n",
       "      <td>Monday</td>\n",
       "      <td>4</td>\n",
       "      <td>1</td>\n",
       "      <td>2021</td>\n",
       "      <td>3.066667</td>\n",
       "      <td>2021 - 1 (January)</td>\n",
       "      <td>0 - Monday</td>\n",
       "    </tr>\n",
       "    <tr>\n",
       "      <th>...</th>\n",
       "      <td>...</td>\n",
       "      <td>...</td>\n",
       "      <td>...</td>\n",
       "      <td>...</td>\n",
       "      <td>...</td>\n",
       "      <td>...</td>\n",
       "      <td>...</td>\n",
       "      <td>...</td>\n",
       "      <td>...</td>\n",
       "      <td>...</td>\n",
       "      <td>...</td>\n",
       "      <td>...</td>\n",
       "      <td>...</td>\n",
       "      <td>...</td>\n",
       "      <td>...</td>\n",
       "      <td>...</td>\n",
       "      <td>...</td>\n",
       "      <td>...</td>\n",
       "      <td>...</td>\n",
       "      <td>...</td>\n",
       "    </tr>\n",
       "    <tr>\n",
       "      <th>131248</th>\n",
       "      <td>3249DEAAC998751A</td>\n",
       "      <td>electric_bike</td>\n",
       "      <td>2020-12-27 17:20:02</td>\n",
       "      <td>2020-12-27 17:31:17</td>\n",
       "      <td>Clinton St &amp; Madison St</td>\n",
       "      <td>TA1305000032</td>\n",
       "      <td>Clinton St &amp; Madison St</td>\n",
       "      <td>TA1305000032</td>\n",
       "      <td>41.881766</td>\n",
       "      <td>-87.640935</td>\n",
       "      <td>41.881445</td>\n",
       "      <td>-87.641443</td>\n",
       "      <td>member</td>\n",
       "      <td>Sunday</td>\n",
       "      <td>27</td>\n",
       "      <td>12</td>\n",
       "      <td>2020</td>\n",
       "      <td>11.250000</td>\n",
       "      <td>2020 - 12 (December)</td>\n",
       "      <td>6 - Sunday</td>\n",
       "    </tr>\n",
       "    <tr>\n",
       "      <th>131249</th>\n",
       "      <td>BDB04AA7AE272588</td>\n",
       "      <td>electric_bike</td>\n",
       "      <td>2020-12-27 16:38:44</td>\n",
       "      <td>2020-12-27 16:58:48</td>\n",
       "      <td>Clinton St &amp; Madison St</td>\n",
       "      <td>TA1305000032</td>\n",
       "      <td>Clinton St &amp; Madison St</td>\n",
       "      <td>TA1305000032</td>\n",
       "      <td>41.881853</td>\n",
       "      <td>-87.640984</td>\n",
       "      <td>41.882110</td>\n",
       "      <td>-87.641392</td>\n",
       "      <td>member</td>\n",
       "      <td>Sunday</td>\n",
       "      <td>27</td>\n",
       "      <td>12</td>\n",
       "      <td>2020</td>\n",
       "      <td>20.066667</td>\n",
       "      <td>2020 - 12 (December)</td>\n",
       "      <td>6 - Sunday</td>\n",
       "    </tr>\n",
       "    <tr>\n",
       "      <th>131421</th>\n",
       "      <td>FD056F832AF370A1</td>\n",
       "      <td>classic_bike</td>\n",
       "      <td>2020-12-27 13:47:37</td>\n",
       "      <td>2020-12-27 13:50:06</td>\n",
       "      <td>Sheffield Ave &amp; Webster Ave</td>\n",
       "      <td>TA1309000033</td>\n",
       "      <td>Bissell St &amp; Armitage Ave</td>\n",
       "      <td>13059</td>\n",
       "      <td>41.921540</td>\n",
       "      <td>-87.653818</td>\n",
       "      <td>41.918440</td>\n",
       "      <td>-87.652220</td>\n",
       "      <td>member</td>\n",
       "      <td>Sunday</td>\n",
       "      <td>27</td>\n",
       "      <td>12</td>\n",
       "      <td>2020</td>\n",
       "      <td>2.483333</td>\n",
       "      <td>2020 - 12 (December)</td>\n",
       "      <td>6 - Sunday</td>\n",
       "    </tr>\n",
       "    <tr>\n",
       "      <th>131422</th>\n",
       "      <td>2CD1E8DA4447BB9B</td>\n",
       "      <td>classic_bike</td>\n",
       "      <td>2020-12-27 14:21:55</td>\n",
       "      <td>2020-12-27 14:24:05</td>\n",
       "      <td>Bissell St &amp; Armitage Ave</td>\n",
       "      <td>13059</td>\n",
       "      <td>Sheffield Ave &amp; Webster Ave</td>\n",
       "      <td>TA1309000033</td>\n",
       "      <td>41.918440</td>\n",
       "      <td>-87.652220</td>\n",
       "      <td>41.921540</td>\n",
       "      <td>-87.653818</td>\n",
       "      <td>member</td>\n",
       "      <td>Sunday</td>\n",
       "      <td>27</td>\n",
       "      <td>12</td>\n",
       "      <td>2020</td>\n",
       "      <td>2.166667</td>\n",
       "      <td>2020 - 12 (December)</td>\n",
       "      <td>6 - Sunday</td>\n",
       "    </tr>\n",
       "    <tr>\n",
       "      <th>131561</th>\n",
       "      <td>99741BBCF3E82A6B</td>\n",
       "      <td>classic_bike</td>\n",
       "      <td>2020-12-27 12:14:30</td>\n",
       "      <td>2020-12-27 12:18:16</td>\n",
       "      <td>Rhodes Ave &amp; 32nd St</td>\n",
       "      <td>13215</td>\n",
       "      <td>Indiana Ave &amp; 31st St</td>\n",
       "      <td>TA1308000036</td>\n",
       "      <td>41.836208</td>\n",
       "      <td>-87.613533</td>\n",
       "      <td>41.838842</td>\n",
       "      <td>-87.621857</td>\n",
       "      <td>casual</td>\n",
       "      <td>Sunday</td>\n",
       "      <td>27</td>\n",
       "      <td>12</td>\n",
       "      <td>2020</td>\n",
       "      <td>3.766667</td>\n",
       "      <td>2020 - 12 (December)</td>\n",
       "      <td>6 - Sunday</td>\n",
       "    </tr>\n",
       "  </tbody>\n",
       "</table>\n",
       "<p>3489539 rows × 20 columns</p>\n",
       "</div>"
      ],
      "text/plain": [
       "                 ride_id  rideable_type          started_at  \\\n",
       "6       09275CC10F854E9E  electric_bike 2021-01-04 05:05:04   \n",
       "44      7297C6B623D5F03B   classic_bike 2021-01-04 18:56:13   \n",
       "105     D96D0A942E12C4D4   classic_bike 2021-01-04 10:05:49   \n",
       "175     2CE7583737A818C4   classic_bike 2021-01-04 14:03:49   \n",
       "186     C8AF1AFE70065085   classic_bike 2021-01-04 06:50:30   \n",
       "...                  ...            ...                 ...   \n",
       "131248  3249DEAAC998751A  electric_bike 2020-12-27 17:20:02   \n",
       "131249  BDB04AA7AE272588  electric_bike 2020-12-27 16:38:44   \n",
       "131421  FD056F832AF370A1   classic_bike 2020-12-27 13:47:37   \n",
       "131422  2CD1E8DA4447BB9B   classic_bike 2020-12-27 14:21:55   \n",
       "131561  99741BBCF3E82A6B   classic_bike 2020-12-27 12:14:30   \n",
       "\n",
       "                  ended_at            start_station_name start_station_id  \\\n",
       "6      2021-01-04 05:10:39    California Ave & Cortez St            17660   \n",
       "44     2021-01-04 19:23:34  Halsted St & North Branch St     KA1504000117   \n",
       "105    2021-01-04 10:29:53       Sedgwick St & North Ave     TA1307000038   \n",
       "175    2021-01-04 15:18:26         Rush St & Superior St            15530   \n",
       "186    2021-01-04 06:53:34       Franklin St & Monroe St     TA1309000007   \n",
       "...                    ...                           ...              ...   \n",
       "131248 2020-12-27 17:31:17       Clinton St & Madison St     TA1305000032   \n",
       "131249 2020-12-27 16:58:48       Clinton St & Madison St     TA1305000032   \n",
       "131421 2020-12-27 13:50:06   Sheffield Ave & Webster Ave     TA1309000033   \n",
       "131422 2020-12-27 14:24:05     Bissell St & Armitage Ave            13059   \n",
       "131561 2020-12-27 12:18:16          Rhodes Ave & 32nd St            13215   \n",
       "\n",
       "                    end_station_name end_station_id  start_lat  start_lng  \\\n",
       "6                                NaN            NaN  41.900391 -87.696757   \n",
       "44          Fairbanks Ct & Grand Ave   TA1305000003  41.899368 -87.648480   \n",
       "105     Sheridan Rd & Irving Park Rd          13063  41.911386 -87.638677   \n",
       "175            Dearborn St & Erie St          13045  41.895765 -87.625908   \n",
       "186        LaSalle St & Jackson Blvd   TA1309000004  41.880317 -87.635185   \n",
       "...                              ...            ...        ...        ...   \n",
       "131248       Clinton St & Madison St   TA1305000032  41.881766 -87.640935   \n",
       "131249       Clinton St & Madison St   TA1305000032  41.881853 -87.640984   \n",
       "131421     Bissell St & Armitage Ave          13059  41.921540 -87.653818   \n",
       "131422   Sheffield Ave & Webster Ave   TA1309000033  41.918440 -87.652220   \n",
       "131561         Indiana Ave & 31st St   TA1308000036  41.836208 -87.613533   \n",
       "\n",
       "          end_lat    end_lng member_casual weekday  day  month  year  \\\n",
       "6       41.900000 -87.710000        member  Monday    4      1  2021   \n",
       "44      41.891847 -87.620580        casual  Monday    4      1  2021   \n",
       "105     41.954245 -87.654406        casual  Monday    4      1  2021   \n",
       "175     41.893992 -87.629318        casual  Monday    4      1  2021   \n",
       "186     41.878166 -87.631929        member  Monday    4      1  2021   \n",
       "...           ...        ...           ...     ...  ...    ...   ...   \n",
       "131248  41.881445 -87.641443        member  Sunday   27     12  2020   \n",
       "131249  41.882110 -87.641392        member  Sunday   27     12  2020   \n",
       "131421  41.918440 -87.652220        member  Sunday   27     12  2020   \n",
       "131422  41.921540 -87.653818        member  Sunday   27     12  2020   \n",
       "131561  41.838842 -87.621857        casual  Sunday   27     12  2020   \n",
       "\n",
       "        ride_length_s            year_month dayofweek_weekday  \n",
       "6            5.583333    2021 - 1 (January)        0 - Monday  \n",
       "44          27.350000    2021 - 1 (January)        0 - Monday  \n",
       "105         24.066667    2021 - 1 (January)        0 - Monday  \n",
       "175         74.616667    2021 - 1 (January)        0 - Monday  \n",
       "186          3.066667    2021 - 1 (January)        0 - Monday  \n",
       "...               ...                   ...               ...  \n",
       "131248      11.250000  2020 - 12 (December)        6 - Sunday  \n",
       "131249      20.066667  2020 - 12 (December)        6 - Sunday  \n",
       "131421       2.483333  2020 - 12 (December)        6 - Sunday  \n",
       "131422       2.166667  2020 - 12 (December)        6 - Sunday  \n",
       "131561       3.766667  2020 - 12 (December)        6 - Sunday  \n",
       "\n",
       "[3489539 rows x 20 columns]"
      ]
     },
     "execution_count": 51,
     "metadata": {},
     "output_type": "execute_result"
    }
   ],
   "source": [
    "tripdataV2 = tripdataV2.sort_values(by=[\"dayofweek_weekday\", \"month\", \"day\"])\n",
    "\n",
    "\n",
    "tripdataV2\n"
   ]
  },
  {
   "cell_type": "code",
   "execution_count": 52,
   "id": "ccb451b6",
   "metadata": {
    "execution": {
     "iopub.execute_input": "2022-06-13T13:26:16.296475Z",
     "iopub.status.busy": "2022-06-13T13:26:16.296004Z",
     "iopub.status.idle": "2022-06-13T13:26:16.302535Z",
     "shell.execute_reply": "2022-06-13T13:26:16.301837Z"
    },
    "papermill": {
     "duration": 0.042779,
     "end_time": "2022-06-13T13:26:16.304376",
     "exception": false,
     "start_time": "2022-06-13T13:26:16.261597",
     "status": "completed"
    },
    "tags": []
   },
   "outputs": [
    {
     "data": {
      "text/plain": [
       "['Monday', 'Tuesday', 'Wednesday', 'Thursday', 'Friday', 'Saturday', 'Sunday']"
      ]
     },
     "execution_count": 52,
     "metadata": {},
     "output_type": "execute_result"
    }
   ],
   "source": [
    "\n",
    "\n",
    "new_index = [\"Monday\", \"Tuesday\", \"Wednesday\", \"Thursday\", \"Friday\", \"Saturday\", \"Sunday\"]\n",
    "\n",
    "new_index\n"
   ]
  },
  {
   "cell_type": "code",
   "execution_count": 53,
   "id": "814d161c",
   "metadata": {
    "execution": {
     "iopub.execute_input": "2022-06-13T13:26:16.373363Z",
     "iopub.status.busy": "2022-06-13T13:26:16.372413Z",
     "iopub.status.idle": "2022-06-13T13:26:17.387898Z",
     "shell.execute_reply": "2022-06-13T13:26:17.386643Z"
    },
    "papermill": {
     "duration": 1.05269,
     "end_time": "2022-06-13T13:26:17.390211",
     "exception": false,
     "start_time": "2022-06-13T13:26:16.337521",
     "status": "completed"
    },
    "tags": []
   },
   "outputs": [
    {
     "data": {
      "text/html": [
       "<div>\n",
       "<style scoped>\n",
       "    .dataframe tbody tr th:only-of-type {\n",
       "        vertical-align: middle;\n",
       "    }\n",
       "\n",
       "    .dataframe tbody tr th {\n",
       "        vertical-align: top;\n",
       "    }\n",
       "\n",
       "    .dataframe thead tr th {\n",
       "        text-align: left;\n",
       "    }\n",
       "\n",
       "    .dataframe thead tr:last-of-type th {\n",
       "        text-align: right;\n",
       "    }\n",
       "</style>\n",
       "<table border=\"1\" class=\"dataframe\">\n",
       "  <thead>\n",
       "    <tr>\n",
       "      <th></th>\n",
       "      <th colspan=\"3\" halign=\"left\">ride_length_s</th>\n",
       "    </tr>\n",
       "    <tr>\n",
       "      <th></th>\n",
       "      <th>count</th>\n",
       "      <th>median</th>\n",
       "      <th>mean</th>\n",
       "    </tr>\n",
       "    <tr>\n",
       "      <th>weekday</th>\n",
       "      <th></th>\n",
       "      <th></th>\n",
       "      <th></th>\n",
       "    </tr>\n",
       "  </thead>\n",
       "  <tbody>\n",
       "    <tr>\n",
       "      <th>Monday</th>\n",
       "      <td>419556</td>\n",
       "      <td>13.450000</td>\n",
       "      <td>26.286407</td>\n",
       "    </tr>\n",
       "    <tr>\n",
       "      <th>Tuesday</th>\n",
       "      <td>431083</td>\n",
       "      <td>12.983333</td>\n",
       "      <td>25.640836</td>\n",
       "    </tr>\n",
       "    <tr>\n",
       "      <th>Wednesday</th>\n",
       "      <td>464804</td>\n",
       "      <td>13.000000</td>\n",
       "      <td>25.054509</td>\n",
       "    </tr>\n",
       "    <tr>\n",
       "      <th>Thursday</th>\n",
       "      <td>467993</td>\n",
       "      <td>13.150000</td>\n",
       "      <td>25.023554</td>\n",
       "    </tr>\n",
       "    <tr>\n",
       "      <th>Friday</th>\n",
       "      <td>516802</td>\n",
       "      <td>14.066667</td>\n",
       "      <td>28.536724</td>\n",
       "    </tr>\n",
       "    <tr>\n",
       "      <th>Saturday</th>\n",
       "      <td>660184</td>\n",
       "      <td>17.450000</td>\n",
       "      <td>32.968669</td>\n",
       "    </tr>\n",
       "    <tr>\n",
       "      <th>Sunday</th>\n",
       "      <td>529117</td>\n",
       "      <td>17.733333</td>\n",
       "      <td>33.466815</td>\n",
       "    </tr>\n",
       "  </tbody>\n",
       "</table>\n",
       "</div>"
      ],
      "text/plain": [
       "          ride_length_s                      \n",
       "                  count     median       mean\n",
       "weekday                                      \n",
       "Monday           419556  13.450000  26.286407\n",
       "Tuesday          431083  12.983333  25.640836\n",
       "Wednesday        464804  13.000000  25.054509\n",
       "Thursday         467993  13.150000  25.023554\n",
       "Friday           516802  14.066667  28.536724\n",
       "Saturday         660184  17.450000  32.968669\n",
       "Sunday           529117  17.733333  33.466815"
      ]
     },
     "execution_count": 53,
     "metadata": {},
     "output_type": "execute_result"
    }
   ],
   "source": [
    "# Making the data ordered by using the new index of days\n",
    "\n",
    "tripdataV2.groupby(\"weekday\").aggregate({\"ride_length_s\":['count', 'median', \"mean\"]}).reindex(new_index)\n"
   ]
  },
  {
   "cell_type": "code",
   "execution_count": 54,
   "id": "5bc95956",
   "metadata": {
    "execution": {
     "iopub.execute_input": "2022-06-13T13:26:17.458551Z",
     "iopub.status.busy": "2022-06-13T13:26:17.458156Z",
     "iopub.status.idle": "2022-06-13T13:26:17.462293Z",
     "shell.execute_reply": "2022-06-13T13:26:17.461514Z"
    },
    "papermill": {
     "duration": 0.041028,
     "end_time": "2022-06-13T13:26:17.464224",
     "exception": false,
     "start_time": "2022-06-13T13:26:17.423196",
     "status": "completed"
    },
    "tags": []
   },
   "outputs": [],
   "source": [
    "# ride_length_by_weekday = \n"
   ]
  },
  {
   "cell_type": "code",
   "execution_count": 55,
   "id": "42b90a03",
   "metadata": {
    "execution": {
     "iopub.execute_input": "2022-06-13T13:26:17.532646Z",
     "iopub.status.busy": "2022-06-13T13:26:17.532086Z",
     "iopub.status.idle": "2022-06-13T13:26:17.931252Z",
     "shell.execute_reply": "2022-06-13T13:26:17.930385Z"
    },
    "papermill": {
     "duration": 0.435832,
     "end_time": "2022-06-13T13:26:17.933324",
     "exception": false,
     "start_time": "2022-06-13T13:26:17.497492",
     "status": "completed"
    },
    "tags": []
   },
   "outputs": [
    {
     "data": {
      "text/html": [
       "<div>\n",
       "<style scoped>\n",
       "    .dataframe tbody tr th:only-of-type {\n",
       "        vertical-align: middle;\n",
       "    }\n",
       "\n",
       "    .dataframe tbody tr th {\n",
       "        vertical-align: top;\n",
       "    }\n",
       "\n",
       "    .dataframe thead tr th {\n",
       "        text-align: left;\n",
       "    }\n",
       "\n",
       "    .dataframe thead tr:last-of-type th {\n",
       "        text-align: right;\n",
       "    }\n",
       "</style>\n",
       "<table border=\"1\" class=\"dataframe\">\n",
       "  <thead>\n",
       "    <tr>\n",
       "      <th></th>\n",
       "      <th colspan=\"3\" halign=\"left\">ride_length_s</th>\n",
       "    </tr>\n",
       "    <tr>\n",
       "      <th></th>\n",
       "      <th>count</th>\n",
       "      <th>median</th>\n",
       "      <th>mean</th>\n",
       "    </tr>\n",
       "    <tr>\n",
       "      <th>member_casual</th>\n",
       "      <th></th>\n",
       "      <th></th>\n",
       "      <th></th>\n",
       "    </tr>\n",
       "  </thead>\n",
       "  <tbody>\n",
       "    <tr>\n",
       "      <th>casual</th>\n",
       "      <td>1430351</td>\n",
       "      <td>21.266667</td>\n",
       "      <td>40.172548</td>\n",
       "    </tr>\n",
       "    <tr>\n",
       "      <th>member</th>\n",
       "      <td>2059188</td>\n",
       "      <td>11.533333</td>\n",
       "      <td>20.492773</td>\n",
       "    </tr>\n",
       "  </tbody>\n",
       "</table>\n",
       "</div>"
      ],
      "text/plain": [
       "              ride_length_s                      \n",
       "                      count     median       mean\n",
       "member_casual                                    \n",
       "casual              1430351  21.266667  40.172548\n",
       "member              2059188  11.533333  20.492773"
      ]
     },
     "execution_count": 55,
     "metadata": {},
     "output_type": "execute_result"
    }
   ],
   "source": [
    "tripdataV2.groupby(\"member_casual\").aggregate({\"ride_length_s\":['count', 'median', \"mean\"]})"
   ]
  },
  {
   "cell_type": "code",
   "execution_count": 56,
   "id": "60c6420c",
   "metadata": {
    "execution": {
     "iopub.execute_input": "2022-06-13T13:26:18.003787Z",
     "iopub.status.busy": "2022-06-13T13:26:18.003198Z",
     "iopub.status.idle": "2022-06-13T13:26:19.340648Z",
     "shell.execute_reply": "2022-06-13T13:26:19.339601Z"
    },
    "papermill": {
     "duration": 1.375081,
     "end_time": "2022-06-13T13:26:19.342729",
     "exception": false,
     "start_time": "2022-06-13T13:26:17.967648",
     "status": "completed"
    },
    "tags": []
   },
   "outputs": [
    {
     "data": {
      "text/html": [
       "<div>\n",
       "<style scoped>\n",
       "    .dataframe tbody tr th:only-of-type {\n",
       "        vertical-align: middle;\n",
       "    }\n",
       "\n",
       "    .dataframe tbody tr th {\n",
       "        vertical-align: top;\n",
       "    }\n",
       "\n",
       "    .dataframe thead tr th {\n",
       "        text-align: left;\n",
       "    }\n",
       "\n",
       "    .dataframe thead tr:last-of-type th {\n",
       "        text-align: right;\n",
       "    }\n",
       "</style>\n",
       "<table border=\"1\" class=\"dataframe\">\n",
       "  <thead>\n",
       "    <tr>\n",
       "      <th></th>\n",
       "      <th></th>\n",
       "      <th colspan=\"3\" halign=\"left\">ride_length_s</th>\n",
       "    </tr>\n",
       "    <tr>\n",
       "      <th></th>\n",
       "      <th></th>\n",
       "      <th>count</th>\n",
       "      <th>median</th>\n",
       "      <th>mean</th>\n",
       "    </tr>\n",
       "    <tr>\n",
       "      <th>weekday</th>\n",
       "      <th>member_casual</th>\n",
       "      <th></th>\n",
       "      <th></th>\n",
       "      <th></th>\n",
       "    </tr>\n",
       "  </thead>\n",
       "  <tbody>\n",
       "    <tr>\n",
       "      <th rowspan=\"2\" valign=\"top\">Friday</th>\n",
       "      <th>casual</th>\n",
       "      <td>209131</td>\n",
       "      <td>19.866667</td>\n",
       "      <td>39.188121</td>\n",
       "    </tr>\n",
       "    <tr>\n",
       "      <th>member</th>\n",
       "      <td>307671</td>\n",
       "      <td>11.333333</td>\n",
       "      <td>21.296726</td>\n",
       "    </tr>\n",
       "    <tr>\n",
       "      <th rowspan=\"2\" valign=\"top\">Monday</th>\n",
       "      <th>casual</th>\n",
       "      <td>151460</td>\n",
       "      <td>20.766667</td>\n",
       "      <td>39.383136</td>\n",
       "    </tr>\n",
       "    <tr>\n",
       "      <th>member</th>\n",
       "      <td>268096</td>\n",
       "      <td>10.850000</td>\n",
       "      <td>18.887450</td>\n",
       "    </tr>\n",
       "    <tr>\n",
       "      <th rowspan=\"2\" valign=\"top\">Saturday</th>\n",
       "      <th>casual</th>\n",
       "      <td>335901</td>\n",
       "      <td>23.516667</td>\n",
       "      <td>43.176450</td>\n",
       "    </tr>\n",
       "    <tr>\n",
       "      <th>member</th>\n",
       "      <td>324283</td>\n",
       "      <td>12.983333</td>\n",
       "      <td>22.395178</td>\n",
       "    </tr>\n",
       "    <tr>\n",
       "      <th rowspan=\"2\" valign=\"top\">Sunday</th>\n",
       "      <th>casual</th>\n",
       "      <td>262861</td>\n",
       "      <td>24.583333</td>\n",
       "      <td>44.528546</td>\n",
       "    </tr>\n",
       "    <tr>\n",
       "      <th>member</th>\n",
       "      <td>266256</td>\n",
       "      <td>13.050000</td>\n",
       "      <td>22.546131</td>\n",
       "    </tr>\n",
       "    <tr>\n",
       "      <th rowspan=\"2\" valign=\"top\">Thursday</th>\n",
       "      <th>casual</th>\n",
       "      <td>166672</td>\n",
       "      <td>18.700000</td>\n",
       "      <td>36.038682</td>\n",
       "    </tr>\n",
       "    <tr>\n",
       "      <th>member</th>\n",
       "      <td>301321</td>\n",
       "      <td>10.983333</td>\n",
       "      <td>18.930671</td>\n",
       "    </tr>\n",
       "    <tr>\n",
       "      <th rowspan=\"2\" valign=\"top\">Tuesday</th>\n",
       "      <th>casual</th>\n",
       "      <td>145635</td>\n",
       "      <td>19.133333</td>\n",
       "      <td>37.277237</td>\n",
       "    </tr>\n",
       "    <tr>\n",
       "      <th>member</th>\n",
       "      <td>285448</td>\n",
       "      <td>10.900000</td>\n",
       "      <td>19.703968</td>\n",
       "    </tr>\n",
       "    <tr>\n",
       "      <th rowspan=\"2\" valign=\"top\">Wednesday</th>\n",
       "      <th>casual</th>\n",
       "      <td>158691</td>\n",
       "      <td>18.583333</td>\n",
       "      <td>35.648418</td>\n",
       "    </tr>\n",
       "    <tr>\n",
       "      <th>member</th>\n",
       "      <td>306113</td>\n",
       "      <td>10.983333</td>\n",
       "      <td>19.562557</td>\n",
       "    </tr>\n",
       "  </tbody>\n",
       "</table>\n",
       "</div>"
      ],
      "text/plain": [
       "                        ride_length_s                      \n",
       "                                count     median       mean\n",
       "weekday   member_casual                                    \n",
       "Friday    casual               209131  19.866667  39.188121\n",
       "          member               307671  11.333333  21.296726\n",
       "Monday    casual               151460  20.766667  39.383136\n",
       "          member               268096  10.850000  18.887450\n",
       "Saturday  casual               335901  23.516667  43.176450\n",
       "          member               324283  12.983333  22.395178\n",
       "Sunday    casual               262861  24.583333  44.528546\n",
       "          member               266256  13.050000  22.546131\n",
       "Thursday  casual               166672  18.700000  36.038682\n",
       "          member               301321  10.983333  18.930671\n",
       "Tuesday   casual               145635  19.133333  37.277237\n",
       "          member               285448  10.900000  19.703968\n",
       "Wednesday casual               158691  18.583333  35.648418\n",
       "          member               306113  10.983333  19.562557"
      ]
     },
     "execution_count": 56,
     "metadata": {},
     "output_type": "execute_result"
    }
   ],
   "source": [
    "# Now combining the week day and member_casual columns to analyze them grouped\n",
    "\n",
    "tripdataV2.groupby([\"weekday\", \"member_casual\"]).aggregate({\"ride_length_s\":['count', 'median', \"mean\"]})\n"
   ]
  },
  {
   "cell_type": "code",
   "execution_count": 57,
   "id": "c1b0f156",
   "metadata": {
    "execution": {
     "iopub.execute_input": "2022-06-13T13:26:19.413653Z",
     "iopub.status.busy": "2022-06-13T13:26:19.412788Z",
     "iopub.status.idle": "2022-06-13T13:26:19.446847Z",
     "shell.execute_reply": "2022-06-13T13:26:19.446077Z"
    },
    "papermill": {
     "duration": 0.071771,
     "end_time": "2022-06-13T13:26:19.448802",
     "exception": false,
     "start_time": "2022-06-13T13:26:19.377031",
     "status": "completed"
    },
    "tags": []
   },
   "outputs": [
    {
     "data": {
      "text/html": [
       "<div>\n",
       "<style scoped>\n",
       "    .dataframe tbody tr th:only-of-type {\n",
       "        vertical-align: middle;\n",
       "    }\n",
       "\n",
       "    .dataframe tbody tr th {\n",
       "        vertical-align: top;\n",
       "    }\n",
       "\n",
       "    .dataframe thead th {\n",
       "        text-align: right;\n",
       "    }\n",
       "</style>\n",
       "<table border=\"1\" class=\"dataframe\">\n",
       "  <thead>\n",
       "    <tr style=\"text-align: right;\">\n",
       "      <th></th>\n",
       "      <th>ride_id</th>\n",
       "      <th>rideable_type</th>\n",
       "      <th>started_at</th>\n",
       "      <th>ended_at</th>\n",
       "      <th>start_station_name</th>\n",
       "      <th>start_station_id</th>\n",
       "      <th>end_station_name</th>\n",
       "      <th>end_station_id</th>\n",
       "      <th>start_lat</th>\n",
       "      <th>start_lng</th>\n",
       "      <th>end_lat</th>\n",
       "      <th>end_lng</th>\n",
       "      <th>member_casual</th>\n",
       "      <th>weekday</th>\n",
       "      <th>day</th>\n",
       "      <th>month</th>\n",
       "      <th>year</th>\n",
       "      <th>ride_length_s</th>\n",
       "      <th>year_month</th>\n",
       "      <th>dayofweek_weekday</th>\n",
       "    </tr>\n",
       "  </thead>\n",
       "  <tbody>\n",
       "    <tr>\n",
       "      <th>6</th>\n",
       "      <td>09275CC10F854E9E</td>\n",
       "      <td>electric_bike</td>\n",
       "      <td>2021-01-04 05:05:04</td>\n",
       "      <td>2021-01-04 05:10:39</td>\n",
       "      <td>California Ave &amp; Cortez St</td>\n",
       "      <td>17660</td>\n",
       "      <td>NaN</td>\n",
       "      <td>NaN</td>\n",
       "      <td>41.900391</td>\n",
       "      <td>-87.696757</td>\n",
       "      <td>41.900000</td>\n",
       "      <td>-87.710000</td>\n",
       "      <td>member</td>\n",
       "      <td>Monday</td>\n",
       "      <td>4</td>\n",
       "      <td>1</td>\n",
       "      <td>2021</td>\n",
       "      <td>5.583333</td>\n",
       "      <td>2021 - 1 (January)</td>\n",
       "      <td>0 - Monday</td>\n",
       "    </tr>\n",
       "    <tr>\n",
       "      <th>44</th>\n",
       "      <td>7297C6B623D5F03B</td>\n",
       "      <td>classic_bike</td>\n",
       "      <td>2021-01-04 18:56:13</td>\n",
       "      <td>2021-01-04 19:23:34</td>\n",
       "      <td>Halsted St &amp; North Branch St</td>\n",
       "      <td>KA1504000117</td>\n",
       "      <td>Fairbanks Ct &amp; Grand Ave</td>\n",
       "      <td>TA1305000003</td>\n",
       "      <td>41.899368</td>\n",
       "      <td>-87.648480</td>\n",
       "      <td>41.891847</td>\n",
       "      <td>-87.620580</td>\n",
       "      <td>casual</td>\n",
       "      <td>Monday</td>\n",
       "      <td>4</td>\n",
       "      <td>1</td>\n",
       "      <td>2021</td>\n",
       "      <td>27.350000</td>\n",
       "      <td>2021 - 1 (January)</td>\n",
       "      <td>0 - Monday</td>\n",
       "    </tr>\n",
       "    <tr>\n",
       "      <th>105</th>\n",
       "      <td>D96D0A942E12C4D4</td>\n",
       "      <td>classic_bike</td>\n",
       "      <td>2021-01-04 10:05:49</td>\n",
       "      <td>2021-01-04 10:29:53</td>\n",
       "      <td>Sedgwick St &amp; North Ave</td>\n",
       "      <td>TA1307000038</td>\n",
       "      <td>Sheridan Rd &amp; Irving Park Rd</td>\n",
       "      <td>13063</td>\n",
       "      <td>41.911386</td>\n",
       "      <td>-87.638677</td>\n",
       "      <td>41.954245</td>\n",
       "      <td>-87.654406</td>\n",
       "      <td>casual</td>\n",
       "      <td>Monday</td>\n",
       "      <td>4</td>\n",
       "      <td>1</td>\n",
       "      <td>2021</td>\n",
       "      <td>24.066667</td>\n",
       "      <td>2021 - 1 (January)</td>\n",
       "      <td>0 - Monday</td>\n",
       "    </tr>\n",
       "    <tr>\n",
       "      <th>175</th>\n",
       "      <td>2CE7583737A818C4</td>\n",
       "      <td>classic_bike</td>\n",
       "      <td>2021-01-04 14:03:49</td>\n",
       "      <td>2021-01-04 15:18:26</td>\n",
       "      <td>Rush St &amp; Superior St</td>\n",
       "      <td>15530</td>\n",
       "      <td>Dearborn St &amp; Erie St</td>\n",
       "      <td>13045</td>\n",
       "      <td>41.895765</td>\n",
       "      <td>-87.625908</td>\n",
       "      <td>41.893992</td>\n",
       "      <td>-87.629318</td>\n",
       "      <td>casual</td>\n",
       "      <td>Monday</td>\n",
       "      <td>4</td>\n",
       "      <td>1</td>\n",
       "      <td>2021</td>\n",
       "      <td>74.616667</td>\n",
       "      <td>2021 - 1 (January)</td>\n",
       "      <td>0 - Monday</td>\n",
       "    </tr>\n",
       "    <tr>\n",
       "      <th>186</th>\n",
       "      <td>C8AF1AFE70065085</td>\n",
       "      <td>classic_bike</td>\n",
       "      <td>2021-01-04 06:50:30</td>\n",
       "      <td>2021-01-04 06:53:34</td>\n",
       "      <td>Franklin St &amp; Monroe St</td>\n",
       "      <td>TA1309000007</td>\n",
       "      <td>LaSalle St &amp; Jackson Blvd</td>\n",
       "      <td>TA1309000004</td>\n",
       "      <td>41.880317</td>\n",
       "      <td>-87.635185</td>\n",
       "      <td>41.878166</td>\n",
       "      <td>-87.631929</td>\n",
       "      <td>member</td>\n",
       "      <td>Monday</td>\n",
       "      <td>4</td>\n",
       "      <td>1</td>\n",
       "      <td>2021</td>\n",
       "      <td>3.066667</td>\n",
       "      <td>2021 - 1 (January)</td>\n",
       "      <td>0 - Monday</td>\n",
       "    </tr>\n",
       "    <tr>\n",
       "      <th>...</th>\n",
       "      <td>...</td>\n",
       "      <td>...</td>\n",
       "      <td>...</td>\n",
       "      <td>...</td>\n",
       "      <td>...</td>\n",
       "      <td>...</td>\n",
       "      <td>...</td>\n",
       "      <td>...</td>\n",
       "      <td>...</td>\n",
       "      <td>...</td>\n",
       "      <td>...</td>\n",
       "      <td>...</td>\n",
       "      <td>...</td>\n",
       "      <td>...</td>\n",
       "      <td>...</td>\n",
       "      <td>...</td>\n",
       "      <td>...</td>\n",
       "      <td>...</td>\n",
       "      <td>...</td>\n",
       "      <td>...</td>\n",
       "    </tr>\n",
       "    <tr>\n",
       "      <th>131248</th>\n",
       "      <td>3249DEAAC998751A</td>\n",
       "      <td>electric_bike</td>\n",
       "      <td>2020-12-27 17:20:02</td>\n",
       "      <td>2020-12-27 17:31:17</td>\n",
       "      <td>Clinton St &amp; Madison St</td>\n",
       "      <td>TA1305000032</td>\n",
       "      <td>Clinton St &amp; Madison St</td>\n",
       "      <td>TA1305000032</td>\n",
       "      <td>41.881766</td>\n",
       "      <td>-87.640935</td>\n",
       "      <td>41.881445</td>\n",
       "      <td>-87.641443</td>\n",
       "      <td>member</td>\n",
       "      <td>Sunday</td>\n",
       "      <td>27</td>\n",
       "      <td>12</td>\n",
       "      <td>2020</td>\n",
       "      <td>11.250000</td>\n",
       "      <td>2020 - 12 (December)</td>\n",
       "      <td>6 - Sunday</td>\n",
       "    </tr>\n",
       "    <tr>\n",
       "      <th>131249</th>\n",
       "      <td>BDB04AA7AE272588</td>\n",
       "      <td>electric_bike</td>\n",
       "      <td>2020-12-27 16:38:44</td>\n",
       "      <td>2020-12-27 16:58:48</td>\n",
       "      <td>Clinton St &amp; Madison St</td>\n",
       "      <td>TA1305000032</td>\n",
       "      <td>Clinton St &amp; Madison St</td>\n",
       "      <td>TA1305000032</td>\n",
       "      <td>41.881853</td>\n",
       "      <td>-87.640984</td>\n",
       "      <td>41.882110</td>\n",
       "      <td>-87.641392</td>\n",
       "      <td>member</td>\n",
       "      <td>Sunday</td>\n",
       "      <td>27</td>\n",
       "      <td>12</td>\n",
       "      <td>2020</td>\n",
       "      <td>20.066667</td>\n",
       "      <td>2020 - 12 (December)</td>\n",
       "      <td>6 - Sunday</td>\n",
       "    </tr>\n",
       "    <tr>\n",
       "      <th>131421</th>\n",
       "      <td>FD056F832AF370A1</td>\n",
       "      <td>classic_bike</td>\n",
       "      <td>2020-12-27 13:47:37</td>\n",
       "      <td>2020-12-27 13:50:06</td>\n",
       "      <td>Sheffield Ave &amp; Webster Ave</td>\n",
       "      <td>TA1309000033</td>\n",
       "      <td>Bissell St &amp; Armitage Ave</td>\n",
       "      <td>13059</td>\n",
       "      <td>41.921540</td>\n",
       "      <td>-87.653818</td>\n",
       "      <td>41.918440</td>\n",
       "      <td>-87.652220</td>\n",
       "      <td>member</td>\n",
       "      <td>Sunday</td>\n",
       "      <td>27</td>\n",
       "      <td>12</td>\n",
       "      <td>2020</td>\n",
       "      <td>2.483333</td>\n",
       "      <td>2020 - 12 (December)</td>\n",
       "      <td>6 - Sunday</td>\n",
       "    </tr>\n",
       "    <tr>\n",
       "      <th>131422</th>\n",
       "      <td>2CD1E8DA4447BB9B</td>\n",
       "      <td>classic_bike</td>\n",
       "      <td>2020-12-27 14:21:55</td>\n",
       "      <td>2020-12-27 14:24:05</td>\n",
       "      <td>Bissell St &amp; Armitage Ave</td>\n",
       "      <td>13059</td>\n",
       "      <td>Sheffield Ave &amp; Webster Ave</td>\n",
       "      <td>TA1309000033</td>\n",
       "      <td>41.918440</td>\n",
       "      <td>-87.652220</td>\n",
       "      <td>41.921540</td>\n",
       "      <td>-87.653818</td>\n",
       "      <td>member</td>\n",
       "      <td>Sunday</td>\n",
       "      <td>27</td>\n",
       "      <td>12</td>\n",
       "      <td>2020</td>\n",
       "      <td>2.166667</td>\n",
       "      <td>2020 - 12 (December)</td>\n",
       "      <td>6 - Sunday</td>\n",
       "    </tr>\n",
       "    <tr>\n",
       "      <th>131561</th>\n",
       "      <td>99741BBCF3E82A6B</td>\n",
       "      <td>classic_bike</td>\n",
       "      <td>2020-12-27 12:14:30</td>\n",
       "      <td>2020-12-27 12:18:16</td>\n",
       "      <td>Rhodes Ave &amp; 32nd St</td>\n",
       "      <td>13215</td>\n",
       "      <td>Indiana Ave &amp; 31st St</td>\n",
       "      <td>TA1308000036</td>\n",
       "      <td>41.836208</td>\n",
       "      <td>-87.613533</td>\n",
       "      <td>41.838842</td>\n",
       "      <td>-87.621857</td>\n",
       "      <td>casual</td>\n",
       "      <td>Sunday</td>\n",
       "      <td>27</td>\n",
       "      <td>12</td>\n",
       "      <td>2020</td>\n",
       "      <td>3.766667</td>\n",
       "      <td>2020 - 12 (December)</td>\n",
       "      <td>6 - Sunday</td>\n",
       "    </tr>\n",
       "  </tbody>\n",
       "</table>\n",
       "<p>3489539 rows × 20 columns</p>\n",
       "</div>"
      ],
      "text/plain": [
       "                 ride_id  rideable_type          started_at  \\\n",
       "6       09275CC10F854E9E  electric_bike 2021-01-04 05:05:04   \n",
       "44      7297C6B623D5F03B   classic_bike 2021-01-04 18:56:13   \n",
       "105     D96D0A942E12C4D4   classic_bike 2021-01-04 10:05:49   \n",
       "175     2CE7583737A818C4   classic_bike 2021-01-04 14:03:49   \n",
       "186     C8AF1AFE70065085   classic_bike 2021-01-04 06:50:30   \n",
       "...                  ...            ...                 ...   \n",
       "131248  3249DEAAC998751A  electric_bike 2020-12-27 17:20:02   \n",
       "131249  BDB04AA7AE272588  electric_bike 2020-12-27 16:38:44   \n",
       "131421  FD056F832AF370A1   classic_bike 2020-12-27 13:47:37   \n",
       "131422  2CD1E8DA4447BB9B   classic_bike 2020-12-27 14:21:55   \n",
       "131561  99741BBCF3E82A6B   classic_bike 2020-12-27 12:14:30   \n",
       "\n",
       "                  ended_at            start_station_name start_station_id  \\\n",
       "6      2021-01-04 05:10:39    California Ave & Cortez St            17660   \n",
       "44     2021-01-04 19:23:34  Halsted St & North Branch St     KA1504000117   \n",
       "105    2021-01-04 10:29:53       Sedgwick St & North Ave     TA1307000038   \n",
       "175    2021-01-04 15:18:26         Rush St & Superior St            15530   \n",
       "186    2021-01-04 06:53:34       Franklin St & Monroe St     TA1309000007   \n",
       "...                    ...                           ...              ...   \n",
       "131248 2020-12-27 17:31:17       Clinton St & Madison St     TA1305000032   \n",
       "131249 2020-12-27 16:58:48       Clinton St & Madison St     TA1305000032   \n",
       "131421 2020-12-27 13:50:06   Sheffield Ave & Webster Ave     TA1309000033   \n",
       "131422 2020-12-27 14:24:05     Bissell St & Armitage Ave            13059   \n",
       "131561 2020-12-27 12:18:16          Rhodes Ave & 32nd St            13215   \n",
       "\n",
       "                    end_station_name end_station_id  start_lat  start_lng  \\\n",
       "6                                NaN            NaN  41.900391 -87.696757   \n",
       "44          Fairbanks Ct & Grand Ave   TA1305000003  41.899368 -87.648480   \n",
       "105     Sheridan Rd & Irving Park Rd          13063  41.911386 -87.638677   \n",
       "175            Dearborn St & Erie St          13045  41.895765 -87.625908   \n",
       "186        LaSalle St & Jackson Blvd   TA1309000004  41.880317 -87.635185   \n",
       "...                              ...            ...        ...        ...   \n",
       "131248       Clinton St & Madison St   TA1305000032  41.881766 -87.640935   \n",
       "131249       Clinton St & Madison St   TA1305000032  41.881853 -87.640984   \n",
       "131421     Bissell St & Armitage Ave          13059  41.921540 -87.653818   \n",
       "131422   Sheffield Ave & Webster Ave   TA1309000033  41.918440 -87.652220   \n",
       "131561         Indiana Ave & 31st St   TA1308000036  41.836208 -87.613533   \n",
       "\n",
       "          end_lat    end_lng member_casual weekday  day  month  year  \\\n",
       "6       41.900000 -87.710000        member  Monday    4      1  2021   \n",
       "44      41.891847 -87.620580        casual  Monday    4      1  2021   \n",
       "105     41.954245 -87.654406        casual  Monday    4      1  2021   \n",
       "175     41.893992 -87.629318        casual  Monday    4      1  2021   \n",
       "186     41.878166 -87.631929        member  Monday    4      1  2021   \n",
       "...           ...        ...           ...     ...  ...    ...   ...   \n",
       "131248  41.881445 -87.641443        member  Sunday   27     12  2020   \n",
       "131249  41.882110 -87.641392        member  Sunday   27     12  2020   \n",
       "131421  41.918440 -87.652220        member  Sunday   27     12  2020   \n",
       "131422  41.921540 -87.653818        member  Sunday   27     12  2020   \n",
       "131561  41.838842 -87.621857        casual  Sunday   27     12  2020   \n",
       "\n",
       "        ride_length_s            year_month dayofweek_weekday  \n",
       "6            5.583333    2021 - 1 (January)        0 - Monday  \n",
       "44          27.350000    2021 - 1 (January)        0 - Monday  \n",
       "105         24.066667    2021 - 1 (January)        0 - Monday  \n",
       "175         74.616667    2021 - 1 (January)        0 - Monday  \n",
       "186          3.066667    2021 - 1 (January)        0 - Monday  \n",
       "...               ...                   ...               ...  \n",
       "131248      11.250000  2020 - 12 (December)        6 - Sunday  \n",
       "131249      20.066667  2020 - 12 (December)        6 - Sunday  \n",
       "131421       2.483333  2020 - 12 (December)        6 - Sunday  \n",
       "131422       2.166667  2020 - 12 (December)        6 - Sunday  \n",
       "131561       3.766667  2020 - 12 (December)        6 - Sunday  \n",
       "\n",
       "[3489539 rows x 20 columns]"
      ]
     },
     "execution_count": 57,
     "metadata": {},
     "output_type": "execute_result"
    }
   ],
   "source": [
    "\n",
    "tripdataV2\n",
    "\n"
   ]
  },
  {
   "cell_type": "code",
   "execution_count": null,
   "id": "2f1c170b",
   "metadata": {
    "papermill": {
     "duration": 0.035709,
     "end_time": "2022-06-13T13:26:19.519918",
     "exception": false,
     "start_time": "2022-06-13T13:26:19.484209",
     "status": "completed"
    },
    "tags": []
   },
   "outputs": [],
   "source": []
  },
  {
   "cell_type": "code",
   "execution_count": 58,
   "id": "c0ab77a0",
   "metadata": {
    "execution": {
     "iopub.execute_input": "2022-06-13T13:26:19.593552Z",
     "iopub.status.busy": "2022-06-13T13:26:19.593105Z",
     "iopub.status.idle": "2022-06-13T13:26:20.944309Z",
     "shell.execute_reply": "2022-06-13T13:26:20.943440Z"
    },
    "papermill": {
     "duration": 1.390203,
     "end_time": "2022-06-13T13:26:20.946240",
     "exception": false,
     "start_time": "2022-06-13T13:26:19.556037",
     "status": "completed"
    },
    "tags": []
   },
   "outputs": [
    {
     "data": {
      "text/html": [
       "<div>\n",
       "<style scoped>\n",
       "    .dataframe tbody tr th:only-of-type {\n",
       "        vertical-align: middle;\n",
       "    }\n",
       "\n",
       "    .dataframe tbody tr th {\n",
       "        vertical-align: top;\n",
       "    }\n",
       "\n",
       "    .dataframe thead tr th {\n",
       "        text-align: left;\n",
       "    }\n",
       "\n",
       "    .dataframe thead tr:last-of-type th {\n",
       "        text-align: right;\n",
       "    }\n",
       "</style>\n",
       "<table border=\"1\" class=\"dataframe\">\n",
       "  <thead>\n",
       "    <tr>\n",
       "      <th></th>\n",
       "      <th></th>\n",
       "      <th colspan=\"3\" halign=\"left\">ride_length_s</th>\n",
       "    </tr>\n",
       "    <tr>\n",
       "      <th></th>\n",
       "      <th></th>\n",
       "      <th>count</th>\n",
       "      <th>median</th>\n",
       "      <th>mean</th>\n",
       "    </tr>\n",
       "    <tr>\n",
       "      <th>dayofweek_weekday</th>\n",
       "      <th>member_casual</th>\n",
       "      <th></th>\n",
       "      <th></th>\n",
       "      <th></th>\n",
       "    </tr>\n",
       "  </thead>\n",
       "  <tbody>\n",
       "    <tr>\n",
       "      <th rowspan=\"2\" valign=\"top\">0 - Monday</th>\n",
       "      <th>casual</th>\n",
       "      <td>151460</td>\n",
       "      <td>20.766667</td>\n",
       "      <td>39.383136</td>\n",
       "    </tr>\n",
       "    <tr>\n",
       "      <th>member</th>\n",
       "      <td>268096</td>\n",
       "      <td>10.850000</td>\n",
       "      <td>18.887450</td>\n",
       "    </tr>\n",
       "    <tr>\n",
       "      <th rowspan=\"2\" valign=\"top\">1 - Tuesday</th>\n",
       "      <th>casual</th>\n",
       "      <td>145635</td>\n",
       "      <td>19.133333</td>\n",
       "      <td>37.277237</td>\n",
       "    </tr>\n",
       "    <tr>\n",
       "      <th>member</th>\n",
       "      <td>285448</td>\n",
       "      <td>10.900000</td>\n",
       "      <td>19.703968</td>\n",
       "    </tr>\n",
       "    <tr>\n",
       "      <th rowspan=\"2\" valign=\"top\">2 - Wednesday</th>\n",
       "      <th>casual</th>\n",
       "      <td>158691</td>\n",
       "      <td>18.583333</td>\n",
       "      <td>35.648418</td>\n",
       "    </tr>\n",
       "    <tr>\n",
       "      <th>member</th>\n",
       "      <td>306113</td>\n",
       "      <td>10.983333</td>\n",
       "      <td>19.562557</td>\n",
       "    </tr>\n",
       "    <tr>\n",
       "      <th rowspan=\"2\" valign=\"top\">3 - Thursday</th>\n",
       "      <th>casual</th>\n",
       "      <td>166672</td>\n",
       "      <td>18.700000</td>\n",
       "      <td>36.038682</td>\n",
       "    </tr>\n",
       "    <tr>\n",
       "      <th>member</th>\n",
       "      <td>301321</td>\n",
       "      <td>10.983333</td>\n",
       "      <td>18.930671</td>\n",
       "    </tr>\n",
       "    <tr>\n",
       "      <th rowspan=\"2\" valign=\"top\">4 - Friday</th>\n",
       "      <th>casual</th>\n",
       "      <td>209131</td>\n",
       "      <td>19.866667</td>\n",
       "      <td>39.188121</td>\n",
       "    </tr>\n",
       "    <tr>\n",
       "      <th>member</th>\n",
       "      <td>307671</td>\n",
       "      <td>11.333333</td>\n",
       "      <td>21.296726</td>\n",
       "    </tr>\n",
       "    <tr>\n",
       "      <th rowspan=\"2\" valign=\"top\">5 - Saturday</th>\n",
       "      <th>casual</th>\n",
       "      <td>335901</td>\n",
       "      <td>23.516667</td>\n",
       "      <td>43.176450</td>\n",
       "    </tr>\n",
       "    <tr>\n",
       "      <th>member</th>\n",
       "      <td>324283</td>\n",
       "      <td>12.983333</td>\n",
       "      <td>22.395178</td>\n",
       "    </tr>\n",
       "    <tr>\n",
       "      <th rowspan=\"2\" valign=\"top\">6 - Sunday</th>\n",
       "      <th>casual</th>\n",
       "      <td>262861</td>\n",
       "      <td>24.583333</td>\n",
       "      <td>44.528546</td>\n",
       "    </tr>\n",
       "    <tr>\n",
       "      <th>member</th>\n",
       "      <td>266256</td>\n",
       "      <td>13.050000</td>\n",
       "      <td>22.546131</td>\n",
       "    </tr>\n",
       "  </tbody>\n",
       "</table>\n",
       "</div>"
      ],
      "text/plain": [
       "                                ride_length_s                      \n",
       "                                        count     median       mean\n",
       "dayofweek_weekday member_casual                                    \n",
       "0 - Monday        casual               151460  20.766667  39.383136\n",
       "                  member               268096  10.850000  18.887450\n",
       "1 - Tuesday       casual               145635  19.133333  37.277237\n",
       "                  member               285448  10.900000  19.703968\n",
       "2 - Wednesday     casual               158691  18.583333  35.648418\n",
       "                  member               306113  10.983333  19.562557\n",
       "3 - Thursday      casual               166672  18.700000  36.038682\n",
       "                  member               301321  10.983333  18.930671\n",
       "4 - Friday        casual               209131  19.866667  39.188121\n",
       "                  member               307671  11.333333  21.296726\n",
       "5 - Saturday      casual               335901  23.516667  43.176450\n",
       "                  member               324283  12.983333  22.395178\n",
       "6 - Sunday        casual               262861  24.583333  44.528546\n",
       "                  member               266256  13.050000  22.546131"
      ]
     },
     "execution_count": 58,
     "metadata": {},
     "output_type": "execute_result"
    }
   ],
   "source": [
    "# Sort the values by dayofweek_weekday, group them by dayofweek_weekday and member_casual and used the agregate function to find the count median and mean.\n",
    "\n",
    "tripdataV2.groupby([\"dayofweek_weekday\", \"member_casual\"]).aggregate({\"ride_length_s\":['count', 'median', \"mean\"]}).sort_values(\"dayofweek_weekday\")\n"
   ]
  },
  {
   "cell_type": "code",
   "execution_count": null,
   "id": "d565745b",
   "metadata": {
    "papermill": {
     "duration": 0.037985,
     "end_time": "2022-06-13T13:26:21.020857",
     "exception": false,
     "start_time": "2022-06-13T13:26:20.982872",
     "status": "completed"
    },
    "tags": []
   },
   "outputs": [],
   "source": []
  },
  {
   "cell_type": "code",
   "execution_count": 59,
   "id": "939177d6",
   "metadata": {
    "execution": {
     "iopub.execute_input": "2022-06-13T13:26:21.095178Z",
     "iopub.status.busy": "2022-06-13T13:26:21.094549Z",
     "iopub.status.idle": "2022-06-13T13:26:21.098243Z",
     "shell.execute_reply": "2022-06-13T13:26:21.097561Z"
    },
    "papermill": {
     "duration": 0.042245,
     "end_time": "2022-06-13T13:26:21.100246",
     "exception": false,
     "start_time": "2022-06-13T13:26:21.058001",
     "status": "completed"
    },
    "tags": []
   },
   "outputs": [],
   "source": [
    "# tripdataV2.groupby([\"weekday\", \"member_casual\"]).aggregate({\"ride_length_s\":['count', 'median', \"mean\"]}).reindex_like(new_index)"
   ]
  }
 ],
 "metadata": {
  "kernelspec": {
   "display_name": "Python 3",
   "language": "python",
   "name": "python3"
  },
  "language_info": {
   "codemirror_mode": {
    "name": "ipython",
    "version": 3
   },
   "file_extension": ".py",
   "mimetype": "text/x-python",
   "name": "python",
   "nbconvert_exporter": "python",
   "pygments_lexer": "ipython3",
   "version": "3.7.12"
  },
  "papermill": {
   "default_parameters": {},
   "duration": 166.111011,
   "end_time": "2022-06-13T13:26:23.758933",
   "environment_variables": {},
   "exception": null,
   "input_path": "__notebook__.ipynb",
   "output_path": "__notebook__.ipynb",
   "parameters": {},
   "start_time": "2022-06-13T13:23:37.647922",
   "version": "2.3.4"
  }
 },
 "nbformat": 4,
 "nbformat_minor": 5
}
