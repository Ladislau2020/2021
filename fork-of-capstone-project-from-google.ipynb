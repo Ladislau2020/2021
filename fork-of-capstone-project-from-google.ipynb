{
 "cells": [
  {
   "cell_type": "markdown",
   "id": "cd06f229",
   "metadata": {
    "papermill": {
     "duration": 0.022003,
     "end_time": "2022-06-11T04:39:38.352835",
     "exception": false,
     "start_time": "2022-06-11T04:39:38.330832",
     "status": "completed"
    },
    "tags": []
   },
   "source": [
    "# Google data analytics Capstone Project: How does a bike-share navigate speedy success\n",
    "\n",
    "Author: **[Ladislau André](http://https://ladislau2020.github.io/2021/CV/index.html)**\n",
    "dataset: [Cyclistic Dataset](http://)\n",
    "Date: *04-06-2022*\n",
    "\n"
   ]
  },
  {
   "cell_type": "markdown",
   "id": "c84a8bae",
   "metadata": {
    "papermill": {
     "duration": 0.020081,
     "end_time": "2022-06-11T04:39:38.393842",
     "exception": false,
     "start_time": "2022-06-11T04:39:38.373761",
     "status": "completed"
    },
    "tags": []
   },
   "source": [
    "## Introduction\n"
   ]
  },
  {
   "cell_type": "markdown",
   "id": "bb0f5bc6",
   "metadata": {
    "papermill": {
     "duration": 0.022016,
     "end_time": "2022-06-11T04:39:38.436047",
     "exception": false,
     "start_time": "2022-06-11T04:39:38.414031",
     "status": "completed"
    },
    "tags": []
   },
   "source": [
    "### Loading the libraries\n",
    "We will be importing the pandas library for the ETL process."
   ]
  },
  {
   "cell_type": "code",
   "execution_count": null,
   "id": "d0e5f10e",
   "metadata": {
    "papermill": {
     "duration": 0.020451,
     "end_time": "2022-06-11T04:39:38.476965",
     "exception": false,
     "start_time": "2022-06-11T04:39:38.456514",
     "status": "completed"
    },
    "tags": []
   },
   "outputs": [],
   "source": []
  },
  {
   "cell_type": "code",
   "execution_count": 1,
   "id": "35e03460",
   "metadata": {
    "execution": {
     "iopub.execute_input": "2022-06-11T04:39:38.520257Z",
     "iopub.status.busy": "2022-06-11T04:39:38.519661Z",
     "iopub.status.idle": "2022-06-11T04:39:38.529543Z",
     "shell.execute_reply": "2022-06-11T04:39:38.528673Z"
    },
    "papermill": {
     "duration": 0.034123,
     "end_time": "2022-06-11T04:39:38.531956",
     "exception": false,
     "start_time": "2022-06-11T04:39:38.497833",
     "status": "completed"
    },
    "tags": []
   },
   "outputs": [],
   "source": [
    "import pandas as pd "
   ]
  },
  {
   "cell_type": "code",
   "execution_count": null,
   "id": "86beb828",
   "metadata": {
    "papermill": {
     "duration": 0.019809,
     "end_time": "2022-06-11T04:39:38.571966",
     "exception": false,
     "start_time": "2022-06-11T04:39:38.552157",
     "status": "completed"
    },
    "tags": []
   },
   "outputs": [],
   "source": []
  },
  {
   "cell_type": "markdown",
   "id": "51fc2465",
   "metadata": {
    "papermill": {
     "duration": 0.019923,
     "end_time": "2022-06-11T04:39:38.612823",
     "exception": false,
     "start_time": "2022-06-11T04:39:38.592900",
     "status": "completed"
    },
    "tags": []
   },
   "source": [
    "### Loading the Dataset\n",
    "\n",
    "As earlier said we are going to be using the cyclist dataset for the last 12 months for this project."
   ]
  },
  {
   "cell_type": "code",
   "execution_count": null,
   "id": "caa2f3f2",
   "metadata": {
    "papermill": {
     "duration": 0.019897,
     "end_time": "2022-06-11T04:39:38.653030",
     "exception": false,
     "start_time": "2022-06-11T04:39:38.633133",
     "status": "completed"
    },
    "tags": []
   },
   "outputs": [],
   "source": []
  },
  {
   "cell_type": "code",
   "execution_count": 2,
   "id": "0a65d93a",
   "metadata": {
    "execution": {
     "iopub.execute_input": "2022-06-11T04:39:38.695911Z",
     "iopub.status.busy": "2022-06-11T04:39:38.695258Z",
     "iopub.status.idle": "2022-06-11T04:40:00.242018Z",
     "shell.execute_reply": "2022-06-11T04:40:00.241028Z"
    },
    "papermill": {
     "duration": 21.571237,
     "end_time": "2022-06-11T04:40:00.244797",
     "exception": false,
     "start_time": "2022-06-11T04:39:38.673560",
     "status": "completed"
    },
    "tags": []
   },
   "outputs": [],
   "source": [
    "\n",
    "month1 = pd.read_csv(\"../input/cyclistic-bike-share/202004-divvy-tripdata.csv\")\n",
    "month2 = pd.read_csv(\"../input/cyclistic-bike-share/202005-divvy-tripdata.csv\")\n",
    "month3 = pd.read_csv(\"../input/cyclistic-bike-share/202006-divvy-tripdata.csv\")\n",
    "month4 = pd.read_csv(\"../input/cyclistic-bike-share/202007-divvy-tripdata.csv\")\n",
    "month5 = pd.read_csv(\"../input/cyclistic-bike-share/202008-divvy-tripdata.csv\")\n",
    "month6 = pd.read_csv(\"../input/cyclistic-bike-share/202009-divvy-tripdata.csv\")\n",
    "month7 = pd.read_csv(\"../input/cyclistic-bike-share/202010-divvy-tripdata.csv\")\n",
    "month8 = pd.read_csv(\"../input/cyclistic-bike-share/202011-divvy-tripdata.csv\")\n",
    "month9 = pd.read_csv(\"../input/cyclistic-bike-share/202012-divvy-tripdata.csv\")\n",
    "month10 = pd.read_csv(\"../input/cyclistic-bike-share/202101-divvy-tripdata.csv\")\n",
    "month11 = pd.read_csv(\"../input/cyclistic-bike-share/202102-divvy-tripdata.csv\")\n",
    "month12 = pd.read_csv(\"../input/cyclistic-bike-share/202103-divvy-tripdata.csv\")\n",
    "\n",
    "# after loading the dataset we are going to bind them using the concat function\n",
    "\n",
    "tripdata = pd.concat([month1, month2, month3, month4, month5, month6, month7, month8, month9, month10, month11, month12])\n"
   ]
  },
  {
   "cell_type": "markdown",
   "id": "ac12b633",
   "metadata": {
    "papermill": {
     "duration": 0.020461,
     "end_time": "2022-06-11T04:40:00.285773",
     "exception": false,
     "start_time": "2022-06-11T04:40:00.265312",
     "status": "completed"
    },
    "tags": []
   },
   "source": [
    "### Inspecting my dataset and gain insights about it\n",
    "\n",
    "I will be using functions allowing me to inspect the dataset and get to know more about it."
   ]
  },
  {
   "cell_type": "markdown",
   "id": "c2ce1ae4",
   "metadata": {
    "papermill": {
     "duration": 0.020114,
     "end_time": "2022-06-11T04:40:00.326146",
     "exception": false,
     "start_time": "2022-06-11T04:40:00.306032",
     "status": "completed"
    },
    "tags": []
   },
   "source": []
  },
  {
   "cell_type": "code",
   "execution_count": 3,
   "id": "670a812f",
   "metadata": {
    "execution": {
     "iopub.execute_input": "2022-06-11T04:40:00.368566Z",
     "iopub.status.busy": "2022-06-11T04:40:00.368144Z",
     "iopub.status.idle": "2022-06-11T04:40:00.386827Z",
     "shell.execute_reply": "2022-06-11T04:40:00.385725Z"
    },
    "papermill": {
     "duration": 0.044784,
     "end_time": "2022-06-11T04:40:00.391238",
     "exception": false,
     "start_time": "2022-06-11T04:40:00.346454",
     "status": "completed"
    },
    "tags": []
   },
   "outputs": [
    {
     "name": "stdout",
     "output_type": "stream",
     "text": [
      "                 ride_id  rideable_type           started_at  \\\n",
      "0       A847FADBBC638E45    docked_bike  2020-04-26 17:45:14   \n",
      "1       5405B80E996FF60D    docked_bike  2020-04-17 17:08:54   \n",
      "2       5DD24A79A4E006F4    docked_bike  2020-04-01 17:54:13   \n",
      "3       2A59BBDF5CDBA725    docked_bike  2020-04-07 12:50:19   \n",
      "4       27AD306C119C6158    docked_bike  2020-04-18 10:22:59   \n",
      "...                  ...            ...                  ...   \n",
      "228491  9397BDD14798A1BA    docked_bike  2021-03-20 14:58:56   \n",
      "228492  BBBEB8D51AAD40DA   classic_bike  2021-03-02 11:35:10   \n",
      "228493  637FF754DA0BD9E1   classic_bike  2021-03-09 11:07:36   \n",
      "228494  F8F43A0B978A7A35   classic_bike  2021-03-01 18:11:57   \n",
      "228495  3AE64EA5BF43CF72  electric_bike  2021-03-26 17:58:14   \n",
      "\n",
      "                   ended_at            start_station_name start_station_id  \\\n",
      "0       2020-04-26 18:12:03                  Eckhart Park               86   \n",
      "1       2020-04-17 17:17:03     Drake Ave & Fullerton Ave              503   \n",
      "2       2020-04-01 18:08:36          McClurg Ct & Erie St              142   \n",
      "3       2020-04-07 13:02:31  California Ave & Division St              216   \n",
      "4       2020-04-18 11:15:54          Rush St & Hubbard St              125   \n",
      "...                     ...                           ...              ...   \n",
      "228491  2021-03-20 17:22:47         Michigan Ave & Oak St            13042   \n",
      "228492  2021-03-02 11:43:37      Kingsbury St & Kinzie St     KA1503000043   \n",
      "228493  2021-03-09 11:49:11         Michigan Ave & Oak St            13042   \n",
      "228494  2021-03-01 18:18:37      Kingsbury St & Kinzie St     KA1503000043   \n",
      "228495  2021-03-26 18:06:43                           NaN              NaN   \n",
      "\n",
      "                   end_station_name end_station_id  start_lat  start_lng  \\\n",
      "0       Lincoln Ave & Diversey Pkwy          152.0  41.896400 -87.661000   \n",
      "1                   Kosciuszko Park          499.0  41.924400 -87.715400   \n",
      "2        Indiana Ave & Roosevelt Rd          255.0  41.894500 -87.617900   \n",
      "3            Wood St & Augusta Blvd          657.0  41.903000 -87.697500   \n",
      "4        Sheridan Rd & Lawrence Ave          323.0  41.890200 -87.626200   \n",
      "...                             ...            ...        ...        ...   \n",
      "228491         New St & Illinois St   TA1306000013  41.900960 -87.623777   \n",
      "228492         New St & Illinois St   TA1306000013  41.889177 -87.638506   \n",
      "228493        Clark St & Berwyn Ave   KA1504000146  41.900960 -87.623777   \n",
      "228494         New St & Illinois St   TA1306000013  41.889177 -87.638506   \n",
      "228495         New St & Illinois St   TA1306000013  41.880000 -87.630000   \n",
      "\n",
      "          end_lat    end_lng member_casual  \n",
      "0       41.932200 -87.658600        member  \n",
      "1       41.930600 -87.723800        member  \n",
      "2       41.867900 -87.623000        member  \n",
      "3       41.899200 -87.672200        member  \n",
      "4       41.969500 -87.654700        casual  \n",
      "...           ...        ...           ...  \n",
      "228491  41.890847 -87.618617        casual  \n",
      "228492  41.890847 -87.618617        member  \n",
      "228493  41.977997 -87.668047        member  \n",
      "228494  41.890847 -87.618617        member  \n",
      "228495  41.890818 -87.619540        member  \n",
      "\n",
      "[3489748 rows x 13 columns]\n"
     ]
    }
   ],
   "source": [
    "print(tripdata)"
   ]
  },
  {
   "cell_type": "markdown",
   "id": "1984f2a6",
   "metadata": {
    "papermill": {
     "duration": 0.022411,
     "end_time": "2022-06-11T04:40:00.436370",
     "exception": false,
     "start_time": "2022-06-11T04:40:00.413959",
     "status": "completed"
    },
    "tags": []
   },
   "source": [
    "We have merged the whole data and we could notice that it has [3489748 rows x 13 columns] "
   ]
  },
  {
   "cell_type": "code",
   "execution_count": 4,
   "id": "7d475a75",
   "metadata": {
    "execution": {
     "iopub.execute_input": "2022-06-11T04:40:00.481178Z",
     "iopub.status.busy": "2022-06-11T04:40:00.480187Z",
     "iopub.status.idle": "2022-06-11T04:40:00.504721Z",
     "shell.execute_reply": "2022-06-11T04:40:00.503905Z"
    },
    "papermill": {
     "duration": 0.049129,
     "end_time": "2022-06-11T04:40:00.506764",
     "exception": false,
     "start_time": "2022-06-11T04:40:00.457635",
     "status": "completed"
    },
    "tags": []
   },
   "outputs": [
    {
     "data": {
      "text/html": [
       "<div>\n",
       "<style scoped>\n",
       "    .dataframe tbody tr th:only-of-type {\n",
       "        vertical-align: middle;\n",
       "    }\n",
       "\n",
       "    .dataframe tbody tr th {\n",
       "        vertical-align: top;\n",
       "    }\n",
       "\n",
       "    .dataframe thead th {\n",
       "        text-align: right;\n",
       "    }\n",
       "</style>\n",
       "<table border=\"1\" class=\"dataframe\">\n",
       "  <thead>\n",
       "    <tr style=\"text-align: right;\">\n",
       "      <th></th>\n",
       "      <th>ride_id</th>\n",
       "      <th>rideable_type</th>\n",
       "      <th>started_at</th>\n",
       "      <th>ended_at</th>\n",
       "      <th>start_station_name</th>\n",
       "      <th>start_station_id</th>\n",
       "      <th>end_station_name</th>\n",
       "      <th>end_station_id</th>\n",
       "      <th>start_lat</th>\n",
       "      <th>start_lng</th>\n",
       "      <th>end_lat</th>\n",
       "      <th>end_lng</th>\n",
       "      <th>member_casual</th>\n",
       "    </tr>\n",
       "  </thead>\n",
       "  <tbody>\n",
       "    <tr>\n",
       "      <th>0</th>\n",
       "      <td>A847FADBBC638E45</td>\n",
       "      <td>docked_bike</td>\n",
       "      <td>2020-04-26 17:45:14</td>\n",
       "      <td>2020-04-26 18:12:03</td>\n",
       "      <td>Eckhart Park</td>\n",
       "      <td>86</td>\n",
       "      <td>Lincoln Ave &amp; Diversey Pkwy</td>\n",
       "      <td>152.0</td>\n",
       "      <td>41.8964</td>\n",
       "      <td>-87.6610</td>\n",
       "      <td>41.9322</td>\n",
       "      <td>-87.6586</td>\n",
       "      <td>member</td>\n",
       "    </tr>\n",
       "    <tr>\n",
       "      <th>1</th>\n",
       "      <td>5405B80E996FF60D</td>\n",
       "      <td>docked_bike</td>\n",
       "      <td>2020-04-17 17:08:54</td>\n",
       "      <td>2020-04-17 17:17:03</td>\n",
       "      <td>Drake Ave &amp; Fullerton Ave</td>\n",
       "      <td>503</td>\n",
       "      <td>Kosciuszko Park</td>\n",
       "      <td>499.0</td>\n",
       "      <td>41.9244</td>\n",
       "      <td>-87.7154</td>\n",
       "      <td>41.9306</td>\n",
       "      <td>-87.7238</td>\n",
       "      <td>member</td>\n",
       "    </tr>\n",
       "    <tr>\n",
       "      <th>2</th>\n",
       "      <td>5DD24A79A4E006F4</td>\n",
       "      <td>docked_bike</td>\n",
       "      <td>2020-04-01 17:54:13</td>\n",
       "      <td>2020-04-01 18:08:36</td>\n",
       "      <td>McClurg Ct &amp; Erie St</td>\n",
       "      <td>142</td>\n",
       "      <td>Indiana Ave &amp; Roosevelt Rd</td>\n",
       "      <td>255.0</td>\n",
       "      <td>41.8945</td>\n",
       "      <td>-87.6179</td>\n",
       "      <td>41.8679</td>\n",
       "      <td>-87.6230</td>\n",
       "      <td>member</td>\n",
       "    </tr>\n",
       "    <tr>\n",
       "      <th>3</th>\n",
       "      <td>2A59BBDF5CDBA725</td>\n",
       "      <td>docked_bike</td>\n",
       "      <td>2020-04-07 12:50:19</td>\n",
       "      <td>2020-04-07 13:02:31</td>\n",
       "      <td>California Ave &amp; Division St</td>\n",
       "      <td>216</td>\n",
       "      <td>Wood St &amp; Augusta Blvd</td>\n",
       "      <td>657.0</td>\n",
       "      <td>41.9030</td>\n",
       "      <td>-87.6975</td>\n",
       "      <td>41.8992</td>\n",
       "      <td>-87.6722</td>\n",
       "      <td>member</td>\n",
       "    </tr>\n",
       "    <tr>\n",
       "      <th>4</th>\n",
       "      <td>27AD306C119C6158</td>\n",
       "      <td>docked_bike</td>\n",
       "      <td>2020-04-18 10:22:59</td>\n",
       "      <td>2020-04-18 11:15:54</td>\n",
       "      <td>Rush St &amp; Hubbard St</td>\n",
       "      <td>125</td>\n",
       "      <td>Sheridan Rd &amp; Lawrence Ave</td>\n",
       "      <td>323.0</td>\n",
       "      <td>41.8902</td>\n",
       "      <td>-87.6262</td>\n",
       "      <td>41.9695</td>\n",
       "      <td>-87.6547</td>\n",
       "      <td>casual</td>\n",
       "    </tr>\n",
       "  </tbody>\n",
       "</table>\n",
       "</div>"
      ],
      "text/plain": [
       "            ride_id rideable_type           started_at             ended_at  \\\n",
       "0  A847FADBBC638E45   docked_bike  2020-04-26 17:45:14  2020-04-26 18:12:03   \n",
       "1  5405B80E996FF60D   docked_bike  2020-04-17 17:08:54  2020-04-17 17:17:03   \n",
       "2  5DD24A79A4E006F4   docked_bike  2020-04-01 17:54:13  2020-04-01 18:08:36   \n",
       "3  2A59BBDF5CDBA725   docked_bike  2020-04-07 12:50:19  2020-04-07 13:02:31   \n",
       "4  27AD306C119C6158   docked_bike  2020-04-18 10:22:59  2020-04-18 11:15:54   \n",
       "\n",
       "             start_station_name start_station_id             end_station_name  \\\n",
       "0                  Eckhart Park               86  Lincoln Ave & Diversey Pkwy   \n",
       "1     Drake Ave & Fullerton Ave              503              Kosciuszko Park   \n",
       "2          McClurg Ct & Erie St              142   Indiana Ave & Roosevelt Rd   \n",
       "3  California Ave & Division St              216       Wood St & Augusta Blvd   \n",
       "4          Rush St & Hubbard St              125   Sheridan Rd & Lawrence Ave   \n",
       "\n",
       "  end_station_id  start_lat  start_lng  end_lat  end_lng member_casual  \n",
       "0          152.0    41.8964   -87.6610  41.9322 -87.6586        member  \n",
       "1          499.0    41.9244   -87.7154  41.9306 -87.7238        member  \n",
       "2          255.0    41.8945   -87.6179  41.8679 -87.6230        member  \n",
       "3          657.0    41.9030   -87.6975  41.8992 -87.6722        member  \n",
       "4          323.0    41.8902   -87.6262  41.9695 -87.6547        casual  "
      ]
     },
     "execution_count": 4,
     "metadata": {},
     "output_type": "execute_result"
    }
   ],
   "source": [
    "#Watching the first five rows of the data for inspecting purposes\n",
    "\n",
    "tripdata.head()"
   ]
  },
  {
   "cell_type": "code",
   "execution_count": 5,
   "id": "c3f61e1a",
   "metadata": {
    "execution": {
     "iopub.execute_input": "2022-06-11T04:40:00.551000Z",
     "iopub.status.busy": "2022-06-11T04:40:00.550127Z",
     "iopub.status.idle": "2022-06-11T04:40:02.664832Z",
     "shell.execute_reply": "2022-06-11T04:40:02.664025Z"
    },
    "papermill": {
     "duration": 2.139204,
     "end_time": "2022-06-11T04:40:02.666967",
     "exception": false,
     "start_time": "2022-06-11T04:40:00.527763",
     "status": "completed"
    },
    "tags": []
   },
   "outputs": [
    {
     "data": {
      "text/html": [
       "<div>\n",
       "<style scoped>\n",
       "    .dataframe tbody tr th:only-of-type {\n",
       "        vertical-align: middle;\n",
       "    }\n",
       "\n",
       "    .dataframe tbody tr th {\n",
       "        vertical-align: top;\n",
       "    }\n",
       "\n",
       "    .dataframe thead th {\n",
       "        text-align: right;\n",
       "    }\n",
       "</style>\n",
       "<table border=\"1\" class=\"dataframe\">\n",
       "  <thead>\n",
       "    <tr style=\"text-align: right;\">\n",
       "      <th></th>\n",
       "      <th>start_lat</th>\n",
       "      <th>start_lng</th>\n",
       "      <th>end_lat</th>\n",
       "      <th>end_lng</th>\n",
       "    </tr>\n",
       "  </thead>\n",
       "  <tbody>\n",
       "    <tr>\n",
       "      <th>count</th>\n",
       "      <td>3.489748e+06</td>\n",
       "      <td>3.489748e+06</td>\n",
       "      <td>3.485010e+06</td>\n",
       "      <td>3.485010e+06</td>\n",
       "    </tr>\n",
       "    <tr>\n",
       "      <th>mean</th>\n",
       "      <td>4.190417e+01</td>\n",
       "      <td>-8.764494e+01</td>\n",
       "      <td>4.190444e+01</td>\n",
       "      <td>-8.764522e+01</td>\n",
       "    </tr>\n",
       "    <tr>\n",
       "      <th>std</th>\n",
       "      <td>4.364222e-02</td>\n",
       "      <td>2.575969e-02</td>\n",
       "      <td>4.373705e-02</td>\n",
       "      <td>2.589123e-02</td>\n",
       "    </tr>\n",
       "    <tr>\n",
       "      <th>min</th>\n",
       "      <td>4.164000e+01</td>\n",
       "      <td>-8.787000e+01</td>\n",
       "      <td>4.154000e+01</td>\n",
       "      <td>-8.807000e+01</td>\n",
       "    </tr>\n",
       "    <tr>\n",
       "      <th>25%</th>\n",
       "      <td>4.188224e+01</td>\n",
       "      <td>-8.765888e+01</td>\n",
       "      <td>4.188266e+01</td>\n",
       "      <td>-8.765917e+01</td>\n",
       "    </tr>\n",
       "    <tr>\n",
       "      <th>50%</th>\n",
       "      <td>4.190000e+01</td>\n",
       "      <td>-8.764170e+01</td>\n",
       "      <td>4.190068e+01</td>\n",
       "      <td>-8.764275e+01</td>\n",
       "    </tr>\n",
       "    <tr>\n",
       "      <th>75%</th>\n",
       "      <td>4.193000e+01</td>\n",
       "      <td>-8.762773e+01</td>\n",
       "      <td>4.193120e+01</td>\n",
       "      <td>-8.762775e+01</td>\n",
       "    </tr>\n",
       "    <tr>\n",
       "      <th>max</th>\n",
       "      <td>4.208000e+01</td>\n",
       "      <td>-8.752000e+01</td>\n",
       "      <td>4.216000e+01</td>\n",
       "      <td>-8.744000e+01</td>\n",
       "    </tr>\n",
       "  </tbody>\n",
       "</table>\n",
       "</div>"
      ],
      "text/plain": [
       "          start_lat     start_lng       end_lat       end_lng\n",
       "count  3.489748e+06  3.489748e+06  3.485010e+06  3.485010e+06\n",
       "mean   4.190417e+01 -8.764494e+01  4.190444e+01 -8.764522e+01\n",
       "std    4.364222e-02  2.575969e-02  4.373705e-02  2.589123e-02\n",
       "min    4.164000e+01 -8.787000e+01  4.154000e+01 -8.807000e+01\n",
       "25%    4.188224e+01 -8.765888e+01  4.188266e+01 -8.765917e+01\n",
       "50%    4.190000e+01 -8.764170e+01  4.190068e+01 -8.764275e+01\n",
       "75%    4.193000e+01 -8.762773e+01  4.193120e+01 -8.762775e+01\n",
       "max    4.208000e+01 -8.752000e+01  4.216000e+01 -8.744000e+01"
      ]
     },
     "execution_count": 5,
     "metadata": {},
     "output_type": "execute_result"
    }
   ],
   "source": [
    "#The main informations about my dataset as max, min and others\n",
    "\n",
    "tripdata.describe()"
   ]
  },
  {
   "cell_type": "code",
   "execution_count": 6,
   "id": "d4fdeb43",
   "metadata": {
    "execution": {
     "iopub.execute_input": "2022-06-11T04:40:02.711873Z",
     "iopub.status.busy": "2022-06-11T04:40:02.710939Z",
     "iopub.status.idle": "2022-06-11T04:40:02.729793Z",
     "shell.execute_reply": "2022-06-11T04:40:02.728754Z"
    },
    "papermill": {
     "duration": 0.043743,
     "end_time": "2022-06-11T04:40:02.731987",
     "exception": false,
     "start_time": "2022-06-11T04:40:02.688244",
     "status": "completed"
    },
    "tags": []
   },
   "outputs": [
    {
     "data": {
      "text/html": [
       "<div>\n",
       "<style scoped>\n",
       "    .dataframe tbody tr th:only-of-type {\n",
       "        vertical-align: middle;\n",
       "    }\n",
       "\n",
       "    .dataframe tbody tr th {\n",
       "        vertical-align: top;\n",
       "    }\n",
       "\n",
       "    .dataframe thead th {\n",
       "        text-align: right;\n",
       "    }\n",
       "</style>\n",
       "<table border=\"1\" class=\"dataframe\">\n",
       "  <thead>\n",
       "    <tr style=\"text-align: right;\">\n",
       "      <th></th>\n",
       "      <th>ride_id</th>\n",
       "      <th>rideable_type</th>\n",
       "      <th>started_at</th>\n",
       "      <th>ended_at</th>\n",
       "      <th>start_station_name</th>\n",
       "      <th>start_station_id</th>\n",
       "      <th>end_station_name</th>\n",
       "      <th>end_station_id</th>\n",
       "      <th>start_lat</th>\n",
       "      <th>start_lng</th>\n",
       "      <th>end_lat</th>\n",
       "      <th>end_lng</th>\n",
       "      <th>member_casual</th>\n",
       "    </tr>\n",
       "  </thead>\n",
       "  <tbody>\n",
       "    <tr>\n",
       "      <th>228491</th>\n",
       "      <td>9397BDD14798A1BA</td>\n",
       "      <td>docked_bike</td>\n",
       "      <td>2021-03-20 14:58:56</td>\n",
       "      <td>2021-03-20 17:22:47</td>\n",
       "      <td>Michigan Ave &amp; Oak St</td>\n",
       "      <td>13042</td>\n",
       "      <td>New St &amp; Illinois St</td>\n",
       "      <td>TA1306000013</td>\n",
       "      <td>41.900960</td>\n",
       "      <td>-87.623777</td>\n",
       "      <td>41.890847</td>\n",
       "      <td>-87.618617</td>\n",
       "      <td>casual</td>\n",
       "    </tr>\n",
       "    <tr>\n",
       "      <th>228492</th>\n",
       "      <td>BBBEB8D51AAD40DA</td>\n",
       "      <td>classic_bike</td>\n",
       "      <td>2021-03-02 11:35:10</td>\n",
       "      <td>2021-03-02 11:43:37</td>\n",
       "      <td>Kingsbury St &amp; Kinzie St</td>\n",
       "      <td>KA1503000043</td>\n",
       "      <td>New St &amp; Illinois St</td>\n",
       "      <td>TA1306000013</td>\n",
       "      <td>41.889177</td>\n",
       "      <td>-87.638506</td>\n",
       "      <td>41.890847</td>\n",
       "      <td>-87.618617</td>\n",
       "      <td>member</td>\n",
       "    </tr>\n",
       "    <tr>\n",
       "      <th>228493</th>\n",
       "      <td>637FF754DA0BD9E1</td>\n",
       "      <td>classic_bike</td>\n",
       "      <td>2021-03-09 11:07:36</td>\n",
       "      <td>2021-03-09 11:49:11</td>\n",
       "      <td>Michigan Ave &amp; Oak St</td>\n",
       "      <td>13042</td>\n",
       "      <td>Clark St &amp; Berwyn Ave</td>\n",
       "      <td>KA1504000146</td>\n",
       "      <td>41.900960</td>\n",
       "      <td>-87.623777</td>\n",
       "      <td>41.977997</td>\n",
       "      <td>-87.668047</td>\n",
       "      <td>member</td>\n",
       "    </tr>\n",
       "    <tr>\n",
       "      <th>228494</th>\n",
       "      <td>F8F43A0B978A7A35</td>\n",
       "      <td>classic_bike</td>\n",
       "      <td>2021-03-01 18:11:57</td>\n",
       "      <td>2021-03-01 18:18:37</td>\n",
       "      <td>Kingsbury St &amp; Kinzie St</td>\n",
       "      <td>KA1503000043</td>\n",
       "      <td>New St &amp; Illinois St</td>\n",
       "      <td>TA1306000013</td>\n",
       "      <td>41.889177</td>\n",
       "      <td>-87.638506</td>\n",
       "      <td>41.890847</td>\n",
       "      <td>-87.618617</td>\n",
       "      <td>member</td>\n",
       "    </tr>\n",
       "    <tr>\n",
       "      <th>228495</th>\n",
       "      <td>3AE64EA5BF43CF72</td>\n",
       "      <td>electric_bike</td>\n",
       "      <td>2021-03-26 17:58:14</td>\n",
       "      <td>2021-03-26 18:06:43</td>\n",
       "      <td>NaN</td>\n",
       "      <td>NaN</td>\n",
       "      <td>New St &amp; Illinois St</td>\n",
       "      <td>TA1306000013</td>\n",
       "      <td>41.880000</td>\n",
       "      <td>-87.630000</td>\n",
       "      <td>41.890818</td>\n",
       "      <td>-87.619540</td>\n",
       "      <td>member</td>\n",
       "    </tr>\n",
       "  </tbody>\n",
       "</table>\n",
       "</div>"
      ],
      "text/plain": [
       "                 ride_id  rideable_type           started_at  \\\n",
       "228491  9397BDD14798A1BA    docked_bike  2021-03-20 14:58:56   \n",
       "228492  BBBEB8D51AAD40DA   classic_bike  2021-03-02 11:35:10   \n",
       "228493  637FF754DA0BD9E1   classic_bike  2021-03-09 11:07:36   \n",
       "228494  F8F43A0B978A7A35   classic_bike  2021-03-01 18:11:57   \n",
       "228495  3AE64EA5BF43CF72  electric_bike  2021-03-26 17:58:14   \n",
       "\n",
       "                   ended_at        start_station_name start_station_id  \\\n",
       "228491  2021-03-20 17:22:47     Michigan Ave & Oak St            13042   \n",
       "228492  2021-03-02 11:43:37  Kingsbury St & Kinzie St     KA1503000043   \n",
       "228493  2021-03-09 11:49:11     Michigan Ave & Oak St            13042   \n",
       "228494  2021-03-01 18:18:37  Kingsbury St & Kinzie St     KA1503000043   \n",
       "228495  2021-03-26 18:06:43                       NaN              NaN   \n",
       "\n",
       "             end_station_name end_station_id  start_lat  start_lng    end_lat  \\\n",
       "228491   New St & Illinois St   TA1306000013  41.900960 -87.623777  41.890847   \n",
       "228492   New St & Illinois St   TA1306000013  41.889177 -87.638506  41.890847   \n",
       "228493  Clark St & Berwyn Ave   KA1504000146  41.900960 -87.623777  41.977997   \n",
       "228494   New St & Illinois St   TA1306000013  41.889177 -87.638506  41.890847   \n",
       "228495   New St & Illinois St   TA1306000013  41.880000 -87.630000  41.890818   \n",
       "\n",
       "          end_lng member_casual  \n",
       "228491 -87.618617        casual  \n",
       "228492 -87.618617        member  \n",
       "228493 -87.668047        member  \n",
       "228494 -87.618617        member  \n",
       "228495 -87.619540        member  "
      ]
     },
     "execution_count": 6,
     "metadata": {},
     "output_type": "execute_result"
    }
   ],
   "source": [
    "# This function shows random rows informations or observations\n",
    "\n",
    "tripdata.tail()"
   ]
  },
  {
   "cell_type": "code",
   "execution_count": 7,
   "id": "c173900d",
   "metadata": {
    "execution": {
     "iopub.execute_input": "2022-06-11T04:40:02.777784Z",
     "iopub.status.busy": "2022-06-11T04:40:02.777396Z",
     "iopub.status.idle": "2022-06-11T04:40:02.791385Z",
     "shell.execute_reply": "2022-06-11T04:40:02.790649Z"
    },
    "papermill": {
     "duration": 0.039974,
     "end_time": "2022-06-11T04:40:02.794199",
     "exception": false,
     "start_time": "2022-06-11T04:40:02.754225",
     "status": "completed"
    },
    "tags": []
   },
   "outputs": [
    {
     "name": "stdout",
     "output_type": "stream",
     "text": [
      "<class 'pandas.core.frame.DataFrame'>\n",
      "Int64Index: 3489748 entries, 0 to 228495\n",
      "Data columns (total 13 columns):\n",
      " #   Column              Dtype  \n",
      "---  ------              -----  \n",
      " 0   ride_id             object \n",
      " 1   rideable_type       object \n",
      " 2   started_at          object \n",
      " 3   ended_at            object \n",
      " 4   start_station_name  object \n",
      " 5   start_station_id    object \n",
      " 6   end_station_name    object \n",
      " 7   end_station_id      object \n",
      " 8   start_lat           float64\n",
      " 9   start_lng           float64\n",
      " 10  end_lat             float64\n",
      " 11  end_lng             float64\n",
      " 12  member_casual       object \n",
      "dtypes: float64(4), object(9)\n",
      "memory usage: 372.7+ MB\n"
     ]
    }
   ],
   "source": [
    "# More information about the data, this functions displays the type of the variables or columns\n",
    "# it also shows the count of the data format\n",
    "\n",
    "tripdata.info()"
   ]
  },
  {
   "cell_type": "markdown",
   "id": "f1bdb980",
   "metadata": {
    "papermill": {
     "duration": 0.022184,
     "end_time": "2022-06-11T04:40:02.838120",
     "exception": false,
     "start_time": "2022-06-11T04:40:02.815936",
     "status": "completed"
    },
    "tags": []
   },
   "source": [
    "**Now that we have a quick overview of what our dataframe looks like, we will clean the data and prepare for analysis**"
   ]
  },
  {
   "cell_type": "markdown",
   "id": "48d8b0b0",
   "metadata": {
    "papermill": {
     "duration": 0.022212,
     "end_time": "2022-06-11T04:40:02.882831",
     "exception": false,
     "start_time": "2022-06-11T04:40:02.860619",
     "status": "completed"
    },
    "tags": []
   },
   "source": [
    "# Data Cleaning Process\n",
    "**Remove duplicated rows using the ride_id variable**\n",
    "\n"
   ]
  },
  {
   "cell_type": "code",
   "execution_count": 8,
   "id": "0b334376",
   "metadata": {
    "execution": {
     "iopub.execute_input": "2022-06-11T04:40:02.928572Z",
     "iopub.status.busy": "2022-06-11T04:40:02.927946Z",
     "iopub.status.idle": "2022-06-11T04:40:05.398414Z",
     "shell.execute_reply": "2022-06-11T04:40:05.397323Z"
    },
    "papermill": {
     "duration": 2.497413,
     "end_time": "2022-06-11T04:40:05.401911",
     "exception": false,
     "start_time": "2022-06-11T04:40:02.904498",
     "status": "completed"
    },
    "tags": []
   },
   "outputs": [
    {
     "data": {
      "text/plain": [
       "209"
      ]
     },
     "execution_count": 8,
     "metadata": {},
     "output_type": "execute_result"
    }
   ],
   "source": [
    "# Using the duplicated() function combined with the sum() to have the total number of duplicated values\n",
    "\n",
    "tripdata[\"ride_id\"].duplicated().sum()\n",
    " "
   ]
  },
  {
   "cell_type": "code",
   "execution_count": null,
   "id": "4f0f973d",
   "metadata": {
    "papermill": {
     "duration": 0.026171,
     "end_time": "2022-06-11T04:40:05.450215",
     "exception": false,
     "start_time": "2022-06-11T04:40:05.424044",
     "status": "completed"
    },
    "tags": []
   },
   "outputs": [],
   "source": []
  },
  {
   "cell_type": "code",
   "execution_count": 9,
   "id": "77c33989",
   "metadata": {
    "execution": {
     "iopub.execute_input": "2022-06-11T04:40:05.497035Z",
     "iopub.status.busy": "2022-06-11T04:40:05.496648Z",
     "iopub.status.idle": "2022-06-11T04:40:12.276124Z",
     "shell.execute_reply": "2022-06-11T04:40:12.274965Z"
    },
    "papermill": {
     "duration": 6.805102,
     "end_time": "2022-06-11T04:40:12.278957",
     "exception": false,
     "start_time": "2022-06-11T04:40:05.473855",
     "status": "completed"
    },
    "tags": []
   },
   "outputs": [
    {
     "data": {
      "text/plain": [
       "EAB41740602B3BA6     True\n",
       "FF49C6C596507F0B     True\n",
       "87D4C892CA85DB8F     True\n",
       "86E0216311A75D74     True\n",
       "50031BC4290040DF     True\n",
       "                    ...  \n",
       "2200D3DB88D6541F    False\n",
       "0DBF9C9E5B2D15D7    False\n",
       "939883F8F15CF27B    False\n",
       "2B05690EF1C97E8B    False\n",
       "3AE64EA5BF43CF72    False\n",
       "Name: ride_id, Length: 3489539, dtype: bool"
      ]
     },
     "execution_count": 9,
     "metadata": {},
     "output_type": "execute_result"
    }
   ],
   "source": [
    "tripdata[\"ride_id\"].value_counts() > 1\n",
    "\n",
    "# we could see that there are duplicated values"
   ]
  },
  {
   "cell_type": "code",
   "execution_count": 10,
   "id": "2e11751b",
   "metadata": {
    "execution": {
     "iopub.execute_input": "2022-06-11T04:40:12.331956Z",
     "iopub.status.busy": "2022-06-11T04:40:12.331445Z",
     "iopub.status.idle": "2022-06-11T04:40:15.468276Z",
     "shell.execute_reply": "2022-06-11T04:40:15.467116Z"
    },
    "papermill": {
     "duration": 3.162679,
     "end_time": "2022-06-11T04:40:15.470506",
     "exception": false,
     "start_time": "2022-06-11T04:40:12.307827",
     "status": "completed"
    },
    "tags": []
   },
   "outputs": [
    {
     "data": {
      "text/html": [
       "<div>\n",
       "<style scoped>\n",
       "    .dataframe tbody tr th:only-of-type {\n",
       "        vertical-align: middle;\n",
       "    }\n",
       "\n",
       "    .dataframe tbody tr th {\n",
       "        vertical-align: top;\n",
       "    }\n",
       "\n",
       "    .dataframe thead th {\n",
       "        text-align: right;\n",
       "    }\n",
       "</style>\n",
       "<table border=\"1\" class=\"dataframe\">\n",
       "  <thead>\n",
       "    <tr style=\"text-align: right;\">\n",
       "      <th></th>\n",
       "      <th>ride_id</th>\n",
       "      <th>rideable_type</th>\n",
       "      <th>started_at</th>\n",
       "      <th>ended_at</th>\n",
       "      <th>start_station_name</th>\n",
       "      <th>start_station_id</th>\n",
       "      <th>end_station_name</th>\n",
       "      <th>end_station_id</th>\n",
       "      <th>start_lat</th>\n",
       "      <th>start_lng</th>\n",
       "      <th>end_lat</th>\n",
       "      <th>end_lng</th>\n",
       "      <th>member_casual</th>\n",
       "    </tr>\n",
       "  </thead>\n",
       "  <tbody>\n",
       "    <tr>\n",
       "      <th>0</th>\n",
       "      <td>A847FADBBC638E45</td>\n",
       "      <td>docked_bike</td>\n",
       "      <td>2020-04-26 17:45:14</td>\n",
       "      <td>2020-04-26 18:12:03</td>\n",
       "      <td>Eckhart Park</td>\n",
       "      <td>86</td>\n",
       "      <td>Lincoln Ave &amp; Diversey Pkwy</td>\n",
       "      <td>152.0</td>\n",
       "      <td>41.896400</td>\n",
       "      <td>-87.661000</td>\n",
       "      <td>41.932200</td>\n",
       "      <td>-87.658600</td>\n",
       "      <td>member</td>\n",
       "    </tr>\n",
       "    <tr>\n",
       "      <th>1</th>\n",
       "      <td>5405B80E996FF60D</td>\n",
       "      <td>docked_bike</td>\n",
       "      <td>2020-04-17 17:08:54</td>\n",
       "      <td>2020-04-17 17:17:03</td>\n",
       "      <td>Drake Ave &amp; Fullerton Ave</td>\n",
       "      <td>503</td>\n",
       "      <td>Kosciuszko Park</td>\n",
       "      <td>499.0</td>\n",
       "      <td>41.924400</td>\n",
       "      <td>-87.715400</td>\n",
       "      <td>41.930600</td>\n",
       "      <td>-87.723800</td>\n",
       "      <td>member</td>\n",
       "    </tr>\n",
       "    <tr>\n",
       "      <th>2</th>\n",
       "      <td>5DD24A79A4E006F4</td>\n",
       "      <td>docked_bike</td>\n",
       "      <td>2020-04-01 17:54:13</td>\n",
       "      <td>2020-04-01 18:08:36</td>\n",
       "      <td>McClurg Ct &amp; Erie St</td>\n",
       "      <td>142</td>\n",
       "      <td>Indiana Ave &amp; Roosevelt Rd</td>\n",
       "      <td>255.0</td>\n",
       "      <td>41.894500</td>\n",
       "      <td>-87.617900</td>\n",
       "      <td>41.867900</td>\n",
       "      <td>-87.623000</td>\n",
       "      <td>member</td>\n",
       "    </tr>\n",
       "    <tr>\n",
       "      <th>3</th>\n",
       "      <td>2A59BBDF5CDBA725</td>\n",
       "      <td>docked_bike</td>\n",
       "      <td>2020-04-07 12:50:19</td>\n",
       "      <td>2020-04-07 13:02:31</td>\n",
       "      <td>California Ave &amp; Division St</td>\n",
       "      <td>216</td>\n",
       "      <td>Wood St &amp; Augusta Blvd</td>\n",
       "      <td>657.0</td>\n",
       "      <td>41.903000</td>\n",
       "      <td>-87.697500</td>\n",
       "      <td>41.899200</td>\n",
       "      <td>-87.672200</td>\n",
       "      <td>member</td>\n",
       "    </tr>\n",
       "    <tr>\n",
       "      <th>4</th>\n",
       "      <td>27AD306C119C6158</td>\n",
       "      <td>docked_bike</td>\n",
       "      <td>2020-04-18 10:22:59</td>\n",
       "      <td>2020-04-18 11:15:54</td>\n",
       "      <td>Rush St &amp; Hubbard St</td>\n",
       "      <td>125</td>\n",
       "      <td>Sheridan Rd &amp; Lawrence Ave</td>\n",
       "      <td>323.0</td>\n",
       "      <td>41.890200</td>\n",
       "      <td>-87.626200</td>\n",
       "      <td>41.969500</td>\n",
       "      <td>-87.654700</td>\n",
       "      <td>casual</td>\n",
       "    </tr>\n",
       "    <tr>\n",
       "      <th>...</th>\n",
       "      <td>...</td>\n",
       "      <td>...</td>\n",
       "      <td>...</td>\n",
       "      <td>...</td>\n",
       "      <td>...</td>\n",
       "      <td>...</td>\n",
       "      <td>...</td>\n",
       "      <td>...</td>\n",
       "      <td>...</td>\n",
       "      <td>...</td>\n",
       "      <td>...</td>\n",
       "      <td>...</td>\n",
       "      <td>...</td>\n",
       "    </tr>\n",
       "    <tr>\n",
       "      <th>228491</th>\n",
       "      <td>9397BDD14798A1BA</td>\n",
       "      <td>docked_bike</td>\n",
       "      <td>2021-03-20 14:58:56</td>\n",
       "      <td>2021-03-20 17:22:47</td>\n",
       "      <td>Michigan Ave &amp; Oak St</td>\n",
       "      <td>13042</td>\n",
       "      <td>New St &amp; Illinois St</td>\n",
       "      <td>TA1306000013</td>\n",
       "      <td>41.900960</td>\n",
       "      <td>-87.623777</td>\n",
       "      <td>41.890847</td>\n",
       "      <td>-87.618617</td>\n",
       "      <td>casual</td>\n",
       "    </tr>\n",
       "    <tr>\n",
       "      <th>228492</th>\n",
       "      <td>BBBEB8D51AAD40DA</td>\n",
       "      <td>classic_bike</td>\n",
       "      <td>2021-03-02 11:35:10</td>\n",
       "      <td>2021-03-02 11:43:37</td>\n",
       "      <td>Kingsbury St &amp; Kinzie St</td>\n",
       "      <td>KA1503000043</td>\n",
       "      <td>New St &amp; Illinois St</td>\n",
       "      <td>TA1306000013</td>\n",
       "      <td>41.889177</td>\n",
       "      <td>-87.638506</td>\n",
       "      <td>41.890847</td>\n",
       "      <td>-87.618617</td>\n",
       "      <td>member</td>\n",
       "    </tr>\n",
       "    <tr>\n",
       "      <th>228493</th>\n",
       "      <td>637FF754DA0BD9E1</td>\n",
       "      <td>classic_bike</td>\n",
       "      <td>2021-03-09 11:07:36</td>\n",
       "      <td>2021-03-09 11:49:11</td>\n",
       "      <td>Michigan Ave &amp; Oak St</td>\n",
       "      <td>13042</td>\n",
       "      <td>Clark St &amp; Berwyn Ave</td>\n",
       "      <td>KA1504000146</td>\n",
       "      <td>41.900960</td>\n",
       "      <td>-87.623777</td>\n",
       "      <td>41.977997</td>\n",
       "      <td>-87.668047</td>\n",
       "      <td>member</td>\n",
       "    </tr>\n",
       "    <tr>\n",
       "      <th>228494</th>\n",
       "      <td>F8F43A0B978A7A35</td>\n",
       "      <td>classic_bike</td>\n",
       "      <td>2021-03-01 18:11:57</td>\n",
       "      <td>2021-03-01 18:18:37</td>\n",
       "      <td>Kingsbury St &amp; Kinzie St</td>\n",
       "      <td>KA1503000043</td>\n",
       "      <td>New St &amp; Illinois St</td>\n",
       "      <td>TA1306000013</td>\n",
       "      <td>41.889177</td>\n",
       "      <td>-87.638506</td>\n",
       "      <td>41.890847</td>\n",
       "      <td>-87.618617</td>\n",
       "      <td>member</td>\n",
       "    </tr>\n",
       "    <tr>\n",
       "      <th>228495</th>\n",
       "      <td>3AE64EA5BF43CF72</td>\n",
       "      <td>electric_bike</td>\n",
       "      <td>2021-03-26 17:58:14</td>\n",
       "      <td>2021-03-26 18:06:43</td>\n",
       "      <td>NaN</td>\n",
       "      <td>NaN</td>\n",
       "      <td>New St &amp; Illinois St</td>\n",
       "      <td>TA1306000013</td>\n",
       "      <td>41.880000</td>\n",
       "      <td>-87.630000</td>\n",
       "      <td>41.890818</td>\n",
       "      <td>-87.619540</td>\n",
       "      <td>member</td>\n",
       "    </tr>\n",
       "  </tbody>\n",
       "</table>\n",
       "<p>3489539 rows × 13 columns</p>\n",
       "</div>"
      ],
      "text/plain": [
       "                 ride_id  rideable_type           started_at  \\\n",
       "0       A847FADBBC638E45    docked_bike  2020-04-26 17:45:14   \n",
       "1       5405B80E996FF60D    docked_bike  2020-04-17 17:08:54   \n",
       "2       5DD24A79A4E006F4    docked_bike  2020-04-01 17:54:13   \n",
       "3       2A59BBDF5CDBA725    docked_bike  2020-04-07 12:50:19   \n",
       "4       27AD306C119C6158    docked_bike  2020-04-18 10:22:59   \n",
       "...                  ...            ...                  ...   \n",
       "228491  9397BDD14798A1BA    docked_bike  2021-03-20 14:58:56   \n",
       "228492  BBBEB8D51AAD40DA   classic_bike  2021-03-02 11:35:10   \n",
       "228493  637FF754DA0BD9E1   classic_bike  2021-03-09 11:07:36   \n",
       "228494  F8F43A0B978A7A35   classic_bike  2021-03-01 18:11:57   \n",
       "228495  3AE64EA5BF43CF72  electric_bike  2021-03-26 17:58:14   \n",
       "\n",
       "                   ended_at            start_station_name start_station_id  \\\n",
       "0       2020-04-26 18:12:03                  Eckhart Park               86   \n",
       "1       2020-04-17 17:17:03     Drake Ave & Fullerton Ave              503   \n",
       "2       2020-04-01 18:08:36          McClurg Ct & Erie St              142   \n",
       "3       2020-04-07 13:02:31  California Ave & Division St              216   \n",
       "4       2020-04-18 11:15:54          Rush St & Hubbard St              125   \n",
       "...                     ...                           ...              ...   \n",
       "228491  2021-03-20 17:22:47         Michigan Ave & Oak St            13042   \n",
       "228492  2021-03-02 11:43:37      Kingsbury St & Kinzie St     KA1503000043   \n",
       "228493  2021-03-09 11:49:11         Michigan Ave & Oak St            13042   \n",
       "228494  2021-03-01 18:18:37      Kingsbury St & Kinzie St     KA1503000043   \n",
       "228495  2021-03-26 18:06:43                           NaN              NaN   \n",
       "\n",
       "                   end_station_name end_station_id  start_lat  start_lng  \\\n",
       "0       Lincoln Ave & Diversey Pkwy          152.0  41.896400 -87.661000   \n",
       "1                   Kosciuszko Park          499.0  41.924400 -87.715400   \n",
       "2        Indiana Ave & Roosevelt Rd          255.0  41.894500 -87.617900   \n",
       "3            Wood St & Augusta Blvd          657.0  41.903000 -87.697500   \n",
       "4        Sheridan Rd & Lawrence Ave          323.0  41.890200 -87.626200   \n",
       "...                             ...            ...        ...        ...   \n",
       "228491         New St & Illinois St   TA1306000013  41.900960 -87.623777   \n",
       "228492         New St & Illinois St   TA1306000013  41.889177 -87.638506   \n",
       "228493        Clark St & Berwyn Ave   KA1504000146  41.900960 -87.623777   \n",
       "228494         New St & Illinois St   TA1306000013  41.889177 -87.638506   \n",
       "228495         New St & Illinois St   TA1306000013  41.880000 -87.630000   \n",
       "\n",
       "          end_lat    end_lng member_casual  \n",
       "0       41.932200 -87.658600        member  \n",
       "1       41.930600 -87.723800        member  \n",
       "2       41.867900 -87.623000        member  \n",
       "3       41.899200 -87.672200        member  \n",
       "4       41.969500 -87.654700        casual  \n",
       "...           ...        ...           ...  \n",
       "228491  41.890847 -87.618617        casual  \n",
       "228492  41.890847 -87.618617        member  \n",
       "228493  41.977997 -87.668047        member  \n",
       "228494  41.890847 -87.618617        member  \n",
       "228495  41.890818 -87.619540        member  \n",
       "\n",
       "[3489539 rows x 13 columns]"
      ]
     },
     "execution_count": 10,
     "metadata": {},
     "output_type": "execute_result"
    }
   ],
   "source": [
    "# assigning the filtered data to a new variable with the duplicates removed \n",
    "\n",
    "tripdataV1 = tripdata.drop_duplicates(subset=[\"ride_id\"])\n",
    "\n",
    "tripdataV1\n",
    "\n",
    "# It´s good to know that i have made the difference between the tripdata and the tripdata_filtered to have sure we removed the exact number of duplicated rows and yeah it was 209."
   ]
  },
  {
   "cell_type": "code",
   "execution_count": 11,
   "id": "59d97bc8",
   "metadata": {
    "execution": {
     "iopub.execute_input": "2022-06-11T04:40:15.518482Z",
     "iopub.status.busy": "2022-06-11T04:40:15.517834Z",
     "iopub.status.idle": "2022-06-11T04:40:15.541657Z",
     "shell.execute_reply": "2022-06-11T04:40:15.540531Z"
    },
    "papermill": {
     "duration": 0.050103,
     "end_time": "2022-06-11T04:40:15.544014",
     "exception": false,
     "start_time": "2022-06-11T04:40:15.493911",
     "status": "completed"
    },
    "tags": []
   },
   "outputs": [
    {
     "data": {
      "text/html": [
       "<div>\n",
       "<style scoped>\n",
       "    .dataframe tbody tr th:only-of-type {\n",
       "        vertical-align: middle;\n",
       "    }\n",
       "\n",
       "    .dataframe tbody tr th {\n",
       "        vertical-align: top;\n",
       "    }\n",
       "\n",
       "    .dataframe thead th {\n",
       "        text-align: right;\n",
       "    }\n",
       "</style>\n",
       "<table border=\"1\" class=\"dataframe\">\n",
       "  <thead>\n",
       "    <tr style=\"text-align: right;\">\n",
       "      <th></th>\n",
       "      <th>ride_id</th>\n",
       "      <th>rideable_type</th>\n",
       "      <th>started_at</th>\n",
       "      <th>ended_at</th>\n",
       "      <th>start_station_name</th>\n",
       "      <th>start_station_id</th>\n",
       "      <th>end_station_name</th>\n",
       "      <th>end_station_id</th>\n",
       "      <th>start_lat</th>\n",
       "      <th>start_lng</th>\n",
       "      <th>end_lat</th>\n",
       "      <th>end_lng</th>\n",
       "      <th>member_casual</th>\n",
       "    </tr>\n",
       "  </thead>\n",
       "  <tbody>\n",
       "    <tr>\n",
       "      <th>0</th>\n",
       "      <td>A847FADBBC638E45</td>\n",
       "      <td>docked_bike</td>\n",
       "      <td>2020-04-26 17:45:14</td>\n",
       "      <td>2020-04-26 18:12:03</td>\n",
       "      <td>Eckhart Park</td>\n",
       "      <td>86</td>\n",
       "      <td>Lincoln Ave &amp; Diversey Pkwy</td>\n",
       "      <td>152.0</td>\n",
       "      <td>41.896400</td>\n",
       "      <td>-87.661000</td>\n",
       "      <td>41.932200</td>\n",
       "      <td>-87.658600</td>\n",
       "      <td>member</td>\n",
       "    </tr>\n",
       "    <tr>\n",
       "      <th>1</th>\n",
       "      <td>5405B80E996FF60D</td>\n",
       "      <td>docked_bike</td>\n",
       "      <td>2020-04-17 17:08:54</td>\n",
       "      <td>2020-04-17 17:17:03</td>\n",
       "      <td>Drake Ave &amp; Fullerton Ave</td>\n",
       "      <td>503</td>\n",
       "      <td>Kosciuszko Park</td>\n",
       "      <td>499.0</td>\n",
       "      <td>41.924400</td>\n",
       "      <td>-87.715400</td>\n",
       "      <td>41.930600</td>\n",
       "      <td>-87.723800</td>\n",
       "      <td>member</td>\n",
       "    </tr>\n",
       "    <tr>\n",
       "      <th>2</th>\n",
       "      <td>5DD24A79A4E006F4</td>\n",
       "      <td>docked_bike</td>\n",
       "      <td>2020-04-01 17:54:13</td>\n",
       "      <td>2020-04-01 18:08:36</td>\n",
       "      <td>McClurg Ct &amp; Erie St</td>\n",
       "      <td>142</td>\n",
       "      <td>Indiana Ave &amp; Roosevelt Rd</td>\n",
       "      <td>255.0</td>\n",
       "      <td>41.894500</td>\n",
       "      <td>-87.617900</td>\n",
       "      <td>41.867900</td>\n",
       "      <td>-87.623000</td>\n",
       "      <td>member</td>\n",
       "    </tr>\n",
       "    <tr>\n",
       "      <th>3</th>\n",
       "      <td>2A59BBDF5CDBA725</td>\n",
       "      <td>docked_bike</td>\n",
       "      <td>2020-04-07 12:50:19</td>\n",
       "      <td>2020-04-07 13:02:31</td>\n",
       "      <td>California Ave &amp; Division St</td>\n",
       "      <td>216</td>\n",
       "      <td>Wood St &amp; Augusta Blvd</td>\n",
       "      <td>657.0</td>\n",
       "      <td>41.903000</td>\n",
       "      <td>-87.697500</td>\n",
       "      <td>41.899200</td>\n",
       "      <td>-87.672200</td>\n",
       "      <td>member</td>\n",
       "    </tr>\n",
       "    <tr>\n",
       "      <th>4</th>\n",
       "      <td>27AD306C119C6158</td>\n",
       "      <td>docked_bike</td>\n",
       "      <td>2020-04-18 10:22:59</td>\n",
       "      <td>2020-04-18 11:15:54</td>\n",
       "      <td>Rush St &amp; Hubbard St</td>\n",
       "      <td>125</td>\n",
       "      <td>Sheridan Rd &amp; Lawrence Ave</td>\n",
       "      <td>323.0</td>\n",
       "      <td>41.890200</td>\n",
       "      <td>-87.626200</td>\n",
       "      <td>41.969500</td>\n",
       "      <td>-87.654700</td>\n",
       "      <td>casual</td>\n",
       "    </tr>\n",
       "    <tr>\n",
       "      <th>...</th>\n",
       "      <td>...</td>\n",
       "      <td>...</td>\n",
       "      <td>...</td>\n",
       "      <td>...</td>\n",
       "      <td>...</td>\n",
       "      <td>...</td>\n",
       "      <td>...</td>\n",
       "      <td>...</td>\n",
       "      <td>...</td>\n",
       "      <td>...</td>\n",
       "      <td>...</td>\n",
       "      <td>...</td>\n",
       "      <td>...</td>\n",
       "    </tr>\n",
       "    <tr>\n",
       "      <th>228491</th>\n",
       "      <td>9397BDD14798A1BA</td>\n",
       "      <td>docked_bike</td>\n",
       "      <td>2021-03-20 14:58:56</td>\n",
       "      <td>2021-03-20 17:22:47</td>\n",
       "      <td>Michigan Ave &amp; Oak St</td>\n",
       "      <td>13042</td>\n",
       "      <td>New St &amp; Illinois St</td>\n",
       "      <td>TA1306000013</td>\n",
       "      <td>41.900960</td>\n",
       "      <td>-87.623777</td>\n",
       "      <td>41.890847</td>\n",
       "      <td>-87.618617</td>\n",
       "      <td>casual</td>\n",
       "    </tr>\n",
       "    <tr>\n",
       "      <th>228492</th>\n",
       "      <td>BBBEB8D51AAD40DA</td>\n",
       "      <td>classic_bike</td>\n",
       "      <td>2021-03-02 11:35:10</td>\n",
       "      <td>2021-03-02 11:43:37</td>\n",
       "      <td>Kingsbury St &amp; Kinzie St</td>\n",
       "      <td>KA1503000043</td>\n",
       "      <td>New St &amp; Illinois St</td>\n",
       "      <td>TA1306000013</td>\n",
       "      <td>41.889177</td>\n",
       "      <td>-87.638506</td>\n",
       "      <td>41.890847</td>\n",
       "      <td>-87.618617</td>\n",
       "      <td>member</td>\n",
       "    </tr>\n",
       "    <tr>\n",
       "      <th>228493</th>\n",
       "      <td>637FF754DA0BD9E1</td>\n",
       "      <td>classic_bike</td>\n",
       "      <td>2021-03-09 11:07:36</td>\n",
       "      <td>2021-03-09 11:49:11</td>\n",
       "      <td>Michigan Ave &amp; Oak St</td>\n",
       "      <td>13042</td>\n",
       "      <td>Clark St &amp; Berwyn Ave</td>\n",
       "      <td>KA1504000146</td>\n",
       "      <td>41.900960</td>\n",
       "      <td>-87.623777</td>\n",
       "      <td>41.977997</td>\n",
       "      <td>-87.668047</td>\n",
       "      <td>member</td>\n",
       "    </tr>\n",
       "    <tr>\n",
       "      <th>228494</th>\n",
       "      <td>F8F43A0B978A7A35</td>\n",
       "      <td>classic_bike</td>\n",
       "      <td>2021-03-01 18:11:57</td>\n",
       "      <td>2021-03-01 18:18:37</td>\n",
       "      <td>Kingsbury St &amp; Kinzie St</td>\n",
       "      <td>KA1503000043</td>\n",
       "      <td>New St &amp; Illinois St</td>\n",
       "      <td>TA1306000013</td>\n",
       "      <td>41.889177</td>\n",
       "      <td>-87.638506</td>\n",
       "      <td>41.890847</td>\n",
       "      <td>-87.618617</td>\n",
       "      <td>member</td>\n",
       "    </tr>\n",
       "    <tr>\n",
       "      <th>228495</th>\n",
       "      <td>3AE64EA5BF43CF72</td>\n",
       "      <td>electric_bike</td>\n",
       "      <td>2021-03-26 17:58:14</td>\n",
       "      <td>2021-03-26 18:06:43</td>\n",
       "      <td>NaN</td>\n",
       "      <td>NaN</td>\n",
       "      <td>New St &amp; Illinois St</td>\n",
       "      <td>TA1306000013</td>\n",
       "      <td>41.880000</td>\n",
       "      <td>-87.630000</td>\n",
       "      <td>41.890818</td>\n",
       "      <td>-87.619540</td>\n",
       "      <td>member</td>\n",
       "    </tr>\n",
       "  </tbody>\n",
       "</table>\n",
       "<p>3489539 rows × 13 columns</p>\n",
       "</div>"
      ],
      "text/plain": [
       "                 ride_id  rideable_type           started_at  \\\n",
       "0       A847FADBBC638E45    docked_bike  2020-04-26 17:45:14   \n",
       "1       5405B80E996FF60D    docked_bike  2020-04-17 17:08:54   \n",
       "2       5DD24A79A4E006F4    docked_bike  2020-04-01 17:54:13   \n",
       "3       2A59BBDF5CDBA725    docked_bike  2020-04-07 12:50:19   \n",
       "4       27AD306C119C6158    docked_bike  2020-04-18 10:22:59   \n",
       "...                  ...            ...                  ...   \n",
       "228491  9397BDD14798A1BA    docked_bike  2021-03-20 14:58:56   \n",
       "228492  BBBEB8D51AAD40DA   classic_bike  2021-03-02 11:35:10   \n",
       "228493  637FF754DA0BD9E1   classic_bike  2021-03-09 11:07:36   \n",
       "228494  F8F43A0B978A7A35   classic_bike  2021-03-01 18:11:57   \n",
       "228495  3AE64EA5BF43CF72  electric_bike  2021-03-26 17:58:14   \n",
       "\n",
       "                   ended_at            start_station_name start_station_id  \\\n",
       "0       2020-04-26 18:12:03                  Eckhart Park               86   \n",
       "1       2020-04-17 17:17:03     Drake Ave & Fullerton Ave              503   \n",
       "2       2020-04-01 18:08:36          McClurg Ct & Erie St              142   \n",
       "3       2020-04-07 13:02:31  California Ave & Division St              216   \n",
       "4       2020-04-18 11:15:54          Rush St & Hubbard St              125   \n",
       "...                     ...                           ...              ...   \n",
       "228491  2021-03-20 17:22:47         Michigan Ave & Oak St            13042   \n",
       "228492  2021-03-02 11:43:37      Kingsbury St & Kinzie St     KA1503000043   \n",
       "228493  2021-03-09 11:49:11         Michigan Ave & Oak St            13042   \n",
       "228494  2021-03-01 18:18:37      Kingsbury St & Kinzie St     KA1503000043   \n",
       "228495  2021-03-26 18:06:43                           NaN              NaN   \n",
       "\n",
       "                   end_station_name end_station_id  start_lat  start_lng  \\\n",
       "0       Lincoln Ave & Diversey Pkwy          152.0  41.896400 -87.661000   \n",
       "1                   Kosciuszko Park          499.0  41.924400 -87.715400   \n",
       "2        Indiana Ave & Roosevelt Rd          255.0  41.894500 -87.617900   \n",
       "3            Wood St & Augusta Blvd          657.0  41.903000 -87.697500   \n",
       "4        Sheridan Rd & Lawrence Ave          323.0  41.890200 -87.626200   \n",
       "...                             ...            ...        ...        ...   \n",
       "228491         New St & Illinois St   TA1306000013  41.900960 -87.623777   \n",
       "228492         New St & Illinois St   TA1306000013  41.889177 -87.638506   \n",
       "228493        Clark St & Berwyn Ave   KA1504000146  41.900960 -87.623777   \n",
       "228494         New St & Illinois St   TA1306000013  41.889177 -87.638506   \n",
       "228495         New St & Illinois St   TA1306000013  41.880000 -87.630000   \n",
       "\n",
       "          end_lat    end_lng member_casual  \n",
       "0       41.932200 -87.658600        member  \n",
       "1       41.930600 -87.723800        member  \n",
       "2       41.867900 -87.623000        member  \n",
       "3       41.899200 -87.672200        member  \n",
       "4       41.969500 -87.654700        casual  \n",
       "...           ...        ...           ...  \n",
       "228491  41.890847 -87.618617        casual  \n",
       "228492  41.890847 -87.618617        member  \n",
       "228493  41.977997 -87.668047        member  \n",
       "228494  41.890847 -87.618617        member  \n",
       "228495  41.890818 -87.619540        member  \n",
       "\n",
       "[3489539 rows x 13 columns]"
      ]
     },
     "execution_count": 11,
     "metadata": {},
     "output_type": "execute_result"
    }
   ],
   "source": [
    "\n",
    "tripdataV1\n",
    "\n",
    "        "
   ]
  },
  {
   "cell_type": "code",
   "execution_count": null,
   "id": "549440ba",
   "metadata": {
    "papermill": {
     "duration": 0.023287,
     "end_time": "2022-06-11T04:40:15.592423",
     "exception": false,
     "start_time": "2022-06-11T04:40:15.569136",
     "status": "completed"
    },
    "tags": []
   },
   "outputs": [],
   "source": []
  },
  {
   "cell_type": "code",
   "execution_count": null,
   "id": "4498c790",
   "metadata": {
    "papermill": {
     "duration": 0.023181,
     "end_time": "2022-06-11T04:40:15.638752",
     "exception": false,
     "start_time": "2022-06-11T04:40:15.615571",
     "status": "completed"
    },
    "tags": []
   },
   "outputs": [],
   "source": []
  },
  {
   "cell_type": "code",
   "execution_count": 12,
   "id": "26006750",
   "metadata": {
    "execution": {
     "iopub.execute_input": "2022-06-11T04:40:15.686548Z",
     "iopub.status.busy": "2022-06-11T04:40:15.686118Z",
     "iopub.status.idle": "2022-06-11T04:40:18.790350Z",
     "shell.execute_reply": "2022-06-11T04:40:18.789001Z"
    },
    "papermill": {
     "duration": 3.130793,
     "end_time": "2022-06-11T04:40:18.792786",
     "exception": false,
     "start_time": "2022-06-11T04:40:15.661993",
     "status": "completed"
    },
    "tags": []
   },
   "outputs": [
    {
     "data": {
      "text/plain": [
       "ride_id                    0\n",
       "rideable_type              0\n",
       "started_at                 0\n",
       "ended_at                   0\n",
       "start_station_name    122175\n",
       "start_station_id      122801\n",
       "end_station_name      143241\n",
       "end_station_id        143702\n",
       "start_lat                  0\n",
       "start_lng                  0\n",
       "end_lat                 4737\n",
       "end_lng                 4737\n",
       "member_casual              0\n",
       "dtype: int64"
      ]
     },
     "execution_count": 12,
     "metadata": {},
     "output_type": "execute_result"
    }
   ],
   "source": [
    "#Checking the null values and counting with the sum() function\n",
    "# Yeah i know it's weird the sum() function be counting\n",
    "# I was thinking it should be the count() function\n",
    "\n",
    "tripdataV1.isna().sum()\n"
   ]
  },
  {
   "cell_type": "markdown",
   "id": "08dc4cd4",
   "metadata": {
    "papermill": {
     "duration": 0.023171,
     "end_time": "2022-06-11T04:40:18.838751",
     "exception": false,
     "start_time": "2022-06-11T04:40:18.815580",
     "status": "completed"
    },
    "tags": []
   },
   "source": [
    "Now we could see there are lot of null values such as:\n",
    "1. start_station_name has 122175\n",
    "2. start_station_id has 122801\n",
    "3. end_station_name has 143241\n",
    "4. end_station_id has 143702\n",
    "5. end_lat has 4737\n",
    "6. end_lng has 4737\n",
    "\n",
    "We will handle this null values"
   ]
  },
  {
   "cell_type": "code",
   "execution_count": 13,
   "id": "031df29c",
   "metadata": {
    "execution": {
     "iopub.execute_input": "2022-06-11T04:40:18.886908Z",
     "iopub.status.busy": "2022-06-11T04:40:18.886491Z",
     "iopub.status.idle": "2022-06-11T04:40:19.276383Z",
     "shell.execute_reply": "2022-06-11T04:40:19.275151Z"
    },
    "papermill": {
     "duration": 0.4166,
     "end_time": "2022-06-11T04:40:19.278814",
     "exception": false,
     "start_time": "2022-06-11T04:40:18.862214",
     "status": "completed"
    },
    "tags": []
   },
   "outputs": [
    {
     "data": {
      "text/plain": [
       "0"
      ]
     },
     "execution_count": 13,
     "metadata": {},
     "output_type": "execute_result"
    }
   ],
   "source": [
    "# As we can see in my unique values i don't have nulls values\n",
    "\n",
    "tripdataV1[\"ride_id\"].isna().sum()\n"
   ]
  },
  {
   "cell_type": "code",
   "execution_count": 14,
   "id": "8c77c435",
   "metadata": {
    "execution": {
     "iopub.execute_input": "2022-06-11T04:40:19.329392Z",
     "iopub.status.busy": "2022-06-11T04:40:19.328723Z",
     "iopub.status.idle": "2022-06-11T04:40:19.337035Z",
     "shell.execute_reply": "2022-06-11T04:40:19.335974Z"
    },
    "papermill": {
     "duration": 0.036529,
     "end_time": "2022-06-11T04:40:19.339170",
     "exception": false,
     "start_time": "2022-06-11T04:40:19.302641",
     "status": "completed"
    },
    "tags": []
   },
   "outputs": [
    {
     "data": {
      "text/plain": [
       "ride_id                         E4CE369DF59D80C5\n",
       "rideable_type                        docked_bike\n",
       "started_at                   2020-05-12 13:14:43\n",
       "ended_at                     2020-05-12 13:21:55\n",
       "start_station_name    Larrabee St & Kingsbury St\n",
       "start_station_id                              48\n",
       "end_station_name           Dearborn St & Erie St\n",
       "end_station_id                             110.0\n",
       "start_lat                                41.8978\n",
       "start_lng                               -87.6429\n",
       "end_lat                                   41.894\n",
       "end_lng                                 -87.6293\n",
       "member_casual                             member\n",
       "Name: 143718, dtype: object"
      ]
     },
     "execution_count": 14,
     "metadata": {},
     "output_type": "execute_result"
    }
   ],
   "source": [
    "# Using this function to see this specific row index values\n",
    "\n",
    "tripdataV1.iloc[228494]\n"
   ]
  },
  {
   "cell_type": "markdown",
   "id": "40d40bfb",
   "metadata": {
    "papermill": {
     "duration": 0.022755,
     "end_time": "2022-06-11T04:40:19.385658",
     "exception": false,
     "start_time": "2022-06-11T04:40:19.362903",
     "status": "completed"
    },
    "tags": []
   },
   "source": [
    "## **Converting types**\n"
   ]
  },
  {
   "cell_type": "code",
   "execution_count": 15,
   "id": "083aacde",
   "metadata": {
    "execution": {
     "iopub.execute_input": "2022-06-11T04:40:19.434270Z",
     "iopub.status.busy": "2022-06-11T04:40:19.433873Z",
     "iopub.status.idle": "2022-06-11T04:40:19.438876Z",
     "shell.execute_reply": "2022-06-11T04:40:19.438158Z"
    },
    "papermill": {
     "duration": 0.031898,
     "end_time": "2022-06-11T04:40:19.440660",
     "exception": false,
     "start_time": "2022-06-11T04:40:19.408762",
     "status": "completed"
    },
    "tags": []
   },
   "outputs": [
    {
     "data": {
      "text/plain": [
       "3489539"
      ]
     },
     "execution_count": 15,
     "metadata": {},
     "output_type": "execute_result"
    }
   ],
   "source": [
    "# Checking again the number of rows\n",
    "\n",
    "len(tripdataV1)\n"
   ]
  },
  {
   "cell_type": "code",
   "execution_count": 16,
   "id": "340f66b6",
   "metadata": {
    "execution": {
     "iopub.execute_input": "2022-06-11T04:40:19.489188Z",
     "iopub.status.busy": "2022-06-11T04:40:19.488236Z",
     "iopub.status.idle": "2022-06-11T04:40:19.752263Z",
     "shell.execute_reply": "2022-06-11T04:40:19.751070Z"
    },
    "papermill": {
     "duration": 0.290747,
     "end_time": "2022-06-11T04:40:19.754581",
     "exception": false,
     "start_time": "2022-06-11T04:40:19.463834",
     "status": "completed"
    },
    "tags": []
   },
   "outputs": [
    {
     "data": {
      "text/plain": [
       "2"
      ]
     },
     "execution_count": 16,
     "metadata": {},
     "output_type": "execute_result"
    }
   ],
   "source": [
    "# Checking outliers\n",
    "\n",
    "tripdataV1[\"member_casual\"].nunique()\n"
   ]
  },
  {
   "cell_type": "code",
   "execution_count": 17,
   "id": "8f68a3b6",
   "metadata": {
    "execution": {
     "iopub.execute_input": "2022-06-11T04:40:19.803524Z",
     "iopub.status.busy": "2022-06-11T04:40:19.803095Z",
     "iopub.status.idle": "2022-06-11T04:40:20.070184Z",
     "shell.execute_reply": "2022-06-11T04:40:20.069160Z"
    },
    "papermill": {
     "duration": 0.294257,
     "end_time": "2022-06-11T04:40:20.072574",
     "exception": false,
     "start_time": "2022-06-11T04:40:19.778317",
     "status": "completed"
    },
    "tags": []
   },
   "outputs": [
    {
     "data": {
      "text/plain": [
       "3"
      ]
     },
     "execution_count": 17,
     "metadata": {},
     "output_type": "execute_result"
    }
   ],
   "source": [
    "# Checking outliers\n",
    "\n",
    "tripdataV1[\"rideable_type\"].nunique()\n"
   ]
  },
  {
   "cell_type": "code",
   "execution_count": 18,
   "id": "994218ed",
   "metadata": {
    "execution": {
     "iopub.execute_input": "2022-06-11T04:40:20.122286Z",
     "iopub.status.busy": "2022-06-11T04:40:20.121894Z",
     "iopub.status.idle": "2022-06-11T04:40:24.395982Z",
     "shell.execute_reply": "2022-06-11T04:40:24.395289Z"
    },
    "papermill": {
     "duration": 4.301605,
     "end_time": "2022-06-11T04:40:24.398287",
     "exception": false,
     "start_time": "2022-06-11T04:40:20.096682",
     "status": "completed"
    },
    "tags": []
   },
   "outputs": [
    {
     "data": {
      "text/plain": [
       "count                 3489539\n",
       "unique                3040064\n",
       "top       2020-07-12 13:16:59\n",
       "freq                       12\n",
       "Name: started_at, dtype: object"
      ]
     },
     "execution_count": 18,
     "metadata": {},
     "output_type": "execute_result"
    }
   ],
   "source": [
    "# Watching a brief description about the column so i can be sure of the type\n",
    "\n",
    "tripdataV1[\"started_at\"].describe()\n",
    "\n"
   ]
  },
  {
   "cell_type": "markdown",
   "id": "5d47ae6e",
   "metadata": {
    "papermill": {
     "duration": 0.025237,
     "end_time": "2022-06-11T04:40:24.447495",
     "exception": false,
     "start_time": "2022-06-11T04:40:24.422258",
     "status": "completed"
    },
    "tags": []
   },
   "source": [
    "**As seem above the started_at is in an object data type**\n",
    "**The ended_at column has the same format and we want them to be datetime**"
   ]
  },
  {
   "cell_type": "code",
   "execution_count": 19,
   "id": "a3d03395",
   "metadata": {
    "execution": {
     "iopub.execute_input": "2022-06-11T04:40:24.499985Z",
     "iopub.status.busy": "2022-06-11T04:40:24.499211Z",
     "iopub.status.idle": "2022-06-11T04:40:26.128460Z",
     "shell.execute_reply": "2022-06-11T04:40:26.127286Z"
    },
    "papermill": {
     "duration": 1.658199,
     "end_time": "2022-06-11T04:40:26.131178",
     "exception": false,
     "start_time": "2022-06-11T04:40:24.472979",
     "status": "completed"
    },
    "tags": []
   },
   "outputs": [
    {
     "name": "stderr",
     "output_type": "stream",
     "text": [
      "/opt/conda/lib/python3.7/site-packages/ipykernel_launcher.py:4: SettingWithCopyWarning: \n",
      "A value is trying to be set on a copy of a slice from a DataFrame.\n",
      "Try using .loc[row_indexer,col_indexer] = value instead\n",
      "\n",
      "See the caveats in the documentation: https://pandas.pydata.org/pandas-docs/stable/user_guide/indexing.html#returning-a-view-versus-a-copy\n",
      "  after removing the cwd from sys.path.\n"
     ]
    }
   ],
   "source": [
    "# Converting to a datetime format the column that was in an object format\n",
    "\n",
    "\n",
    "tripdataV1[\"started_at\"] = pd.to_datetime(tripdataV1[\"started_at\"])\n"
   ]
  },
  {
   "cell_type": "code",
   "execution_count": 20,
   "id": "e3cc7dee",
   "metadata": {
    "execution": {
     "iopub.execute_input": "2022-06-11T04:40:26.182391Z",
     "iopub.status.busy": "2022-06-11T04:40:26.181621Z",
     "iopub.status.idle": "2022-06-11T04:40:26.190164Z",
     "shell.execute_reply": "2022-06-11T04:40:26.189177Z"
    },
    "papermill": {
     "duration": 0.037107,
     "end_time": "2022-06-11T04:40:26.192734",
     "exception": false,
     "start_time": "2022-06-11T04:40:26.155627",
     "status": "completed"
    },
    "tags": []
   },
   "outputs": [
    {
     "data": {
      "text/plain": [
       "0        2020-04-26 17:45:14\n",
       "1        2020-04-17 17:08:54\n",
       "2        2020-04-01 17:54:13\n",
       "3        2020-04-07 12:50:19\n",
       "4        2020-04-18 10:22:59\n",
       "                 ...        \n",
       "228491   2021-03-20 14:58:56\n",
       "228492   2021-03-02 11:35:10\n",
       "228493   2021-03-09 11:07:36\n",
       "228494   2021-03-01 18:11:57\n",
       "228495   2021-03-26 17:58:14\n",
       "Name: started_at, Length: 3489539, dtype: datetime64[ns]"
      ]
     },
     "execution_count": 20,
     "metadata": {},
     "output_type": "execute_result"
    }
   ],
   "source": [
    "# Checking if the started_at column already has a datatime type format\n",
    "\n",
    "tripdataV1[\"started_at\"]\n"
   ]
  },
  {
   "cell_type": "code",
   "execution_count": 21,
   "id": "4731fea2",
   "metadata": {
    "execution": {
     "iopub.execute_input": "2022-06-11T04:40:26.242721Z",
     "iopub.status.busy": "2022-06-11T04:40:26.242320Z",
     "iopub.status.idle": "2022-06-11T04:40:27.880454Z",
     "shell.execute_reply": "2022-06-11T04:40:27.879234Z"
    },
    "papermill": {
     "duration": 1.665805,
     "end_time": "2022-06-11T04:40:27.882714",
     "exception": false,
     "start_time": "2022-06-11T04:40:26.216909",
     "status": "completed"
    },
    "tags": []
   },
   "outputs": [
    {
     "name": "stderr",
     "output_type": "stream",
     "text": [
      "/opt/conda/lib/python3.7/site-packages/ipykernel_launcher.py:3: SettingWithCopyWarning: \n",
      "A value is trying to be set on a copy of a slice from a DataFrame.\n",
      "Try using .loc[row_indexer,col_indexer] = value instead\n",
      "\n",
      "See the caveats in the documentation: https://pandas.pydata.org/pandas-docs/stable/user_guide/indexing.html#returning-a-view-versus-a-copy\n",
      "  This is separate from the ipykernel package so we can avoid doing imports until\n"
     ]
    }
   ],
   "source": [
    "# Converting the ended_at column to datetime format\n",
    "\n",
    "tripdataV1[\"ended_at\"] = pd.to_datetime(tripdataV1[\"ended_at\"])\n",
    "\n"
   ]
  },
  {
   "cell_type": "code",
   "execution_count": 22,
   "id": "57ee125f",
   "metadata": {
    "execution": {
     "iopub.execute_input": "2022-06-11T04:40:27.934637Z",
     "iopub.status.busy": "2022-06-11T04:40:27.933930Z",
     "iopub.status.idle": "2022-06-11T04:40:27.942572Z",
     "shell.execute_reply": "2022-06-11T04:40:27.941869Z"
    },
    "papermill": {
     "duration": 0.037152,
     "end_time": "2022-06-11T04:40:27.944543",
     "exception": false,
     "start_time": "2022-06-11T04:40:27.907391",
     "status": "completed"
    },
    "tags": []
   },
   "outputs": [
    {
     "data": {
      "text/plain": [
       "0        2020-04-26 18:12:03\n",
       "1        2020-04-17 17:17:03\n",
       "2        2020-04-01 18:08:36\n",
       "3        2020-04-07 13:02:31\n",
       "4        2020-04-18 11:15:54\n",
       "                 ...        \n",
       "228491   2021-03-20 17:22:47\n",
       "228492   2021-03-02 11:43:37\n",
       "228493   2021-03-09 11:49:11\n",
       "228494   2021-03-01 18:18:37\n",
       "228495   2021-03-26 18:06:43\n",
       "Name: ended_at, Length: 3489539, dtype: datetime64[ns]"
      ]
     },
     "execution_count": 22,
     "metadata": {},
     "output_type": "execute_result"
    }
   ],
   "source": [
    "# Checking if the changed was made\n",
    "\n",
    "tripdataV1[\"ended_at\"]\n"
   ]
  },
  {
   "cell_type": "code",
   "execution_count": 23,
   "id": "fc58b284",
   "metadata": {
    "execution": {
     "iopub.execute_input": "2022-06-11T04:40:27.994554Z",
     "iopub.status.busy": "2022-06-11T04:40:27.993718Z",
     "iopub.status.idle": "2022-06-11T04:40:28.004960Z",
     "shell.execute_reply": "2022-06-11T04:40:28.003527Z"
    },
    "papermill": {
     "duration": 0.038901,
     "end_time": "2022-06-11T04:40:28.007501",
     "exception": false,
     "start_time": "2022-06-11T04:40:27.968600",
     "status": "completed"
    },
    "tags": []
   },
   "outputs": [
    {
     "name": "stdout",
     "output_type": "stream",
     "text": [
      "<class 'pandas.core.frame.DataFrame'>\n",
      "Int64Index: 3489539 entries, 0 to 228495\n",
      "Data columns (total 13 columns):\n",
      " #   Column              Dtype         \n",
      "---  ------              -----         \n",
      " 0   ride_id             object        \n",
      " 1   rideable_type       object        \n",
      " 2   started_at          datetime64[ns]\n",
      " 3   ended_at            datetime64[ns]\n",
      " 4   start_station_name  object        \n",
      " 5   start_station_id    object        \n",
      " 6   end_station_name    object        \n",
      " 7   end_station_id      object        \n",
      " 8   start_lat           float64       \n",
      " 9   start_lng           float64       \n",
      " 10  end_lat             float64       \n",
      " 11  end_lng             float64       \n",
      " 12  member_casual       object        \n",
      "dtypes: datetime64[ns](2), float64(4), object(7)\n",
      "memory usage: 372.7+ MB\n"
     ]
    }
   ],
   "source": [
    "tripdataV1.info()\n",
    "\n",
    "# Checking my data types format and we have two date times as intended"
   ]
  },
  {
   "cell_type": "code",
   "execution_count": null,
   "id": "3d9d8eb4",
   "metadata": {
    "papermill": {
     "duration": 0.024735,
     "end_time": "2022-06-11T04:40:28.056524",
     "exception": false,
     "start_time": "2022-06-11T04:40:28.031789",
     "status": "completed"
    },
    "tags": []
   },
   "outputs": [],
   "source": []
  },
  {
   "cell_type": "markdown",
   "id": "a451011e",
   "metadata": {
    "papermill": {
     "duration": 0.024612,
     "end_time": "2022-06-11T04:40:28.106453",
     "exception": false,
     "start_time": "2022-06-11T04:40:28.081841",
     "status": "completed"
    },
    "tags": []
   },
   "source": [
    "## Manipulating the data"
   ]
  },
  {
   "cell_type": "markdown",
   "id": "e7c5889e",
   "metadata": {
    "papermill": {
     "duration": 0.023738,
     "end_time": "2022-06-11T04:40:28.154420",
     "exception": false,
     "start_time": "2022-06-11T04:40:28.130682",
     "status": "completed"
    },
    "tags": []
   },
   "source": [
    "* **Add new columns**"
   ]
  },
  {
   "cell_type": "code",
   "execution_count": null,
   "id": "ff9206b7",
   "metadata": {
    "papermill": {
     "duration": 0.024047,
     "end_time": "2022-06-11T04:40:28.202997",
     "exception": false,
     "start_time": "2022-06-11T04:40:28.178950",
     "status": "completed"
    },
    "tags": []
   },
   "outputs": [],
   "source": []
  },
  {
   "cell_type": "code",
   "execution_count": null,
   "id": "14699b1f",
   "metadata": {
    "papermill": {
     "duration": 0.025338,
     "end_time": "2022-06-11T04:40:28.252822",
     "exception": false,
     "start_time": "2022-06-11T04:40:28.227484",
     "status": "completed"
    },
    "tags": []
   },
   "outputs": [],
   "source": []
  },
  {
   "cell_type": "code",
   "execution_count": 24,
   "id": "15c62ea3",
   "metadata": {
    "execution": {
     "iopub.execute_input": "2022-06-11T04:40:28.302265Z",
     "iopub.status.busy": "2022-06-11T04:40:28.301885Z",
     "iopub.status.idle": "2022-06-11T04:40:28.658169Z",
     "shell.execute_reply": "2022-06-11T04:40:28.656741Z"
    },
    "papermill": {
     "duration": 0.383642,
     "end_time": "2022-06-11T04:40:28.660557",
     "exception": false,
     "start_time": "2022-06-11T04:40:28.276915",
     "status": "completed"
    },
    "tags": []
   },
   "outputs": [
    {
     "data": {
      "text/plain": [
       "0         6\n",
       "1         4\n",
       "2         2\n",
       "3         1\n",
       "4         5\n",
       "         ..\n",
       "228491    5\n",
       "228492    1\n",
       "228493    1\n",
       "228494    0\n",
       "228495    4\n",
       "Name: started_at, Length: 3489539, dtype: int64"
      ]
     },
     "execution_count": 24,
     "metadata": {},
     "output_type": "execute_result"
    }
   ],
   "source": [
    "# Using the dt.dayofweek to find the day of the week for each date\n",
    "\n",
    "tripdataV1[\"started_at\"].dt.dayofweek"
   ]
  },
  {
   "cell_type": "code",
   "execution_count": 25,
   "id": "d8bde3b3",
   "metadata": {
    "execution": {
     "iopub.execute_input": "2022-06-11T04:40:28.712255Z",
     "iopub.status.busy": "2022-06-11T04:40:28.711334Z",
     "iopub.status.idle": "2022-06-11T04:40:29.964221Z",
     "shell.execute_reply": "2022-06-11T04:40:29.963146Z"
    },
    "papermill": {
     "duration": 1.281447,
     "end_time": "2022-06-11T04:40:29.966867",
     "exception": false,
     "start_time": "2022-06-11T04:40:28.685420",
     "status": "completed"
    },
    "tags": []
   },
   "outputs": [
    {
     "data": {
      "text/plain": [
       "0            Sunday\n",
       "1            Friday\n",
       "2         Wednesday\n",
       "3           Tuesday\n",
       "4          Saturday\n",
       "            ...    \n",
       "228491     Saturday\n",
       "228492      Tuesday\n",
       "228493      Tuesday\n",
       "228494       Monday\n",
       "228495       Friday\n",
       "Name: started_at, Length: 3489539, dtype: object"
      ]
     },
     "execution_count": 25,
     "metadata": {},
     "output_type": "execute_result"
    }
   ],
   "source": [
    "# Using the dt.day_name() to get the name of the day to each date\n",
    "\n",
    "tripdataV1[\"started_at\"].dt.day_name()\n"
   ]
  },
  {
   "cell_type": "code",
   "execution_count": 26,
   "id": "0ac1c32a",
   "metadata": {
    "execution": {
     "iopub.execute_input": "2022-06-11T04:40:30.022884Z",
     "iopub.status.busy": "2022-06-11T04:40:30.022457Z",
     "iopub.status.idle": "2022-06-11T04:40:30.343564Z",
     "shell.execute_reply": "2022-06-11T04:40:30.342571Z"
    },
    "papermill": {
     "duration": 0.352442,
     "end_time": "2022-06-11T04:40:30.346011",
     "exception": false,
     "start_time": "2022-06-11T04:40:29.993569",
     "status": "completed"
    },
    "tags": []
   },
   "outputs": [
    {
     "data": {
      "text/plain": [
       "0         4\n",
       "1         4\n",
       "2         4\n",
       "3         4\n",
       "4         4\n",
       "         ..\n",
       "228491    3\n",
       "228492    3\n",
       "228493    3\n",
       "228494    3\n",
       "228495    3\n",
       "Name: started_at, Length: 3489539, dtype: int64"
      ]
     },
     "execution_count": 26,
     "metadata": {},
     "output_type": "execute_result"
    }
   ],
   "source": [
    "# df['month_of_date'] = df['date_given'].dt.month\n",
    "\n",
    "tripdataV1[\"started_at\"].dt.month\n"
   ]
  },
  {
   "cell_type": "code",
   "execution_count": 27,
   "id": "62a9a6e4",
   "metadata": {
    "execution": {
     "iopub.execute_input": "2022-06-11T04:40:30.399715Z",
     "iopub.status.busy": "2022-06-11T04:40:30.398963Z",
     "iopub.status.idle": "2022-06-11T04:40:31.594614Z",
     "shell.execute_reply": "2022-06-11T04:40:31.593558Z"
    },
    "papermill": {
     "duration": 1.225452,
     "end_time": "2022-06-11T04:40:31.596820",
     "exception": false,
     "start_time": "2022-06-11T04:40:30.371368",
     "status": "completed"
    },
    "tags": []
   },
   "outputs": [
    {
     "data": {
      "text/plain": [
       "0         April\n",
       "1         April\n",
       "2         April\n",
       "3         April\n",
       "4         April\n",
       "          ...  \n",
       "228491    March\n",
       "228492    March\n",
       "228493    March\n",
       "228494    March\n",
       "228495    March\n",
       "Name: started_at, Length: 3489539, dtype: object"
      ]
     },
     "execution_count": 27,
     "metadata": {},
     "output_type": "execute_result"
    }
   ],
   "source": [
    "# Using the dat.month_name to see the months of each date\n",
    "# later we will assign it into a new column\n",
    "\n",
    "tripdataV1[\"started_at\"].dt.month_name()\n"
   ]
  },
  {
   "cell_type": "code",
   "execution_count": 28,
   "id": "2ced5de0",
   "metadata": {
    "execution": {
     "iopub.execute_input": "2022-06-11T04:40:31.649367Z",
     "iopub.status.busy": "2022-06-11T04:40:31.648943Z",
     "iopub.status.idle": "2022-06-11T04:40:31.971168Z",
     "shell.execute_reply": "2022-06-11T04:40:31.970122Z"
    },
    "papermill": {
     "duration": 0.351255,
     "end_time": "2022-06-11T04:40:31.973385",
     "exception": false,
     "start_time": "2022-06-11T04:40:31.622130",
     "status": "completed"
    },
    "tags": []
   },
   "outputs": [
    {
     "data": {
      "text/plain": [
       "0         2020\n",
       "1         2020\n",
       "2         2020\n",
       "3         2020\n",
       "4         2020\n",
       "          ... \n",
       "228491    2021\n",
       "228492    2021\n",
       "228493    2021\n",
       "228494    2021\n",
       "228495    2021\n",
       "Name: started_at, Length: 3489539, dtype: int64"
      ]
     },
     "execution_count": 28,
     "metadata": {},
     "output_type": "execute_result"
    }
   ],
   "source": [
    "# Now taking the year this \"dt.\" is kind a a library to manipulate date\n",
    "\n",
    "tripdataV1[\"started_at\"].dt.year"
   ]
  },
  {
   "cell_type": "code",
   "execution_count": 29,
   "id": "6bb49592",
   "metadata": {
    "execution": {
     "iopub.execute_input": "2022-06-11T04:40:32.025231Z",
     "iopub.status.busy": "2022-06-11T04:40:32.024801Z",
     "iopub.status.idle": "2022-06-11T04:40:32.357674Z",
     "shell.execute_reply": "2022-06-11T04:40:32.356529Z"
    },
    "papermill": {
     "duration": 0.362348,
     "end_time": "2022-06-11T04:40:32.360193",
     "exception": false,
     "start_time": "2022-06-11T04:40:31.997845",
     "status": "completed"
    },
    "tags": []
   },
   "outputs": [
    {
     "data": {
      "text/plain": [
       "0         26\n",
       "1         17\n",
       "2          1\n",
       "3          7\n",
       "4         18\n",
       "          ..\n",
       "228491    20\n",
       "228492     2\n",
       "228493     9\n",
       "228494     1\n",
       "228495    26\n",
       "Name: started_at, Length: 3489539, dtype: int64"
      ]
     },
     "execution_count": 29,
     "metadata": {},
     "output_type": "execute_result"
    }
   ],
   "source": [
    "# Extracting the specific day\n",
    "\n",
    "tripdataV1[\"started_at\"].dt.day"
   ]
  },
  {
   "cell_type": "markdown",
   "id": "6dbe19e8",
   "metadata": {
    "papermill": {
     "duration": 0.024627,
     "end_time": "2022-06-11T04:40:32.409908",
     "exception": false,
     "start_time": "2022-06-11T04:40:32.385281",
     "status": "completed"
    },
    "tags": []
   },
   "source": [
    "**After wacthing the new values we need to create new columns we are going to create and insert the new columns**"
   ]
  },
  {
   "cell_type": "code",
   "execution_count": 30,
   "id": "15d7f183",
   "metadata": {
    "execution": {
     "iopub.execute_input": "2022-06-11T04:40:32.469358Z",
     "iopub.status.busy": "2022-06-11T04:40:32.468918Z",
     "iopub.status.idle": "2022-06-11T04:40:34.905411Z",
     "shell.execute_reply": "2022-06-11T04:40:34.904173Z"
    },
    "papermill": {
     "duration": 2.472455,
     "end_time": "2022-06-11T04:40:34.909122",
     "exception": false,
     "start_time": "2022-06-11T04:40:32.436667",
     "status": "completed"
    },
    "tags": []
   },
   "outputs": [
    {
     "name": "stderr",
     "output_type": "stream",
     "text": [
      "/opt/conda/lib/python3.7/site-packages/ipykernel_launcher.py:3: SettingWithCopyWarning: \n",
      "A value is trying to be set on a copy of a slice from a DataFrame.\n",
      "Try using .loc[row_indexer,col_indexer] = value instead\n",
      "\n",
      "See the caveats in the documentation: https://pandas.pydata.org/pandas-docs/stable/user_guide/indexing.html#returning-a-view-versus-a-copy\n",
      "  This is separate from the ipykernel package so we can avoid doing imports until\n",
      "/opt/conda/lib/python3.7/site-packages/ipykernel_launcher.py:5: SettingWithCopyWarning: \n",
      "A value is trying to be set on a copy of a slice from a DataFrame.\n",
      "Try using .loc[row_indexer,col_indexer] = value instead\n",
      "\n",
      "See the caveats in the documentation: https://pandas.pydata.org/pandas-docs/stable/user_guide/indexing.html#returning-a-view-versus-a-copy\n",
      "  \"\"\"\n",
      "/opt/conda/lib/python3.7/site-packages/ipykernel_launcher.py:6: SettingWithCopyWarning: \n",
      "A value is trying to be set on a copy of a slice from a DataFrame.\n",
      "Try using .loc[row_indexer,col_indexer] = value instead\n",
      "\n",
      "See the caveats in the documentation: https://pandas.pydata.org/pandas-docs/stable/user_guide/indexing.html#returning-a-view-versus-a-copy\n",
      "  \n",
      "/opt/conda/lib/python3.7/site-packages/ipykernel_launcher.py:7: SettingWithCopyWarning: \n",
      "A value is trying to be set on a copy of a slice from a DataFrame.\n",
      "Try using .loc[row_indexer,col_indexer] = value instead\n",
      "\n",
      "See the caveats in the documentation: https://pandas.pydata.org/pandas-docs/stable/user_guide/indexing.html#returning-a-view-versus-a-copy\n",
      "  import sys\n"
     ]
    },
    {
     "data": {
      "text/html": [
       "<div>\n",
       "<style scoped>\n",
       "    .dataframe tbody tr th:only-of-type {\n",
       "        vertical-align: middle;\n",
       "    }\n",
       "\n",
       "    .dataframe tbody tr th {\n",
       "        vertical-align: top;\n",
       "    }\n",
       "\n",
       "    .dataframe thead th {\n",
       "        text-align: right;\n",
       "    }\n",
       "</style>\n",
       "<table border=\"1\" class=\"dataframe\">\n",
       "  <thead>\n",
       "    <tr style=\"text-align: right;\">\n",
       "      <th></th>\n",
       "      <th>ride_id</th>\n",
       "      <th>rideable_type</th>\n",
       "      <th>started_at</th>\n",
       "      <th>ended_at</th>\n",
       "      <th>start_station_name</th>\n",
       "      <th>start_station_id</th>\n",
       "      <th>end_station_name</th>\n",
       "      <th>end_station_id</th>\n",
       "      <th>start_lat</th>\n",
       "      <th>start_lng</th>\n",
       "      <th>end_lat</th>\n",
       "      <th>end_lng</th>\n",
       "      <th>member_casual</th>\n",
       "      <th>weekday</th>\n",
       "      <th>day</th>\n",
       "      <th>month</th>\n",
       "      <th>year</th>\n",
       "    </tr>\n",
       "  </thead>\n",
       "  <tbody>\n",
       "    <tr>\n",
       "      <th>0</th>\n",
       "      <td>A847FADBBC638E45</td>\n",
       "      <td>docked_bike</td>\n",
       "      <td>2020-04-26 17:45:14</td>\n",
       "      <td>2020-04-26 18:12:03</td>\n",
       "      <td>Eckhart Park</td>\n",
       "      <td>86</td>\n",
       "      <td>Lincoln Ave &amp; Diversey Pkwy</td>\n",
       "      <td>152.0</td>\n",
       "      <td>41.896400</td>\n",
       "      <td>-87.661000</td>\n",
       "      <td>41.932200</td>\n",
       "      <td>-87.658600</td>\n",
       "      <td>member</td>\n",
       "      <td>Sunday</td>\n",
       "      <td>26</td>\n",
       "      <td>4</td>\n",
       "      <td>2020</td>\n",
       "    </tr>\n",
       "    <tr>\n",
       "      <th>1</th>\n",
       "      <td>5405B80E996FF60D</td>\n",
       "      <td>docked_bike</td>\n",
       "      <td>2020-04-17 17:08:54</td>\n",
       "      <td>2020-04-17 17:17:03</td>\n",
       "      <td>Drake Ave &amp; Fullerton Ave</td>\n",
       "      <td>503</td>\n",
       "      <td>Kosciuszko Park</td>\n",
       "      <td>499.0</td>\n",
       "      <td>41.924400</td>\n",
       "      <td>-87.715400</td>\n",
       "      <td>41.930600</td>\n",
       "      <td>-87.723800</td>\n",
       "      <td>member</td>\n",
       "      <td>Friday</td>\n",
       "      <td>17</td>\n",
       "      <td>4</td>\n",
       "      <td>2020</td>\n",
       "    </tr>\n",
       "    <tr>\n",
       "      <th>2</th>\n",
       "      <td>5DD24A79A4E006F4</td>\n",
       "      <td>docked_bike</td>\n",
       "      <td>2020-04-01 17:54:13</td>\n",
       "      <td>2020-04-01 18:08:36</td>\n",
       "      <td>McClurg Ct &amp; Erie St</td>\n",
       "      <td>142</td>\n",
       "      <td>Indiana Ave &amp; Roosevelt Rd</td>\n",
       "      <td>255.0</td>\n",
       "      <td>41.894500</td>\n",
       "      <td>-87.617900</td>\n",
       "      <td>41.867900</td>\n",
       "      <td>-87.623000</td>\n",
       "      <td>member</td>\n",
       "      <td>Wednesday</td>\n",
       "      <td>1</td>\n",
       "      <td>4</td>\n",
       "      <td>2020</td>\n",
       "    </tr>\n",
       "    <tr>\n",
       "      <th>3</th>\n",
       "      <td>2A59BBDF5CDBA725</td>\n",
       "      <td>docked_bike</td>\n",
       "      <td>2020-04-07 12:50:19</td>\n",
       "      <td>2020-04-07 13:02:31</td>\n",
       "      <td>California Ave &amp; Division St</td>\n",
       "      <td>216</td>\n",
       "      <td>Wood St &amp; Augusta Blvd</td>\n",
       "      <td>657.0</td>\n",
       "      <td>41.903000</td>\n",
       "      <td>-87.697500</td>\n",
       "      <td>41.899200</td>\n",
       "      <td>-87.672200</td>\n",
       "      <td>member</td>\n",
       "      <td>Tuesday</td>\n",
       "      <td>7</td>\n",
       "      <td>4</td>\n",
       "      <td>2020</td>\n",
       "    </tr>\n",
       "    <tr>\n",
       "      <th>4</th>\n",
       "      <td>27AD306C119C6158</td>\n",
       "      <td>docked_bike</td>\n",
       "      <td>2020-04-18 10:22:59</td>\n",
       "      <td>2020-04-18 11:15:54</td>\n",
       "      <td>Rush St &amp; Hubbard St</td>\n",
       "      <td>125</td>\n",
       "      <td>Sheridan Rd &amp; Lawrence Ave</td>\n",
       "      <td>323.0</td>\n",
       "      <td>41.890200</td>\n",
       "      <td>-87.626200</td>\n",
       "      <td>41.969500</td>\n",
       "      <td>-87.654700</td>\n",
       "      <td>casual</td>\n",
       "      <td>Saturday</td>\n",
       "      <td>18</td>\n",
       "      <td>4</td>\n",
       "      <td>2020</td>\n",
       "    </tr>\n",
       "    <tr>\n",
       "      <th>...</th>\n",
       "      <td>...</td>\n",
       "      <td>...</td>\n",
       "      <td>...</td>\n",
       "      <td>...</td>\n",
       "      <td>...</td>\n",
       "      <td>...</td>\n",
       "      <td>...</td>\n",
       "      <td>...</td>\n",
       "      <td>...</td>\n",
       "      <td>...</td>\n",
       "      <td>...</td>\n",
       "      <td>...</td>\n",
       "      <td>...</td>\n",
       "      <td>...</td>\n",
       "      <td>...</td>\n",
       "      <td>...</td>\n",
       "      <td>...</td>\n",
       "    </tr>\n",
       "    <tr>\n",
       "      <th>228491</th>\n",
       "      <td>9397BDD14798A1BA</td>\n",
       "      <td>docked_bike</td>\n",
       "      <td>2021-03-20 14:58:56</td>\n",
       "      <td>2021-03-20 17:22:47</td>\n",
       "      <td>Michigan Ave &amp; Oak St</td>\n",
       "      <td>13042</td>\n",
       "      <td>New St &amp; Illinois St</td>\n",
       "      <td>TA1306000013</td>\n",
       "      <td>41.900960</td>\n",
       "      <td>-87.623777</td>\n",
       "      <td>41.890847</td>\n",
       "      <td>-87.618617</td>\n",
       "      <td>casual</td>\n",
       "      <td>Saturday</td>\n",
       "      <td>20</td>\n",
       "      <td>3</td>\n",
       "      <td>2021</td>\n",
       "    </tr>\n",
       "    <tr>\n",
       "      <th>228492</th>\n",
       "      <td>BBBEB8D51AAD40DA</td>\n",
       "      <td>classic_bike</td>\n",
       "      <td>2021-03-02 11:35:10</td>\n",
       "      <td>2021-03-02 11:43:37</td>\n",
       "      <td>Kingsbury St &amp; Kinzie St</td>\n",
       "      <td>KA1503000043</td>\n",
       "      <td>New St &amp; Illinois St</td>\n",
       "      <td>TA1306000013</td>\n",
       "      <td>41.889177</td>\n",
       "      <td>-87.638506</td>\n",
       "      <td>41.890847</td>\n",
       "      <td>-87.618617</td>\n",
       "      <td>member</td>\n",
       "      <td>Tuesday</td>\n",
       "      <td>2</td>\n",
       "      <td>3</td>\n",
       "      <td>2021</td>\n",
       "    </tr>\n",
       "    <tr>\n",
       "      <th>228493</th>\n",
       "      <td>637FF754DA0BD9E1</td>\n",
       "      <td>classic_bike</td>\n",
       "      <td>2021-03-09 11:07:36</td>\n",
       "      <td>2021-03-09 11:49:11</td>\n",
       "      <td>Michigan Ave &amp; Oak St</td>\n",
       "      <td>13042</td>\n",
       "      <td>Clark St &amp; Berwyn Ave</td>\n",
       "      <td>KA1504000146</td>\n",
       "      <td>41.900960</td>\n",
       "      <td>-87.623777</td>\n",
       "      <td>41.977997</td>\n",
       "      <td>-87.668047</td>\n",
       "      <td>member</td>\n",
       "      <td>Tuesday</td>\n",
       "      <td>9</td>\n",
       "      <td>3</td>\n",
       "      <td>2021</td>\n",
       "    </tr>\n",
       "    <tr>\n",
       "      <th>228494</th>\n",
       "      <td>F8F43A0B978A7A35</td>\n",
       "      <td>classic_bike</td>\n",
       "      <td>2021-03-01 18:11:57</td>\n",
       "      <td>2021-03-01 18:18:37</td>\n",
       "      <td>Kingsbury St &amp; Kinzie St</td>\n",
       "      <td>KA1503000043</td>\n",
       "      <td>New St &amp; Illinois St</td>\n",
       "      <td>TA1306000013</td>\n",
       "      <td>41.889177</td>\n",
       "      <td>-87.638506</td>\n",
       "      <td>41.890847</td>\n",
       "      <td>-87.618617</td>\n",
       "      <td>member</td>\n",
       "      <td>Monday</td>\n",
       "      <td>1</td>\n",
       "      <td>3</td>\n",
       "      <td>2021</td>\n",
       "    </tr>\n",
       "    <tr>\n",
       "      <th>228495</th>\n",
       "      <td>3AE64EA5BF43CF72</td>\n",
       "      <td>electric_bike</td>\n",
       "      <td>2021-03-26 17:58:14</td>\n",
       "      <td>2021-03-26 18:06:43</td>\n",
       "      <td>NaN</td>\n",
       "      <td>NaN</td>\n",
       "      <td>New St &amp; Illinois St</td>\n",
       "      <td>TA1306000013</td>\n",
       "      <td>41.880000</td>\n",
       "      <td>-87.630000</td>\n",
       "      <td>41.890818</td>\n",
       "      <td>-87.619540</td>\n",
       "      <td>member</td>\n",
       "      <td>Friday</td>\n",
       "      <td>26</td>\n",
       "      <td>3</td>\n",
       "      <td>2021</td>\n",
       "    </tr>\n",
       "  </tbody>\n",
       "</table>\n",
       "<p>3489539 rows × 17 columns</p>\n",
       "</div>"
      ],
      "text/plain": [
       "                 ride_id  rideable_type          started_at  \\\n",
       "0       A847FADBBC638E45    docked_bike 2020-04-26 17:45:14   \n",
       "1       5405B80E996FF60D    docked_bike 2020-04-17 17:08:54   \n",
       "2       5DD24A79A4E006F4    docked_bike 2020-04-01 17:54:13   \n",
       "3       2A59BBDF5CDBA725    docked_bike 2020-04-07 12:50:19   \n",
       "4       27AD306C119C6158    docked_bike 2020-04-18 10:22:59   \n",
       "...                  ...            ...                 ...   \n",
       "228491  9397BDD14798A1BA    docked_bike 2021-03-20 14:58:56   \n",
       "228492  BBBEB8D51AAD40DA   classic_bike 2021-03-02 11:35:10   \n",
       "228493  637FF754DA0BD9E1   classic_bike 2021-03-09 11:07:36   \n",
       "228494  F8F43A0B978A7A35   classic_bike 2021-03-01 18:11:57   \n",
       "228495  3AE64EA5BF43CF72  electric_bike 2021-03-26 17:58:14   \n",
       "\n",
       "                  ended_at            start_station_name start_station_id  \\\n",
       "0      2020-04-26 18:12:03                  Eckhart Park               86   \n",
       "1      2020-04-17 17:17:03     Drake Ave & Fullerton Ave              503   \n",
       "2      2020-04-01 18:08:36          McClurg Ct & Erie St              142   \n",
       "3      2020-04-07 13:02:31  California Ave & Division St              216   \n",
       "4      2020-04-18 11:15:54          Rush St & Hubbard St              125   \n",
       "...                    ...                           ...              ...   \n",
       "228491 2021-03-20 17:22:47         Michigan Ave & Oak St            13042   \n",
       "228492 2021-03-02 11:43:37      Kingsbury St & Kinzie St     KA1503000043   \n",
       "228493 2021-03-09 11:49:11         Michigan Ave & Oak St            13042   \n",
       "228494 2021-03-01 18:18:37      Kingsbury St & Kinzie St     KA1503000043   \n",
       "228495 2021-03-26 18:06:43                           NaN              NaN   \n",
       "\n",
       "                   end_station_name end_station_id  start_lat  start_lng  \\\n",
       "0       Lincoln Ave & Diversey Pkwy          152.0  41.896400 -87.661000   \n",
       "1                   Kosciuszko Park          499.0  41.924400 -87.715400   \n",
       "2        Indiana Ave & Roosevelt Rd          255.0  41.894500 -87.617900   \n",
       "3            Wood St & Augusta Blvd          657.0  41.903000 -87.697500   \n",
       "4        Sheridan Rd & Lawrence Ave          323.0  41.890200 -87.626200   \n",
       "...                             ...            ...        ...        ...   \n",
       "228491         New St & Illinois St   TA1306000013  41.900960 -87.623777   \n",
       "228492         New St & Illinois St   TA1306000013  41.889177 -87.638506   \n",
       "228493        Clark St & Berwyn Ave   KA1504000146  41.900960 -87.623777   \n",
       "228494         New St & Illinois St   TA1306000013  41.889177 -87.638506   \n",
       "228495         New St & Illinois St   TA1306000013  41.880000 -87.630000   \n",
       "\n",
       "          end_lat    end_lng member_casual    weekday  day  month  year  \n",
       "0       41.932200 -87.658600        member     Sunday   26      4  2020  \n",
       "1       41.930600 -87.723800        member     Friday   17      4  2020  \n",
       "2       41.867900 -87.623000        member  Wednesday    1      4  2020  \n",
       "3       41.899200 -87.672200        member    Tuesday    7      4  2020  \n",
       "4       41.969500 -87.654700        casual   Saturday   18      4  2020  \n",
       "...           ...        ...           ...        ...  ...    ...   ...  \n",
       "228491  41.890847 -87.618617        casual   Saturday   20      3  2021  \n",
       "228492  41.890847 -87.618617        member    Tuesday    2      3  2021  \n",
       "228493  41.977997 -87.668047        member    Tuesday    9      3  2021  \n",
       "228494  41.890847 -87.618617        member     Monday    1      3  2021  \n",
       "228495  41.890818 -87.619540        member     Friday   26      3  2021  \n",
       "\n",
       "[3489539 rows x 17 columns]"
      ]
     },
     "execution_count": 30,
     "metadata": {},
     "output_type": "execute_result"
    }
   ],
   "source": [
    "# Adding the day as a new columns \n",
    "\n",
    "tripdataV1[\"weekday\"] = tripdataV1[\"started_at\"].dt.day_name() #the code for the new \"weekday\" column\n",
    "\n",
    "tripdataV1[\"day\"] = tripdataV1[\"started_at\"].dt.day\n",
    "tripdataV1[\"month\"] = tripdataV1[\"started_at\"].dt.month\n",
    "tripdataV1[\"year\"] = tripdataV1[\"started_at\"].dt.year\n",
    "\n",
    "\n",
    "tripdataV1"
   ]
  },
  {
   "cell_type": "markdown",
   "id": "ae64aa84",
   "metadata": {
    "papermill": {
     "duration": 0.026419,
     "end_time": "2022-06-11T04:40:34.962378",
     "exception": false,
     "start_time": "2022-06-11T04:40:34.935959",
     "status": "completed"
    },
    "tags": []
   },
   "source": [
    "**We have added the new four columns**\n",
    "**The weekday, day, month and year**\n",
    "**This columns will help us make a deep analysis between the casual and members**"
   ]
  },
  {
   "cell_type": "code",
   "execution_count": 31,
   "id": "2047f727",
   "metadata": {
    "execution": {
     "iopub.execute_input": "2022-06-11T04:40:35.022133Z",
     "iopub.status.busy": "2022-06-11T04:40:35.021707Z",
     "iopub.status.idle": "2022-06-11T04:40:35.163576Z",
     "shell.execute_reply": "2022-06-11T04:40:35.162420Z"
    },
    "papermill": {
     "duration": 0.176249,
     "end_time": "2022-06-11T04:40:35.165936",
     "exception": false,
     "start_time": "2022-06-11T04:40:34.989687",
     "status": "completed"
    },
    "tags": []
   },
   "outputs": [
    {
     "name": "stderr",
     "output_type": "stream",
     "text": [
      "/opt/conda/lib/python3.7/site-packages/ipykernel_launcher.py:3: SettingWithCopyWarning: \n",
      "A value is trying to be set on a copy of a slice from a DataFrame.\n",
      "Try using .loc[row_indexer,col_indexer] = value instead\n",
      "\n",
      "See the caveats in the documentation: https://pandas.pydata.org/pandas-docs/stable/user_guide/indexing.html#returning-a-view-versus-a-copy\n",
      "  This is separate from the ipykernel package so we can avoid doing imports until\n"
     ]
    },
    {
     "data": {
      "text/plain": [
       "0          26.816667\n",
       "1           8.150000\n",
       "2          14.383333\n",
       "3          12.200000\n",
       "4          52.916667\n",
       "             ...    \n",
       "228491    143.850000\n",
       "228492      8.450000\n",
       "228493     41.583333\n",
       "228494      6.666667\n",
       "228495      8.483333\n",
       "Name: ride_length_s, Length: 3489539, dtype: float64"
      ]
     },
     "execution_count": 31,
     "metadata": {},
     "output_type": "execute_result"
    }
   ],
   "source": [
    "# calculating the ride lenght in seconds\n",
    "\n",
    "tripdataV1[\"ride_length_s\"] = (tripdataV1[\"ended_at\"] - tripdataV1[\"started_at\"]).dt.seconds/60 \n",
    "\n",
    "tripdataV1[\"ride_length_s\"]\n"
   ]
  },
  {
   "cell_type": "code",
   "execution_count": 32,
   "id": "be0906c4",
   "metadata": {
    "execution": {
     "iopub.execute_input": "2022-06-11T04:40:35.220609Z",
     "iopub.status.busy": "2022-06-11T04:40:35.220177Z",
     "iopub.status.idle": "2022-06-11T04:40:35.225048Z",
     "shell.execute_reply": "2022-06-11T04:40:35.223935Z"
    },
    "papermill": {
     "duration": 0.034518,
     "end_time": "2022-06-11T04:40:35.227359",
     "exception": false,
     "start_time": "2022-06-11T04:40:35.192841",
     "status": "completed"
    },
    "tags": []
   },
   "outputs": [],
   "source": [
    "# tripdataV1[\"weekday\"] = tripdataV1[\"started_at\"].dt.day_name() \n",
    "\n",
    "# tripdataV1[\"day\"] = tripdataV1[\"started_at\"].dt.day\n",
    "# tripdataV1[\"month\"] = tripdataV1[\"started_at\"].dt.month\n",
    "# tripdataV1[\"year\"] = tripdataV1[\"started_at\"].dt.year\n"
   ]
  },
  {
   "cell_type": "code",
   "execution_count": 33,
   "id": "7708eb4f",
   "metadata": {
    "execution": {
     "iopub.execute_input": "2022-06-11T04:40:35.283166Z",
     "iopub.status.busy": "2022-06-11T04:40:35.282725Z",
     "iopub.status.idle": "2022-06-11T04:40:49.751125Z",
     "shell.execute_reply": "2022-06-11T04:40:49.746229Z"
    },
    "papermill": {
     "duration": 14.501262,
     "end_time": "2022-06-11T04:40:49.755779",
     "exception": false,
     "start_time": "2022-06-11T04:40:35.254517",
     "status": "completed"
    },
    "tags": []
   },
   "outputs": [
    {
     "name": "stderr",
     "output_type": "stream",
     "text": [
      "/opt/conda/lib/python3.7/site-packages/ipykernel_launcher.py:5: SettingWithCopyWarning: \n",
      "A value is trying to be set on a copy of a slice from a DataFrame.\n",
      "Try using .loc[row_indexer,col_indexer] = value instead\n",
      "\n",
      "See the caveats in the documentation: https://pandas.pydata.org/pandas-docs/stable/user_guide/indexing.html#returning-a-view-versus-a-copy\n",
      "  \"\"\"\n"
     ]
    },
    {
     "data": {
      "text/plain": [
       "0         2020 - 4 (April)\n",
       "1         2020 - 4 (April)\n",
       "2         2020 - 4 (April)\n",
       "3         2020 - 4 (April)\n",
       "4         2020 - 4 (April)\n",
       "                ...       \n",
       "228491    2021 - 3 (March)\n",
       "228492    2021 - 3 (March)\n",
       "228493    2021 - 3 (March)\n",
       "228494    2021 - 3 (March)\n",
       "228495    2021 - 3 (March)\n",
       "Name: year_month, Length: 3489539, dtype: object"
      ]
     },
     "execution_count": 33,
     "metadata": {},
     "output_type": "execute_result"
    }
   ],
   "source": [
    "# Now we are going to add new one column here\n",
    "# the year_month\n",
    "# .map(str)\n",
    "\n",
    "tripdataV1[\"year_month\"] = tripdataV1[\"year\"].map(str) + \" - \" + tripdataV1[\"month\"].map(str) + \" (\" + tripdataV1[\"started_at\"].dt.month_name().map(str) + \")\"\n",
    "\n",
    "tripdataV1[\"year_month\"]"
   ]
  },
  {
   "cell_type": "code",
   "execution_count": 34,
   "id": "dadbf7d2",
   "metadata": {
    "execution": {
     "iopub.execute_input": "2022-06-11T04:40:49.816857Z",
     "iopub.status.busy": "2022-06-11T04:40:49.815839Z",
     "iopub.status.idle": "2022-06-11T04:40:54.173607Z",
     "shell.execute_reply": "2022-06-11T04:40:54.172421Z"
    },
    "papermill": {
     "duration": 4.390352,
     "end_time": "2022-06-11T04:40:54.176297",
     "exception": false,
     "start_time": "2022-06-11T04:40:49.785945",
     "status": "completed"
    },
    "tags": []
   },
   "outputs": [
    {
     "name": "stderr",
     "output_type": "stream",
     "text": [
      "/opt/conda/lib/python3.7/site-packages/ipykernel_launcher.py:5: SettingWithCopyWarning: \n",
      "A value is trying to be set on a copy of a slice from a DataFrame.\n",
      "Try using .loc[row_indexer,col_indexer] = value instead\n",
      "\n",
      "See the caveats in the documentation: https://pandas.pydata.org/pandas-docs/stable/user_guide/indexing.html#returning-a-view-versus-a-copy\n",
      "  \"\"\"\n"
     ]
    },
    {
     "data": {
      "text/plain": [
       "0            6 - Sunday\n",
       "1            4 - Friday\n",
       "2         2 - Wednesday\n",
       "3           1 - Tuesday\n",
       "4          5 - Saturday\n",
       "              ...      \n",
       "228491     5 - Saturday\n",
       "228492      1 - Tuesday\n",
       "228493      1 - Tuesday\n",
       "228494       0 - Monday\n",
       "228495       4 - Friday\n",
       "Name: dayofweek_weekday, Length: 3489539, dtype: object"
      ]
     },
     "execution_count": 34,
     "metadata": {},
     "output_type": "execute_result"
    }
   ],
   "source": [
    "# Now we are going to add new one column here\n",
    "# the dayofweek_weekday\n",
    "# .map(str)\n",
    " \n",
    "tripdataV1[\"dayofweek_weekday\"] = tripdataV1[\"started_at\"].dt.dayofweek.map(str) + \" - \" + tripdataV1[\"weekday\"].map(str)\n",
    "\n",
    "tripdataV1[\"dayofweek_weekday\"]\n"
   ]
  },
  {
   "cell_type": "markdown",
   "id": "0a8f23a1",
   "metadata": {
    "papermill": {
     "duration": 0.02609,
     "end_time": "2022-06-11T04:40:54.229449",
     "exception": false,
     "start_time": "2022-06-11T04:40:54.203359",
     "status": "completed"
    },
    "tags": []
   },
   "source": [
    "**Now we have added all the new columns we are going to need for our analysis**"
   ]
  },
  {
   "cell_type": "code",
   "execution_count": 35,
   "id": "60747c87",
   "metadata": {
    "execution": {
     "iopub.execute_input": "2022-06-11T04:40:54.284936Z",
     "iopub.status.busy": "2022-06-11T04:40:54.284500Z",
     "iopub.status.idle": "2022-06-11T04:40:54.318673Z",
     "shell.execute_reply": "2022-06-11T04:40:54.317682Z"
    },
    "papermill": {
     "duration": 0.065253,
     "end_time": "2022-06-11T04:40:54.321384",
     "exception": false,
     "start_time": "2022-06-11T04:40:54.256131",
     "status": "completed"
    },
    "tags": []
   },
   "outputs": [
    {
     "data": {
      "text/html": [
       "<div>\n",
       "<style scoped>\n",
       "    .dataframe tbody tr th:only-of-type {\n",
       "        vertical-align: middle;\n",
       "    }\n",
       "\n",
       "    .dataframe tbody tr th {\n",
       "        vertical-align: top;\n",
       "    }\n",
       "\n",
       "    .dataframe thead th {\n",
       "        text-align: right;\n",
       "    }\n",
       "</style>\n",
       "<table border=\"1\" class=\"dataframe\">\n",
       "  <thead>\n",
       "    <tr style=\"text-align: right;\">\n",
       "      <th></th>\n",
       "      <th>ride_id</th>\n",
       "      <th>rideable_type</th>\n",
       "      <th>started_at</th>\n",
       "      <th>ended_at</th>\n",
       "      <th>start_station_name</th>\n",
       "      <th>start_station_id</th>\n",
       "      <th>end_station_name</th>\n",
       "      <th>end_station_id</th>\n",
       "      <th>start_lat</th>\n",
       "      <th>start_lng</th>\n",
       "      <th>end_lat</th>\n",
       "      <th>end_lng</th>\n",
       "      <th>member_casual</th>\n",
       "      <th>weekday</th>\n",
       "      <th>day</th>\n",
       "      <th>month</th>\n",
       "      <th>year</th>\n",
       "      <th>ride_length_s</th>\n",
       "      <th>year_month</th>\n",
       "      <th>dayofweek_weekday</th>\n",
       "    </tr>\n",
       "  </thead>\n",
       "  <tbody>\n",
       "    <tr>\n",
       "      <th>0</th>\n",
       "      <td>A847FADBBC638E45</td>\n",
       "      <td>docked_bike</td>\n",
       "      <td>2020-04-26 17:45:14</td>\n",
       "      <td>2020-04-26 18:12:03</td>\n",
       "      <td>Eckhart Park</td>\n",
       "      <td>86</td>\n",
       "      <td>Lincoln Ave &amp; Diversey Pkwy</td>\n",
       "      <td>152.0</td>\n",
       "      <td>41.896400</td>\n",
       "      <td>-87.661000</td>\n",
       "      <td>41.932200</td>\n",
       "      <td>-87.658600</td>\n",
       "      <td>member</td>\n",
       "      <td>Sunday</td>\n",
       "      <td>26</td>\n",
       "      <td>4</td>\n",
       "      <td>2020</td>\n",
       "      <td>26.816667</td>\n",
       "      <td>2020 - 4 (April)</td>\n",
       "      <td>6 - Sunday</td>\n",
       "    </tr>\n",
       "    <tr>\n",
       "      <th>1</th>\n",
       "      <td>5405B80E996FF60D</td>\n",
       "      <td>docked_bike</td>\n",
       "      <td>2020-04-17 17:08:54</td>\n",
       "      <td>2020-04-17 17:17:03</td>\n",
       "      <td>Drake Ave &amp; Fullerton Ave</td>\n",
       "      <td>503</td>\n",
       "      <td>Kosciuszko Park</td>\n",
       "      <td>499.0</td>\n",
       "      <td>41.924400</td>\n",
       "      <td>-87.715400</td>\n",
       "      <td>41.930600</td>\n",
       "      <td>-87.723800</td>\n",
       "      <td>member</td>\n",
       "      <td>Friday</td>\n",
       "      <td>17</td>\n",
       "      <td>4</td>\n",
       "      <td>2020</td>\n",
       "      <td>8.150000</td>\n",
       "      <td>2020 - 4 (April)</td>\n",
       "      <td>4 - Friday</td>\n",
       "    </tr>\n",
       "    <tr>\n",
       "      <th>2</th>\n",
       "      <td>5DD24A79A4E006F4</td>\n",
       "      <td>docked_bike</td>\n",
       "      <td>2020-04-01 17:54:13</td>\n",
       "      <td>2020-04-01 18:08:36</td>\n",
       "      <td>McClurg Ct &amp; Erie St</td>\n",
       "      <td>142</td>\n",
       "      <td>Indiana Ave &amp; Roosevelt Rd</td>\n",
       "      <td>255.0</td>\n",
       "      <td>41.894500</td>\n",
       "      <td>-87.617900</td>\n",
       "      <td>41.867900</td>\n",
       "      <td>-87.623000</td>\n",
       "      <td>member</td>\n",
       "      <td>Wednesday</td>\n",
       "      <td>1</td>\n",
       "      <td>4</td>\n",
       "      <td>2020</td>\n",
       "      <td>14.383333</td>\n",
       "      <td>2020 - 4 (April)</td>\n",
       "      <td>2 - Wednesday</td>\n",
       "    </tr>\n",
       "    <tr>\n",
       "      <th>3</th>\n",
       "      <td>2A59BBDF5CDBA725</td>\n",
       "      <td>docked_bike</td>\n",
       "      <td>2020-04-07 12:50:19</td>\n",
       "      <td>2020-04-07 13:02:31</td>\n",
       "      <td>California Ave &amp; Division St</td>\n",
       "      <td>216</td>\n",
       "      <td>Wood St &amp; Augusta Blvd</td>\n",
       "      <td>657.0</td>\n",
       "      <td>41.903000</td>\n",
       "      <td>-87.697500</td>\n",
       "      <td>41.899200</td>\n",
       "      <td>-87.672200</td>\n",
       "      <td>member</td>\n",
       "      <td>Tuesday</td>\n",
       "      <td>7</td>\n",
       "      <td>4</td>\n",
       "      <td>2020</td>\n",
       "      <td>12.200000</td>\n",
       "      <td>2020 - 4 (April)</td>\n",
       "      <td>1 - Tuesday</td>\n",
       "    </tr>\n",
       "    <tr>\n",
       "      <th>4</th>\n",
       "      <td>27AD306C119C6158</td>\n",
       "      <td>docked_bike</td>\n",
       "      <td>2020-04-18 10:22:59</td>\n",
       "      <td>2020-04-18 11:15:54</td>\n",
       "      <td>Rush St &amp; Hubbard St</td>\n",
       "      <td>125</td>\n",
       "      <td>Sheridan Rd &amp; Lawrence Ave</td>\n",
       "      <td>323.0</td>\n",
       "      <td>41.890200</td>\n",
       "      <td>-87.626200</td>\n",
       "      <td>41.969500</td>\n",
       "      <td>-87.654700</td>\n",
       "      <td>casual</td>\n",
       "      <td>Saturday</td>\n",
       "      <td>18</td>\n",
       "      <td>4</td>\n",
       "      <td>2020</td>\n",
       "      <td>52.916667</td>\n",
       "      <td>2020 - 4 (April)</td>\n",
       "      <td>5 - Saturday</td>\n",
       "    </tr>\n",
       "    <tr>\n",
       "      <th>...</th>\n",
       "      <td>...</td>\n",
       "      <td>...</td>\n",
       "      <td>...</td>\n",
       "      <td>...</td>\n",
       "      <td>...</td>\n",
       "      <td>...</td>\n",
       "      <td>...</td>\n",
       "      <td>...</td>\n",
       "      <td>...</td>\n",
       "      <td>...</td>\n",
       "      <td>...</td>\n",
       "      <td>...</td>\n",
       "      <td>...</td>\n",
       "      <td>...</td>\n",
       "      <td>...</td>\n",
       "      <td>...</td>\n",
       "      <td>...</td>\n",
       "      <td>...</td>\n",
       "      <td>...</td>\n",
       "      <td>...</td>\n",
       "    </tr>\n",
       "    <tr>\n",
       "      <th>228491</th>\n",
       "      <td>9397BDD14798A1BA</td>\n",
       "      <td>docked_bike</td>\n",
       "      <td>2021-03-20 14:58:56</td>\n",
       "      <td>2021-03-20 17:22:47</td>\n",
       "      <td>Michigan Ave &amp; Oak St</td>\n",
       "      <td>13042</td>\n",
       "      <td>New St &amp; Illinois St</td>\n",
       "      <td>TA1306000013</td>\n",
       "      <td>41.900960</td>\n",
       "      <td>-87.623777</td>\n",
       "      <td>41.890847</td>\n",
       "      <td>-87.618617</td>\n",
       "      <td>casual</td>\n",
       "      <td>Saturday</td>\n",
       "      <td>20</td>\n",
       "      <td>3</td>\n",
       "      <td>2021</td>\n",
       "      <td>143.850000</td>\n",
       "      <td>2021 - 3 (March)</td>\n",
       "      <td>5 - Saturday</td>\n",
       "    </tr>\n",
       "    <tr>\n",
       "      <th>228492</th>\n",
       "      <td>BBBEB8D51AAD40DA</td>\n",
       "      <td>classic_bike</td>\n",
       "      <td>2021-03-02 11:35:10</td>\n",
       "      <td>2021-03-02 11:43:37</td>\n",
       "      <td>Kingsbury St &amp; Kinzie St</td>\n",
       "      <td>KA1503000043</td>\n",
       "      <td>New St &amp; Illinois St</td>\n",
       "      <td>TA1306000013</td>\n",
       "      <td>41.889177</td>\n",
       "      <td>-87.638506</td>\n",
       "      <td>41.890847</td>\n",
       "      <td>-87.618617</td>\n",
       "      <td>member</td>\n",
       "      <td>Tuesday</td>\n",
       "      <td>2</td>\n",
       "      <td>3</td>\n",
       "      <td>2021</td>\n",
       "      <td>8.450000</td>\n",
       "      <td>2021 - 3 (March)</td>\n",
       "      <td>1 - Tuesday</td>\n",
       "    </tr>\n",
       "    <tr>\n",
       "      <th>228493</th>\n",
       "      <td>637FF754DA0BD9E1</td>\n",
       "      <td>classic_bike</td>\n",
       "      <td>2021-03-09 11:07:36</td>\n",
       "      <td>2021-03-09 11:49:11</td>\n",
       "      <td>Michigan Ave &amp; Oak St</td>\n",
       "      <td>13042</td>\n",
       "      <td>Clark St &amp; Berwyn Ave</td>\n",
       "      <td>KA1504000146</td>\n",
       "      <td>41.900960</td>\n",
       "      <td>-87.623777</td>\n",
       "      <td>41.977997</td>\n",
       "      <td>-87.668047</td>\n",
       "      <td>member</td>\n",
       "      <td>Tuesday</td>\n",
       "      <td>9</td>\n",
       "      <td>3</td>\n",
       "      <td>2021</td>\n",
       "      <td>41.583333</td>\n",
       "      <td>2021 - 3 (March)</td>\n",
       "      <td>1 - Tuesday</td>\n",
       "    </tr>\n",
       "    <tr>\n",
       "      <th>228494</th>\n",
       "      <td>F8F43A0B978A7A35</td>\n",
       "      <td>classic_bike</td>\n",
       "      <td>2021-03-01 18:11:57</td>\n",
       "      <td>2021-03-01 18:18:37</td>\n",
       "      <td>Kingsbury St &amp; Kinzie St</td>\n",
       "      <td>KA1503000043</td>\n",
       "      <td>New St &amp; Illinois St</td>\n",
       "      <td>TA1306000013</td>\n",
       "      <td>41.889177</td>\n",
       "      <td>-87.638506</td>\n",
       "      <td>41.890847</td>\n",
       "      <td>-87.618617</td>\n",
       "      <td>member</td>\n",
       "      <td>Monday</td>\n",
       "      <td>1</td>\n",
       "      <td>3</td>\n",
       "      <td>2021</td>\n",
       "      <td>6.666667</td>\n",
       "      <td>2021 - 3 (March)</td>\n",
       "      <td>0 - Monday</td>\n",
       "    </tr>\n",
       "    <tr>\n",
       "      <th>228495</th>\n",
       "      <td>3AE64EA5BF43CF72</td>\n",
       "      <td>electric_bike</td>\n",
       "      <td>2021-03-26 17:58:14</td>\n",
       "      <td>2021-03-26 18:06:43</td>\n",
       "      <td>NaN</td>\n",
       "      <td>NaN</td>\n",
       "      <td>New St &amp; Illinois St</td>\n",
       "      <td>TA1306000013</td>\n",
       "      <td>41.880000</td>\n",
       "      <td>-87.630000</td>\n",
       "      <td>41.890818</td>\n",
       "      <td>-87.619540</td>\n",
       "      <td>member</td>\n",
       "      <td>Friday</td>\n",
       "      <td>26</td>\n",
       "      <td>3</td>\n",
       "      <td>2021</td>\n",
       "      <td>8.483333</td>\n",
       "      <td>2021 - 3 (March)</td>\n",
       "      <td>4 - Friday</td>\n",
       "    </tr>\n",
       "  </tbody>\n",
       "</table>\n",
       "<p>3489539 rows × 20 columns</p>\n",
       "</div>"
      ],
      "text/plain": [
       "                 ride_id  rideable_type          started_at  \\\n",
       "0       A847FADBBC638E45    docked_bike 2020-04-26 17:45:14   \n",
       "1       5405B80E996FF60D    docked_bike 2020-04-17 17:08:54   \n",
       "2       5DD24A79A4E006F4    docked_bike 2020-04-01 17:54:13   \n",
       "3       2A59BBDF5CDBA725    docked_bike 2020-04-07 12:50:19   \n",
       "4       27AD306C119C6158    docked_bike 2020-04-18 10:22:59   \n",
       "...                  ...            ...                 ...   \n",
       "228491  9397BDD14798A1BA    docked_bike 2021-03-20 14:58:56   \n",
       "228492  BBBEB8D51AAD40DA   classic_bike 2021-03-02 11:35:10   \n",
       "228493  637FF754DA0BD9E1   classic_bike 2021-03-09 11:07:36   \n",
       "228494  F8F43A0B978A7A35   classic_bike 2021-03-01 18:11:57   \n",
       "228495  3AE64EA5BF43CF72  electric_bike 2021-03-26 17:58:14   \n",
       "\n",
       "                  ended_at            start_station_name start_station_id  \\\n",
       "0      2020-04-26 18:12:03                  Eckhart Park               86   \n",
       "1      2020-04-17 17:17:03     Drake Ave & Fullerton Ave              503   \n",
       "2      2020-04-01 18:08:36          McClurg Ct & Erie St              142   \n",
       "3      2020-04-07 13:02:31  California Ave & Division St              216   \n",
       "4      2020-04-18 11:15:54          Rush St & Hubbard St              125   \n",
       "...                    ...                           ...              ...   \n",
       "228491 2021-03-20 17:22:47         Michigan Ave & Oak St            13042   \n",
       "228492 2021-03-02 11:43:37      Kingsbury St & Kinzie St     KA1503000043   \n",
       "228493 2021-03-09 11:49:11         Michigan Ave & Oak St            13042   \n",
       "228494 2021-03-01 18:18:37      Kingsbury St & Kinzie St     KA1503000043   \n",
       "228495 2021-03-26 18:06:43                           NaN              NaN   \n",
       "\n",
       "                   end_station_name end_station_id  start_lat  start_lng  \\\n",
       "0       Lincoln Ave & Diversey Pkwy          152.0  41.896400 -87.661000   \n",
       "1                   Kosciuszko Park          499.0  41.924400 -87.715400   \n",
       "2        Indiana Ave & Roosevelt Rd          255.0  41.894500 -87.617900   \n",
       "3            Wood St & Augusta Blvd          657.0  41.903000 -87.697500   \n",
       "4        Sheridan Rd & Lawrence Ave          323.0  41.890200 -87.626200   \n",
       "...                             ...            ...        ...        ...   \n",
       "228491         New St & Illinois St   TA1306000013  41.900960 -87.623777   \n",
       "228492         New St & Illinois St   TA1306000013  41.889177 -87.638506   \n",
       "228493        Clark St & Berwyn Ave   KA1504000146  41.900960 -87.623777   \n",
       "228494         New St & Illinois St   TA1306000013  41.889177 -87.638506   \n",
       "228495         New St & Illinois St   TA1306000013  41.880000 -87.630000   \n",
       "\n",
       "          end_lat    end_lng member_casual    weekday  day  month  year  \\\n",
       "0       41.932200 -87.658600        member     Sunday   26      4  2020   \n",
       "1       41.930600 -87.723800        member     Friday   17      4  2020   \n",
       "2       41.867900 -87.623000        member  Wednesday    1      4  2020   \n",
       "3       41.899200 -87.672200        member    Tuesday    7      4  2020   \n",
       "4       41.969500 -87.654700        casual   Saturday   18      4  2020   \n",
       "...           ...        ...           ...        ...  ...    ...   ...   \n",
       "228491  41.890847 -87.618617        casual   Saturday   20      3  2021   \n",
       "228492  41.890847 -87.618617        member    Tuesday    2      3  2021   \n",
       "228493  41.977997 -87.668047        member    Tuesday    9      3  2021   \n",
       "228494  41.890847 -87.618617        member     Monday    1      3  2021   \n",
       "228495  41.890818 -87.619540        member     Friday   26      3  2021   \n",
       "\n",
       "        ride_length_s        year_month dayofweek_weekday  \n",
       "0           26.816667  2020 - 4 (April)        6 - Sunday  \n",
       "1            8.150000  2020 - 4 (April)        4 - Friday  \n",
       "2           14.383333  2020 - 4 (April)     2 - Wednesday  \n",
       "3           12.200000  2020 - 4 (April)       1 - Tuesday  \n",
       "4           52.916667  2020 - 4 (April)      5 - Saturday  \n",
       "...               ...               ...               ...  \n",
       "228491     143.850000  2021 - 3 (March)      5 - Saturday  \n",
       "228492       8.450000  2021 - 3 (March)       1 - Tuesday  \n",
       "228493      41.583333  2021 - 3 (March)       1 - Tuesday  \n",
       "228494       6.666667  2021 - 3 (March)        0 - Monday  \n",
       "228495       8.483333  2021 - 3 (March)        4 - Friday  \n",
       "\n",
       "[3489539 rows x 20 columns]"
      ]
     },
     "execution_count": 35,
     "metadata": {},
     "output_type": "execute_result"
    }
   ],
   "source": [
    "# Watch my data again\n",
    "\n",
    "tripdataV1\n",
    "\n"
   ]
  },
  {
   "cell_type": "markdown",
   "id": "9f602123",
   "metadata": {
    "papermill": {
     "duration": 0.027526,
     "end_time": "2022-06-11T04:40:54.376500",
     "exception": false,
     "start_time": "2022-06-11T04:40:54.348974",
     "status": "completed"
    },
    "tags": []
   },
   "source": [
    "## Converting and Saving to a CSV file format"
   ]
  },
  {
   "cell_type": "markdown",
   "id": "3b08b854",
   "metadata": {
    "papermill": {
     "duration": 0.027783,
     "end_time": "2022-06-11T04:40:54.431602",
     "exception": false,
     "start_time": "2022-06-11T04:40:54.403819",
     "status": "completed"
    },
    "tags": []
   },
   "source": [
    "**Now we are going to save the last version of our dataset and also export it into a CSV file.**\n",
    "\n",
    "**It is cleaned now so, will be good to have it cleaned as a CSV**"
   ]
  },
  {
   "cell_type": "code",
   "execution_count": 36,
   "id": "a8393dc4",
   "metadata": {
    "execution": {
     "iopub.execute_input": "2022-06-11T04:40:54.497100Z",
     "iopub.status.busy": "2022-06-11T04:40:54.496312Z",
     "iopub.status.idle": "2022-06-11T04:40:54.501769Z",
     "shell.execute_reply": "2022-06-11T04:40:54.500887Z"
    },
    "papermill": {
     "duration": 0.041599,
     "end_time": "2022-06-11T04:40:54.504386",
     "exception": false,
     "start_time": "2022-06-11T04:40:54.462787",
     "status": "completed"
    },
    "tags": []
   },
   "outputs": [],
   "source": [
    "tripdataV2 = tripdataV1\n"
   ]
  },
  {
   "cell_type": "markdown",
   "id": "2342cc0f",
   "metadata": {
    "papermill": {
     "duration": 0.029744,
     "end_time": "2022-06-11T04:40:54.566250",
     "exception": false,
     "start_time": "2022-06-11T04:40:54.536506",
     "status": "completed"
    },
    "tags": []
   },
   "source": []
  },
  {
   "cell_type": "code",
   "execution_count": 37,
   "id": "595145a4",
   "metadata": {
    "execution": {
     "iopub.execute_input": "2022-06-11T04:40:54.626760Z",
     "iopub.status.busy": "2022-06-11T04:40:54.626147Z",
     "iopub.status.idle": "2022-06-11T04:42:17.415354Z",
     "shell.execute_reply": "2022-06-11T04:42:17.414168Z"
    },
    "papermill": {
     "duration": 82.823106,
     "end_time": "2022-06-11T04:42:17.418999",
     "exception": false,
     "start_time": "2022-06-11T04:40:54.595893",
     "status": "completed"
    },
    "tags": []
   },
   "outputs": [],
   "source": [
    "# df.to_csv(\"your_name.csv\")\n",
    "\n",
    "tripdataV2.to_csv(\"tripdata_clean.csv\")\n"
   ]
  },
  {
   "cell_type": "markdown",
   "id": "7d5a1023",
   "metadata": {
    "execution": {
     "iopub.execute_input": "2022-06-09T03:44:53.465375Z",
     "iopub.status.busy": "2022-06-09T03:44:53.46496Z",
     "iopub.status.idle": "2022-06-09T03:44:53.480744Z",
     "shell.execute_reply": "2022-06-09T03:44:53.480066Z",
     "shell.execute_reply.started": "2022-06-09T03:44:53.465342Z"
    },
    "papermill": {
     "duration": 0.027379,
     "end_time": "2022-06-11T04:42:17.474249",
     "exception": false,
     "start_time": "2022-06-11T04:42:17.446870",
     "status": "completed"
    },
    "tags": []
   },
   "source": [
    "# Analyze Process"
   ]
  },
  {
   "cell_type": "markdown",
   "id": "4e1f0a56",
   "metadata": {
    "papermill": {
     "duration": 0.027839,
     "end_time": "2022-06-11T04:42:17.530299",
     "exception": false,
     "start_time": "2022-06-11T04:42:17.502460",
     "status": "completed"
    },
    "tags": []
   },
   "source": [
    "## Descriptive analysis"
   ]
  },
  {
   "cell_type": "markdown",
   "id": "36fe8ab6",
   "metadata": {
    "papermill": {
     "duration": 0.028082,
     "end_time": "2022-06-11T04:42:17.586587",
     "exception": false,
     "start_time": "2022-06-11T04:42:17.558505",
     "status": "completed"
    },
    "tags": []
   },
   "source": [
    "**Now we are going to have a deep qualitative and quantintative dept of our data**"
   ]
  },
  {
   "cell_type": "code",
   "execution_count": 38,
   "id": "ff83dbc9",
   "metadata": {
    "execution": {
     "iopub.execute_input": "2022-06-11T04:42:17.643845Z",
     "iopub.status.busy": "2022-06-11T04:42:17.643400Z",
     "iopub.status.idle": "2022-06-11T04:42:17.815250Z",
     "shell.execute_reply": "2022-06-11T04:42:17.814253Z"
    },
    "papermill": {
     "duration": 0.203877,
     "end_time": "2022-06-11T04:42:17.817473",
     "exception": false,
     "start_time": "2022-06-11T04:42:17.613596",
     "status": "completed"
    },
    "tags": []
   },
   "outputs": [
    {
     "data": {
      "text/plain": [
       "count    3.489539e+06\n",
       "mean     2.855945e+01\n",
       "std      9.031763e+01\n",
       "min      0.000000e+00\n",
       "25%      7.950000e+00\n",
       "50%      1.461667e+01\n",
       "75%      2.683333e+01\n",
       "max      1.439983e+03\n",
       "Name: ride_length_s, dtype: float64"
      ]
     },
     "execution_count": 38,
     "metadata": {},
     "output_type": "execute_result"
    }
   ],
   "source": [
    "# Checking the description of the ride_length_s\n",
    "\n",
    "tripdataV2[\"ride_length_s\"].describe()\n"
   ]
  },
  {
   "cell_type": "code",
   "execution_count": 39,
   "id": "24bf263b",
   "metadata": {
    "execution": {
     "iopub.execute_input": "2022-06-11T04:42:17.876091Z",
     "iopub.status.busy": "2022-06-11T04:42:17.875639Z",
     "iopub.status.idle": "2022-06-11T04:42:17.890225Z",
     "shell.execute_reply": "2022-06-11T04:42:17.889197Z"
    },
    "papermill": {
     "duration": 0.047664,
     "end_time": "2022-06-11T04:42:17.892949",
     "exception": false,
     "start_time": "2022-06-11T04:42:17.845285",
     "status": "completed"
    },
    "tags": []
   },
   "outputs": [
    {
     "name": "stdout",
     "output_type": "stream",
     "text": [
      "<class 'pandas.core.frame.DataFrame'>\n",
      "Int64Index: 3489539 entries, 0 to 228495\n",
      "Data columns (total 20 columns):\n",
      " #   Column              Dtype         \n",
      "---  ------              -----         \n",
      " 0   ride_id             object        \n",
      " 1   rideable_type       object        \n",
      " 2   started_at          datetime64[ns]\n",
      " 3   ended_at            datetime64[ns]\n",
      " 4   start_station_name  object        \n",
      " 5   start_station_id    object        \n",
      " 6   end_station_name    object        \n",
      " 7   end_station_id      object        \n",
      " 8   start_lat           float64       \n",
      " 9   start_lng           float64       \n",
      " 10  end_lat             float64       \n",
      " 11  end_lng             float64       \n",
      " 12  member_casual       object        \n",
      " 13  weekday             object        \n",
      " 14  day                 int64         \n",
      " 15  month               int64         \n",
      " 16  year                int64         \n",
      " 17  ride_length_s       float64       \n",
      " 18  year_month          object        \n",
      " 19  dayofweek_weekday   object        \n",
      "dtypes: datetime64[ns](2), float64(5), int64(3), object(10)\n",
      "memory usage: 559.1+ MB\n"
     ]
    }
   ],
   "source": [
    "\n",
    "tripdataV2.info()\n"
   ]
  },
  {
   "cell_type": "code",
   "execution_count": 40,
   "id": "80ce3dd2",
   "metadata": {
    "execution": {
     "iopub.execute_input": "2022-06-11T04:42:17.952176Z",
     "iopub.status.busy": "2022-06-11T04:42:17.951463Z",
     "iopub.status.idle": "2022-06-11T04:42:21.635191Z",
     "shell.execute_reply": "2022-06-11T04:42:21.634422Z"
    },
    "papermill": {
     "duration": 3.715112,
     "end_time": "2022-06-11T04:42:21.637092",
     "exception": false,
     "start_time": "2022-06-11T04:42:17.921980",
     "status": "completed"
    },
    "tags": []
   },
   "outputs": [
    {
     "data": {
      "text/html": [
       "<div>\n",
       "<style scoped>\n",
       "    .dataframe tbody tr th:only-of-type {\n",
       "        vertical-align: middle;\n",
       "    }\n",
       "\n",
       "    .dataframe tbody tr th {\n",
       "        vertical-align: top;\n",
       "    }\n",
       "\n",
       "    .dataframe thead th {\n",
       "        text-align: right;\n",
       "    }\n",
       "</style>\n",
       "<table border=\"1\" class=\"dataframe\">\n",
       "  <thead>\n",
       "    <tr style=\"text-align: right;\">\n",
       "      <th></th>\n",
       "      <th>start_lat</th>\n",
       "      <th>start_lng</th>\n",
       "      <th>end_lat</th>\n",
       "      <th>end_lng</th>\n",
       "      <th>day</th>\n",
       "      <th>month</th>\n",
       "      <th>year</th>\n",
       "      <th>ride_length_s</th>\n",
       "    </tr>\n",
       "  </thead>\n",
       "  <tbody>\n",
       "    <tr>\n",
       "      <th>count</th>\n",
       "      <td>3.489539e+06</td>\n",
       "      <td>3.489539e+06</td>\n",
       "      <td>3.484802e+06</td>\n",
       "      <td>3.484802e+06</td>\n",
       "      <td>3.489539e+06</td>\n",
       "      <td>3.489539e+06</td>\n",
       "      <td>3.489539e+06</td>\n",
       "      <td>3.489539e+06</td>\n",
       "    </tr>\n",
       "    <tr>\n",
       "      <th>mean</th>\n",
       "      <td>4.190417e+01</td>\n",
       "      <td>-8.764494e+01</td>\n",
       "      <td>4.190444e+01</td>\n",
       "      <td>-8.764522e+01</td>\n",
       "      <td>1.586048e+01</td>\n",
       "      <td>7.518390e+00</td>\n",
       "      <td>2.020107e+03</td>\n",
       "      <td>2.855945e+01</td>\n",
       "    </tr>\n",
       "    <tr>\n",
       "      <th>std</th>\n",
       "      <td>4.364222e-02</td>\n",
       "      <td>2.575990e-02</td>\n",
       "      <td>4.373714e-02</td>\n",
       "      <td>2.589148e-02</td>\n",
       "      <td>8.763003e+00</td>\n",
       "      <td>2.569745e+00</td>\n",
       "      <td>3.096849e-01</td>\n",
       "      <td>9.031763e+01</td>\n",
       "    </tr>\n",
       "    <tr>\n",
       "      <th>min</th>\n",
       "      <td>4.164000e+01</td>\n",
       "      <td>-8.787000e+01</td>\n",
       "      <td>4.154000e+01</td>\n",
       "      <td>-8.807000e+01</td>\n",
       "      <td>1.000000e+00</td>\n",
       "      <td>1.000000e+00</td>\n",
       "      <td>2.020000e+03</td>\n",
       "      <td>0.000000e+00</td>\n",
       "    </tr>\n",
       "    <tr>\n",
       "      <th>25%</th>\n",
       "      <td>4.188224e+01</td>\n",
       "      <td>-8.765888e+01</td>\n",
       "      <td>4.188266e+01</td>\n",
       "      <td>-8.765917e+01</td>\n",
       "      <td>8.000000e+00</td>\n",
       "      <td>6.000000e+00</td>\n",
       "      <td>2.020000e+03</td>\n",
       "      <td>7.950000e+00</td>\n",
       "    </tr>\n",
       "    <tr>\n",
       "      <th>50%</th>\n",
       "      <td>4.190000e+01</td>\n",
       "      <td>-8.764170e+01</td>\n",
       "      <td>4.190068e+01</td>\n",
       "      <td>-8.764275e+01</td>\n",
       "      <td>1.600000e+01</td>\n",
       "      <td>8.000000e+00</td>\n",
       "      <td>2.020000e+03</td>\n",
       "      <td>1.461667e+01</td>\n",
       "    </tr>\n",
       "    <tr>\n",
       "      <th>75%</th>\n",
       "      <td>4.193000e+01</td>\n",
       "      <td>-8.762773e+01</td>\n",
       "      <td>4.193120e+01</td>\n",
       "      <td>-8.762775e+01</td>\n",
       "      <td>2.300000e+01</td>\n",
       "      <td>9.000000e+00</td>\n",
       "      <td>2.020000e+03</td>\n",
       "      <td>2.683333e+01</td>\n",
       "    </tr>\n",
       "    <tr>\n",
       "      <th>max</th>\n",
       "      <td>4.208000e+01</td>\n",
       "      <td>-8.752000e+01</td>\n",
       "      <td>4.216000e+01</td>\n",
       "      <td>-8.744000e+01</td>\n",
       "      <td>3.100000e+01</td>\n",
       "      <td>1.200000e+01</td>\n",
       "      <td>2.021000e+03</td>\n",
       "      <td>1.439983e+03</td>\n",
       "    </tr>\n",
       "  </tbody>\n",
       "</table>\n",
       "</div>"
      ],
      "text/plain": [
       "          start_lat     start_lng       end_lat       end_lng           day  \\\n",
       "count  3.489539e+06  3.489539e+06  3.484802e+06  3.484802e+06  3.489539e+06   \n",
       "mean   4.190417e+01 -8.764494e+01  4.190444e+01 -8.764522e+01  1.586048e+01   \n",
       "std    4.364222e-02  2.575990e-02  4.373714e-02  2.589148e-02  8.763003e+00   \n",
       "min    4.164000e+01 -8.787000e+01  4.154000e+01 -8.807000e+01  1.000000e+00   \n",
       "25%    4.188224e+01 -8.765888e+01  4.188266e+01 -8.765917e+01  8.000000e+00   \n",
       "50%    4.190000e+01 -8.764170e+01  4.190068e+01 -8.764275e+01  1.600000e+01   \n",
       "75%    4.193000e+01 -8.762773e+01  4.193120e+01 -8.762775e+01  2.300000e+01   \n",
       "max    4.208000e+01 -8.752000e+01  4.216000e+01 -8.744000e+01  3.100000e+01   \n",
       "\n",
       "              month          year  ride_length_s  \n",
       "count  3.489539e+06  3.489539e+06   3.489539e+06  \n",
       "mean   7.518390e+00  2.020107e+03   2.855945e+01  \n",
       "std    2.569745e+00  3.096849e-01   9.031763e+01  \n",
       "min    1.000000e+00  2.020000e+03   0.000000e+00  \n",
       "25%    6.000000e+00  2.020000e+03   7.950000e+00  \n",
       "50%    8.000000e+00  2.020000e+03   1.461667e+01  \n",
       "75%    9.000000e+00  2.020000e+03   2.683333e+01  \n",
       "max    1.200000e+01  2.021000e+03   1.439983e+03  "
      ]
     },
     "execution_count": 40,
     "metadata": {},
     "output_type": "execute_result"
    }
   ],
   "source": [
    "# a closer view to my numeric data\n",
    "\n",
    "tripdataV2.describe()"
   ]
  },
  {
   "cell_type": "markdown",
   "id": "40ab0146",
   "metadata": {
    "papermill": {
     "duration": 0.02716,
     "end_time": "2022-06-11T04:42:21.693452",
     "exception": false,
     "start_time": "2022-06-11T04:42:21.666292",
     "status": "completed"
    },
    "tags": []
   },
   "source": [
    "## Analyze the key differences between members and casuals\n",
    "\n",
    "**Now we are going to analyze the members and casuals ride_length_s**"
   ]
  },
  {
   "cell_type": "markdown",
   "id": "e0c8404a",
   "metadata": {
    "papermill": {
     "duration": 0.02691,
     "end_time": "2022-06-11T04:42:21.747946",
     "exception": false,
     "start_time": "2022-06-11T04:42:21.721036",
     "status": "completed"
    },
    "tags": []
   },
   "source": []
  },
  {
   "cell_type": "code",
   "execution_count": 41,
   "id": "9d8167ff",
   "metadata": {
    "execution": {
     "iopub.execute_input": "2022-06-11T04:42:21.808391Z",
     "iopub.status.busy": "2022-06-11T04:42:21.807701Z",
     "iopub.status.idle": "2022-06-11T04:42:22.961036Z",
     "shell.execute_reply": "2022-06-11T04:42:22.960180Z"
    },
    "papermill": {
     "duration": 1.18701,
     "end_time": "2022-06-11T04:42:22.963209",
     "exception": false,
     "start_time": "2022-06-11T04:42:21.776199",
     "status": "completed"
    },
    "tags": []
   },
   "outputs": [
    {
     "data": {
      "text/html": [
       "<div>\n",
       "<style scoped>\n",
       "    .dataframe tbody tr th:only-of-type {\n",
       "        vertical-align: middle;\n",
       "    }\n",
       "\n",
       "    .dataframe tbody tr th {\n",
       "        vertical-align: top;\n",
       "    }\n",
       "\n",
       "    .dataframe thead th {\n",
       "        text-align: right;\n",
       "    }\n",
       "</style>\n",
       "<table border=\"1\" class=\"dataframe\">\n",
       "  <thead>\n",
       "    <tr style=\"text-align: right;\">\n",
       "      <th></th>\n",
       "      <th>start_lat</th>\n",
       "      <th>start_lng</th>\n",
       "      <th>end_lat</th>\n",
       "      <th>end_lng</th>\n",
       "      <th>day</th>\n",
       "      <th>month</th>\n",
       "      <th>year</th>\n",
       "      <th>ride_length_s</th>\n",
       "    </tr>\n",
       "    <tr>\n",
       "      <th>member_casual</th>\n",
       "      <th></th>\n",
       "      <th></th>\n",
       "      <th></th>\n",
       "      <th></th>\n",
       "      <th></th>\n",
       "      <th></th>\n",
       "      <th></th>\n",
       "      <th></th>\n",
       "    </tr>\n",
       "  </thead>\n",
       "  <tbody>\n",
       "    <tr>\n",
       "      <th>casual</th>\n",
       "      <td>5.993541e+07</td>\n",
       "      <td>-1.253602e+08</td>\n",
       "      <td>5.984433e+07</td>\n",
       "      <td>-1.251690e+08</td>\n",
       "      <td>22741159</td>\n",
       "      <td>10806300</td>\n",
       "      <td>2889421301</td>\n",
       "      <td>5.746084e+07</td>\n",
       "    </tr>\n",
       "    <tr>\n",
       "      <th>member</th>\n",
       "      <td>8.629083e+07</td>\n",
       "      <td>-1.804802e+08</td>\n",
       "      <td>8.618433e+07</td>\n",
       "      <td>-1.802572e+08</td>\n",
       "      <td>32604609</td>\n",
       "      <td>15429414</td>\n",
       "      <td>4159822431</td>\n",
       "      <td>4.219847e+07</td>\n",
       "    </tr>\n",
       "  </tbody>\n",
       "</table>\n",
       "</div>"
      ],
      "text/plain": [
       "                  start_lat     start_lng       end_lat       end_lng  \\\n",
       "member_casual                                                           \n",
       "casual         5.993541e+07 -1.253602e+08  5.984433e+07 -1.251690e+08   \n",
       "member         8.629083e+07 -1.804802e+08  8.618433e+07 -1.802572e+08   \n",
       "\n",
       "                    day     month        year  ride_length_s  \n",
       "member_casual                                                 \n",
       "casual         22741159  10806300  2889421301   5.746084e+07  \n",
       "member         32604609  15429414  4159822431   4.219847e+07  "
      ]
     },
     "execution_count": 41,
     "metadata": {},
     "output_type": "execute_result"
    }
   ],
   "source": [
    "\n",
    "\n",
    "\n",
    "tripdataV2.groupby(\"member_casual\").sum()\n"
   ]
  },
  {
   "cell_type": "code",
   "execution_count": null,
   "id": "661dd0d0",
   "metadata": {
    "papermill": {
     "duration": 0.029084,
     "end_time": "2022-06-11T04:42:23.021603",
     "exception": false,
     "start_time": "2022-06-11T04:42:22.992519",
     "status": "completed"
    },
    "tags": []
   },
   "outputs": [],
   "source": []
  },
  {
   "cell_type": "markdown",
   "id": "6907b84e",
   "metadata": {
    "papermill": {
     "duration": 0.028625,
     "end_time": "2022-06-11T04:42:23.080474",
     "exception": false,
     "start_time": "2022-06-11T04:42:23.051849",
     "status": "completed"
    },
    "tags": []
   },
   "source": [
    "* **We have to create another dataframe to that we are going to call compare_ride_length**\n",
    "\n",
    "**With this dataframe we are going to compare the differences between member and casuals by ride length in seconds**"
   ]
  },
  {
   "cell_type": "code",
   "execution_count": 42,
   "id": "b37f0a7c",
   "metadata": {
    "execution": {
     "iopub.execute_input": "2022-06-11T04:42:23.139694Z",
     "iopub.status.busy": "2022-06-11T04:42:23.139037Z",
     "iopub.status.idle": "2022-06-11T04:42:23.174963Z",
     "shell.execute_reply": "2022-06-11T04:42:23.174185Z"
    },
    "papermill": {
     "duration": 0.067709,
     "end_time": "2022-06-11T04:42:23.177307",
     "exception": false,
     "start_time": "2022-06-11T04:42:23.109598",
     "status": "completed"
    },
    "tags": []
   },
   "outputs": [
    {
     "data": {
      "text/html": [
       "<div>\n",
       "<style scoped>\n",
       "    .dataframe tbody tr th:only-of-type {\n",
       "        vertical-align: middle;\n",
       "    }\n",
       "\n",
       "    .dataframe tbody tr th {\n",
       "        vertical-align: top;\n",
       "    }\n",
       "\n",
       "    .dataframe thead th {\n",
       "        text-align: right;\n",
       "    }\n",
       "</style>\n",
       "<table border=\"1\" class=\"dataframe\">\n",
       "  <thead>\n",
       "    <tr style=\"text-align: right;\">\n",
       "      <th></th>\n",
       "      <th>member_casual</th>\n",
       "      <th>ride_length_s</th>\n",
       "    </tr>\n",
       "  </thead>\n",
       "  <tbody>\n",
       "    <tr>\n",
       "      <th>0</th>\n",
       "      <td>member</td>\n",
       "      <td>26.816667</td>\n",
       "    </tr>\n",
       "    <tr>\n",
       "      <th>1</th>\n",
       "      <td>member</td>\n",
       "      <td>8.150000</td>\n",
       "    </tr>\n",
       "    <tr>\n",
       "      <th>2</th>\n",
       "      <td>member</td>\n",
       "      <td>14.383333</td>\n",
       "    </tr>\n",
       "    <tr>\n",
       "      <th>3</th>\n",
       "      <td>member</td>\n",
       "      <td>12.200000</td>\n",
       "    </tr>\n",
       "    <tr>\n",
       "      <th>4</th>\n",
       "      <td>casual</td>\n",
       "      <td>52.916667</td>\n",
       "    </tr>\n",
       "    <tr>\n",
       "      <th>...</th>\n",
       "      <td>...</td>\n",
       "      <td>...</td>\n",
       "    </tr>\n",
       "    <tr>\n",
       "      <th>228491</th>\n",
       "      <td>casual</td>\n",
       "      <td>143.850000</td>\n",
       "    </tr>\n",
       "    <tr>\n",
       "      <th>228492</th>\n",
       "      <td>member</td>\n",
       "      <td>8.450000</td>\n",
       "    </tr>\n",
       "    <tr>\n",
       "      <th>228493</th>\n",
       "      <td>member</td>\n",
       "      <td>41.583333</td>\n",
       "    </tr>\n",
       "    <tr>\n",
       "      <th>228494</th>\n",
       "      <td>member</td>\n",
       "      <td>6.666667</td>\n",
       "    </tr>\n",
       "    <tr>\n",
       "      <th>228495</th>\n",
       "      <td>member</td>\n",
       "      <td>8.483333</td>\n",
       "    </tr>\n",
       "  </tbody>\n",
       "</table>\n",
       "<p>3489539 rows × 2 columns</p>\n",
       "</div>"
      ],
      "text/plain": [
       "       member_casual  ride_length_s\n",
       "0             member      26.816667\n",
       "1             member       8.150000\n",
       "2             member      14.383333\n",
       "3             member      12.200000\n",
       "4             casual      52.916667\n",
       "...              ...            ...\n",
       "228491        casual     143.850000\n",
       "228492        member       8.450000\n",
       "228493        member      41.583333\n",
       "228494        member       6.666667\n",
       "228495        member       8.483333\n",
       "\n",
       "[3489539 rows x 2 columns]"
      ]
     },
     "execution_count": 42,
     "metadata": {},
     "output_type": "execute_result"
    }
   ],
   "source": [
    "# Comparison between member and casuals by ride_length_s\n",
    "\n",
    "\n",
    "compare_ride_length = pd.DataFrame({'member_casual': tripdataV2[\"member_casual\"],\n",
    "                   'ride_length_s': tripdataV2[\"ride_length_s\"]})\n",
    "\n",
    "compare_ride_length"
   ]
  },
  {
   "cell_type": "markdown",
   "id": "f522bfea",
   "metadata": {
    "papermill": {
     "duration": 0.029051,
     "end_time": "2022-06-11T04:42:23.235045",
     "exception": false,
     "start_time": "2022-06-11T04:42:23.205994",
     "status": "completed"
    },
    "tags": []
   },
   "source": [
    "**After create the dataframe we can use the describe function to see the differences between members and casuals**"
   ]
  },
  {
   "cell_type": "code",
   "execution_count": 43,
   "id": "cf58e2bb",
   "metadata": {
    "execution": {
     "iopub.execute_input": "2022-06-11T04:42:23.297954Z",
     "iopub.status.busy": "2022-06-11T04:42:23.297531Z",
     "iopub.status.idle": "2022-06-11T04:42:23.924342Z",
     "shell.execute_reply": "2022-06-11T04:42:23.922679Z"
    },
    "papermill": {
     "duration": 0.659499,
     "end_time": "2022-06-11T04:42:23.927130",
     "exception": false,
     "start_time": "2022-06-11T04:42:23.267631",
     "status": "completed"
    },
    "tags": []
   },
   "outputs": [
    {
     "data": {
      "text/html": [
       "<div>\n",
       "<style scoped>\n",
       "    .dataframe tbody tr th:only-of-type {\n",
       "        vertical-align: middle;\n",
       "    }\n",
       "\n",
       "    .dataframe tbody tr th {\n",
       "        vertical-align: top;\n",
       "    }\n",
       "\n",
       "    .dataframe thead tr th {\n",
       "        text-align: left;\n",
       "    }\n",
       "\n",
       "    .dataframe thead tr:last-of-type th {\n",
       "        text-align: right;\n",
       "    }\n",
       "</style>\n",
       "<table border=\"1\" class=\"dataframe\">\n",
       "  <thead>\n",
       "    <tr>\n",
       "      <th></th>\n",
       "      <th colspan=\"8\" halign=\"left\">ride_length_s</th>\n",
       "    </tr>\n",
       "    <tr>\n",
       "      <th></th>\n",
       "      <th>count</th>\n",
       "      <th>mean</th>\n",
       "      <th>std</th>\n",
       "      <th>min</th>\n",
       "      <th>25%</th>\n",
       "      <th>50%</th>\n",
       "      <th>75%</th>\n",
       "      <th>max</th>\n",
       "    </tr>\n",
       "    <tr>\n",
       "      <th>member_casual</th>\n",
       "      <th></th>\n",
       "      <th></th>\n",
       "      <th></th>\n",
       "      <th></th>\n",
       "      <th></th>\n",
       "      <th></th>\n",
       "      <th></th>\n",
       "      <th></th>\n",
       "    </tr>\n",
       "  </thead>\n",
       "  <tbody>\n",
       "    <tr>\n",
       "      <th>casual</th>\n",
       "      <td>1430351.0</td>\n",
       "      <td>40.172548</td>\n",
       "      <td>94.778521</td>\n",
       "      <td>0.0</td>\n",
       "      <td>11.583333</td>\n",
       "      <td>21.266667</td>\n",
       "      <td>40.450000</td>\n",
       "      <td>1439.983333</td>\n",
       "    </tr>\n",
       "    <tr>\n",
       "      <th>member</th>\n",
       "      <td>2059188.0</td>\n",
       "      <td>20.492773</td>\n",
       "      <td>86.168355</td>\n",
       "      <td>0.0</td>\n",
       "      <td>6.533333</td>\n",
       "      <td>11.533333</td>\n",
       "      <td>20.233333</td>\n",
       "      <td>1439.983333</td>\n",
       "    </tr>\n",
       "  </tbody>\n",
       "</table>\n",
       "</div>"
      ],
      "text/plain": [
       "              ride_length_s                                                   \\\n",
       "                      count       mean        std  min        25%        50%   \n",
       "member_casual                                                                  \n",
       "casual            1430351.0  40.172548  94.778521  0.0  11.583333  21.266667   \n",
       "member            2059188.0  20.492773  86.168355  0.0   6.533333  11.533333   \n",
       "\n",
       "                                       \n",
       "                     75%          max  \n",
       "member_casual                          \n",
       "casual         40.450000  1439.983333  \n",
       "member         20.233333  1439.983333  "
      ]
     },
     "execution_count": 43,
     "metadata": {},
     "output_type": "execute_result"
    }
   ],
   "source": [
    "compare_ride_length.groupby(\"member_casual\").describe()\n"
   ]
  },
  {
   "cell_type": "markdown",
   "id": "182edf11",
   "metadata": {
    "papermill": {
     "duration": 0.028973,
     "end_time": "2022-06-11T04:42:23.986816",
     "exception": false,
     "start_time": "2022-06-11T04:42:23.957843",
     "status": "completed"
    },
    "tags": []
   },
   "source": [
    "* **We have to do another separeted comparison because the describe function don't show this to us.**\n",
    "* **We will use the sum function to see the total length did between members and casuals**"
   ]
  },
  {
   "cell_type": "code",
   "execution_count": 44,
   "id": "042f1c86",
   "metadata": {
    "execution": {
     "iopub.execute_input": "2022-06-11T04:42:24.059867Z",
     "iopub.status.busy": "2022-06-11T04:42:24.059114Z",
     "iopub.status.idle": "2022-06-11T04:42:24.441940Z",
     "shell.execute_reply": "2022-06-11T04:42:24.440823Z"
    },
    "papermill": {
     "duration": 0.428711,
     "end_time": "2022-06-11T04:42:24.444383",
     "exception": false,
     "start_time": "2022-06-11T04:42:24.015672",
     "status": "completed"
    },
    "tags": []
   },
   "outputs": [
    {
     "data": {
      "text/html": [
       "<div>\n",
       "<style scoped>\n",
       "    .dataframe tbody tr th:only-of-type {\n",
       "        vertical-align: middle;\n",
       "    }\n",
       "\n",
       "    .dataframe tbody tr th {\n",
       "        vertical-align: top;\n",
       "    }\n",
       "\n",
       "    .dataframe thead th {\n",
       "        text-align: right;\n",
       "    }\n",
       "</style>\n",
       "<table border=\"1\" class=\"dataframe\">\n",
       "  <thead>\n",
       "    <tr style=\"text-align: right;\">\n",
       "      <th></th>\n",
       "      <th>ride_length_s</th>\n",
       "    </tr>\n",
       "    <tr>\n",
       "      <th>member_casual</th>\n",
       "      <th></th>\n",
       "    </tr>\n",
       "  </thead>\n",
       "  <tbody>\n",
       "    <tr>\n",
       "      <th>casual</th>\n",
       "      <td>21.266667</td>\n",
       "    </tr>\n",
       "    <tr>\n",
       "      <th>member</th>\n",
       "      <td>11.533333</td>\n",
       "    </tr>\n",
       "  </tbody>\n",
       "</table>\n",
       "</div>"
      ],
      "text/plain": [
       "               ride_length_s\n",
       "member_casual               \n",
       "casual             21.266667\n",
       "member             11.533333"
      ]
     },
     "execution_count": 44,
     "metadata": {},
     "output_type": "execute_result"
    }
   ],
   "source": [
    "# Using the sum function to see the median length between members and casulas\n",
    "\n",
    "compare_ride_length.groupby(\"member_casual\").median()\n"
   ]
  },
  {
   "cell_type": "code",
   "execution_count": 45,
   "id": "970ffb01",
   "metadata": {
    "execution": {
     "iopub.execute_input": "2022-06-11T04:42:24.504821Z",
     "iopub.status.busy": "2022-06-11T04:42:24.503641Z",
     "iopub.status.idle": "2022-06-11T04:42:25.099330Z",
     "shell.execute_reply": "2022-06-11T04:42:25.098357Z"
    },
    "papermill": {
     "duration": 0.628467,
     "end_time": "2022-06-11T04:42:25.101445",
     "exception": false,
     "start_time": "2022-06-11T04:42:24.472978",
     "status": "completed"
    },
    "tags": []
   },
   "outputs": [
    {
     "data": {
      "text/html": [
       "<div>\n",
       "<style scoped>\n",
       "    .dataframe tbody tr th:only-of-type {\n",
       "        vertical-align: middle;\n",
       "    }\n",
       "\n",
       "    .dataframe tbody tr th {\n",
       "        vertical-align: top;\n",
       "    }\n",
       "\n",
       "    .dataframe thead tr th {\n",
       "        text-align: left;\n",
       "    }\n",
       "\n",
       "    .dataframe thead tr:last-of-type th {\n",
       "        text-align: right;\n",
       "    }\n",
       "</style>\n",
       "<table border=\"1\" class=\"dataframe\">\n",
       "  <thead>\n",
       "    <tr>\n",
       "      <th></th>\n",
       "      <th colspan=\"8\" halign=\"left\">ride_length_s</th>\n",
       "    </tr>\n",
       "    <tr>\n",
       "      <th></th>\n",
       "      <th>count</th>\n",
       "      <th>mean</th>\n",
       "      <th>std</th>\n",
       "      <th>min</th>\n",
       "      <th>25%</th>\n",
       "      <th>50%</th>\n",
       "      <th>75%</th>\n",
       "      <th>max</th>\n",
       "    </tr>\n",
       "    <tr>\n",
       "      <th>member_casual</th>\n",
       "      <th></th>\n",
       "      <th></th>\n",
       "      <th></th>\n",
       "      <th></th>\n",
       "      <th></th>\n",
       "      <th></th>\n",
       "      <th></th>\n",
       "      <th></th>\n",
       "    </tr>\n",
       "  </thead>\n",
       "  <tbody>\n",
       "    <tr>\n",
       "      <th>casual</th>\n",
       "      <td>1430351.0</td>\n",
       "      <td>40.172548</td>\n",
       "      <td>94.778521</td>\n",
       "      <td>0.0</td>\n",
       "      <td>11.583333</td>\n",
       "      <td>21.266667</td>\n",
       "      <td>40.450000</td>\n",
       "      <td>1439.983333</td>\n",
       "    </tr>\n",
       "    <tr>\n",
       "      <th>member</th>\n",
       "      <td>2059188.0</td>\n",
       "      <td>20.492773</td>\n",
       "      <td>86.168355</td>\n",
       "      <td>0.0</td>\n",
       "      <td>6.533333</td>\n",
       "      <td>11.533333</td>\n",
       "      <td>20.233333</td>\n",
       "      <td>1439.983333</td>\n",
       "    </tr>\n",
       "  </tbody>\n",
       "</table>\n",
       "</div>"
      ],
      "text/plain": [
       "              ride_length_s                                                   \\\n",
       "                      count       mean        std  min        25%        50%   \n",
       "member_casual                                                                  \n",
       "casual            1430351.0  40.172548  94.778521  0.0  11.583333  21.266667   \n",
       "member            2059188.0  20.492773  86.168355  0.0   6.533333  11.533333   \n",
       "\n",
       "                                       \n",
       "                     75%          max  \n",
       "member_casual                          \n",
       "casual         40.450000  1439.983333  \n",
       "member         20.233333  1439.983333  "
      ]
     },
     "execution_count": 45,
     "metadata": {},
     "output_type": "execute_result"
    }
   ],
   "source": [
    "compare_ride_length.groupby(\"member_casual\").describe() "
   ]
  },
  {
   "cell_type": "code",
   "execution_count": 46,
   "id": "b1c64d33",
   "metadata": {
    "execution": {
     "iopub.execute_input": "2022-06-11T04:42:25.162538Z",
     "iopub.status.busy": "2022-06-11T04:42:25.161998Z",
     "iopub.status.idle": "2022-06-11T04:42:25.457901Z",
     "shell.execute_reply": "2022-06-11T04:42:25.457133Z"
    },
    "papermill": {
     "duration": 0.328142,
     "end_time": "2022-06-11T04:42:25.459939",
     "exception": false,
     "start_time": "2022-06-11T04:42:25.131797",
     "status": "completed"
    },
    "tags": []
   },
   "outputs": [
    {
     "data": {
      "text/html": [
       "<div>\n",
       "<style scoped>\n",
       "    .dataframe tbody tr th:only-of-type {\n",
       "        vertical-align: middle;\n",
       "    }\n",
       "\n",
       "    .dataframe tbody tr th {\n",
       "        vertical-align: top;\n",
       "    }\n",
       "\n",
       "    .dataframe thead th {\n",
       "        text-align: right;\n",
       "    }\n",
       "</style>\n",
       "<table border=\"1\" class=\"dataframe\">\n",
       "  <thead>\n",
       "    <tr style=\"text-align: right;\">\n",
       "      <th></th>\n",
       "      <th>ride_length_s</th>\n",
       "    </tr>\n",
       "    <tr>\n",
       "      <th>member_casual</th>\n",
       "      <th></th>\n",
       "    </tr>\n",
       "  </thead>\n",
       "  <tbody>\n",
       "    <tr>\n",
       "      <th>casual</th>\n",
       "      <td>40.989684</td>\n",
       "    </tr>\n",
       "    <tr>\n",
       "      <th>member</th>\n",
       "      <td>59.010316</td>\n",
       "    </tr>\n",
       "  </tbody>\n",
       "</table>\n",
       "</div>"
      ],
      "text/plain": [
       "               ride_length_s\n",
       "member_casual               \n",
       "casual             40.989684\n",
       "member             59.010316"
      ]
     },
     "execution_count": 46,
     "metadata": {},
     "output_type": "execute_result"
    }
   ],
   "source": [
    "# Counting the distribution in percenatage of members and casuals\n",
    "\n",
    "compare_ride_length.groupby(\"member_casual\").count() / len(compare_ride_length) * 100"
   ]
  },
  {
   "cell_type": "markdown",
   "id": "38c56214",
   "metadata": {
    "papermill": {
     "duration": 0.028484,
     "end_time": "2022-06-11T04:42:25.517173",
     "exception": false,
     "start_time": "2022-06-11T04:42:25.488689",
     "status": "completed"
    },
    "tags": []
   },
   "source": [
    "**There's another easier way to find the count, median and other statistics data between members and casuals using the agregate function and that's what we are going to do below**"
   ]
  },
  {
   "cell_type": "code",
   "execution_count": 47,
   "id": "921e41dc",
   "metadata": {
    "execution": {
     "iopub.execute_input": "2022-06-11T04:42:25.578114Z",
     "iopub.status.busy": "2022-06-11T04:42:25.577524Z",
     "iopub.status.idle": "2022-06-11T04:42:25.976894Z",
     "shell.execute_reply": "2022-06-11T04:42:25.976131Z"
    },
    "papermill": {
     "duration": 0.432183,
     "end_time": "2022-06-11T04:42:25.978972",
     "exception": false,
     "start_time": "2022-06-11T04:42:25.546789",
     "status": "completed"
    },
    "tags": []
   },
   "outputs": [
    {
     "data": {
      "text/html": [
       "<div>\n",
       "<style scoped>\n",
       "    .dataframe tbody tr th:only-of-type {\n",
       "        vertical-align: middle;\n",
       "    }\n",
       "\n",
       "    .dataframe tbody tr th {\n",
       "        vertical-align: top;\n",
       "    }\n",
       "\n",
       "    .dataframe thead tr th {\n",
       "        text-align: left;\n",
       "    }\n",
       "\n",
       "    .dataframe thead tr:last-of-type th {\n",
       "        text-align: right;\n",
       "    }\n",
       "</style>\n",
       "<table border=\"1\" class=\"dataframe\">\n",
       "  <thead>\n",
       "    <tr>\n",
       "      <th></th>\n",
       "      <th colspan=\"3\" halign=\"left\">ride_length_s</th>\n",
       "    </tr>\n",
       "    <tr>\n",
       "      <th></th>\n",
       "      <th>count</th>\n",
       "      <th>median</th>\n",
       "      <th>mean</th>\n",
       "    </tr>\n",
       "    <tr>\n",
       "      <th>member_casual</th>\n",
       "      <th></th>\n",
       "      <th></th>\n",
       "      <th></th>\n",
       "    </tr>\n",
       "  </thead>\n",
       "  <tbody>\n",
       "    <tr>\n",
       "      <th>casual</th>\n",
       "      <td>1430351</td>\n",
       "      <td>21.266667</td>\n",
       "      <td>40.172548</td>\n",
       "    </tr>\n",
       "    <tr>\n",
       "      <th>member</th>\n",
       "      <td>2059188</td>\n",
       "      <td>11.533333</td>\n",
       "      <td>20.492773</td>\n",
       "    </tr>\n",
       "  </tbody>\n",
       "</table>\n",
       "</div>"
      ],
      "text/plain": [
       "              ride_length_s                      \n",
       "                      count     median       mean\n",
       "member_casual                                    \n",
       "casual              1430351  21.266667  40.172548\n",
       "member              2059188  11.533333  20.492773"
      ]
     },
     "execution_count": 47,
     "metadata": {},
     "output_type": "execute_result"
    }
   ],
   "source": [
    "# Now the easiest way using the agregate function, not forgeting the groupby as well.\n",
    "\n",
    "tripdataV2.groupby(tripdataV2[\"member_casual\"]).aggregate({\"ride_length_s\":['count', 'median', 'mean']})\n"
   ]
  },
  {
   "cell_type": "code",
   "execution_count": 48,
   "id": "78f4ab80",
   "metadata": {
    "execution": {
     "iopub.execute_input": "2022-06-11T04:42:26.042353Z",
     "iopub.status.busy": "2022-06-11T04:42:26.041711Z",
     "iopub.status.idle": "2022-06-11T04:42:26.049164Z",
     "shell.execute_reply": "2022-06-11T04:42:26.048367Z"
    },
    "papermill": {
     "duration": 0.042828,
     "end_time": "2022-06-11T04:42:26.051253",
     "exception": false,
     "start_time": "2022-06-11T04:42:26.008425",
     "status": "completed"
    },
    "tags": []
   },
   "outputs": [
    {
     "data": {
      "text/plain": [
       "0            Sunday\n",
       "1            Friday\n",
       "2         Wednesday\n",
       "3           Tuesday\n",
       "4          Saturday\n",
       "            ...    \n",
       "228491     Saturday\n",
       "228492      Tuesday\n",
       "228493      Tuesday\n",
       "228494       Monday\n",
       "228495       Friday\n",
       "Name: weekday, Length: 3489539, dtype: object"
      ]
     },
     "execution_count": 48,
     "metadata": {},
     "output_type": "execute_result"
    }
   ],
   "source": [
    "tripdataV2[\"weekday\"]\n"
   ]
  },
  {
   "cell_type": "markdown",
   "id": "6177c92e",
   "metadata": {
    "papermill": {
     "duration": 0.030062,
     "end_time": "2022-06-11T04:42:26.111812",
     "exception": false,
     "start_time": "2022-06-11T04:42:26.081750",
     "status": "completed"
    },
    "tags": []
   },
   "source": [
    "**Watching first the count, median and mean from the days of the week**"
   ]
  },
  {
   "cell_type": "code",
   "execution_count": 49,
   "id": "e7aec42b",
   "metadata": {
    "execution": {
     "iopub.execute_input": "2022-06-11T04:42:26.174187Z",
     "iopub.status.busy": "2022-06-11T04:42:26.173505Z",
     "iopub.status.idle": "2022-06-11T04:42:26.639581Z",
     "shell.execute_reply": "2022-06-11T04:42:26.638482Z"
    },
    "papermill": {
     "duration": 0.500313,
     "end_time": "2022-06-11T04:42:26.642129",
     "exception": false,
     "start_time": "2022-06-11T04:42:26.141816",
     "status": "completed"
    },
    "tags": []
   },
   "outputs": [
    {
     "data": {
      "text/html": [
       "<div>\n",
       "<style scoped>\n",
       "    .dataframe tbody tr th:only-of-type {\n",
       "        vertical-align: middle;\n",
       "    }\n",
       "\n",
       "    .dataframe tbody tr th {\n",
       "        vertical-align: top;\n",
       "    }\n",
       "\n",
       "    .dataframe thead tr th {\n",
       "        text-align: left;\n",
       "    }\n",
       "\n",
       "    .dataframe thead tr:last-of-type th {\n",
       "        text-align: right;\n",
       "    }\n",
       "</style>\n",
       "<table border=\"1\" class=\"dataframe\">\n",
       "  <thead>\n",
       "    <tr>\n",
       "      <th></th>\n",
       "      <th colspan=\"3\" halign=\"left\">ride_length_s</th>\n",
       "    </tr>\n",
       "    <tr>\n",
       "      <th></th>\n",
       "      <th>count</th>\n",
       "      <th>median</th>\n",
       "      <th>mean</th>\n",
       "    </tr>\n",
       "    <tr>\n",
       "      <th>weekday</th>\n",
       "      <th></th>\n",
       "      <th></th>\n",
       "      <th></th>\n",
       "    </tr>\n",
       "  </thead>\n",
       "  <tbody>\n",
       "    <tr>\n",
       "      <th>Friday</th>\n",
       "      <td>516802</td>\n",
       "      <td>14.066667</td>\n",
       "      <td>28.536724</td>\n",
       "    </tr>\n",
       "    <tr>\n",
       "      <th>Monday</th>\n",
       "      <td>419556</td>\n",
       "      <td>13.450000</td>\n",
       "      <td>26.286407</td>\n",
       "    </tr>\n",
       "    <tr>\n",
       "      <th>Saturday</th>\n",
       "      <td>660184</td>\n",
       "      <td>17.450000</td>\n",
       "      <td>32.968669</td>\n",
       "    </tr>\n",
       "    <tr>\n",
       "      <th>Sunday</th>\n",
       "      <td>529117</td>\n",
       "      <td>17.733333</td>\n",
       "      <td>33.466815</td>\n",
       "    </tr>\n",
       "    <tr>\n",
       "      <th>Thursday</th>\n",
       "      <td>467993</td>\n",
       "      <td>13.150000</td>\n",
       "      <td>25.023554</td>\n",
       "    </tr>\n",
       "    <tr>\n",
       "      <th>Tuesday</th>\n",
       "      <td>431083</td>\n",
       "      <td>12.983333</td>\n",
       "      <td>25.640836</td>\n",
       "    </tr>\n",
       "    <tr>\n",
       "      <th>Wednesday</th>\n",
       "      <td>464804</td>\n",
       "      <td>13.000000</td>\n",
       "      <td>25.054509</td>\n",
       "    </tr>\n",
       "  </tbody>\n",
       "</table>\n",
       "</div>"
      ],
      "text/plain": [
       "          ride_length_s                      \n",
       "                  count     median       mean\n",
       "weekday                                      \n",
       "Friday           516802  14.066667  28.536724\n",
       "Monday           419556  13.450000  26.286407\n",
       "Saturday         660184  17.450000  32.968669\n",
       "Sunday           529117  17.733333  33.466815\n",
       "Thursday         467993  13.150000  25.023554\n",
       "Tuesday          431083  12.983333  25.640836\n",
       "Wednesday        464804  13.000000  25.054509"
      ]
     },
     "execution_count": 49,
     "metadata": {},
     "output_type": "execute_result"
    }
   ],
   "source": [
    "tripdataV2.groupby(\"weekday\").aggregate({\"ride_length_s\":['count', 'median', \"mean\"]})\n"
   ]
  },
  {
   "cell_type": "code",
   "execution_count": 50,
   "id": "eece0ce2",
   "metadata": {
    "execution": {
     "iopub.execute_input": "2022-06-11T04:42:26.704930Z",
     "iopub.status.busy": "2022-06-11T04:42:26.704393Z",
     "iopub.status.idle": "2022-06-11T04:42:27.111319Z",
     "shell.execute_reply": "2022-06-11T04:42:27.109795Z"
    },
    "papermill": {
     "duration": 0.440806,
     "end_time": "2022-06-11T04:42:27.113547",
     "exception": false,
     "start_time": "2022-06-11T04:42:26.672741",
     "status": "completed"
    },
    "tags": []
   },
   "outputs": [
    {
     "data": {
      "text/html": [
       "<div>\n",
       "<style scoped>\n",
       "    .dataframe tbody tr th:only-of-type {\n",
       "        vertical-align: middle;\n",
       "    }\n",
       "\n",
       "    .dataframe tbody tr th {\n",
       "        vertical-align: top;\n",
       "    }\n",
       "\n",
       "    .dataframe thead tr th {\n",
       "        text-align: left;\n",
       "    }\n",
       "\n",
       "    .dataframe thead tr:last-of-type th {\n",
       "        text-align: right;\n",
       "    }\n",
       "</style>\n",
       "<table border=\"1\" class=\"dataframe\">\n",
       "  <thead>\n",
       "    <tr>\n",
       "      <th></th>\n",
       "      <th colspan=\"3\" halign=\"left\">ride_length_s</th>\n",
       "    </tr>\n",
       "    <tr>\n",
       "      <th></th>\n",
       "      <th>count</th>\n",
       "      <th>median</th>\n",
       "      <th>mean</th>\n",
       "    </tr>\n",
       "    <tr>\n",
       "      <th>member_casual</th>\n",
       "      <th></th>\n",
       "      <th></th>\n",
       "      <th></th>\n",
       "    </tr>\n",
       "  </thead>\n",
       "  <tbody>\n",
       "    <tr>\n",
       "      <th>casual</th>\n",
       "      <td>1430351</td>\n",
       "      <td>21.266667</td>\n",
       "      <td>40.172548</td>\n",
       "    </tr>\n",
       "    <tr>\n",
       "      <th>member</th>\n",
       "      <td>2059188</td>\n",
       "      <td>11.533333</td>\n",
       "      <td>20.492773</td>\n",
       "    </tr>\n",
       "  </tbody>\n",
       "</table>\n",
       "</div>"
      ],
      "text/plain": [
       "              ride_length_s                      \n",
       "                      count     median       mean\n",
       "member_casual                                    \n",
       "casual              1430351  21.266667  40.172548\n",
       "member              2059188  11.533333  20.492773"
      ]
     },
     "execution_count": 50,
     "metadata": {},
     "output_type": "execute_result"
    }
   ],
   "source": [
    "tripdataV2.groupby(\"member_casual\").aggregate({\"ride_length_s\":['count', 'median', \"mean\"]})"
   ]
  },
  {
   "cell_type": "code",
   "execution_count": 51,
   "id": "ef8b95c9",
   "metadata": {
    "execution": {
     "iopub.execute_input": "2022-06-11T04:42:27.176060Z",
     "iopub.status.busy": "2022-06-11T04:42:27.175687Z",
     "iopub.status.idle": "2022-06-11T04:42:28.005501Z",
     "shell.execute_reply": "2022-06-11T04:42:28.004385Z"
    },
    "papermill": {
     "duration": 0.865233,
     "end_time": "2022-06-11T04:42:28.008635",
     "exception": false,
     "start_time": "2022-06-11T04:42:27.143402",
     "status": "completed"
    },
    "tags": []
   },
   "outputs": [
    {
     "data": {
      "text/html": [
       "<div>\n",
       "<style scoped>\n",
       "    .dataframe tbody tr th:only-of-type {\n",
       "        vertical-align: middle;\n",
       "    }\n",
       "\n",
       "    .dataframe tbody tr th {\n",
       "        vertical-align: top;\n",
       "    }\n",
       "\n",
       "    .dataframe thead tr th {\n",
       "        text-align: left;\n",
       "    }\n",
       "\n",
       "    .dataframe thead tr:last-of-type th {\n",
       "        text-align: right;\n",
       "    }\n",
       "</style>\n",
       "<table border=\"1\" class=\"dataframe\">\n",
       "  <thead>\n",
       "    <tr>\n",
       "      <th></th>\n",
       "      <th></th>\n",
       "      <th colspan=\"3\" halign=\"left\">ride_length_s</th>\n",
       "    </tr>\n",
       "    <tr>\n",
       "      <th></th>\n",
       "      <th></th>\n",
       "      <th>count</th>\n",
       "      <th>median</th>\n",
       "      <th>mean</th>\n",
       "    </tr>\n",
       "    <tr>\n",
       "      <th>weekday</th>\n",
       "      <th>member_casual</th>\n",
       "      <th></th>\n",
       "      <th></th>\n",
       "      <th></th>\n",
       "    </tr>\n",
       "  </thead>\n",
       "  <tbody>\n",
       "    <tr>\n",
       "      <th rowspan=\"2\" valign=\"top\">Friday</th>\n",
       "      <th>casual</th>\n",
       "      <td>209131</td>\n",
       "      <td>19.866667</td>\n",
       "      <td>39.188121</td>\n",
       "    </tr>\n",
       "    <tr>\n",
       "      <th>member</th>\n",
       "      <td>307671</td>\n",
       "      <td>11.333333</td>\n",
       "      <td>21.296726</td>\n",
       "    </tr>\n",
       "    <tr>\n",
       "      <th rowspan=\"2\" valign=\"top\">Monday</th>\n",
       "      <th>casual</th>\n",
       "      <td>151460</td>\n",
       "      <td>20.766667</td>\n",
       "      <td>39.383136</td>\n",
       "    </tr>\n",
       "    <tr>\n",
       "      <th>member</th>\n",
       "      <td>268096</td>\n",
       "      <td>10.850000</td>\n",
       "      <td>18.887450</td>\n",
       "    </tr>\n",
       "    <tr>\n",
       "      <th rowspan=\"2\" valign=\"top\">Saturday</th>\n",
       "      <th>casual</th>\n",
       "      <td>335901</td>\n",
       "      <td>23.516667</td>\n",
       "      <td>43.176450</td>\n",
       "    </tr>\n",
       "    <tr>\n",
       "      <th>member</th>\n",
       "      <td>324283</td>\n",
       "      <td>12.983333</td>\n",
       "      <td>22.395178</td>\n",
       "    </tr>\n",
       "    <tr>\n",
       "      <th rowspan=\"2\" valign=\"top\">Sunday</th>\n",
       "      <th>casual</th>\n",
       "      <td>262861</td>\n",
       "      <td>24.583333</td>\n",
       "      <td>44.528546</td>\n",
       "    </tr>\n",
       "    <tr>\n",
       "      <th>member</th>\n",
       "      <td>266256</td>\n",
       "      <td>13.050000</td>\n",
       "      <td>22.546131</td>\n",
       "    </tr>\n",
       "    <tr>\n",
       "      <th rowspan=\"2\" valign=\"top\">Thursday</th>\n",
       "      <th>casual</th>\n",
       "      <td>166672</td>\n",
       "      <td>18.700000</td>\n",
       "      <td>36.038682</td>\n",
       "    </tr>\n",
       "    <tr>\n",
       "      <th>member</th>\n",
       "      <td>301321</td>\n",
       "      <td>10.983333</td>\n",
       "      <td>18.930671</td>\n",
       "    </tr>\n",
       "    <tr>\n",
       "      <th rowspan=\"2\" valign=\"top\">Tuesday</th>\n",
       "      <th>casual</th>\n",
       "      <td>145635</td>\n",
       "      <td>19.133333</td>\n",
       "      <td>37.277237</td>\n",
       "    </tr>\n",
       "    <tr>\n",
       "      <th>member</th>\n",
       "      <td>285448</td>\n",
       "      <td>10.900000</td>\n",
       "      <td>19.703968</td>\n",
       "    </tr>\n",
       "    <tr>\n",
       "      <th rowspan=\"2\" valign=\"top\">Wednesday</th>\n",
       "      <th>casual</th>\n",
       "      <td>158691</td>\n",
       "      <td>18.583333</td>\n",
       "      <td>35.648418</td>\n",
       "    </tr>\n",
       "    <tr>\n",
       "      <th>member</th>\n",
       "      <td>306113</td>\n",
       "      <td>10.983333</td>\n",
       "      <td>19.562557</td>\n",
       "    </tr>\n",
       "  </tbody>\n",
       "</table>\n",
       "</div>"
      ],
      "text/plain": [
       "                        ride_length_s                      \n",
       "                                count     median       mean\n",
       "weekday   member_casual                                    \n",
       "Friday    casual               209131  19.866667  39.188121\n",
       "          member               307671  11.333333  21.296726\n",
       "Monday    casual               151460  20.766667  39.383136\n",
       "          member               268096  10.850000  18.887450\n",
       "Saturday  casual               335901  23.516667  43.176450\n",
       "          member               324283  12.983333  22.395178\n",
       "Sunday    casual               262861  24.583333  44.528546\n",
       "          member               266256  13.050000  22.546131\n",
       "Thursday  casual               166672  18.700000  36.038682\n",
       "          member               301321  10.983333  18.930671\n",
       "Tuesday   casual               145635  19.133333  37.277237\n",
       "          member               285448  10.900000  19.703968\n",
       "Wednesday casual               158691  18.583333  35.648418\n",
       "          member               306113  10.983333  19.562557"
      ]
     },
     "execution_count": 51,
     "metadata": {},
     "output_type": "execute_result"
    }
   ],
   "source": [
    "# Now combining the week day and member_casual columns to analyze them grouped\n",
    "\n",
    "tripdataV2.groupby([\"weekday\", \"member_casual\"]).aggregate({\"ride_length_s\":['count', 'median', \"mean\"]})"
   ]
  },
  {
   "cell_type": "code",
   "execution_count": null,
   "id": "ee41e81b",
   "metadata": {
    "papermill": {
     "duration": 0.031112,
     "end_time": "2022-06-11T04:42:28.073569",
     "exception": false,
     "start_time": "2022-06-11T04:42:28.042457",
     "status": "completed"
    },
    "tags": []
   },
   "outputs": [],
   "source": []
  }
 ],
 "metadata": {
  "kernelspec": {
   "display_name": "Python 3",
   "language": "python",
   "name": "python3"
  },
  "language_info": {
   "codemirror_mode": {
    "name": "ipython",
    "version": 3
   },
   "file_extension": ".py",
   "mimetype": "text/x-python",
   "name": "python",
   "nbconvert_exporter": "python",
   "pygments_lexer": "ipython3",
   "version": "3.7.12"
  },
  "papermill": {
   "default_parameters": {},
   "duration": 183.204641,
   "end_time": "2022-06-11T04:42:30.727782",
   "environment_variables": {},
   "exception": null,
   "input_path": "__notebook__.ipynb",
   "output_path": "__notebook__.ipynb",
   "parameters": {},
   "start_time": "2022-06-11T04:39:27.523141",
   "version": "2.3.4"
  }
 },
 "nbformat": 4,
 "nbformat_minor": 5
}
