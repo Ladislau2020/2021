{
 "cells": [
  {
   "cell_type": "markdown",
   "id": "2f547618",
   "metadata": {
    "papermill": {
     "duration": 0.014619,
     "end_time": "2022-06-11T04:09:48.055494",
     "exception": false,
     "start_time": "2022-06-11T04:09:48.040875",
     "status": "completed"
    },
    "tags": []
   },
   "source": [
    "# Google data analytics Capstone Project: How does a bike-share navigate speedy success\n",
    "\n",
    "Author: **[Ladislau André](http://https://ladislau2020.github.io/2021/CV/index.html)**\n",
    "dataset: [Cyclistic Dataset](http://)\n",
    "Date: *04-06-2022*\n",
    "\n"
   ]
  },
  {
   "cell_type": "markdown",
   "id": "8628bf4c",
   "metadata": {
    "papermill": {
     "duration": 0.013449,
     "end_time": "2022-06-11T04:09:48.082532",
     "exception": false,
     "start_time": "2022-06-11T04:09:48.069083",
     "status": "completed"
    },
    "tags": []
   },
   "source": [
    "## Introduction\n"
   ]
  },
  {
   "cell_type": "markdown",
   "id": "6563d315",
   "metadata": {
    "papermill": {
     "duration": 0.013516,
     "end_time": "2022-06-11T04:09:48.111872",
     "exception": false,
     "start_time": "2022-06-11T04:09:48.098356",
     "status": "completed"
    },
    "tags": []
   },
   "source": [
    "### Loading the libraries\n",
    "We will be importing the pandas library for the ETL process."
   ]
  },
  {
   "cell_type": "code",
   "execution_count": null,
   "id": "83d43b08",
   "metadata": {
    "papermill": {
     "duration": 0.012928,
     "end_time": "2022-06-11T04:09:48.138730",
     "exception": false,
     "start_time": "2022-06-11T04:09:48.125802",
     "status": "completed"
    },
    "tags": []
   },
   "outputs": [],
   "source": []
  },
  {
   "cell_type": "code",
   "execution_count": 1,
   "id": "1bf60e07",
   "metadata": {
    "execution": {
     "iopub.execute_input": "2022-06-11T04:09:48.167380Z",
     "iopub.status.busy": "2022-06-11T04:09:48.166760Z",
     "iopub.status.idle": "2022-06-11T04:09:48.177796Z",
     "shell.execute_reply": "2022-06-11T04:09:48.177141Z"
    },
    "papermill": {
     "duration": 0.027668,
     "end_time": "2022-06-11T04:09:48.179771",
     "exception": false,
     "start_time": "2022-06-11T04:09:48.152103",
     "status": "completed"
    },
    "tags": []
   },
   "outputs": [],
   "source": [
    "import pandas as pd "
   ]
  },
  {
   "cell_type": "code",
   "execution_count": null,
   "id": "d4dffdc6",
   "metadata": {
    "papermill": {
     "duration": 0.013224,
     "end_time": "2022-06-11T04:09:48.207953",
     "exception": false,
     "start_time": "2022-06-11T04:09:48.194729",
     "status": "completed"
    },
    "tags": []
   },
   "outputs": [],
   "source": []
  },
  {
   "cell_type": "markdown",
   "id": "ea37bf84",
   "metadata": {
    "papermill": {
     "duration": 0.013482,
     "end_time": "2022-06-11T04:09:48.235298",
     "exception": false,
     "start_time": "2022-06-11T04:09:48.221816",
     "status": "completed"
    },
    "tags": []
   },
   "source": [
    "### Loading the Dataset\n",
    "\n",
    "As earlier said we are going to be using the cyclist dataset for the last 12 months for this project."
   ]
  },
  {
   "cell_type": "code",
   "execution_count": null,
   "id": "176a495a",
   "metadata": {
    "papermill": {
     "duration": 0.012982,
     "end_time": "2022-06-11T04:09:48.261598",
     "exception": false,
     "start_time": "2022-06-11T04:09:48.248616",
     "status": "completed"
    },
    "tags": []
   },
   "outputs": [],
   "source": []
  },
  {
   "cell_type": "code",
   "execution_count": 2,
   "id": "ebafc2a3",
   "metadata": {
    "execution": {
     "iopub.execute_input": "2022-06-11T04:09:48.291437Z",
     "iopub.status.busy": "2022-06-11T04:09:48.290772Z",
     "iopub.status.idle": "2022-06-11T04:10:08.544431Z",
     "shell.execute_reply": "2022-06-11T04:10:08.543420Z"
    },
    "papermill": {
     "duration": 20.270328,
     "end_time": "2022-06-11T04:10:08.546669",
     "exception": false,
     "start_time": "2022-06-11T04:09:48.276341",
     "status": "completed"
    },
    "tags": []
   },
   "outputs": [],
   "source": [
    "\n",
    "month1 = pd.read_csv(\"../input/cyclistic-bike-share/202004-divvy-tripdata.csv\")\n",
    "month2 = pd.read_csv(\"../input/cyclistic-bike-share/202005-divvy-tripdata.csv\")\n",
    "month3 = pd.read_csv(\"../input/cyclistic-bike-share/202006-divvy-tripdata.csv\")\n",
    "month4 = pd.read_csv(\"../input/cyclistic-bike-share/202007-divvy-tripdata.csv\")\n",
    "month5 = pd.read_csv(\"../input/cyclistic-bike-share/202008-divvy-tripdata.csv\")\n",
    "month6 = pd.read_csv(\"../input/cyclistic-bike-share/202009-divvy-tripdata.csv\")\n",
    "month7 = pd.read_csv(\"../input/cyclistic-bike-share/202010-divvy-tripdata.csv\")\n",
    "month8 = pd.read_csv(\"../input/cyclistic-bike-share/202011-divvy-tripdata.csv\")\n",
    "month9 = pd.read_csv(\"../input/cyclistic-bike-share/202012-divvy-tripdata.csv\")\n",
    "month10 = pd.read_csv(\"../input/cyclistic-bike-share/202101-divvy-tripdata.csv\")\n",
    "month11 = pd.read_csv(\"../input/cyclistic-bike-share/202102-divvy-tripdata.csv\")\n",
    "month12 = pd.read_csv(\"../input/cyclistic-bike-share/202103-divvy-tripdata.csv\")\n",
    "\n",
    "# after loading the dataset we are going to bind them using the concat function\n",
    "\n",
    "tripdata = pd.concat([month1, month2, month3, month4, month5, month6, month7, month8, month9, month10, month11, month12])\n"
   ]
  },
  {
   "cell_type": "markdown",
   "id": "8c411525",
   "metadata": {
    "papermill": {
     "duration": 0.013382,
     "end_time": "2022-06-11T04:10:08.573485",
     "exception": false,
     "start_time": "2022-06-11T04:10:08.560103",
     "status": "completed"
    },
    "tags": []
   },
   "source": [
    "### Inspecting my dataset and gain insights about it\n",
    "\n",
    "I will be using functions allowing me to inspect the dataset and get to know more about it."
   ]
  },
  {
   "cell_type": "markdown",
   "id": "6eebcf97",
   "metadata": {
    "papermill": {
     "duration": 0.013794,
     "end_time": "2022-06-11T04:10:08.600712",
     "exception": false,
     "start_time": "2022-06-11T04:10:08.586918",
     "status": "completed"
    },
    "tags": []
   },
   "source": []
  },
  {
   "cell_type": "code",
   "execution_count": 3,
   "id": "d3a9323d",
   "metadata": {
    "execution": {
     "iopub.execute_input": "2022-06-11T04:10:08.629988Z",
     "iopub.status.busy": "2022-06-11T04:10:08.629620Z",
     "iopub.status.idle": "2022-06-11T04:10:08.646383Z",
     "shell.execute_reply": "2022-06-11T04:10:08.645588Z"
    },
    "papermill": {
     "duration": 0.033396,
     "end_time": "2022-06-11T04:10:08.648560",
     "exception": false,
     "start_time": "2022-06-11T04:10:08.615164",
     "status": "completed"
    },
    "tags": []
   },
   "outputs": [
    {
     "name": "stdout",
     "output_type": "stream",
     "text": [
      "                 ride_id  rideable_type           started_at  \\\n",
      "0       A847FADBBC638E45    docked_bike  2020-04-26 17:45:14   \n",
      "1       5405B80E996FF60D    docked_bike  2020-04-17 17:08:54   \n",
      "2       5DD24A79A4E006F4    docked_bike  2020-04-01 17:54:13   \n",
      "3       2A59BBDF5CDBA725    docked_bike  2020-04-07 12:50:19   \n",
      "4       27AD306C119C6158    docked_bike  2020-04-18 10:22:59   \n",
      "...                  ...            ...                  ...   \n",
      "228491  9397BDD14798A1BA    docked_bike  2021-03-20 14:58:56   \n",
      "228492  BBBEB8D51AAD40DA   classic_bike  2021-03-02 11:35:10   \n",
      "228493  637FF754DA0BD9E1   classic_bike  2021-03-09 11:07:36   \n",
      "228494  F8F43A0B978A7A35   classic_bike  2021-03-01 18:11:57   \n",
      "228495  3AE64EA5BF43CF72  electric_bike  2021-03-26 17:58:14   \n",
      "\n",
      "                   ended_at            start_station_name start_station_id  \\\n",
      "0       2020-04-26 18:12:03                  Eckhart Park               86   \n",
      "1       2020-04-17 17:17:03     Drake Ave & Fullerton Ave              503   \n",
      "2       2020-04-01 18:08:36          McClurg Ct & Erie St              142   \n",
      "3       2020-04-07 13:02:31  California Ave & Division St              216   \n",
      "4       2020-04-18 11:15:54          Rush St & Hubbard St              125   \n",
      "...                     ...                           ...              ...   \n",
      "228491  2021-03-20 17:22:47         Michigan Ave & Oak St            13042   \n",
      "228492  2021-03-02 11:43:37      Kingsbury St & Kinzie St     KA1503000043   \n",
      "228493  2021-03-09 11:49:11         Michigan Ave & Oak St            13042   \n",
      "228494  2021-03-01 18:18:37      Kingsbury St & Kinzie St     KA1503000043   \n",
      "228495  2021-03-26 18:06:43                           NaN              NaN   \n",
      "\n",
      "                   end_station_name end_station_id  start_lat  start_lng  \\\n",
      "0       Lincoln Ave & Diversey Pkwy          152.0  41.896400 -87.661000   \n",
      "1                   Kosciuszko Park          499.0  41.924400 -87.715400   \n",
      "2        Indiana Ave & Roosevelt Rd          255.0  41.894500 -87.617900   \n",
      "3            Wood St & Augusta Blvd          657.0  41.903000 -87.697500   \n",
      "4        Sheridan Rd & Lawrence Ave          323.0  41.890200 -87.626200   \n",
      "...                             ...            ...        ...        ...   \n",
      "228491         New St & Illinois St   TA1306000013  41.900960 -87.623777   \n",
      "228492         New St & Illinois St   TA1306000013  41.889177 -87.638506   \n",
      "228493        Clark St & Berwyn Ave   KA1504000146  41.900960 -87.623777   \n",
      "228494         New St & Illinois St   TA1306000013  41.889177 -87.638506   \n",
      "228495         New St & Illinois St   TA1306000013  41.880000 -87.630000   \n",
      "\n",
      "          end_lat    end_lng member_casual  \n",
      "0       41.932200 -87.658600        member  \n",
      "1       41.930600 -87.723800        member  \n",
      "2       41.867900 -87.623000        member  \n",
      "3       41.899200 -87.672200        member  \n",
      "4       41.969500 -87.654700        casual  \n",
      "...           ...        ...           ...  \n",
      "228491  41.890847 -87.618617        casual  \n",
      "228492  41.890847 -87.618617        member  \n",
      "228493  41.977997 -87.668047        member  \n",
      "228494  41.890847 -87.618617        member  \n",
      "228495  41.890818 -87.619540        member  \n",
      "\n",
      "[3489748 rows x 13 columns]\n"
     ]
    }
   ],
   "source": [
    "print(tripdata)"
   ]
  },
  {
   "cell_type": "markdown",
   "id": "0b574842",
   "metadata": {
    "papermill": {
     "duration": 0.013702,
     "end_time": "2022-06-11T04:10:08.675829",
     "exception": false,
     "start_time": "2022-06-11T04:10:08.662127",
     "status": "completed"
    },
    "tags": []
   },
   "source": [
    "We have merged the whole data and we could notice that it has [3489748 rows x 13 columns] "
   ]
  },
  {
   "cell_type": "code",
   "execution_count": 4,
   "id": "8ea2c9c6",
   "metadata": {
    "execution": {
     "iopub.execute_input": "2022-06-11T04:10:08.704773Z",
     "iopub.status.busy": "2022-06-11T04:10:08.704136Z",
     "iopub.status.idle": "2022-06-11T04:10:08.723970Z",
     "shell.execute_reply": "2022-06-11T04:10:08.723267Z"
    },
    "papermill": {
     "duration": 0.036461,
     "end_time": "2022-06-11T04:10:08.725806",
     "exception": false,
     "start_time": "2022-06-11T04:10:08.689345",
     "status": "completed"
    },
    "tags": []
   },
   "outputs": [
    {
     "data": {
      "text/html": [
       "<div>\n",
       "<style scoped>\n",
       "    .dataframe tbody tr th:only-of-type {\n",
       "        vertical-align: middle;\n",
       "    }\n",
       "\n",
       "    .dataframe tbody tr th {\n",
       "        vertical-align: top;\n",
       "    }\n",
       "\n",
       "    .dataframe thead th {\n",
       "        text-align: right;\n",
       "    }\n",
       "</style>\n",
       "<table border=\"1\" class=\"dataframe\">\n",
       "  <thead>\n",
       "    <tr style=\"text-align: right;\">\n",
       "      <th></th>\n",
       "      <th>ride_id</th>\n",
       "      <th>rideable_type</th>\n",
       "      <th>started_at</th>\n",
       "      <th>ended_at</th>\n",
       "      <th>start_station_name</th>\n",
       "      <th>start_station_id</th>\n",
       "      <th>end_station_name</th>\n",
       "      <th>end_station_id</th>\n",
       "      <th>start_lat</th>\n",
       "      <th>start_lng</th>\n",
       "      <th>end_lat</th>\n",
       "      <th>end_lng</th>\n",
       "      <th>member_casual</th>\n",
       "    </tr>\n",
       "  </thead>\n",
       "  <tbody>\n",
       "    <tr>\n",
       "      <th>0</th>\n",
       "      <td>A847FADBBC638E45</td>\n",
       "      <td>docked_bike</td>\n",
       "      <td>2020-04-26 17:45:14</td>\n",
       "      <td>2020-04-26 18:12:03</td>\n",
       "      <td>Eckhart Park</td>\n",
       "      <td>86</td>\n",
       "      <td>Lincoln Ave &amp; Diversey Pkwy</td>\n",
       "      <td>152.0</td>\n",
       "      <td>41.8964</td>\n",
       "      <td>-87.6610</td>\n",
       "      <td>41.9322</td>\n",
       "      <td>-87.6586</td>\n",
       "      <td>member</td>\n",
       "    </tr>\n",
       "    <tr>\n",
       "      <th>1</th>\n",
       "      <td>5405B80E996FF60D</td>\n",
       "      <td>docked_bike</td>\n",
       "      <td>2020-04-17 17:08:54</td>\n",
       "      <td>2020-04-17 17:17:03</td>\n",
       "      <td>Drake Ave &amp; Fullerton Ave</td>\n",
       "      <td>503</td>\n",
       "      <td>Kosciuszko Park</td>\n",
       "      <td>499.0</td>\n",
       "      <td>41.9244</td>\n",
       "      <td>-87.7154</td>\n",
       "      <td>41.9306</td>\n",
       "      <td>-87.7238</td>\n",
       "      <td>member</td>\n",
       "    </tr>\n",
       "    <tr>\n",
       "      <th>2</th>\n",
       "      <td>5DD24A79A4E006F4</td>\n",
       "      <td>docked_bike</td>\n",
       "      <td>2020-04-01 17:54:13</td>\n",
       "      <td>2020-04-01 18:08:36</td>\n",
       "      <td>McClurg Ct &amp; Erie St</td>\n",
       "      <td>142</td>\n",
       "      <td>Indiana Ave &amp; Roosevelt Rd</td>\n",
       "      <td>255.0</td>\n",
       "      <td>41.8945</td>\n",
       "      <td>-87.6179</td>\n",
       "      <td>41.8679</td>\n",
       "      <td>-87.6230</td>\n",
       "      <td>member</td>\n",
       "    </tr>\n",
       "    <tr>\n",
       "      <th>3</th>\n",
       "      <td>2A59BBDF5CDBA725</td>\n",
       "      <td>docked_bike</td>\n",
       "      <td>2020-04-07 12:50:19</td>\n",
       "      <td>2020-04-07 13:02:31</td>\n",
       "      <td>California Ave &amp; Division St</td>\n",
       "      <td>216</td>\n",
       "      <td>Wood St &amp; Augusta Blvd</td>\n",
       "      <td>657.0</td>\n",
       "      <td>41.9030</td>\n",
       "      <td>-87.6975</td>\n",
       "      <td>41.8992</td>\n",
       "      <td>-87.6722</td>\n",
       "      <td>member</td>\n",
       "    </tr>\n",
       "    <tr>\n",
       "      <th>4</th>\n",
       "      <td>27AD306C119C6158</td>\n",
       "      <td>docked_bike</td>\n",
       "      <td>2020-04-18 10:22:59</td>\n",
       "      <td>2020-04-18 11:15:54</td>\n",
       "      <td>Rush St &amp; Hubbard St</td>\n",
       "      <td>125</td>\n",
       "      <td>Sheridan Rd &amp; Lawrence Ave</td>\n",
       "      <td>323.0</td>\n",
       "      <td>41.8902</td>\n",
       "      <td>-87.6262</td>\n",
       "      <td>41.9695</td>\n",
       "      <td>-87.6547</td>\n",
       "      <td>casual</td>\n",
       "    </tr>\n",
       "  </tbody>\n",
       "</table>\n",
       "</div>"
      ],
      "text/plain": [
       "            ride_id rideable_type           started_at             ended_at  \\\n",
       "0  A847FADBBC638E45   docked_bike  2020-04-26 17:45:14  2020-04-26 18:12:03   \n",
       "1  5405B80E996FF60D   docked_bike  2020-04-17 17:08:54  2020-04-17 17:17:03   \n",
       "2  5DD24A79A4E006F4   docked_bike  2020-04-01 17:54:13  2020-04-01 18:08:36   \n",
       "3  2A59BBDF5CDBA725   docked_bike  2020-04-07 12:50:19  2020-04-07 13:02:31   \n",
       "4  27AD306C119C6158   docked_bike  2020-04-18 10:22:59  2020-04-18 11:15:54   \n",
       "\n",
       "             start_station_name start_station_id             end_station_name  \\\n",
       "0                  Eckhart Park               86  Lincoln Ave & Diversey Pkwy   \n",
       "1     Drake Ave & Fullerton Ave              503              Kosciuszko Park   \n",
       "2          McClurg Ct & Erie St              142   Indiana Ave & Roosevelt Rd   \n",
       "3  California Ave & Division St              216       Wood St & Augusta Blvd   \n",
       "4          Rush St & Hubbard St              125   Sheridan Rd & Lawrence Ave   \n",
       "\n",
       "  end_station_id  start_lat  start_lng  end_lat  end_lng member_casual  \n",
       "0          152.0    41.8964   -87.6610  41.9322 -87.6586        member  \n",
       "1          499.0    41.9244   -87.7154  41.9306 -87.7238        member  \n",
       "2          255.0    41.8945   -87.6179  41.8679 -87.6230        member  \n",
       "3          657.0    41.9030   -87.6975  41.8992 -87.6722        member  \n",
       "4          323.0    41.8902   -87.6262  41.9695 -87.6547        casual  "
      ]
     },
     "execution_count": 4,
     "metadata": {},
     "output_type": "execute_result"
    }
   ],
   "source": [
    "#Watching the first five rows of the data for inspecting purposes\n",
    "\n",
    "tripdata.head()"
   ]
  },
  {
   "cell_type": "code",
   "execution_count": 5,
   "id": "7dbdbea7",
   "metadata": {
    "execution": {
     "iopub.execute_input": "2022-06-11T04:10:08.755350Z",
     "iopub.status.busy": "2022-06-11T04:10:08.754665Z",
     "iopub.status.idle": "2022-06-11T04:10:10.807687Z",
     "shell.execute_reply": "2022-06-11T04:10:10.806380Z"
    },
    "papermill": {
     "duration": 2.070761,
     "end_time": "2022-06-11T04:10:10.810384",
     "exception": false,
     "start_time": "2022-06-11T04:10:08.739623",
     "status": "completed"
    },
    "tags": []
   },
   "outputs": [
    {
     "data": {
      "text/html": [
       "<div>\n",
       "<style scoped>\n",
       "    .dataframe tbody tr th:only-of-type {\n",
       "        vertical-align: middle;\n",
       "    }\n",
       "\n",
       "    .dataframe tbody tr th {\n",
       "        vertical-align: top;\n",
       "    }\n",
       "\n",
       "    .dataframe thead th {\n",
       "        text-align: right;\n",
       "    }\n",
       "</style>\n",
       "<table border=\"1\" class=\"dataframe\">\n",
       "  <thead>\n",
       "    <tr style=\"text-align: right;\">\n",
       "      <th></th>\n",
       "      <th>start_lat</th>\n",
       "      <th>start_lng</th>\n",
       "      <th>end_lat</th>\n",
       "      <th>end_lng</th>\n",
       "    </tr>\n",
       "  </thead>\n",
       "  <tbody>\n",
       "    <tr>\n",
       "      <th>count</th>\n",
       "      <td>3.489748e+06</td>\n",
       "      <td>3.489748e+06</td>\n",
       "      <td>3.485010e+06</td>\n",
       "      <td>3.485010e+06</td>\n",
       "    </tr>\n",
       "    <tr>\n",
       "      <th>mean</th>\n",
       "      <td>4.190417e+01</td>\n",
       "      <td>-8.764494e+01</td>\n",
       "      <td>4.190444e+01</td>\n",
       "      <td>-8.764522e+01</td>\n",
       "    </tr>\n",
       "    <tr>\n",
       "      <th>std</th>\n",
       "      <td>4.364222e-02</td>\n",
       "      <td>2.575969e-02</td>\n",
       "      <td>4.373705e-02</td>\n",
       "      <td>2.589123e-02</td>\n",
       "    </tr>\n",
       "    <tr>\n",
       "      <th>min</th>\n",
       "      <td>4.164000e+01</td>\n",
       "      <td>-8.787000e+01</td>\n",
       "      <td>4.154000e+01</td>\n",
       "      <td>-8.807000e+01</td>\n",
       "    </tr>\n",
       "    <tr>\n",
       "      <th>25%</th>\n",
       "      <td>4.188224e+01</td>\n",
       "      <td>-8.765888e+01</td>\n",
       "      <td>4.188266e+01</td>\n",
       "      <td>-8.765917e+01</td>\n",
       "    </tr>\n",
       "    <tr>\n",
       "      <th>50%</th>\n",
       "      <td>4.190000e+01</td>\n",
       "      <td>-8.764170e+01</td>\n",
       "      <td>4.190068e+01</td>\n",
       "      <td>-8.764275e+01</td>\n",
       "    </tr>\n",
       "    <tr>\n",
       "      <th>75%</th>\n",
       "      <td>4.193000e+01</td>\n",
       "      <td>-8.762773e+01</td>\n",
       "      <td>4.193120e+01</td>\n",
       "      <td>-8.762775e+01</td>\n",
       "    </tr>\n",
       "    <tr>\n",
       "      <th>max</th>\n",
       "      <td>4.208000e+01</td>\n",
       "      <td>-8.752000e+01</td>\n",
       "      <td>4.216000e+01</td>\n",
       "      <td>-8.744000e+01</td>\n",
       "    </tr>\n",
       "  </tbody>\n",
       "</table>\n",
       "</div>"
      ],
      "text/plain": [
       "          start_lat     start_lng       end_lat       end_lng\n",
       "count  3.489748e+06  3.489748e+06  3.485010e+06  3.485010e+06\n",
       "mean   4.190417e+01 -8.764494e+01  4.190444e+01 -8.764522e+01\n",
       "std    4.364222e-02  2.575969e-02  4.373705e-02  2.589123e-02\n",
       "min    4.164000e+01 -8.787000e+01  4.154000e+01 -8.807000e+01\n",
       "25%    4.188224e+01 -8.765888e+01  4.188266e+01 -8.765917e+01\n",
       "50%    4.190000e+01 -8.764170e+01  4.190068e+01 -8.764275e+01\n",
       "75%    4.193000e+01 -8.762773e+01  4.193120e+01 -8.762775e+01\n",
       "max    4.208000e+01 -8.752000e+01  4.216000e+01 -8.744000e+01"
      ]
     },
     "execution_count": 5,
     "metadata": {},
     "output_type": "execute_result"
    }
   ],
   "source": [
    "#The main informations about my dataset as max, min and others\n",
    "\n",
    "tripdata.describe()"
   ]
  },
  {
   "cell_type": "code",
   "execution_count": 6,
   "id": "db73fccc",
   "metadata": {
    "execution": {
     "iopub.execute_input": "2022-06-11T04:10:10.840893Z",
     "iopub.status.busy": "2022-06-11T04:10:10.840478Z",
     "iopub.status.idle": "2022-06-11T04:10:10.859743Z",
     "shell.execute_reply": "2022-06-11T04:10:10.858265Z"
    },
    "papermill": {
     "duration": 0.036902,
     "end_time": "2022-06-11T04:10:10.862070",
     "exception": false,
     "start_time": "2022-06-11T04:10:10.825168",
     "status": "completed"
    },
    "tags": []
   },
   "outputs": [
    {
     "data": {
      "text/html": [
       "<div>\n",
       "<style scoped>\n",
       "    .dataframe tbody tr th:only-of-type {\n",
       "        vertical-align: middle;\n",
       "    }\n",
       "\n",
       "    .dataframe tbody tr th {\n",
       "        vertical-align: top;\n",
       "    }\n",
       "\n",
       "    .dataframe thead th {\n",
       "        text-align: right;\n",
       "    }\n",
       "</style>\n",
       "<table border=\"1\" class=\"dataframe\">\n",
       "  <thead>\n",
       "    <tr style=\"text-align: right;\">\n",
       "      <th></th>\n",
       "      <th>ride_id</th>\n",
       "      <th>rideable_type</th>\n",
       "      <th>started_at</th>\n",
       "      <th>ended_at</th>\n",
       "      <th>start_station_name</th>\n",
       "      <th>start_station_id</th>\n",
       "      <th>end_station_name</th>\n",
       "      <th>end_station_id</th>\n",
       "      <th>start_lat</th>\n",
       "      <th>start_lng</th>\n",
       "      <th>end_lat</th>\n",
       "      <th>end_lng</th>\n",
       "      <th>member_casual</th>\n",
       "    </tr>\n",
       "  </thead>\n",
       "  <tbody>\n",
       "    <tr>\n",
       "      <th>228491</th>\n",
       "      <td>9397BDD14798A1BA</td>\n",
       "      <td>docked_bike</td>\n",
       "      <td>2021-03-20 14:58:56</td>\n",
       "      <td>2021-03-20 17:22:47</td>\n",
       "      <td>Michigan Ave &amp; Oak St</td>\n",
       "      <td>13042</td>\n",
       "      <td>New St &amp; Illinois St</td>\n",
       "      <td>TA1306000013</td>\n",
       "      <td>41.900960</td>\n",
       "      <td>-87.623777</td>\n",
       "      <td>41.890847</td>\n",
       "      <td>-87.618617</td>\n",
       "      <td>casual</td>\n",
       "    </tr>\n",
       "    <tr>\n",
       "      <th>228492</th>\n",
       "      <td>BBBEB8D51AAD40DA</td>\n",
       "      <td>classic_bike</td>\n",
       "      <td>2021-03-02 11:35:10</td>\n",
       "      <td>2021-03-02 11:43:37</td>\n",
       "      <td>Kingsbury St &amp; Kinzie St</td>\n",
       "      <td>KA1503000043</td>\n",
       "      <td>New St &amp; Illinois St</td>\n",
       "      <td>TA1306000013</td>\n",
       "      <td>41.889177</td>\n",
       "      <td>-87.638506</td>\n",
       "      <td>41.890847</td>\n",
       "      <td>-87.618617</td>\n",
       "      <td>member</td>\n",
       "    </tr>\n",
       "    <tr>\n",
       "      <th>228493</th>\n",
       "      <td>637FF754DA0BD9E1</td>\n",
       "      <td>classic_bike</td>\n",
       "      <td>2021-03-09 11:07:36</td>\n",
       "      <td>2021-03-09 11:49:11</td>\n",
       "      <td>Michigan Ave &amp; Oak St</td>\n",
       "      <td>13042</td>\n",
       "      <td>Clark St &amp; Berwyn Ave</td>\n",
       "      <td>KA1504000146</td>\n",
       "      <td>41.900960</td>\n",
       "      <td>-87.623777</td>\n",
       "      <td>41.977997</td>\n",
       "      <td>-87.668047</td>\n",
       "      <td>member</td>\n",
       "    </tr>\n",
       "    <tr>\n",
       "      <th>228494</th>\n",
       "      <td>F8F43A0B978A7A35</td>\n",
       "      <td>classic_bike</td>\n",
       "      <td>2021-03-01 18:11:57</td>\n",
       "      <td>2021-03-01 18:18:37</td>\n",
       "      <td>Kingsbury St &amp; Kinzie St</td>\n",
       "      <td>KA1503000043</td>\n",
       "      <td>New St &amp; Illinois St</td>\n",
       "      <td>TA1306000013</td>\n",
       "      <td>41.889177</td>\n",
       "      <td>-87.638506</td>\n",
       "      <td>41.890847</td>\n",
       "      <td>-87.618617</td>\n",
       "      <td>member</td>\n",
       "    </tr>\n",
       "    <tr>\n",
       "      <th>228495</th>\n",
       "      <td>3AE64EA5BF43CF72</td>\n",
       "      <td>electric_bike</td>\n",
       "      <td>2021-03-26 17:58:14</td>\n",
       "      <td>2021-03-26 18:06:43</td>\n",
       "      <td>NaN</td>\n",
       "      <td>NaN</td>\n",
       "      <td>New St &amp; Illinois St</td>\n",
       "      <td>TA1306000013</td>\n",
       "      <td>41.880000</td>\n",
       "      <td>-87.630000</td>\n",
       "      <td>41.890818</td>\n",
       "      <td>-87.619540</td>\n",
       "      <td>member</td>\n",
       "    </tr>\n",
       "  </tbody>\n",
       "</table>\n",
       "</div>"
      ],
      "text/plain": [
       "                 ride_id  rideable_type           started_at  \\\n",
       "228491  9397BDD14798A1BA    docked_bike  2021-03-20 14:58:56   \n",
       "228492  BBBEB8D51AAD40DA   classic_bike  2021-03-02 11:35:10   \n",
       "228493  637FF754DA0BD9E1   classic_bike  2021-03-09 11:07:36   \n",
       "228494  F8F43A0B978A7A35   classic_bike  2021-03-01 18:11:57   \n",
       "228495  3AE64EA5BF43CF72  electric_bike  2021-03-26 17:58:14   \n",
       "\n",
       "                   ended_at        start_station_name start_station_id  \\\n",
       "228491  2021-03-20 17:22:47     Michigan Ave & Oak St            13042   \n",
       "228492  2021-03-02 11:43:37  Kingsbury St & Kinzie St     KA1503000043   \n",
       "228493  2021-03-09 11:49:11     Michigan Ave & Oak St            13042   \n",
       "228494  2021-03-01 18:18:37  Kingsbury St & Kinzie St     KA1503000043   \n",
       "228495  2021-03-26 18:06:43                       NaN              NaN   \n",
       "\n",
       "             end_station_name end_station_id  start_lat  start_lng    end_lat  \\\n",
       "228491   New St & Illinois St   TA1306000013  41.900960 -87.623777  41.890847   \n",
       "228492   New St & Illinois St   TA1306000013  41.889177 -87.638506  41.890847   \n",
       "228493  Clark St & Berwyn Ave   KA1504000146  41.900960 -87.623777  41.977997   \n",
       "228494   New St & Illinois St   TA1306000013  41.889177 -87.638506  41.890847   \n",
       "228495   New St & Illinois St   TA1306000013  41.880000 -87.630000  41.890818   \n",
       "\n",
       "          end_lng member_casual  \n",
       "228491 -87.618617        casual  \n",
       "228492 -87.618617        member  \n",
       "228493 -87.668047        member  \n",
       "228494 -87.618617        member  \n",
       "228495 -87.619540        member  "
      ]
     },
     "execution_count": 6,
     "metadata": {},
     "output_type": "execute_result"
    }
   ],
   "source": [
    "# This function shows random rows informations or observations\n",
    "\n",
    "tripdata.tail()"
   ]
  },
  {
   "cell_type": "code",
   "execution_count": 7,
   "id": "f0b27c80",
   "metadata": {
    "execution": {
     "iopub.execute_input": "2022-06-11T04:10:10.893590Z",
     "iopub.status.busy": "2022-06-11T04:10:10.893200Z",
     "iopub.status.idle": "2022-06-11T04:10:10.908614Z",
     "shell.execute_reply": "2022-06-11T04:10:10.907415Z"
    },
    "papermill": {
     "duration": 0.034634,
     "end_time": "2022-06-11T04:10:10.911580",
     "exception": false,
     "start_time": "2022-06-11T04:10:10.876946",
     "status": "completed"
    },
    "tags": []
   },
   "outputs": [
    {
     "name": "stdout",
     "output_type": "stream",
     "text": [
      "<class 'pandas.core.frame.DataFrame'>\n",
      "Int64Index: 3489748 entries, 0 to 228495\n",
      "Data columns (total 13 columns):\n",
      " #   Column              Dtype  \n",
      "---  ------              -----  \n",
      " 0   ride_id             object \n",
      " 1   rideable_type       object \n",
      " 2   started_at          object \n",
      " 3   ended_at            object \n",
      " 4   start_station_name  object \n",
      " 5   start_station_id    object \n",
      " 6   end_station_name    object \n",
      " 7   end_station_id      object \n",
      " 8   start_lat           float64\n",
      " 9   start_lng           float64\n",
      " 10  end_lat             float64\n",
      " 11  end_lng             float64\n",
      " 12  member_casual       object \n",
      "dtypes: float64(4), object(9)\n",
      "memory usage: 372.7+ MB\n"
     ]
    }
   ],
   "source": [
    "# More information about the data, this functions displays the type of the variables or columns\n",
    "# it also shows the count of the data format\n",
    "\n",
    "tripdata.info()"
   ]
  },
  {
   "cell_type": "markdown",
   "id": "ceee150f",
   "metadata": {
    "papermill": {
     "duration": 0.014046,
     "end_time": "2022-06-11T04:10:10.941434",
     "exception": false,
     "start_time": "2022-06-11T04:10:10.927388",
     "status": "completed"
    },
    "tags": []
   },
   "source": [
    "**Now that we have a quick overview of what our dataframe looks like, we will clean the data and prepare for analysis**"
   ]
  },
  {
   "cell_type": "markdown",
   "id": "6f8bafb2",
   "metadata": {
    "papermill": {
     "duration": 0.013927,
     "end_time": "2022-06-11T04:10:10.969745",
     "exception": false,
     "start_time": "2022-06-11T04:10:10.955818",
     "status": "completed"
    },
    "tags": []
   },
   "source": [
    "# Data Cleaning Process\n",
    "**Remove duplicated rows using the ride_id variable**\n",
    "\n"
   ]
  },
  {
   "cell_type": "code",
   "execution_count": 8,
   "id": "4695d166",
   "metadata": {
    "execution": {
     "iopub.execute_input": "2022-06-11T04:10:11.000006Z",
     "iopub.status.busy": "2022-06-11T04:10:10.999592Z",
     "iopub.status.idle": "2022-06-11T04:10:13.368915Z",
     "shell.execute_reply": "2022-06-11T04:10:13.367873Z"
    },
    "papermill": {
     "duration": 2.386997,
     "end_time": "2022-06-11T04:10:13.370975",
     "exception": false,
     "start_time": "2022-06-11T04:10:10.983978",
     "status": "completed"
    },
    "tags": []
   },
   "outputs": [
    {
     "data": {
      "text/plain": [
       "209"
      ]
     },
     "execution_count": 8,
     "metadata": {},
     "output_type": "execute_result"
    }
   ],
   "source": [
    "# Using the duplicated() function combined with the sum() to have the total number of duplicated values\n",
    "\n",
    "tripdata[\"ride_id\"].duplicated().sum()\n",
    " "
   ]
  },
  {
   "cell_type": "code",
   "execution_count": null,
   "id": "0f950583",
   "metadata": {
    "papermill": {
     "duration": 0.014656,
     "end_time": "2022-06-11T04:10:13.400012",
     "exception": false,
     "start_time": "2022-06-11T04:10:13.385356",
     "status": "completed"
    },
    "tags": []
   },
   "outputs": [],
   "source": []
  },
  {
   "cell_type": "code",
   "execution_count": 9,
   "id": "871c6175",
   "metadata": {
    "execution": {
     "iopub.execute_input": "2022-06-11T04:10:13.430912Z",
     "iopub.status.busy": "2022-06-11T04:10:13.430106Z",
     "iopub.status.idle": "2022-06-11T04:10:19.839669Z",
     "shell.execute_reply": "2022-06-11T04:10:19.838627Z"
    },
    "papermill": {
     "duration": 6.427209,
     "end_time": "2022-06-11T04:10:19.841745",
     "exception": false,
     "start_time": "2022-06-11T04:10:13.414536",
     "status": "completed"
    },
    "tags": []
   },
   "outputs": [
    {
     "data": {
      "text/plain": [
       "EAB41740602B3BA6     True\n",
       "FF49C6C596507F0B     True\n",
       "87D4C892CA85DB8F     True\n",
       "86E0216311A75D74     True\n",
       "50031BC4290040DF     True\n",
       "                    ...  \n",
       "2200D3DB88D6541F    False\n",
       "0DBF9C9E5B2D15D7    False\n",
       "939883F8F15CF27B    False\n",
       "2B05690EF1C97E8B    False\n",
       "3AE64EA5BF43CF72    False\n",
       "Name: ride_id, Length: 3489539, dtype: bool"
      ]
     },
     "execution_count": 9,
     "metadata": {},
     "output_type": "execute_result"
    }
   ],
   "source": [
    "tripdata[\"ride_id\"].value_counts() > 1\n",
    "\n",
    "# we could see that there are duplicated values"
   ]
  },
  {
   "cell_type": "code",
   "execution_count": 10,
   "id": "80babfcb",
   "metadata": {
    "execution": {
     "iopub.execute_input": "2022-06-11T04:10:19.874898Z",
     "iopub.status.busy": "2022-06-11T04:10:19.874403Z",
     "iopub.status.idle": "2022-06-11T04:10:22.898087Z",
     "shell.execute_reply": "2022-06-11T04:10:22.896791Z"
    },
    "papermill": {
     "duration": 3.043412,
     "end_time": "2022-06-11T04:10:22.900680",
     "exception": false,
     "start_time": "2022-06-11T04:10:19.857268",
     "status": "completed"
    },
    "tags": []
   },
   "outputs": [
    {
     "data": {
      "text/html": [
       "<div>\n",
       "<style scoped>\n",
       "    .dataframe tbody tr th:only-of-type {\n",
       "        vertical-align: middle;\n",
       "    }\n",
       "\n",
       "    .dataframe tbody tr th {\n",
       "        vertical-align: top;\n",
       "    }\n",
       "\n",
       "    .dataframe thead th {\n",
       "        text-align: right;\n",
       "    }\n",
       "</style>\n",
       "<table border=\"1\" class=\"dataframe\">\n",
       "  <thead>\n",
       "    <tr style=\"text-align: right;\">\n",
       "      <th></th>\n",
       "      <th>ride_id</th>\n",
       "      <th>rideable_type</th>\n",
       "      <th>started_at</th>\n",
       "      <th>ended_at</th>\n",
       "      <th>start_station_name</th>\n",
       "      <th>start_station_id</th>\n",
       "      <th>end_station_name</th>\n",
       "      <th>end_station_id</th>\n",
       "      <th>start_lat</th>\n",
       "      <th>start_lng</th>\n",
       "      <th>end_lat</th>\n",
       "      <th>end_lng</th>\n",
       "      <th>member_casual</th>\n",
       "    </tr>\n",
       "  </thead>\n",
       "  <tbody>\n",
       "    <tr>\n",
       "      <th>0</th>\n",
       "      <td>A847FADBBC638E45</td>\n",
       "      <td>docked_bike</td>\n",
       "      <td>2020-04-26 17:45:14</td>\n",
       "      <td>2020-04-26 18:12:03</td>\n",
       "      <td>Eckhart Park</td>\n",
       "      <td>86</td>\n",
       "      <td>Lincoln Ave &amp; Diversey Pkwy</td>\n",
       "      <td>152.0</td>\n",
       "      <td>41.896400</td>\n",
       "      <td>-87.661000</td>\n",
       "      <td>41.932200</td>\n",
       "      <td>-87.658600</td>\n",
       "      <td>member</td>\n",
       "    </tr>\n",
       "    <tr>\n",
       "      <th>1</th>\n",
       "      <td>5405B80E996FF60D</td>\n",
       "      <td>docked_bike</td>\n",
       "      <td>2020-04-17 17:08:54</td>\n",
       "      <td>2020-04-17 17:17:03</td>\n",
       "      <td>Drake Ave &amp; Fullerton Ave</td>\n",
       "      <td>503</td>\n",
       "      <td>Kosciuszko Park</td>\n",
       "      <td>499.0</td>\n",
       "      <td>41.924400</td>\n",
       "      <td>-87.715400</td>\n",
       "      <td>41.930600</td>\n",
       "      <td>-87.723800</td>\n",
       "      <td>member</td>\n",
       "    </tr>\n",
       "    <tr>\n",
       "      <th>2</th>\n",
       "      <td>5DD24A79A4E006F4</td>\n",
       "      <td>docked_bike</td>\n",
       "      <td>2020-04-01 17:54:13</td>\n",
       "      <td>2020-04-01 18:08:36</td>\n",
       "      <td>McClurg Ct &amp; Erie St</td>\n",
       "      <td>142</td>\n",
       "      <td>Indiana Ave &amp; Roosevelt Rd</td>\n",
       "      <td>255.0</td>\n",
       "      <td>41.894500</td>\n",
       "      <td>-87.617900</td>\n",
       "      <td>41.867900</td>\n",
       "      <td>-87.623000</td>\n",
       "      <td>member</td>\n",
       "    </tr>\n",
       "    <tr>\n",
       "      <th>3</th>\n",
       "      <td>2A59BBDF5CDBA725</td>\n",
       "      <td>docked_bike</td>\n",
       "      <td>2020-04-07 12:50:19</td>\n",
       "      <td>2020-04-07 13:02:31</td>\n",
       "      <td>California Ave &amp; Division St</td>\n",
       "      <td>216</td>\n",
       "      <td>Wood St &amp; Augusta Blvd</td>\n",
       "      <td>657.0</td>\n",
       "      <td>41.903000</td>\n",
       "      <td>-87.697500</td>\n",
       "      <td>41.899200</td>\n",
       "      <td>-87.672200</td>\n",
       "      <td>member</td>\n",
       "    </tr>\n",
       "    <tr>\n",
       "      <th>4</th>\n",
       "      <td>27AD306C119C6158</td>\n",
       "      <td>docked_bike</td>\n",
       "      <td>2020-04-18 10:22:59</td>\n",
       "      <td>2020-04-18 11:15:54</td>\n",
       "      <td>Rush St &amp; Hubbard St</td>\n",
       "      <td>125</td>\n",
       "      <td>Sheridan Rd &amp; Lawrence Ave</td>\n",
       "      <td>323.0</td>\n",
       "      <td>41.890200</td>\n",
       "      <td>-87.626200</td>\n",
       "      <td>41.969500</td>\n",
       "      <td>-87.654700</td>\n",
       "      <td>casual</td>\n",
       "    </tr>\n",
       "    <tr>\n",
       "      <th>...</th>\n",
       "      <td>...</td>\n",
       "      <td>...</td>\n",
       "      <td>...</td>\n",
       "      <td>...</td>\n",
       "      <td>...</td>\n",
       "      <td>...</td>\n",
       "      <td>...</td>\n",
       "      <td>...</td>\n",
       "      <td>...</td>\n",
       "      <td>...</td>\n",
       "      <td>...</td>\n",
       "      <td>...</td>\n",
       "      <td>...</td>\n",
       "    </tr>\n",
       "    <tr>\n",
       "      <th>228491</th>\n",
       "      <td>9397BDD14798A1BA</td>\n",
       "      <td>docked_bike</td>\n",
       "      <td>2021-03-20 14:58:56</td>\n",
       "      <td>2021-03-20 17:22:47</td>\n",
       "      <td>Michigan Ave &amp; Oak St</td>\n",
       "      <td>13042</td>\n",
       "      <td>New St &amp; Illinois St</td>\n",
       "      <td>TA1306000013</td>\n",
       "      <td>41.900960</td>\n",
       "      <td>-87.623777</td>\n",
       "      <td>41.890847</td>\n",
       "      <td>-87.618617</td>\n",
       "      <td>casual</td>\n",
       "    </tr>\n",
       "    <tr>\n",
       "      <th>228492</th>\n",
       "      <td>BBBEB8D51AAD40DA</td>\n",
       "      <td>classic_bike</td>\n",
       "      <td>2021-03-02 11:35:10</td>\n",
       "      <td>2021-03-02 11:43:37</td>\n",
       "      <td>Kingsbury St &amp; Kinzie St</td>\n",
       "      <td>KA1503000043</td>\n",
       "      <td>New St &amp; Illinois St</td>\n",
       "      <td>TA1306000013</td>\n",
       "      <td>41.889177</td>\n",
       "      <td>-87.638506</td>\n",
       "      <td>41.890847</td>\n",
       "      <td>-87.618617</td>\n",
       "      <td>member</td>\n",
       "    </tr>\n",
       "    <tr>\n",
       "      <th>228493</th>\n",
       "      <td>637FF754DA0BD9E1</td>\n",
       "      <td>classic_bike</td>\n",
       "      <td>2021-03-09 11:07:36</td>\n",
       "      <td>2021-03-09 11:49:11</td>\n",
       "      <td>Michigan Ave &amp; Oak St</td>\n",
       "      <td>13042</td>\n",
       "      <td>Clark St &amp; Berwyn Ave</td>\n",
       "      <td>KA1504000146</td>\n",
       "      <td>41.900960</td>\n",
       "      <td>-87.623777</td>\n",
       "      <td>41.977997</td>\n",
       "      <td>-87.668047</td>\n",
       "      <td>member</td>\n",
       "    </tr>\n",
       "    <tr>\n",
       "      <th>228494</th>\n",
       "      <td>F8F43A0B978A7A35</td>\n",
       "      <td>classic_bike</td>\n",
       "      <td>2021-03-01 18:11:57</td>\n",
       "      <td>2021-03-01 18:18:37</td>\n",
       "      <td>Kingsbury St &amp; Kinzie St</td>\n",
       "      <td>KA1503000043</td>\n",
       "      <td>New St &amp; Illinois St</td>\n",
       "      <td>TA1306000013</td>\n",
       "      <td>41.889177</td>\n",
       "      <td>-87.638506</td>\n",
       "      <td>41.890847</td>\n",
       "      <td>-87.618617</td>\n",
       "      <td>member</td>\n",
       "    </tr>\n",
       "    <tr>\n",
       "      <th>228495</th>\n",
       "      <td>3AE64EA5BF43CF72</td>\n",
       "      <td>electric_bike</td>\n",
       "      <td>2021-03-26 17:58:14</td>\n",
       "      <td>2021-03-26 18:06:43</td>\n",
       "      <td>NaN</td>\n",
       "      <td>NaN</td>\n",
       "      <td>New St &amp; Illinois St</td>\n",
       "      <td>TA1306000013</td>\n",
       "      <td>41.880000</td>\n",
       "      <td>-87.630000</td>\n",
       "      <td>41.890818</td>\n",
       "      <td>-87.619540</td>\n",
       "      <td>member</td>\n",
       "    </tr>\n",
       "  </tbody>\n",
       "</table>\n",
       "<p>3489539 rows × 13 columns</p>\n",
       "</div>"
      ],
      "text/plain": [
       "                 ride_id  rideable_type           started_at  \\\n",
       "0       A847FADBBC638E45    docked_bike  2020-04-26 17:45:14   \n",
       "1       5405B80E996FF60D    docked_bike  2020-04-17 17:08:54   \n",
       "2       5DD24A79A4E006F4    docked_bike  2020-04-01 17:54:13   \n",
       "3       2A59BBDF5CDBA725    docked_bike  2020-04-07 12:50:19   \n",
       "4       27AD306C119C6158    docked_bike  2020-04-18 10:22:59   \n",
       "...                  ...            ...                  ...   \n",
       "228491  9397BDD14798A1BA    docked_bike  2021-03-20 14:58:56   \n",
       "228492  BBBEB8D51AAD40DA   classic_bike  2021-03-02 11:35:10   \n",
       "228493  637FF754DA0BD9E1   classic_bike  2021-03-09 11:07:36   \n",
       "228494  F8F43A0B978A7A35   classic_bike  2021-03-01 18:11:57   \n",
       "228495  3AE64EA5BF43CF72  electric_bike  2021-03-26 17:58:14   \n",
       "\n",
       "                   ended_at            start_station_name start_station_id  \\\n",
       "0       2020-04-26 18:12:03                  Eckhart Park               86   \n",
       "1       2020-04-17 17:17:03     Drake Ave & Fullerton Ave              503   \n",
       "2       2020-04-01 18:08:36          McClurg Ct & Erie St              142   \n",
       "3       2020-04-07 13:02:31  California Ave & Division St              216   \n",
       "4       2020-04-18 11:15:54          Rush St & Hubbard St              125   \n",
       "...                     ...                           ...              ...   \n",
       "228491  2021-03-20 17:22:47         Michigan Ave & Oak St            13042   \n",
       "228492  2021-03-02 11:43:37      Kingsbury St & Kinzie St     KA1503000043   \n",
       "228493  2021-03-09 11:49:11         Michigan Ave & Oak St            13042   \n",
       "228494  2021-03-01 18:18:37      Kingsbury St & Kinzie St     KA1503000043   \n",
       "228495  2021-03-26 18:06:43                           NaN              NaN   \n",
       "\n",
       "                   end_station_name end_station_id  start_lat  start_lng  \\\n",
       "0       Lincoln Ave & Diversey Pkwy          152.0  41.896400 -87.661000   \n",
       "1                   Kosciuszko Park          499.0  41.924400 -87.715400   \n",
       "2        Indiana Ave & Roosevelt Rd          255.0  41.894500 -87.617900   \n",
       "3            Wood St & Augusta Blvd          657.0  41.903000 -87.697500   \n",
       "4        Sheridan Rd & Lawrence Ave          323.0  41.890200 -87.626200   \n",
       "...                             ...            ...        ...        ...   \n",
       "228491         New St & Illinois St   TA1306000013  41.900960 -87.623777   \n",
       "228492         New St & Illinois St   TA1306000013  41.889177 -87.638506   \n",
       "228493        Clark St & Berwyn Ave   KA1504000146  41.900960 -87.623777   \n",
       "228494         New St & Illinois St   TA1306000013  41.889177 -87.638506   \n",
       "228495         New St & Illinois St   TA1306000013  41.880000 -87.630000   \n",
       "\n",
       "          end_lat    end_lng member_casual  \n",
       "0       41.932200 -87.658600        member  \n",
       "1       41.930600 -87.723800        member  \n",
       "2       41.867900 -87.623000        member  \n",
       "3       41.899200 -87.672200        member  \n",
       "4       41.969500 -87.654700        casual  \n",
       "...           ...        ...           ...  \n",
       "228491  41.890847 -87.618617        casual  \n",
       "228492  41.890847 -87.618617        member  \n",
       "228493  41.977997 -87.668047        member  \n",
       "228494  41.890847 -87.618617        member  \n",
       "228495  41.890818 -87.619540        member  \n",
       "\n",
       "[3489539 rows x 13 columns]"
      ]
     },
     "execution_count": 10,
     "metadata": {},
     "output_type": "execute_result"
    }
   ],
   "source": [
    "# assigning the filtered data to a new variable with the duplicates removed \n",
    "\n",
    "tripdataV1 = tripdata.drop_duplicates(subset=[\"ride_id\"])\n",
    "\n",
    "tripdataV1\n",
    "\n",
    "# It´s good to know that i have made the difference between the tripdata and the tripdata_filtered to have sure we removed the exact number of duplicated rows and yeah it was 209."
   ]
  },
  {
   "cell_type": "code",
   "execution_count": 11,
   "id": "69b248f7",
   "metadata": {
    "execution": {
     "iopub.execute_input": "2022-06-11T04:10:22.932843Z",
     "iopub.status.busy": "2022-06-11T04:10:22.932444Z",
     "iopub.status.idle": "2022-06-11T04:10:22.956503Z",
     "shell.execute_reply": "2022-06-11T04:10:22.955530Z"
    },
    "papermill": {
     "duration": 0.042121,
     "end_time": "2022-06-11T04:10:22.958396",
     "exception": false,
     "start_time": "2022-06-11T04:10:22.916275",
     "status": "completed"
    },
    "tags": []
   },
   "outputs": [
    {
     "data": {
      "text/html": [
       "<div>\n",
       "<style scoped>\n",
       "    .dataframe tbody tr th:only-of-type {\n",
       "        vertical-align: middle;\n",
       "    }\n",
       "\n",
       "    .dataframe tbody tr th {\n",
       "        vertical-align: top;\n",
       "    }\n",
       "\n",
       "    .dataframe thead th {\n",
       "        text-align: right;\n",
       "    }\n",
       "</style>\n",
       "<table border=\"1\" class=\"dataframe\">\n",
       "  <thead>\n",
       "    <tr style=\"text-align: right;\">\n",
       "      <th></th>\n",
       "      <th>ride_id</th>\n",
       "      <th>rideable_type</th>\n",
       "      <th>started_at</th>\n",
       "      <th>ended_at</th>\n",
       "      <th>start_station_name</th>\n",
       "      <th>start_station_id</th>\n",
       "      <th>end_station_name</th>\n",
       "      <th>end_station_id</th>\n",
       "      <th>start_lat</th>\n",
       "      <th>start_lng</th>\n",
       "      <th>end_lat</th>\n",
       "      <th>end_lng</th>\n",
       "      <th>member_casual</th>\n",
       "    </tr>\n",
       "  </thead>\n",
       "  <tbody>\n",
       "    <tr>\n",
       "      <th>0</th>\n",
       "      <td>A847FADBBC638E45</td>\n",
       "      <td>docked_bike</td>\n",
       "      <td>2020-04-26 17:45:14</td>\n",
       "      <td>2020-04-26 18:12:03</td>\n",
       "      <td>Eckhart Park</td>\n",
       "      <td>86</td>\n",
       "      <td>Lincoln Ave &amp; Diversey Pkwy</td>\n",
       "      <td>152.0</td>\n",
       "      <td>41.896400</td>\n",
       "      <td>-87.661000</td>\n",
       "      <td>41.932200</td>\n",
       "      <td>-87.658600</td>\n",
       "      <td>member</td>\n",
       "    </tr>\n",
       "    <tr>\n",
       "      <th>1</th>\n",
       "      <td>5405B80E996FF60D</td>\n",
       "      <td>docked_bike</td>\n",
       "      <td>2020-04-17 17:08:54</td>\n",
       "      <td>2020-04-17 17:17:03</td>\n",
       "      <td>Drake Ave &amp; Fullerton Ave</td>\n",
       "      <td>503</td>\n",
       "      <td>Kosciuszko Park</td>\n",
       "      <td>499.0</td>\n",
       "      <td>41.924400</td>\n",
       "      <td>-87.715400</td>\n",
       "      <td>41.930600</td>\n",
       "      <td>-87.723800</td>\n",
       "      <td>member</td>\n",
       "    </tr>\n",
       "    <tr>\n",
       "      <th>2</th>\n",
       "      <td>5DD24A79A4E006F4</td>\n",
       "      <td>docked_bike</td>\n",
       "      <td>2020-04-01 17:54:13</td>\n",
       "      <td>2020-04-01 18:08:36</td>\n",
       "      <td>McClurg Ct &amp; Erie St</td>\n",
       "      <td>142</td>\n",
       "      <td>Indiana Ave &amp; Roosevelt Rd</td>\n",
       "      <td>255.0</td>\n",
       "      <td>41.894500</td>\n",
       "      <td>-87.617900</td>\n",
       "      <td>41.867900</td>\n",
       "      <td>-87.623000</td>\n",
       "      <td>member</td>\n",
       "    </tr>\n",
       "    <tr>\n",
       "      <th>3</th>\n",
       "      <td>2A59BBDF5CDBA725</td>\n",
       "      <td>docked_bike</td>\n",
       "      <td>2020-04-07 12:50:19</td>\n",
       "      <td>2020-04-07 13:02:31</td>\n",
       "      <td>California Ave &amp; Division St</td>\n",
       "      <td>216</td>\n",
       "      <td>Wood St &amp; Augusta Blvd</td>\n",
       "      <td>657.0</td>\n",
       "      <td>41.903000</td>\n",
       "      <td>-87.697500</td>\n",
       "      <td>41.899200</td>\n",
       "      <td>-87.672200</td>\n",
       "      <td>member</td>\n",
       "    </tr>\n",
       "    <tr>\n",
       "      <th>4</th>\n",
       "      <td>27AD306C119C6158</td>\n",
       "      <td>docked_bike</td>\n",
       "      <td>2020-04-18 10:22:59</td>\n",
       "      <td>2020-04-18 11:15:54</td>\n",
       "      <td>Rush St &amp; Hubbard St</td>\n",
       "      <td>125</td>\n",
       "      <td>Sheridan Rd &amp; Lawrence Ave</td>\n",
       "      <td>323.0</td>\n",
       "      <td>41.890200</td>\n",
       "      <td>-87.626200</td>\n",
       "      <td>41.969500</td>\n",
       "      <td>-87.654700</td>\n",
       "      <td>casual</td>\n",
       "    </tr>\n",
       "    <tr>\n",
       "      <th>...</th>\n",
       "      <td>...</td>\n",
       "      <td>...</td>\n",
       "      <td>...</td>\n",
       "      <td>...</td>\n",
       "      <td>...</td>\n",
       "      <td>...</td>\n",
       "      <td>...</td>\n",
       "      <td>...</td>\n",
       "      <td>...</td>\n",
       "      <td>...</td>\n",
       "      <td>...</td>\n",
       "      <td>...</td>\n",
       "      <td>...</td>\n",
       "    </tr>\n",
       "    <tr>\n",
       "      <th>228491</th>\n",
       "      <td>9397BDD14798A1BA</td>\n",
       "      <td>docked_bike</td>\n",
       "      <td>2021-03-20 14:58:56</td>\n",
       "      <td>2021-03-20 17:22:47</td>\n",
       "      <td>Michigan Ave &amp; Oak St</td>\n",
       "      <td>13042</td>\n",
       "      <td>New St &amp; Illinois St</td>\n",
       "      <td>TA1306000013</td>\n",
       "      <td>41.900960</td>\n",
       "      <td>-87.623777</td>\n",
       "      <td>41.890847</td>\n",
       "      <td>-87.618617</td>\n",
       "      <td>casual</td>\n",
       "    </tr>\n",
       "    <tr>\n",
       "      <th>228492</th>\n",
       "      <td>BBBEB8D51AAD40DA</td>\n",
       "      <td>classic_bike</td>\n",
       "      <td>2021-03-02 11:35:10</td>\n",
       "      <td>2021-03-02 11:43:37</td>\n",
       "      <td>Kingsbury St &amp; Kinzie St</td>\n",
       "      <td>KA1503000043</td>\n",
       "      <td>New St &amp; Illinois St</td>\n",
       "      <td>TA1306000013</td>\n",
       "      <td>41.889177</td>\n",
       "      <td>-87.638506</td>\n",
       "      <td>41.890847</td>\n",
       "      <td>-87.618617</td>\n",
       "      <td>member</td>\n",
       "    </tr>\n",
       "    <tr>\n",
       "      <th>228493</th>\n",
       "      <td>637FF754DA0BD9E1</td>\n",
       "      <td>classic_bike</td>\n",
       "      <td>2021-03-09 11:07:36</td>\n",
       "      <td>2021-03-09 11:49:11</td>\n",
       "      <td>Michigan Ave &amp; Oak St</td>\n",
       "      <td>13042</td>\n",
       "      <td>Clark St &amp; Berwyn Ave</td>\n",
       "      <td>KA1504000146</td>\n",
       "      <td>41.900960</td>\n",
       "      <td>-87.623777</td>\n",
       "      <td>41.977997</td>\n",
       "      <td>-87.668047</td>\n",
       "      <td>member</td>\n",
       "    </tr>\n",
       "    <tr>\n",
       "      <th>228494</th>\n",
       "      <td>F8F43A0B978A7A35</td>\n",
       "      <td>classic_bike</td>\n",
       "      <td>2021-03-01 18:11:57</td>\n",
       "      <td>2021-03-01 18:18:37</td>\n",
       "      <td>Kingsbury St &amp; Kinzie St</td>\n",
       "      <td>KA1503000043</td>\n",
       "      <td>New St &amp; Illinois St</td>\n",
       "      <td>TA1306000013</td>\n",
       "      <td>41.889177</td>\n",
       "      <td>-87.638506</td>\n",
       "      <td>41.890847</td>\n",
       "      <td>-87.618617</td>\n",
       "      <td>member</td>\n",
       "    </tr>\n",
       "    <tr>\n",
       "      <th>228495</th>\n",
       "      <td>3AE64EA5BF43CF72</td>\n",
       "      <td>electric_bike</td>\n",
       "      <td>2021-03-26 17:58:14</td>\n",
       "      <td>2021-03-26 18:06:43</td>\n",
       "      <td>NaN</td>\n",
       "      <td>NaN</td>\n",
       "      <td>New St &amp; Illinois St</td>\n",
       "      <td>TA1306000013</td>\n",
       "      <td>41.880000</td>\n",
       "      <td>-87.630000</td>\n",
       "      <td>41.890818</td>\n",
       "      <td>-87.619540</td>\n",
       "      <td>member</td>\n",
       "    </tr>\n",
       "  </tbody>\n",
       "</table>\n",
       "<p>3489539 rows × 13 columns</p>\n",
       "</div>"
      ],
      "text/plain": [
       "                 ride_id  rideable_type           started_at  \\\n",
       "0       A847FADBBC638E45    docked_bike  2020-04-26 17:45:14   \n",
       "1       5405B80E996FF60D    docked_bike  2020-04-17 17:08:54   \n",
       "2       5DD24A79A4E006F4    docked_bike  2020-04-01 17:54:13   \n",
       "3       2A59BBDF5CDBA725    docked_bike  2020-04-07 12:50:19   \n",
       "4       27AD306C119C6158    docked_bike  2020-04-18 10:22:59   \n",
       "...                  ...            ...                  ...   \n",
       "228491  9397BDD14798A1BA    docked_bike  2021-03-20 14:58:56   \n",
       "228492  BBBEB8D51AAD40DA   classic_bike  2021-03-02 11:35:10   \n",
       "228493  637FF754DA0BD9E1   classic_bike  2021-03-09 11:07:36   \n",
       "228494  F8F43A0B978A7A35   classic_bike  2021-03-01 18:11:57   \n",
       "228495  3AE64EA5BF43CF72  electric_bike  2021-03-26 17:58:14   \n",
       "\n",
       "                   ended_at            start_station_name start_station_id  \\\n",
       "0       2020-04-26 18:12:03                  Eckhart Park               86   \n",
       "1       2020-04-17 17:17:03     Drake Ave & Fullerton Ave              503   \n",
       "2       2020-04-01 18:08:36          McClurg Ct & Erie St              142   \n",
       "3       2020-04-07 13:02:31  California Ave & Division St              216   \n",
       "4       2020-04-18 11:15:54          Rush St & Hubbard St              125   \n",
       "...                     ...                           ...              ...   \n",
       "228491  2021-03-20 17:22:47         Michigan Ave & Oak St            13042   \n",
       "228492  2021-03-02 11:43:37      Kingsbury St & Kinzie St     KA1503000043   \n",
       "228493  2021-03-09 11:49:11         Michigan Ave & Oak St            13042   \n",
       "228494  2021-03-01 18:18:37      Kingsbury St & Kinzie St     KA1503000043   \n",
       "228495  2021-03-26 18:06:43                           NaN              NaN   \n",
       "\n",
       "                   end_station_name end_station_id  start_lat  start_lng  \\\n",
       "0       Lincoln Ave & Diversey Pkwy          152.0  41.896400 -87.661000   \n",
       "1                   Kosciuszko Park          499.0  41.924400 -87.715400   \n",
       "2        Indiana Ave & Roosevelt Rd          255.0  41.894500 -87.617900   \n",
       "3            Wood St & Augusta Blvd          657.0  41.903000 -87.697500   \n",
       "4        Sheridan Rd & Lawrence Ave          323.0  41.890200 -87.626200   \n",
       "...                             ...            ...        ...        ...   \n",
       "228491         New St & Illinois St   TA1306000013  41.900960 -87.623777   \n",
       "228492         New St & Illinois St   TA1306000013  41.889177 -87.638506   \n",
       "228493        Clark St & Berwyn Ave   KA1504000146  41.900960 -87.623777   \n",
       "228494         New St & Illinois St   TA1306000013  41.889177 -87.638506   \n",
       "228495         New St & Illinois St   TA1306000013  41.880000 -87.630000   \n",
       "\n",
       "          end_lat    end_lng member_casual  \n",
       "0       41.932200 -87.658600        member  \n",
       "1       41.930600 -87.723800        member  \n",
       "2       41.867900 -87.623000        member  \n",
       "3       41.899200 -87.672200        member  \n",
       "4       41.969500 -87.654700        casual  \n",
       "...           ...        ...           ...  \n",
       "228491  41.890847 -87.618617        casual  \n",
       "228492  41.890847 -87.618617        member  \n",
       "228493  41.977997 -87.668047        member  \n",
       "228494  41.890847 -87.618617        member  \n",
       "228495  41.890818 -87.619540        member  \n",
       "\n",
       "[3489539 rows x 13 columns]"
      ]
     },
     "execution_count": 11,
     "metadata": {},
     "output_type": "execute_result"
    }
   ],
   "source": [
    "\n",
    "tripdataV1\n",
    "\n",
    "        "
   ]
  },
  {
   "cell_type": "code",
   "execution_count": null,
   "id": "9fe1e2e8",
   "metadata": {
    "papermill": {
     "duration": 0.015749,
     "end_time": "2022-06-11T04:10:22.989496",
     "exception": false,
     "start_time": "2022-06-11T04:10:22.973747",
     "status": "completed"
    },
    "tags": []
   },
   "outputs": [],
   "source": []
  },
  {
   "cell_type": "code",
   "execution_count": null,
   "id": "4e28f848",
   "metadata": {
    "papermill": {
     "duration": 0.014933,
     "end_time": "2022-06-11T04:10:23.020416",
     "exception": false,
     "start_time": "2022-06-11T04:10:23.005483",
     "status": "completed"
    },
    "tags": []
   },
   "outputs": [],
   "source": []
  },
  {
   "cell_type": "code",
   "execution_count": 12,
   "id": "b5a38cf5",
   "metadata": {
    "execution": {
     "iopub.execute_input": "2022-06-11T04:10:23.053218Z",
     "iopub.status.busy": "2022-06-11T04:10:23.052809Z",
     "iopub.status.idle": "2022-06-11T04:10:24.361553Z",
     "shell.execute_reply": "2022-06-11T04:10:24.360783Z"
    },
    "papermill": {
     "duration": 1.327375,
     "end_time": "2022-06-11T04:10:24.363457",
     "exception": false,
     "start_time": "2022-06-11T04:10:23.036082",
     "status": "completed"
    },
    "tags": []
   },
   "outputs": [
    {
     "data": {
      "text/plain": [
       "ride_id                    0\n",
       "rideable_type              0\n",
       "started_at                 0\n",
       "ended_at                   0\n",
       "start_station_name    122175\n",
       "start_station_id      122801\n",
       "end_station_name      143241\n",
       "end_station_id        143702\n",
       "start_lat                  0\n",
       "start_lng                  0\n",
       "end_lat                 4737\n",
       "end_lng                 4737\n",
       "member_casual              0\n",
       "dtype: int64"
      ]
     },
     "execution_count": 12,
     "metadata": {},
     "output_type": "execute_result"
    }
   ],
   "source": [
    "#Checking the null values and counting with the sum() function\n",
    "# Yeah i know it's weird the sum() function be counting\n",
    "# I was thinking it should be the count() function\n",
    "\n",
    "tripdataV1.isna().sum()\n"
   ]
  },
  {
   "cell_type": "markdown",
   "id": "23b4ac74",
   "metadata": {
    "papermill": {
     "duration": 0.015165,
     "end_time": "2022-06-11T04:10:24.394107",
     "exception": false,
     "start_time": "2022-06-11T04:10:24.378942",
     "status": "completed"
    },
    "tags": []
   },
   "source": [
    "Now we could see there are lot of null values such as:\n",
    "1. start_station_name has 122175\n",
    "2. start_station_id has 122801\n",
    "3. end_station_name has 143241\n",
    "4. end_station_id has 143702\n",
    "5. end_lat has 4737\n",
    "6. end_lng has 4737\n",
    "\n",
    "We will handle this null values"
   ]
  },
  {
   "cell_type": "code",
   "execution_count": 13,
   "id": "c043eab4",
   "metadata": {
    "execution": {
     "iopub.execute_input": "2022-06-11T04:10:24.426880Z",
     "iopub.status.busy": "2022-06-11T04:10:24.426284Z",
     "iopub.status.idle": "2022-06-11T04:10:24.576755Z",
     "shell.execute_reply": "2022-06-11T04:10:24.575874Z"
    },
    "papermill": {
     "duration": 0.169087,
     "end_time": "2022-06-11T04:10:24.578610",
     "exception": false,
     "start_time": "2022-06-11T04:10:24.409523",
     "status": "completed"
    },
    "tags": []
   },
   "outputs": [
    {
     "data": {
      "text/plain": [
       "0"
      ]
     },
     "execution_count": 13,
     "metadata": {},
     "output_type": "execute_result"
    }
   ],
   "source": [
    "# As we can see in my unique values i don't have nulls values\n",
    "\n",
    "tripdataV1[\"ride_id\"].isna().sum()\n"
   ]
  },
  {
   "cell_type": "code",
   "execution_count": 14,
   "id": "1de27dec",
   "metadata": {
    "execution": {
     "iopub.execute_input": "2022-06-11T04:10:24.611244Z",
     "iopub.status.busy": "2022-06-11T04:10:24.610862Z",
     "iopub.status.idle": "2022-06-11T04:10:24.617556Z",
     "shell.execute_reply": "2022-06-11T04:10:24.616679Z"
    },
    "papermill": {
     "duration": 0.02559,
     "end_time": "2022-06-11T04:10:24.619538",
     "exception": false,
     "start_time": "2022-06-11T04:10:24.593948",
     "status": "completed"
    },
    "tags": []
   },
   "outputs": [
    {
     "data": {
      "text/plain": [
       "ride_id                         E4CE369DF59D80C5\n",
       "rideable_type                        docked_bike\n",
       "started_at                   2020-05-12 13:14:43\n",
       "ended_at                     2020-05-12 13:21:55\n",
       "start_station_name    Larrabee St & Kingsbury St\n",
       "start_station_id                              48\n",
       "end_station_name           Dearborn St & Erie St\n",
       "end_station_id                             110.0\n",
       "start_lat                                41.8978\n",
       "start_lng                               -87.6429\n",
       "end_lat                                   41.894\n",
       "end_lng                                 -87.6293\n",
       "member_casual                             member\n",
       "Name: 143718, dtype: object"
      ]
     },
     "execution_count": 14,
     "metadata": {},
     "output_type": "execute_result"
    }
   ],
   "source": [
    "# Using this function to see this specific row index values\n",
    "\n",
    "tripdataV1.iloc[228494]\n"
   ]
  },
  {
   "cell_type": "markdown",
   "id": "edb73c3c",
   "metadata": {
    "papermill": {
     "duration": 0.015413,
     "end_time": "2022-06-11T04:10:24.650665",
     "exception": false,
     "start_time": "2022-06-11T04:10:24.635252",
     "status": "completed"
    },
    "tags": []
   },
   "source": [
    "## **Converting types**\n"
   ]
  },
  {
   "cell_type": "code",
   "execution_count": 15,
   "id": "f26afdd6",
   "metadata": {
    "execution": {
     "iopub.execute_input": "2022-06-11T04:10:24.683964Z",
     "iopub.status.busy": "2022-06-11T04:10:24.683581Z",
     "iopub.status.idle": "2022-06-11T04:10:24.688870Z",
     "shell.execute_reply": "2022-06-11T04:10:24.688190Z"
    },
    "papermill": {
     "duration": 0.024284,
     "end_time": "2022-06-11T04:10:24.690827",
     "exception": false,
     "start_time": "2022-06-11T04:10:24.666543",
     "status": "completed"
    },
    "tags": []
   },
   "outputs": [
    {
     "data": {
      "text/plain": [
       "3489539"
      ]
     },
     "execution_count": 15,
     "metadata": {},
     "output_type": "execute_result"
    }
   ],
   "source": [
    "# Checking again the number of rows\n",
    "\n",
    "len(tripdataV1)\n"
   ]
  },
  {
   "cell_type": "code",
   "execution_count": 16,
   "id": "55f38fd2",
   "metadata": {
    "execution": {
     "iopub.execute_input": "2022-06-11T04:10:24.724526Z",
     "iopub.status.busy": "2022-06-11T04:10:24.723986Z",
     "iopub.status.idle": "2022-06-11T04:10:24.924220Z",
     "shell.execute_reply": "2022-06-11T04:10:24.923306Z"
    },
    "papermill": {
     "duration": 0.219983,
     "end_time": "2022-06-11T04:10:24.926476",
     "exception": false,
     "start_time": "2022-06-11T04:10:24.706493",
     "status": "completed"
    },
    "tags": []
   },
   "outputs": [
    {
     "data": {
      "text/plain": [
       "2"
      ]
     },
     "execution_count": 16,
     "metadata": {},
     "output_type": "execute_result"
    }
   ],
   "source": [
    "# Checking outliers\n",
    "\n",
    "tripdataV1[\"member_casual\"].nunique()\n"
   ]
  },
  {
   "cell_type": "code",
   "execution_count": 17,
   "id": "1fbf2e7c",
   "metadata": {
    "execution": {
     "iopub.execute_input": "2022-06-11T04:10:24.960813Z",
     "iopub.status.busy": "2022-06-11T04:10:24.960398Z",
     "iopub.status.idle": "2022-06-11T04:10:25.165807Z",
     "shell.execute_reply": "2022-06-11T04:10:25.164851Z"
    },
    "papermill": {
     "duration": 0.225481,
     "end_time": "2022-06-11T04:10:25.167987",
     "exception": false,
     "start_time": "2022-06-11T04:10:24.942506",
     "status": "completed"
    },
    "tags": []
   },
   "outputs": [
    {
     "data": {
      "text/plain": [
       "3"
      ]
     },
     "execution_count": 17,
     "metadata": {},
     "output_type": "execute_result"
    }
   ],
   "source": [
    "# Checking outliers\n",
    "\n",
    "tripdataV1[\"rideable_type\"].nunique()\n"
   ]
  },
  {
   "cell_type": "code",
   "execution_count": 18,
   "id": "6301e571",
   "metadata": {
    "execution": {
     "iopub.execute_input": "2022-06-11T04:10:25.203378Z",
     "iopub.status.busy": "2022-06-11T04:10:25.202522Z",
     "iopub.status.idle": "2022-06-11T04:10:28.944798Z",
     "shell.execute_reply": "2022-06-11T04:10:28.943625Z"
    },
    "papermill": {
     "duration": 3.763547,
     "end_time": "2022-06-11T04:10:28.947446",
     "exception": false,
     "start_time": "2022-06-11T04:10:25.183899",
     "status": "completed"
    },
    "tags": []
   },
   "outputs": [
    {
     "data": {
      "text/plain": [
       "count                 3489539\n",
       "unique                3040064\n",
       "top       2020-07-12 13:16:59\n",
       "freq                       12\n",
       "Name: started_at, dtype: object"
      ]
     },
     "execution_count": 18,
     "metadata": {},
     "output_type": "execute_result"
    }
   ],
   "source": [
    "# Watching a brief description about the column so i can be sure of the type\n",
    "\n",
    "tripdataV1[\"started_at\"].describe()\n",
    "\n"
   ]
  },
  {
   "cell_type": "markdown",
   "id": "ec4e0eb4",
   "metadata": {
    "papermill": {
     "duration": 0.017143,
     "end_time": "2022-06-11T04:10:28.980985",
     "exception": false,
     "start_time": "2022-06-11T04:10:28.963842",
     "status": "completed"
    },
    "tags": []
   },
   "source": [
    "**As seem above the started_at is in an object data type**\n",
    "**The ended_at column has the same format and we want them to be datetime**"
   ]
  },
  {
   "cell_type": "code",
   "execution_count": 19,
   "id": "afb0c148",
   "metadata": {
    "execution": {
     "iopub.execute_input": "2022-06-11T04:10:29.016000Z",
     "iopub.status.busy": "2022-06-11T04:10:29.015641Z",
     "iopub.status.idle": "2022-06-11T04:10:30.091362Z",
     "shell.execute_reply": "2022-06-11T04:10:30.090275Z"
    },
    "papermill": {
     "duration": 1.095904,
     "end_time": "2022-06-11T04:10:30.093596",
     "exception": false,
     "start_time": "2022-06-11T04:10:28.997692",
     "status": "completed"
    },
    "tags": []
   },
   "outputs": [
    {
     "name": "stderr",
     "output_type": "stream",
     "text": [
      "/opt/conda/lib/python3.7/site-packages/ipykernel_launcher.py:4: SettingWithCopyWarning: \n",
      "A value is trying to be set on a copy of a slice from a DataFrame.\n",
      "Try using .loc[row_indexer,col_indexer] = value instead\n",
      "\n",
      "See the caveats in the documentation: https://pandas.pydata.org/pandas-docs/stable/user_guide/indexing.html#returning-a-view-versus-a-copy\n",
      "  after removing the cwd from sys.path.\n"
     ]
    }
   ],
   "source": [
    "# Converting to a datetime format the column that was in an object format\n",
    "\n",
    "\n",
    "tripdataV1[\"started_at\"] = pd.to_datetime(tripdataV1[\"started_at\"])\n"
   ]
  },
  {
   "cell_type": "code",
   "execution_count": 20,
   "id": "d7e1d431",
   "metadata": {
    "execution": {
     "iopub.execute_input": "2022-06-11T04:10:30.129258Z",
     "iopub.status.busy": "2022-06-11T04:10:30.128834Z",
     "iopub.status.idle": "2022-06-11T04:10:30.136823Z",
     "shell.execute_reply": "2022-06-11T04:10:30.135888Z"
    },
    "papermill": {
     "duration": 0.029287,
     "end_time": "2022-06-11T04:10:30.138808",
     "exception": false,
     "start_time": "2022-06-11T04:10:30.109521",
     "status": "completed"
    },
    "tags": []
   },
   "outputs": [
    {
     "data": {
      "text/plain": [
       "0        2020-04-26 17:45:14\n",
       "1        2020-04-17 17:08:54\n",
       "2        2020-04-01 17:54:13\n",
       "3        2020-04-07 12:50:19\n",
       "4        2020-04-18 10:22:59\n",
       "                 ...        \n",
       "228491   2021-03-20 14:58:56\n",
       "228492   2021-03-02 11:35:10\n",
       "228493   2021-03-09 11:07:36\n",
       "228494   2021-03-01 18:11:57\n",
       "228495   2021-03-26 17:58:14\n",
       "Name: started_at, Length: 3489539, dtype: datetime64[ns]"
      ]
     },
     "execution_count": 20,
     "metadata": {},
     "output_type": "execute_result"
    }
   ],
   "source": [
    "# Checking if the started_at column already has a datatime type format\n",
    "\n",
    "tripdataV1[\"started_at\"]\n"
   ]
  },
  {
   "cell_type": "code",
   "execution_count": 21,
   "id": "dd7b8a92",
   "metadata": {
    "execution": {
     "iopub.execute_input": "2022-06-11T04:10:30.173466Z",
     "iopub.status.busy": "2022-06-11T04:10:30.173054Z",
     "iopub.status.idle": "2022-06-11T04:10:31.250963Z",
     "shell.execute_reply": "2022-06-11T04:10:31.249393Z"
    },
    "papermill": {
     "duration": 1.09918,
     "end_time": "2022-06-11T04:10:31.254087",
     "exception": false,
     "start_time": "2022-06-11T04:10:30.154907",
     "status": "completed"
    },
    "tags": []
   },
   "outputs": [
    {
     "name": "stderr",
     "output_type": "stream",
     "text": [
      "/opt/conda/lib/python3.7/site-packages/ipykernel_launcher.py:3: SettingWithCopyWarning: \n",
      "A value is trying to be set on a copy of a slice from a DataFrame.\n",
      "Try using .loc[row_indexer,col_indexer] = value instead\n",
      "\n",
      "See the caveats in the documentation: https://pandas.pydata.org/pandas-docs/stable/user_guide/indexing.html#returning-a-view-versus-a-copy\n",
      "  This is separate from the ipykernel package so we can avoid doing imports until\n"
     ]
    }
   ],
   "source": [
    "# Converting the ended_at column to datetime format\n",
    "\n",
    "tripdataV1[\"ended_at\"] = pd.to_datetime(tripdataV1[\"ended_at\"])\n",
    "\n"
   ]
  },
  {
   "cell_type": "code",
   "execution_count": 22,
   "id": "2c5d1723",
   "metadata": {
    "execution": {
     "iopub.execute_input": "2022-06-11T04:10:31.289326Z",
     "iopub.status.busy": "2022-06-11T04:10:31.288934Z",
     "iopub.status.idle": "2022-06-11T04:10:31.296952Z",
     "shell.execute_reply": "2022-06-11T04:10:31.295914Z"
    },
    "papermill": {
     "duration": 0.027921,
     "end_time": "2022-06-11T04:10:31.299166",
     "exception": false,
     "start_time": "2022-06-11T04:10:31.271245",
     "status": "completed"
    },
    "tags": []
   },
   "outputs": [
    {
     "data": {
      "text/plain": [
       "0        2020-04-26 18:12:03\n",
       "1        2020-04-17 17:17:03\n",
       "2        2020-04-01 18:08:36\n",
       "3        2020-04-07 13:02:31\n",
       "4        2020-04-18 11:15:54\n",
       "                 ...        \n",
       "228491   2021-03-20 17:22:47\n",
       "228492   2021-03-02 11:43:37\n",
       "228493   2021-03-09 11:49:11\n",
       "228494   2021-03-01 18:18:37\n",
       "228495   2021-03-26 18:06:43\n",
       "Name: ended_at, Length: 3489539, dtype: datetime64[ns]"
      ]
     },
     "execution_count": 22,
     "metadata": {},
     "output_type": "execute_result"
    }
   ],
   "source": [
    "# Checking if the changed was made\n",
    "\n",
    "tripdataV1[\"ended_at\"]\n"
   ]
  },
  {
   "cell_type": "code",
   "execution_count": 23,
   "id": "e2b159aa",
   "metadata": {
    "execution": {
     "iopub.execute_input": "2022-06-11T04:10:31.336162Z",
     "iopub.status.busy": "2022-06-11T04:10:31.335803Z",
     "iopub.status.idle": "2022-06-11T04:10:31.347684Z",
     "shell.execute_reply": "2022-06-11T04:10:31.346332Z"
    },
    "papermill": {
     "duration": 0.034301,
     "end_time": "2022-06-11T04:10:31.349941",
     "exception": false,
     "start_time": "2022-06-11T04:10:31.315640",
     "status": "completed"
    },
    "tags": []
   },
   "outputs": [
    {
     "name": "stdout",
     "output_type": "stream",
     "text": [
      "<class 'pandas.core.frame.DataFrame'>\n",
      "Int64Index: 3489539 entries, 0 to 228495\n",
      "Data columns (total 13 columns):\n",
      " #   Column              Dtype         \n",
      "---  ------              -----         \n",
      " 0   ride_id             object        \n",
      " 1   rideable_type       object        \n",
      " 2   started_at          datetime64[ns]\n",
      " 3   ended_at            datetime64[ns]\n",
      " 4   start_station_name  object        \n",
      " 5   start_station_id    object        \n",
      " 6   end_station_name    object        \n",
      " 7   end_station_id      object        \n",
      " 8   start_lat           float64       \n",
      " 9   start_lng           float64       \n",
      " 10  end_lat             float64       \n",
      " 11  end_lng             float64       \n",
      " 12  member_casual       object        \n",
      "dtypes: datetime64[ns](2), float64(4), object(7)\n",
      "memory usage: 372.7+ MB\n"
     ]
    }
   ],
   "source": [
    "tripdataV1.info()\n",
    "\n",
    "# Checking my data types format and we have two date times as intended"
   ]
  },
  {
   "cell_type": "code",
   "execution_count": null,
   "id": "7b23ec8f",
   "metadata": {
    "papermill": {
     "duration": 0.016732,
     "end_time": "2022-06-11T04:10:31.384276",
     "exception": false,
     "start_time": "2022-06-11T04:10:31.367544",
     "status": "completed"
    },
    "tags": []
   },
   "outputs": [],
   "source": []
  },
  {
   "cell_type": "markdown",
   "id": "4e3875dd",
   "metadata": {
    "papermill": {
     "duration": 0.015809,
     "end_time": "2022-06-11T04:10:31.416797",
     "exception": false,
     "start_time": "2022-06-11T04:10:31.400988",
     "status": "completed"
    },
    "tags": []
   },
   "source": [
    "## Manipulating the data"
   ]
  },
  {
   "cell_type": "markdown",
   "id": "7e70594b",
   "metadata": {
    "papermill": {
     "duration": 0.016244,
     "end_time": "2022-06-11T04:10:31.449007",
     "exception": false,
     "start_time": "2022-06-11T04:10:31.432763",
     "status": "completed"
    },
    "tags": []
   },
   "source": [
    "* **Add new columns**"
   ]
  },
  {
   "cell_type": "code",
   "execution_count": null,
   "id": "bef0f699",
   "metadata": {
    "papermill": {
     "duration": 0.01643,
     "end_time": "2022-06-11T04:10:31.481482",
     "exception": false,
     "start_time": "2022-06-11T04:10:31.465052",
     "status": "completed"
    },
    "tags": []
   },
   "outputs": [],
   "source": []
  },
  {
   "cell_type": "code",
   "execution_count": null,
   "id": "543c4c10",
   "metadata": {
    "papermill": {
     "duration": 0.015728,
     "end_time": "2022-06-11T04:10:31.513273",
     "exception": false,
     "start_time": "2022-06-11T04:10:31.497545",
     "status": "completed"
    },
    "tags": []
   },
   "outputs": [],
   "source": []
  },
  {
   "cell_type": "code",
   "execution_count": 24,
   "id": "8098afc7",
   "metadata": {
    "execution": {
     "iopub.execute_input": "2022-06-11T04:10:31.547205Z",
     "iopub.status.busy": "2022-06-11T04:10:31.546384Z",
     "iopub.status.idle": "2022-06-11T04:10:31.901804Z",
     "shell.execute_reply": "2022-06-11T04:10:31.900848Z"
    },
    "papermill": {
     "duration": 0.374793,
     "end_time": "2022-06-11T04:10:31.903907",
     "exception": false,
     "start_time": "2022-06-11T04:10:31.529114",
     "status": "completed"
    },
    "tags": []
   },
   "outputs": [
    {
     "data": {
      "text/plain": [
       "0         6\n",
       "1         4\n",
       "2         2\n",
       "3         1\n",
       "4         5\n",
       "         ..\n",
       "228491    5\n",
       "228492    1\n",
       "228493    1\n",
       "228494    0\n",
       "228495    4\n",
       "Name: started_at, Length: 3489539, dtype: int64"
      ]
     },
     "execution_count": 24,
     "metadata": {},
     "output_type": "execute_result"
    }
   ],
   "source": [
    "# Using the dt.dayofweek to find the day of the week for each date\n",
    "\n",
    "tripdataV1[\"started_at\"].dt.dayofweek"
   ]
  },
  {
   "cell_type": "code",
   "execution_count": 25,
   "id": "7ad7bc7c",
   "metadata": {
    "execution": {
     "iopub.execute_input": "2022-06-11T04:10:31.938726Z",
     "iopub.status.busy": "2022-06-11T04:10:31.938092Z",
     "iopub.status.idle": "2022-06-11T04:10:33.062732Z",
     "shell.execute_reply": "2022-06-11T04:10:33.061639Z"
    },
    "papermill": {
     "duration": 1.1454,
     "end_time": "2022-06-11T04:10:33.065636",
     "exception": false,
     "start_time": "2022-06-11T04:10:31.920236",
     "status": "completed"
    },
    "tags": []
   },
   "outputs": [
    {
     "data": {
      "text/plain": [
       "0            Sunday\n",
       "1            Friday\n",
       "2         Wednesday\n",
       "3           Tuesday\n",
       "4          Saturday\n",
       "            ...    \n",
       "228491     Saturday\n",
       "228492      Tuesday\n",
       "228493      Tuesday\n",
       "228494       Monday\n",
       "228495       Friday\n",
       "Name: started_at, Length: 3489539, dtype: object"
      ]
     },
     "execution_count": 25,
     "metadata": {},
     "output_type": "execute_result"
    }
   ],
   "source": [
    "# Using the dt.day_name() to get the name of the day to each date\n",
    "\n",
    "tripdataV1[\"started_at\"].dt.day_name()\n"
   ]
  },
  {
   "cell_type": "code",
   "execution_count": 26,
   "id": "da92f277",
   "metadata": {
    "execution": {
     "iopub.execute_input": "2022-06-11T04:10:33.106795Z",
     "iopub.status.busy": "2022-06-11T04:10:33.105687Z",
     "iopub.status.idle": "2022-06-11T04:10:33.444113Z",
     "shell.execute_reply": "2022-06-11T04:10:33.442749Z"
    },
    "papermill": {
     "duration": 0.359849,
     "end_time": "2022-06-11T04:10:33.446349",
     "exception": false,
     "start_time": "2022-06-11T04:10:33.086500",
     "status": "completed"
    },
    "tags": []
   },
   "outputs": [
    {
     "data": {
      "text/plain": [
       "0         4\n",
       "1         4\n",
       "2         4\n",
       "3         4\n",
       "4         4\n",
       "         ..\n",
       "228491    3\n",
       "228492    3\n",
       "228493    3\n",
       "228494    3\n",
       "228495    3\n",
       "Name: started_at, Length: 3489539, dtype: int64"
      ]
     },
     "execution_count": 26,
     "metadata": {},
     "output_type": "execute_result"
    }
   ],
   "source": [
    "# df['month_of_date'] = df['date_given'].dt.month\n",
    "\n",
    "tripdataV1[\"started_at\"].dt.month\n"
   ]
  },
  {
   "cell_type": "code",
   "execution_count": 27,
   "id": "26814aad",
   "metadata": {
    "execution": {
     "iopub.execute_input": "2022-06-11T04:10:33.483926Z",
     "iopub.status.busy": "2022-06-11T04:10:33.483559Z",
     "iopub.status.idle": "2022-06-11T04:10:34.476436Z",
     "shell.execute_reply": "2022-06-11T04:10:34.475629Z"
    },
    "papermill": {
     "duration": 1.014132,
     "end_time": "2022-06-11T04:10:34.478554",
     "exception": false,
     "start_time": "2022-06-11T04:10:33.464422",
     "status": "completed"
    },
    "tags": []
   },
   "outputs": [
    {
     "data": {
      "text/plain": [
       "0         April\n",
       "1         April\n",
       "2         April\n",
       "3         April\n",
       "4         April\n",
       "          ...  \n",
       "228491    March\n",
       "228492    March\n",
       "228493    March\n",
       "228494    March\n",
       "228495    March\n",
       "Name: started_at, Length: 3489539, dtype: object"
      ]
     },
     "execution_count": 27,
     "metadata": {},
     "output_type": "execute_result"
    }
   ],
   "source": [
    "# Using the dat.month_name to see the months of each date\n",
    "# later we will assign it into a new column\n",
    "\n",
    "tripdataV1[\"started_at\"].dt.month_name()\n"
   ]
  },
  {
   "cell_type": "code",
   "execution_count": 28,
   "id": "ccca7a73",
   "metadata": {
    "execution": {
     "iopub.execute_input": "2022-06-11T04:10:34.514514Z",
     "iopub.status.busy": "2022-06-11T04:10:34.513522Z",
     "iopub.status.idle": "2022-06-11T04:10:34.842335Z",
     "shell.execute_reply": "2022-06-11T04:10:34.841282Z"
    },
    "papermill": {
     "duration": 0.348406,
     "end_time": "2022-06-11T04:10:34.844316",
     "exception": false,
     "start_time": "2022-06-11T04:10:34.495910",
     "status": "completed"
    },
    "tags": []
   },
   "outputs": [
    {
     "data": {
      "text/plain": [
       "0         2020\n",
       "1         2020\n",
       "2         2020\n",
       "3         2020\n",
       "4         2020\n",
       "          ... \n",
       "228491    2021\n",
       "228492    2021\n",
       "228493    2021\n",
       "228494    2021\n",
       "228495    2021\n",
       "Name: started_at, Length: 3489539, dtype: int64"
      ]
     },
     "execution_count": 28,
     "metadata": {},
     "output_type": "execute_result"
    }
   ],
   "source": [
    "# Now taking the year this \"dt.\" is kind a a library to manipulate date\n",
    "\n",
    "tripdataV1[\"started_at\"].dt.year"
   ]
  },
  {
   "cell_type": "code",
   "execution_count": 29,
   "id": "755014a6",
   "metadata": {
    "execution": {
     "iopub.execute_input": "2022-06-11T04:10:34.880026Z",
     "iopub.status.busy": "2022-06-11T04:10:34.878912Z",
     "iopub.status.idle": "2022-06-11T04:10:35.206341Z",
     "shell.execute_reply": "2022-06-11T04:10:35.205410Z"
    },
    "papermill": {
     "duration": 0.347628,
     "end_time": "2022-06-11T04:10:35.208535",
     "exception": false,
     "start_time": "2022-06-11T04:10:34.860907",
     "status": "completed"
    },
    "tags": []
   },
   "outputs": [
    {
     "data": {
      "text/plain": [
       "0         26\n",
       "1         17\n",
       "2          1\n",
       "3          7\n",
       "4         18\n",
       "          ..\n",
       "228491    20\n",
       "228492     2\n",
       "228493     9\n",
       "228494     1\n",
       "228495    26\n",
       "Name: started_at, Length: 3489539, dtype: int64"
      ]
     },
     "execution_count": 29,
     "metadata": {},
     "output_type": "execute_result"
    }
   ],
   "source": [
    "# Extracting the specific day\n",
    "\n",
    "tripdataV1[\"started_at\"].dt.day"
   ]
  },
  {
   "cell_type": "markdown",
   "id": "5bfbc3cb",
   "metadata": {
    "papermill": {
     "duration": 0.017926,
     "end_time": "2022-06-11T04:10:35.243689",
     "exception": false,
     "start_time": "2022-06-11T04:10:35.225763",
     "status": "completed"
    },
    "tags": []
   },
   "source": [
    "**After wacthing the new values we need to create new columns we are going to create and insert the new columns**"
   ]
  },
  {
   "cell_type": "code",
   "execution_count": 30,
   "id": "09d02e34",
   "metadata": {
    "execution": {
     "iopub.execute_input": "2022-06-11T04:10:35.278994Z",
     "iopub.status.busy": "2022-06-11T04:10:35.278478Z",
     "iopub.status.idle": "2022-06-11T04:10:37.388561Z",
     "shell.execute_reply": "2022-06-11T04:10:37.387720Z"
    },
    "papermill": {
     "duration": 2.130337,
     "end_time": "2022-06-11T04:10:37.390857",
     "exception": false,
     "start_time": "2022-06-11T04:10:35.260520",
     "status": "completed"
    },
    "tags": []
   },
   "outputs": [
    {
     "name": "stderr",
     "output_type": "stream",
     "text": [
      "/opt/conda/lib/python3.7/site-packages/ipykernel_launcher.py:3: SettingWithCopyWarning: \n",
      "A value is trying to be set on a copy of a slice from a DataFrame.\n",
      "Try using .loc[row_indexer,col_indexer] = value instead\n",
      "\n",
      "See the caveats in the documentation: https://pandas.pydata.org/pandas-docs/stable/user_guide/indexing.html#returning-a-view-versus-a-copy\n",
      "  This is separate from the ipykernel package so we can avoid doing imports until\n",
      "/opt/conda/lib/python3.7/site-packages/ipykernel_launcher.py:5: SettingWithCopyWarning: \n",
      "A value is trying to be set on a copy of a slice from a DataFrame.\n",
      "Try using .loc[row_indexer,col_indexer] = value instead\n",
      "\n",
      "See the caveats in the documentation: https://pandas.pydata.org/pandas-docs/stable/user_guide/indexing.html#returning-a-view-versus-a-copy\n",
      "  \"\"\"\n",
      "/opt/conda/lib/python3.7/site-packages/ipykernel_launcher.py:6: SettingWithCopyWarning: \n",
      "A value is trying to be set on a copy of a slice from a DataFrame.\n",
      "Try using .loc[row_indexer,col_indexer] = value instead\n",
      "\n",
      "See the caveats in the documentation: https://pandas.pydata.org/pandas-docs/stable/user_guide/indexing.html#returning-a-view-versus-a-copy\n",
      "  \n",
      "/opt/conda/lib/python3.7/site-packages/ipykernel_launcher.py:7: SettingWithCopyWarning: \n",
      "A value is trying to be set on a copy of a slice from a DataFrame.\n",
      "Try using .loc[row_indexer,col_indexer] = value instead\n",
      "\n",
      "See the caveats in the documentation: https://pandas.pydata.org/pandas-docs/stable/user_guide/indexing.html#returning-a-view-versus-a-copy\n",
      "  import sys\n"
     ]
    },
    {
     "data": {
      "text/html": [
       "<div>\n",
       "<style scoped>\n",
       "    .dataframe tbody tr th:only-of-type {\n",
       "        vertical-align: middle;\n",
       "    }\n",
       "\n",
       "    .dataframe tbody tr th {\n",
       "        vertical-align: top;\n",
       "    }\n",
       "\n",
       "    .dataframe thead th {\n",
       "        text-align: right;\n",
       "    }\n",
       "</style>\n",
       "<table border=\"1\" class=\"dataframe\">\n",
       "  <thead>\n",
       "    <tr style=\"text-align: right;\">\n",
       "      <th></th>\n",
       "      <th>ride_id</th>\n",
       "      <th>rideable_type</th>\n",
       "      <th>started_at</th>\n",
       "      <th>ended_at</th>\n",
       "      <th>start_station_name</th>\n",
       "      <th>start_station_id</th>\n",
       "      <th>end_station_name</th>\n",
       "      <th>end_station_id</th>\n",
       "      <th>start_lat</th>\n",
       "      <th>start_lng</th>\n",
       "      <th>end_lat</th>\n",
       "      <th>end_lng</th>\n",
       "      <th>member_casual</th>\n",
       "      <th>weekday</th>\n",
       "      <th>day</th>\n",
       "      <th>month</th>\n",
       "      <th>year</th>\n",
       "    </tr>\n",
       "  </thead>\n",
       "  <tbody>\n",
       "    <tr>\n",
       "      <th>0</th>\n",
       "      <td>A847FADBBC638E45</td>\n",
       "      <td>docked_bike</td>\n",
       "      <td>2020-04-26 17:45:14</td>\n",
       "      <td>2020-04-26 18:12:03</td>\n",
       "      <td>Eckhart Park</td>\n",
       "      <td>86</td>\n",
       "      <td>Lincoln Ave &amp; Diversey Pkwy</td>\n",
       "      <td>152.0</td>\n",
       "      <td>41.896400</td>\n",
       "      <td>-87.661000</td>\n",
       "      <td>41.932200</td>\n",
       "      <td>-87.658600</td>\n",
       "      <td>member</td>\n",
       "      <td>Sunday</td>\n",
       "      <td>26</td>\n",
       "      <td>4</td>\n",
       "      <td>2020</td>\n",
       "    </tr>\n",
       "    <tr>\n",
       "      <th>1</th>\n",
       "      <td>5405B80E996FF60D</td>\n",
       "      <td>docked_bike</td>\n",
       "      <td>2020-04-17 17:08:54</td>\n",
       "      <td>2020-04-17 17:17:03</td>\n",
       "      <td>Drake Ave &amp; Fullerton Ave</td>\n",
       "      <td>503</td>\n",
       "      <td>Kosciuszko Park</td>\n",
       "      <td>499.0</td>\n",
       "      <td>41.924400</td>\n",
       "      <td>-87.715400</td>\n",
       "      <td>41.930600</td>\n",
       "      <td>-87.723800</td>\n",
       "      <td>member</td>\n",
       "      <td>Friday</td>\n",
       "      <td>17</td>\n",
       "      <td>4</td>\n",
       "      <td>2020</td>\n",
       "    </tr>\n",
       "    <tr>\n",
       "      <th>2</th>\n",
       "      <td>5DD24A79A4E006F4</td>\n",
       "      <td>docked_bike</td>\n",
       "      <td>2020-04-01 17:54:13</td>\n",
       "      <td>2020-04-01 18:08:36</td>\n",
       "      <td>McClurg Ct &amp; Erie St</td>\n",
       "      <td>142</td>\n",
       "      <td>Indiana Ave &amp; Roosevelt Rd</td>\n",
       "      <td>255.0</td>\n",
       "      <td>41.894500</td>\n",
       "      <td>-87.617900</td>\n",
       "      <td>41.867900</td>\n",
       "      <td>-87.623000</td>\n",
       "      <td>member</td>\n",
       "      <td>Wednesday</td>\n",
       "      <td>1</td>\n",
       "      <td>4</td>\n",
       "      <td>2020</td>\n",
       "    </tr>\n",
       "    <tr>\n",
       "      <th>3</th>\n",
       "      <td>2A59BBDF5CDBA725</td>\n",
       "      <td>docked_bike</td>\n",
       "      <td>2020-04-07 12:50:19</td>\n",
       "      <td>2020-04-07 13:02:31</td>\n",
       "      <td>California Ave &amp; Division St</td>\n",
       "      <td>216</td>\n",
       "      <td>Wood St &amp; Augusta Blvd</td>\n",
       "      <td>657.0</td>\n",
       "      <td>41.903000</td>\n",
       "      <td>-87.697500</td>\n",
       "      <td>41.899200</td>\n",
       "      <td>-87.672200</td>\n",
       "      <td>member</td>\n",
       "      <td>Tuesday</td>\n",
       "      <td>7</td>\n",
       "      <td>4</td>\n",
       "      <td>2020</td>\n",
       "    </tr>\n",
       "    <tr>\n",
       "      <th>4</th>\n",
       "      <td>27AD306C119C6158</td>\n",
       "      <td>docked_bike</td>\n",
       "      <td>2020-04-18 10:22:59</td>\n",
       "      <td>2020-04-18 11:15:54</td>\n",
       "      <td>Rush St &amp; Hubbard St</td>\n",
       "      <td>125</td>\n",
       "      <td>Sheridan Rd &amp; Lawrence Ave</td>\n",
       "      <td>323.0</td>\n",
       "      <td>41.890200</td>\n",
       "      <td>-87.626200</td>\n",
       "      <td>41.969500</td>\n",
       "      <td>-87.654700</td>\n",
       "      <td>casual</td>\n",
       "      <td>Saturday</td>\n",
       "      <td>18</td>\n",
       "      <td>4</td>\n",
       "      <td>2020</td>\n",
       "    </tr>\n",
       "    <tr>\n",
       "      <th>...</th>\n",
       "      <td>...</td>\n",
       "      <td>...</td>\n",
       "      <td>...</td>\n",
       "      <td>...</td>\n",
       "      <td>...</td>\n",
       "      <td>...</td>\n",
       "      <td>...</td>\n",
       "      <td>...</td>\n",
       "      <td>...</td>\n",
       "      <td>...</td>\n",
       "      <td>...</td>\n",
       "      <td>...</td>\n",
       "      <td>...</td>\n",
       "      <td>...</td>\n",
       "      <td>...</td>\n",
       "      <td>...</td>\n",
       "      <td>...</td>\n",
       "    </tr>\n",
       "    <tr>\n",
       "      <th>228491</th>\n",
       "      <td>9397BDD14798A1BA</td>\n",
       "      <td>docked_bike</td>\n",
       "      <td>2021-03-20 14:58:56</td>\n",
       "      <td>2021-03-20 17:22:47</td>\n",
       "      <td>Michigan Ave &amp; Oak St</td>\n",
       "      <td>13042</td>\n",
       "      <td>New St &amp; Illinois St</td>\n",
       "      <td>TA1306000013</td>\n",
       "      <td>41.900960</td>\n",
       "      <td>-87.623777</td>\n",
       "      <td>41.890847</td>\n",
       "      <td>-87.618617</td>\n",
       "      <td>casual</td>\n",
       "      <td>Saturday</td>\n",
       "      <td>20</td>\n",
       "      <td>3</td>\n",
       "      <td>2021</td>\n",
       "    </tr>\n",
       "    <tr>\n",
       "      <th>228492</th>\n",
       "      <td>BBBEB8D51AAD40DA</td>\n",
       "      <td>classic_bike</td>\n",
       "      <td>2021-03-02 11:35:10</td>\n",
       "      <td>2021-03-02 11:43:37</td>\n",
       "      <td>Kingsbury St &amp; Kinzie St</td>\n",
       "      <td>KA1503000043</td>\n",
       "      <td>New St &amp; Illinois St</td>\n",
       "      <td>TA1306000013</td>\n",
       "      <td>41.889177</td>\n",
       "      <td>-87.638506</td>\n",
       "      <td>41.890847</td>\n",
       "      <td>-87.618617</td>\n",
       "      <td>member</td>\n",
       "      <td>Tuesday</td>\n",
       "      <td>2</td>\n",
       "      <td>3</td>\n",
       "      <td>2021</td>\n",
       "    </tr>\n",
       "    <tr>\n",
       "      <th>228493</th>\n",
       "      <td>637FF754DA0BD9E1</td>\n",
       "      <td>classic_bike</td>\n",
       "      <td>2021-03-09 11:07:36</td>\n",
       "      <td>2021-03-09 11:49:11</td>\n",
       "      <td>Michigan Ave &amp; Oak St</td>\n",
       "      <td>13042</td>\n",
       "      <td>Clark St &amp; Berwyn Ave</td>\n",
       "      <td>KA1504000146</td>\n",
       "      <td>41.900960</td>\n",
       "      <td>-87.623777</td>\n",
       "      <td>41.977997</td>\n",
       "      <td>-87.668047</td>\n",
       "      <td>member</td>\n",
       "      <td>Tuesday</td>\n",
       "      <td>9</td>\n",
       "      <td>3</td>\n",
       "      <td>2021</td>\n",
       "    </tr>\n",
       "    <tr>\n",
       "      <th>228494</th>\n",
       "      <td>F8F43A0B978A7A35</td>\n",
       "      <td>classic_bike</td>\n",
       "      <td>2021-03-01 18:11:57</td>\n",
       "      <td>2021-03-01 18:18:37</td>\n",
       "      <td>Kingsbury St &amp; Kinzie St</td>\n",
       "      <td>KA1503000043</td>\n",
       "      <td>New St &amp; Illinois St</td>\n",
       "      <td>TA1306000013</td>\n",
       "      <td>41.889177</td>\n",
       "      <td>-87.638506</td>\n",
       "      <td>41.890847</td>\n",
       "      <td>-87.618617</td>\n",
       "      <td>member</td>\n",
       "      <td>Monday</td>\n",
       "      <td>1</td>\n",
       "      <td>3</td>\n",
       "      <td>2021</td>\n",
       "    </tr>\n",
       "    <tr>\n",
       "      <th>228495</th>\n",
       "      <td>3AE64EA5BF43CF72</td>\n",
       "      <td>electric_bike</td>\n",
       "      <td>2021-03-26 17:58:14</td>\n",
       "      <td>2021-03-26 18:06:43</td>\n",
       "      <td>NaN</td>\n",
       "      <td>NaN</td>\n",
       "      <td>New St &amp; Illinois St</td>\n",
       "      <td>TA1306000013</td>\n",
       "      <td>41.880000</td>\n",
       "      <td>-87.630000</td>\n",
       "      <td>41.890818</td>\n",
       "      <td>-87.619540</td>\n",
       "      <td>member</td>\n",
       "      <td>Friday</td>\n",
       "      <td>26</td>\n",
       "      <td>3</td>\n",
       "      <td>2021</td>\n",
       "    </tr>\n",
       "  </tbody>\n",
       "</table>\n",
       "<p>3489539 rows × 17 columns</p>\n",
       "</div>"
      ],
      "text/plain": [
       "                 ride_id  rideable_type          started_at  \\\n",
       "0       A847FADBBC638E45    docked_bike 2020-04-26 17:45:14   \n",
       "1       5405B80E996FF60D    docked_bike 2020-04-17 17:08:54   \n",
       "2       5DD24A79A4E006F4    docked_bike 2020-04-01 17:54:13   \n",
       "3       2A59BBDF5CDBA725    docked_bike 2020-04-07 12:50:19   \n",
       "4       27AD306C119C6158    docked_bike 2020-04-18 10:22:59   \n",
       "...                  ...            ...                 ...   \n",
       "228491  9397BDD14798A1BA    docked_bike 2021-03-20 14:58:56   \n",
       "228492  BBBEB8D51AAD40DA   classic_bike 2021-03-02 11:35:10   \n",
       "228493  637FF754DA0BD9E1   classic_bike 2021-03-09 11:07:36   \n",
       "228494  F8F43A0B978A7A35   classic_bike 2021-03-01 18:11:57   \n",
       "228495  3AE64EA5BF43CF72  electric_bike 2021-03-26 17:58:14   \n",
       "\n",
       "                  ended_at            start_station_name start_station_id  \\\n",
       "0      2020-04-26 18:12:03                  Eckhart Park               86   \n",
       "1      2020-04-17 17:17:03     Drake Ave & Fullerton Ave              503   \n",
       "2      2020-04-01 18:08:36          McClurg Ct & Erie St              142   \n",
       "3      2020-04-07 13:02:31  California Ave & Division St              216   \n",
       "4      2020-04-18 11:15:54          Rush St & Hubbard St              125   \n",
       "...                    ...                           ...              ...   \n",
       "228491 2021-03-20 17:22:47         Michigan Ave & Oak St            13042   \n",
       "228492 2021-03-02 11:43:37      Kingsbury St & Kinzie St     KA1503000043   \n",
       "228493 2021-03-09 11:49:11         Michigan Ave & Oak St            13042   \n",
       "228494 2021-03-01 18:18:37      Kingsbury St & Kinzie St     KA1503000043   \n",
       "228495 2021-03-26 18:06:43                           NaN              NaN   \n",
       "\n",
       "                   end_station_name end_station_id  start_lat  start_lng  \\\n",
       "0       Lincoln Ave & Diversey Pkwy          152.0  41.896400 -87.661000   \n",
       "1                   Kosciuszko Park          499.0  41.924400 -87.715400   \n",
       "2        Indiana Ave & Roosevelt Rd          255.0  41.894500 -87.617900   \n",
       "3            Wood St & Augusta Blvd          657.0  41.903000 -87.697500   \n",
       "4        Sheridan Rd & Lawrence Ave          323.0  41.890200 -87.626200   \n",
       "...                             ...            ...        ...        ...   \n",
       "228491         New St & Illinois St   TA1306000013  41.900960 -87.623777   \n",
       "228492         New St & Illinois St   TA1306000013  41.889177 -87.638506   \n",
       "228493        Clark St & Berwyn Ave   KA1504000146  41.900960 -87.623777   \n",
       "228494         New St & Illinois St   TA1306000013  41.889177 -87.638506   \n",
       "228495         New St & Illinois St   TA1306000013  41.880000 -87.630000   \n",
       "\n",
       "          end_lat    end_lng member_casual    weekday  day  month  year  \n",
       "0       41.932200 -87.658600        member     Sunday   26      4  2020  \n",
       "1       41.930600 -87.723800        member     Friday   17      4  2020  \n",
       "2       41.867900 -87.623000        member  Wednesday    1      4  2020  \n",
       "3       41.899200 -87.672200        member    Tuesday    7      4  2020  \n",
       "4       41.969500 -87.654700        casual   Saturday   18      4  2020  \n",
       "...           ...        ...           ...        ...  ...    ...   ...  \n",
       "228491  41.890847 -87.618617        casual   Saturday   20      3  2021  \n",
       "228492  41.890847 -87.618617        member    Tuesday    2      3  2021  \n",
       "228493  41.977997 -87.668047        member    Tuesday    9      3  2021  \n",
       "228494  41.890847 -87.618617        member     Monday    1      3  2021  \n",
       "228495  41.890818 -87.619540        member     Friday   26      3  2021  \n",
       "\n",
       "[3489539 rows x 17 columns]"
      ]
     },
     "execution_count": 30,
     "metadata": {},
     "output_type": "execute_result"
    }
   ],
   "source": [
    "# Adding the day as a new columns \n",
    "\n",
    "tripdataV1[\"weekday\"] = tripdataV1[\"started_at\"].dt.day_name() #the code for the new \"weekday\" column\n",
    "\n",
    "tripdataV1[\"day\"] = tripdataV1[\"started_at\"].dt.day\n",
    "tripdataV1[\"month\"] = tripdataV1[\"started_at\"].dt.month\n",
    "tripdataV1[\"year\"] = tripdataV1[\"started_at\"].dt.year\n",
    "\n",
    "\n",
    "tripdataV1"
   ]
  },
  {
   "cell_type": "markdown",
   "id": "21426a50",
   "metadata": {
    "papermill": {
     "duration": 0.017605,
     "end_time": "2022-06-11T04:10:37.426167",
     "exception": false,
     "start_time": "2022-06-11T04:10:37.408562",
     "status": "completed"
    },
    "tags": []
   },
   "source": [
    "**We have added the new four columns**\n",
    "**The weekday, day, month and year**\n",
    "**This columns will help us make a deep analysis between the casual and members**"
   ]
  },
  {
   "cell_type": "code",
   "execution_count": 31,
   "id": "d03a9404",
   "metadata": {
    "execution": {
     "iopub.execute_input": "2022-06-11T04:10:37.464959Z",
     "iopub.status.busy": "2022-06-11T04:10:37.464280Z",
     "iopub.status.idle": "2022-06-11T04:10:37.598577Z",
     "shell.execute_reply": "2022-06-11T04:10:37.597484Z"
    },
    "papermill": {
     "duration": 0.156415,
     "end_time": "2022-06-11T04:10:37.601812",
     "exception": false,
     "start_time": "2022-06-11T04:10:37.445397",
     "status": "completed"
    },
    "tags": []
   },
   "outputs": [
    {
     "name": "stderr",
     "output_type": "stream",
     "text": [
      "/opt/conda/lib/python3.7/site-packages/ipykernel_launcher.py:3: SettingWithCopyWarning: \n",
      "A value is trying to be set on a copy of a slice from a DataFrame.\n",
      "Try using .loc[row_indexer,col_indexer] = value instead\n",
      "\n",
      "See the caveats in the documentation: https://pandas.pydata.org/pandas-docs/stable/user_guide/indexing.html#returning-a-view-versus-a-copy\n",
      "  This is separate from the ipykernel package so we can avoid doing imports until\n"
     ]
    },
    {
     "data": {
      "text/plain": [
       "0          26.816667\n",
       "1           8.150000\n",
       "2          14.383333\n",
       "3          12.200000\n",
       "4          52.916667\n",
       "             ...    \n",
       "228491    143.850000\n",
       "228492      8.450000\n",
       "228493     41.583333\n",
       "228494      6.666667\n",
       "228495      8.483333\n",
       "Name: ride_length_s, Length: 3489539, dtype: float64"
      ]
     },
     "execution_count": 31,
     "metadata": {},
     "output_type": "execute_result"
    }
   ],
   "source": [
    "# calculating the ride lenght in seconds\n",
    "\n",
    "tripdataV1[\"ride_length_s\"] = (tripdataV1[\"ended_at\"] - tripdataV1[\"started_at\"]).dt.seconds/60 \n",
    "\n",
    "tripdataV1[\"ride_length_s\"]\n"
   ]
  },
  {
   "cell_type": "code",
   "execution_count": 32,
   "id": "ba7a6f9e",
   "metadata": {
    "execution": {
     "iopub.execute_input": "2022-06-11T04:10:37.639032Z",
     "iopub.status.busy": "2022-06-11T04:10:37.638664Z",
     "iopub.status.idle": "2022-06-11T04:10:37.642867Z",
     "shell.execute_reply": "2022-06-11T04:10:37.642152Z"
    },
    "papermill": {
     "duration": 0.024878,
     "end_time": "2022-06-11T04:10:37.644580",
     "exception": false,
     "start_time": "2022-06-11T04:10:37.619702",
     "status": "completed"
    },
    "tags": []
   },
   "outputs": [],
   "source": [
    "# tripdataV1[\"weekday\"] = tripdataV1[\"started_at\"].dt.day_name() \n",
    "\n",
    "# tripdataV1[\"day\"] = tripdataV1[\"started_at\"].dt.day\n",
    "# tripdataV1[\"month\"] = tripdataV1[\"started_at\"].dt.month\n",
    "# tripdataV1[\"year\"] = tripdataV1[\"started_at\"].dt.year\n"
   ]
  },
  {
   "cell_type": "code",
   "execution_count": 33,
   "id": "bc7cfb80",
   "metadata": {
    "execution": {
     "iopub.execute_input": "2022-06-11T04:10:37.681559Z",
     "iopub.status.busy": "2022-06-11T04:10:37.680914Z",
     "iopub.status.idle": "2022-06-11T04:10:42.232514Z",
     "shell.execute_reply": "2022-06-11T04:10:42.231128Z"
    },
    "papermill": {
     "duration": 4.573038,
     "end_time": "2022-06-11T04:10:42.235109",
     "exception": false,
     "start_time": "2022-06-11T04:10:37.662071",
     "status": "completed"
    },
    "tags": []
   },
   "outputs": [
    {
     "name": "stderr",
     "output_type": "stream",
     "text": [
      "/opt/conda/lib/python3.7/site-packages/ipykernel_launcher.py:5: SettingWithCopyWarning: \n",
      "A value is trying to be set on a copy of a slice from a DataFrame.\n",
      "Try using .loc[row_indexer,col_indexer] = value instead\n",
      "\n",
      "See the caveats in the documentation: https://pandas.pydata.org/pandas-docs/stable/user_guide/indexing.html#returning-a-view-versus-a-copy\n",
      "  \"\"\"\n"
     ]
    },
    {
     "data": {
      "text/plain": [
       "0         2020 - 4 (April)\n",
       "1         2020 - 4 (April)\n",
       "2         2020 - 4 (April)\n",
       "3         2020 - 4 (April)\n",
       "4         2020 - 4 (April)\n",
       "                ...       \n",
       "228491    2021 - 3 (March)\n",
       "228492    2021 - 3 (March)\n",
       "228493    2021 - 3 (March)\n",
       "228494    2021 - 3 (March)\n",
       "228495    2021 - 3 (March)\n",
       "Name: year_month, Length: 3489539, dtype: object"
      ]
     },
     "execution_count": 33,
     "metadata": {},
     "output_type": "execute_result"
    }
   ],
   "source": [
    "# Now we are going to add new one column here\n",
    "# the year_month\n",
    "# .map(str)\n",
    "\n",
    "tripdataV1[\"year_month\"] = tripdataV1[\"year\"].map(str) + \" - \" + tripdataV1[\"month\"].map(str) + \" (\" + tripdataV1[\"started_at\"].dt.month_name().map(str) + \")\"\n",
    "\n",
    "tripdataV1[\"year_month\"]"
   ]
  },
  {
   "cell_type": "code",
   "execution_count": 34,
   "id": "9071d19b",
   "metadata": {
    "execution": {
     "iopub.execute_input": "2022-06-11T04:10:42.274957Z",
     "iopub.status.busy": "2022-06-11T04:10:42.274594Z",
     "iopub.status.idle": "2022-06-11T04:10:44.381313Z",
     "shell.execute_reply": "2022-06-11T04:10:44.380046Z"
    },
    "papermill": {
     "duration": 2.129262,
     "end_time": "2022-06-11T04:10:44.383978",
     "exception": false,
     "start_time": "2022-06-11T04:10:42.254716",
     "status": "completed"
    },
    "tags": []
   },
   "outputs": [
    {
     "name": "stderr",
     "output_type": "stream",
     "text": [
      "/opt/conda/lib/python3.7/site-packages/ipykernel_launcher.py:5: SettingWithCopyWarning: \n",
      "A value is trying to be set on a copy of a slice from a DataFrame.\n",
      "Try using .loc[row_indexer,col_indexer] = value instead\n",
      "\n",
      "See the caveats in the documentation: https://pandas.pydata.org/pandas-docs/stable/user_guide/indexing.html#returning-a-view-versus-a-copy\n",
      "  \"\"\"\n"
     ]
    },
    {
     "data": {
      "text/plain": [
       "0            6 - Sunday\n",
       "1            4 - Friday\n",
       "2         2 - Wednesday\n",
       "3           1 - Tuesday\n",
       "4          5 - Saturday\n",
       "              ...      \n",
       "228491     5 - Saturday\n",
       "228492      1 - Tuesday\n",
       "228493      1 - Tuesday\n",
       "228494       0 - Monday\n",
       "228495       4 - Friday\n",
       "Name: dayofweek_weekday, Length: 3489539, dtype: object"
      ]
     },
     "execution_count": 34,
     "metadata": {},
     "output_type": "execute_result"
    }
   ],
   "source": [
    "# Now we are going to add new one column here\n",
    "# the dayofweek_weekday\n",
    "# .map(str)\n",
    " \n",
    "tripdataV1[\"dayofweek_weekday\"] = tripdataV1[\"started_at\"].dt.dayofweek.map(str) + \" - \" + tripdataV1[\"weekday\"].map(str)\n",
    "\n",
    "tripdataV1[\"dayofweek_weekday\"]\n"
   ]
  },
  {
   "cell_type": "markdown",
   "id": "35618bd9",
   "metadata": {
    "papermill": {
     "duration": 0.018051,
     "end_time": "2022-06-11T04:10:44.420387",
     "exception": false,
     "start_time": "2022-06-11T04:10:44.402336",
     "status": "completed"
    },
    "tags": []
   },
   "source": [
    "**Now we have added all the new columns we are going to need for our analysis**"
   ]
  },
  {
   "cell_type": "code",
   "execution_count": 35,
   "id": "b3918715",
   "metadata": {
    "execution": {
     "iopub.execute_input": "2022-06-11T04:10:44.459398Z",
     "iopub.status.busy": "2022-06-11T04:10:44.458946Z",
     "iopub.status.idle": "2022-06-11T04:10:44.488874Z",
     "shell.execute_reply": "2022-06-11T04:10:44.487887Z"
    },
    "papermill": {
     "duration": 0.051719,
     "end_time": "2022-06-11T04:10:44.490877",
     "exception": false,
     "start_time": "2022-06-11T04:10:44.439158",
     "status": "completed"
    },
    "tags": []
   },
   "outputs": [
    {
     "data": {
      "text/html": [
       "<div>\n",
       "<style scoped>\n",
       "    .dataframe tbody tr th:only-of-type {\n",
       "        vertical-align: middle;\n",
       "    }\n",
       "\n",
       "    .dataframe tbody tr th {\n",
       "        vertical-align: top;\n",
       "    }\n",
       "\n",
       "    .dataframe thead th {\n",
       "        text-align: right;\n",
       "    }\n",
       "</style>\n",
       "<table border=\"1\" class=\"dataframe\">\n",
       "  <thead>\n",
       "    <tr style=\"text-align: right;\">\n",
       "      <th></th>\n",
       "      <th>ride_id</th>\n",
       "      <th>rideable_type</th>\n",
       "      <th>started_at</th>\n",
       "      <th>ended_at</th>\n",
       "      <th>start_station_name</th>\n",
       "      <th>start_station_id</th>\n",
       "      <th>end_station_name</th>\n",
       "      <th>end_station_id</th>\n",
       "      <th>start_lat</th>\n",
       "      <th>start_lng</th>\n",
       "      <th>end_lat</th>\n",
       "      <th>end_lng</th>\n",
       "      <th>member_casual</th>\n",
       "      <th>weekday</th>\n",
       "      <th>day</th>\n",
       "      <th>month</th>\n",
       "      <th>year</th>\n",
       "      <th>ride_length_s</th>\n",
       "      <th>year_month</th>\n",
       "      <th>dayofweek_weekday</th>\n",
       "    </tr>\n",
       "  </thead>\n",
       "  <tbody>\n",
       "    <tr>\n",
       "      <th>0</th>\n",
       "      <td>A847FADBBC638E45</td>\n",
       "      <td>docked_bike</td>\n",
       "      <td>2020-04-26 17:45:14</td>\n",
       "      <td>2020-04-26 18:12:03</td>\n",
       "      <td>Eckhart Park</td>\n",
       "      <td>86</td>\n",
       "      <td>Lincoln Ave &amp; Diversey Pkwy</td>\n",
       "      <td>152.0</td>\n",
       "      <td>41.896400</td>\n",
       "      <td>-87.661000</td>\n",
       "      <td>41.932200</td>\n",
       "      <td>-87.658600</td>\n",
       "      <td>member</td>\n",
       "      <td>Sunday</td>\n",
       "      <td>26</td>\n",
       "      <td>4</td>\n",
       "      <td>2020</td>\n",
       "      <td>26.816667</td>\n",
       "      <td>2020 - 4 (April)</td>\n",
       "      <td>6 - Sunday</td>\n",
       "    </tr>\n",
       "    <tr>\n",
       "      <th>1</th>\n",
       "      <td>5405B80E996FF60D</td>\n",
       "      <td>docked_bike</td>\n",
       "      <td>2020-04-17 17:08:54</td>\n",
       "      <td>2020-04-17 17:17:03</td>\n",
       "      <td>Drake Ave &amp; Fullerton Ave</td>\n",
       "      <td>503</td>\n",
       "      <td>Kosciuszko Park</td>\n",
       "      <td>499.0</td>\n",
       "      <td>41.924400</td>\n",
       "      <td>-87.715400</td>\n",
       "      <td>41.930600</td>\n",
       "      <td>-87.723800</td>\n",
       "      <td>member</td>\n",
       "      <td>Friday</td>\n",
       "      <td>17</td>\n",
       "      <td>4</td>\n",
       "      <td>2020</td>\n",
       "      <td>8.150000</td>\n",
       "      <td>2020 - 4 (April)</td>\n",
       "      <td>4 - Friday</td>\n",
       "    </tr>\n",
       "    <tr>\n",
       "      <th>2</th>\n",
       "      <td>5DD24A79A4E006F4</td>\n",
       "      <td>docked_bike</td>\n",
       "      <td>2020-04-01 17:54:13</td>\n",
       "      <td>2020-04-01 18:08:36</td>\n",
       "      <td>McClurg Ct &amp; Erie St</td>\n",
       "      <td>142</td>\n",
       "      <td>Indiana Ave &amp; Roosevelt Rd</td>\n",
       "      <td>255.0</td>\n",
       "      <td>41.894500</td>\n",
       "      <td>-87.617900</td>\n",
       "      <td>41.867900</td>\n",
       "      <td>-87.623000</td>\n",
       "      <td>member</td>\n",
       "      <td>Wednesday</td>\n",
       "      <td>1</td>\n",
       "      <td>4</td>\n",
       "      <td>2020</td>\n",
       "      <td>14.383333</td>\n",
       "      <td>2020 - 4 (April)</td>\n",
       "      <td>2 - Wednesday</td>\n",
       "    </tr>\n",
       "    <tr>\n",
       "      <th>3</th>\n",
       "      <td>2A59BBDF5CDBA725</td>\n",
       "      <td>docked_bike</td>\n",
       "      <td>2020-04-07 12:50:19</td>\n",
       "      <td>2020-04-07 13:02:31</td>\n",
       "      <td>California Ave &amp; Division St</td>\n",
       "      <td>216</td>\n",
       "      <td>Wood St &amp; Augusta Blvd</td>\n",
       "      <td>657.0</td>\n",
       "      <td>41.903000</td>\n",
       "      <td>-87.697500</td>\n",
       "      <td>41.899200</td>\n",
       "      <td>-87.672200</td>\n",
       "      <td>member</td>\n",
       "      <td>Tuesday</td>\n",
       "      <td>7</td>\n",
       "      <td>4</td>\n",
       "      <td>2020</td>\n",
       "      <td>12.200000</td>\n",
       "      <td>2020 - 4 (April)</td>\n",
       "      <td>1 - Tuesday</td>\n",
       "    </tr>\n",
       "    <tr>\n",
       "      <th>4</th>\n",
       "      <td>27AD306C119C6158</td>\n",
       "      <td>docked_bike</td>\n",
       "      <td>2020-04-18 10:22:59</td>\n",
       "      <td>2020-04-18 11:15:54</td>\n",
       "      <td>Rush St &amp; Hubbard St</td>\n",
       "      <td>125</td>\n",
       "      <td>Sheridan Rd &amp; Lawrence Ave</td>\n",
       "      <td>323.0</td>\n",
       "      <td>41.890200</td>\n",
       "      <td>-87.626200</td>\n",
       "      <td>41.969500</td>\n",
       "      <td>-87.654700</td>\n",
       "      <td>casual</td>\n",
       "      <td>Saturday</td>\n",
       "      <td>18</td>\n",
       "      <td>4</td>\n",
       "      <td>2020</td>\n",
       "      <td>52.916667</td>\n",
       "      <td>2020 - 4 (April)</td>\n",
       "      <td>5 - Saturday</td>\n",
       "    </tr>\n",
       "    <tr>\n",
       "      <th>...</th>\n",
       "      <td>...</td>\n",
       "      <td>...</td>\n",
       "      <td>...</td>\n",
       "      <td>...</td>\n",
       "      <td>...</td>\n",
       "      <td>...</td>\n",
       "      <td>...</td>\n",
       "      <td>...</td>\n",
       "      <td>...</td>\n",
       "      <td>...</td>\n",
       "      <td>...</td>\n",
       "      <td>...</td>\n",
       "      <td>...</td>\n",
       "      <td>...</td>\n",
       "      <td>...</td>\n",
       "      <td>...</td>\n",
       "      <td>...</td>\n",
       "      <td>...</td>\n",
       "      <td>...</td>\n",
       "      <td>...</td>\n",
       "    </tr>\n",
       "    <tr>\n",
       "      <th>228491</th>\n",
       "      <td>9397BDD14798A1BA</td>\n",
       "      <td>docked_bike</td>\n",
       "      <td>2021-03-20 14:58:56</td>\n",
       "      <td>2021-03-20 17:22:47</td>\n",
       "      <td>Michigan Ave &amp; Oak St</td>\n",
       "      <td>13042</td>\n",
       "      <td>New St &amp; Illinois St</td>\n",
       "      <td>TA1306000013</td>\n",
       "      <td>41.900960</td>\n",
       "      <td>-87.623777</td>\n",
       "      <td>41.890847</td>\n",
       "      <td>-87.618617</td>\n",
       "      <td>casual</td>\n",
       "      <td>Saturday</td>\n",
       "      <td>20</td>\n",
       "      <td>3</td>\n",
       "      <td>2021</td>\n",
       "      <td>143.850000</td>\n",
       "      <td>2021 - 3 (March)</td>\n",
       "      <td>5 - Saturday</td>\n",
       "    </tr>\n",
       "    <tr>\n",
       "      <th>228492</th>\n",
       "      <td>BBBEB8D51AAD40DA</td>\n",
       "      <td>classic_bike</td>\n",
       "      <td>2021-03-02 11:35:10</td>\n",
       "      <td>2021-03-02 11:43:37</td>\n",
       "      <td>Kingsbury St &amp; Kinzie St</td>\n",
       "      <td>KA1503000043</td>\n",
       "      <td>New St &amp; Illinois St</td>\n",
       "      <td>TA1306000013</td>\n",
       "      <td>41.889177</td>\n",
       "      <td>-87.638506</td>\n",
       "      <td>41.890847</td>\n",
       "      <td>-87.618617</td>\n",
       "      <td>member</td>\n",
       "      <td>Tuesday</td>\n",
       "      <td>2</td>\n",
       "      <td>3</td>\n",
       "      <td>2021</td>\n",
       "      <td>8.450000</td>\n",
       "      <td>2021 - 3 (March)</td>\n",
       "      <td>1 - Tuesday</td>\n",
       "    </tr>\n",
       "    <tr>\n",
       "      <th>228493</th>\n",
       "      <td>637FF754DA0BD9E1</td>\n",
       "      <td>classic_bike</td>\n",
       "      <td>2021-03-09 11:07:36</td>\n",
       "      <td>2021-03-09 11:49:11</td>\n",
       "      <td>Michigan Ave &amp; Oak St</td>\n",
       "      <td>13042</td>\n",
       "      <td>Clark St &amp; Berwyn Ave</td>\n",
       "      <td>KA1504000146</td>\n",
       "      <td>41.900960</td>\n",
       "      <td>-87.623777</td>\n",
       "      <td>41.977997</td>\n",
       "      <td>-87.668047</td>\n",
       "      <td>member</td>\n",
       "      <td>Tuesday</td>\n",
       "      <td>9</td>\n",
       "      <td>3</td>\n",
       "      <td>2021</td>\n",
       "      <td>41.583333</td>\n",
       "      <td>2021 - 3 (March)</td>\n",
       "      <td>1 - Tuesday</td>\n",
       "    </tr>\n",
       "    <tr>\n",
       "      <th>228494</th>\n",
       "      <td>F8F43A0B978A7A35</td>\n",
       "      <td>classic_bike</td>\n",
       "      <td>2021-03-01 18:11:57</td>\n",
       "      <td>2021-03-01 18:18:37</td>\n",
       "      <td>Kingsbury St &amp; Kinzie St</td>\n",
       "      <td>KA1503000043</td>\n",
       "      <td>New St &amp; Illinois St</td>\n",
       "      <td>TA1306000013</td>\n",
       "      <td>41.889177</td>\n",
       "      <td>-87.638506</td>\n",
       "      <td>41.890847</td>\n",
       "      <td>-87.618617</td>\n",
       "      <td>member</td>\n",
       "      <td>Monday</td>\n",
       "      <td>1</td>\n",
       "      <td>3</td>\n",
       "      <td>2021</td>\n",
       "      <td>6.666667</td>\n",
       "      <td>2021 - 3 (March)</td>\n",
       "      <td>0 - Monday</td>\n",
       "    </tr>\n",
       "    <tr>\n",
       "      <th>228495</th>\n",
       "      <td>3AE64EA5BF43CF72</td>\n",
       "      <td>electric_bike</td>\n",
       "      <td>2021-03-26 17:58:14</td>\n",
       "      <td>2021-03-26 18:06:43</td>\n",
       "      <td>NaN</td>\n",
       "      <td>NaN</td>\n",
       "      <td>New St &amp; Illinois St</td>\n",
       "      <td>TA1306000013</td>\n",
       "      <td>41.880000</td>\n",
       "      <td>-87.630000</td>\n",
       "      <td>41.890818</td>\n",
       "      <td>-87.619540</td>\n",
       "      <td>member</td>\n",
       "      <td>Friday</td>\n",
       "      <td>26</td>\n",
       "      <td>3</td>\n",
       "      <td>2021</td>\n",
       "      <td>8.483333</td>\n",
       "      <td>2021 - 3 (March)</td>\n",
       "      <td>4 - Friday</td>\n",
       "    </tr>\n",
       "  </tbody>\n",
       "</table>\n",
       "<p>3489539 rows × 20 columns</p>\n",
       "</div>"
      ],
      "text/plain": [
       "                 ride_id  rideable_type          started_at  \\\n",
       "0       A847FADBBC638E45    docked_bike 2020-04-26 17:45:14   \n",
       "1       5405B80E996FF60D    docked_bike 2020-04-17 17:08:54   \n",
       "2       5DD24A79A4E006F4    docked_bike 2020-04-01 17:54:13   \n",
       "3       2A59BBDF5CDBA725    docked_bike 2020-04-07 12:50:19   \n",
       "4       27AD306C119C6158    docked_bike 2020-04-18 10:22:59   \n",
       "...                  ...            ...                 ...   \n",
       "228491  9397BDD14798A1BA    docked_bike 2021-03-20 14:58:56   \n",
       "228492  BBBEB8D51AAD40DA   classic_bike 2021-03-02 11:35:10   \n",
       "228493  637FF754DA0BD9E1   classic_bike 2021-03-09 11:07:36   \n",
       "228494  F8F43A0B978A7A35   classic_bike 2021-03-01 18:11:57   \n",
       "228495  3AE64EA5BF43CF72  electric_bike 2021-03-26 17:58:14   \n",
       "\n",
       "                  ended_at            start_station_name start_station_id  \\\n",
       "0      2020-04-26 18:12:03                  Eckhart Park               86   \n",
       "1      2020-04-17 17:17:03     Drake Ave & Fullerton Ave              503   \n",
       "2      2020-04-01 18:08:36          McClurg Ct & Erie St              142   \n",
       "3      2020-04-07 13:02:31  California Ave & Division St              216   \n",
       "4      2020-04-18 11:15:54          Rush St & Hubbard St              125   \n",
       "...                    ...                           ...              ...   \n",
       "228491 2021-03-20 17:22:47         Michigan Ave & Oak St            13042   \n",
       "228492 2021-03-02 11:43:37      Kingsbury St & Kinzie St     KA1503000043   \n",
       "228493 2021-03-09 11:49:11         Michigan Ave & Oak St            13042   \n",
       "228494 2021-03-01 18:18:37      Kingsbury St & Kinzie St     KA1503000043   \n",
       "228495 2021-03-26 18:06:43                           NaN              NaN   \n",
       "\n",
       "                   end_station_name end_station_id  start_lat  start_lng  \\\n",
       "0       Lincoln Ave & Diversey Pkwy          152.0  41.896400 -87.661000   \n",
       "1                   Kosciuszko Park          499.0  41.924400 -87.715400   \n",
       "2        Indiana Ave & Roosevelt Rd          255.0  41.894500 -87.617900   \n",
       "3            Wood St & Augusta Blvd          657.0  41.903000 -87.697500   \n",
       "4        Sheridan Rd & Lawrence Ave          323.0  41.890200 -87.626200   \n",
       "...                             ...            ...        ...        ...   \n",
       "228491         New St & Illinois St   TA1306000013  41.900960 -87.623777   \n",
       "228492         New St & Illinois St   TA1306000013  41.889177 -87.638506   \n",
       "228493        Clark St & Berwyn Ave   KA1504000146  41.900960 -87.623777   \n",
       "228494         New St & Illinois St   TA1306000013  41.889177 -87.638506   \n",
       "228495         New St & Illinois St   TA1306000013  41.880000 -87.630000   \n",
       "\n",
       "          end_lat    end_lng member_casual    weekday  day  month  year  \\\n",
       "0       41.932200 -87.658600        member     Sunday   26      4  2020   \n",
       "1       41.930600 -87.723800        member     Friday   17      4  2020   \n",
       "2       41.867900 -87.623000        member  Wednesday    1      4  2020   \n",
       "3       41.899200 -87.672200        member    Tuesday    7      4  2020   \n",
       "4       41.969500 -87.654700        casual   Saturday   18      4  2020   \n",
       "...           ...        ...           ...        ...  ...    ...   ...   \n",
       "228491  41.890847 -87.618617        casual   Saturday   20      3  2021   \n",
       "228492  41.890847 -87.618617        member    Tuesday    2      3  2021   \n",
       "228493  41.977997 -87.668047        member    Tuesday    9      3  2021   \n",
       "228494  41.890847 -87.618617        member     Monday    1      3  2021   \n",
       "228495  41.890818 -87.619540        member     Friday   26      3  2021   \n",
       "\n",
       "        ride_length_s        year_month dayofweek_weekday  \n",
       "0           26.816667  2020 - 4 (April)        6 - Sunday  \n",
       "1            8.150000  2020 - 4 (April)        4 - Friday  \n",
       "2           14.383333  2020 - 4 (April)     2 - Wednesday  \n",
       "3           12.200000  2020 - 4 (April)       1 - Tuesday  \n",
       "4           52.916667  2020 - 4 (April)      5 - Saturday  \n",
       "...               ...               ...               ...  \n",
       "228491     143.850000  2021 - 3 (March)      5 - Saturday  \n",
       "228492       8.450000  2021 - 3 (March)       1 - Tuesday  \n",
       "228493      41.583333  2021 - 3 (March)       1 - Tuesday  \n",
       "228494       6.666667  2021 - 3 (March)        0 - Monday  \n",
       "228495       8.483333  2021 - 3 (March)        4 - Friday  \n",
       "\n",
       "[3489539 rows x 20 columns]"
      ]
     },
     "execution_count": 35,
     "metadata": {},
     "output_type": "execute_result"
    }
   ],
   "source": [
    "# Watch my data again\n",
    "\n",
    "tripdataV1\n",
    "\n"
   ]
  },
  {
   "cell_type": "markdown",
   "id": "8c5f3fd5",
   "metadata": {
    "papermill": {
     "duration": 0.019089,
     "end_time": "2022-06-11T04:10:44.530901",
     "exception": false,
     "start_time": "2022-06-11T04:10:44.511812",
     "status": "completed"
    },
    "tags": []
   },
   "source": [
    "## Converting and Saving to a CSV file format"
   ]
  },
  {
   "cell_type": "markdown",
   "id": "d65e1f03",
   "metadata": {
    "papermill": {
     "duration": 0.018736,
     "end_time": "2022-06-11T04:10:44.568409",
     "exception": false,
     "start_time": "2022-06-11T04:10:44.549673",
     "status": "completed"
    },
    "tags": []
   },
   "source": [
    "**Now we are going to save the last version of our dataset and also export it into a CSV file.**\n",
    "\n",
    "**It is cleaned now so, will be good to have it cleaned as a CSV**"
   ]
  },
  {
   "cell_type": "code",
   "execution_count": 36,
   "id": "be390679",
   "metadata": {
    "execution": {
     "iopub.execute_input": "2022-06-11T04:10:44.607173Z",
     "iopub.status.busy": "2022-06-11T04:10:44.606801Z",
     "iopub.status.idle": "2022-06-11T04:10:44.611596Z",
     "shell.execute_reply": "2022-06-11T04:10:44.610513Z"
    },
    "papermill": {
     "duration": 0.026529,
     "end_time": "2022-06-11T04:10:44.613626",
     "exception": false,
     "start_time": "2022-06-11T04:10:44.587097",
     "status": "completed"
    },
    "tags": []
   },
   "outputs": [],
   "source": [
    "tripdataV2 = tripdataV1\n"
   ]
  },
  {
   "cell_type": "markdown",
   "id": "39c03bfd",
   "metadata": {
    "papermill": {
     "duration": 0.018155,
     "end_time": "2022-06-11T04:10:44.650100",
     "exception": false,
     "start_time": "2022-06-11T04:10:44.631945",
     "status": "completed"
    },
    "tags": []
   },
   "source": []
  },
  {
   "cell_type": "code",
   "execution_count": 37,
   "id": "5af83e48",
   "metadata": {
    "execution": {
     "iopub.execute_input": "2022-06-11T04:10:44.688700Z",
     "iopub.status.busy": "2022-06-11T04:10:44.688302Z",
     "iopub.status.idle": "2022-06-11T04:11:36.128843Z",
     "shell.execute_reply": "2022-06-11T04:11:36.128079Z"
    },
    "papermill": {
     "duration": 51.462762,
     "end_time": "2022-06-11T04:11:36.131375",
     "exception": false,
     "start_time": "2022-06-11T04:10:44.668613",
     "status": "completed"
    },
    "tags": []
   },
   "outputs": [],
   "source": [
    "# df.to_csv(\"your_name.csv\")\n",
    "\n",
    "tripdataV2.to_csv(\"tripdata_clean.csv\")\n"
   ]
  },
  {
   "cell_type": "markdown",
   "id": "dd7a3edb",
   "metadata": {
    "execution": {
     "iopub.execute_input": "2022-06-09T03:44:53.465375Z",
     "iopub.status.busy": "2022-06-09T03:44:53.46496Z",
     "iopub.status.idle": "2022-06-09T03:44:53.480744Z",
     "shell.execute_reply": "2022-06-09T03:44:53.480066Z",
     "shell.execute_reply.started": "2022-06-09T03:44:53.465342Z"
    },
    "papermill": {
     "duration": 0.027256,
     "end_time": "2022-06-11T04:11:36.181620",
     "exception": false,
     "start_time": "2022-06-11T04:11:36.154364",
     "status": "completed"
    },
    "tags": []
   },
   "source": [
    "# Analyze Process"
   ]
  },
  {
   "cell_type": "markdown",
   "id": "2d590953",
   "metadata": {
    "papermill": {
     "duration": 0.018524,
     "end_time": "2022-06-11T04:11:36.230394",
     "exception": false,
     "start_time": "2022-06-11T04:11:36.211870",
     "status": "completed"
    },
    "tags": []
   },
   "source": [
    "## Descriptive analysis"
   ]
  },
  {
   "cell_type": "markdown",
   "id": "b549ad48",
   "metadata": {
    "papermill": {
     "duration": 0.021717,
     "end_time": "2022-06-11T04:11:36.271128",
     "exception": false,
     "start_time": "2022-06-11T04:11:36.249411",
     "status": "completed"
    },
    "tags": []
   },
   "source": [
    "**Now we are going to have a deep qualitative and quantintative dept of our data**"
   ]
  },
  {
   "cell_type": "code",
   "execution_count": 38,
   "id": "652d6811",
   "metadata": {
    "execution": {
     "iopub.execute_input": "2022-06-11T04:11:36.319814Z",
     "iopub.status.busy": "2022-06-11T04:11:36.319323Z",
     "iopub.status.idle": "2022-06-11T04:11:36.494746Z",
     "shell.execute_reply": "2022-06-11T04:11:36.493794Z"
    },
    "papermill": {
     "duration": 0.199513,
     "end_time": "2022-06-11T04:11:36.496945",
     "exception": false,
     "start_time": "2022-06-11T04:11:36.297432",
     "status": "completed"
    },
    "tags": []
   },
   "outputs": [
    {
     "data": {
      "text/plain": [
       "count    3.489539e+06\n",
       "mean     2.855945e+01\n",
       "std      9.031763e+01\n",
       "min      0.000000e+00\n",
       "25%      7.950000e+00\n",
       "50%      1.461667e+01\n",
       "75%      2.683333e+01\n",
       "max      1.439983e+03\n",
       "Name: ride_length_s, dtype: float64"
      ]
     },
     "execution_count": 38,
     "metadata": {},
     "output_type": "execute_result"
    }
   ],
   "source": [
    "# Checking the description of the ride_length_s\n",
    "\n",
    "tripdataV2[\"ride_length_s\"].describe()\n"
   ]
  },
  {
   "cell_type": "code",
   "execution_count": 39,
   "id": "f0dc6e82",
   "metadata": {
    "execution": {
     "iopub.execute_input": "2022-06-11T04:11:36.537358Z",
     "iopub.status.busy": "2022-06-11T04:11:36.536422Z",
     "iopub.status.idle": "2022-06-11T04:11:36.546989Z",
     "shell.execute_reply": "2022-06-11T04:11:36.546076Z"
    },
    "papermill": {
     "duration": 0.033107,
     "end_time": "2022-06-11T04:11:36.549027",
     "exception": false,
     "start_time": "2022-06-11T04:11:36.515920",
     "status": "completed"
    },
    "tags": []
   },
   "outputs": [
    {
     "name": "stdout",
     "output_type": "stream",
     "text": [
      "<class 'pandas.core.frame.DataFrame'>\n",
      "Int64Index: 3489539 entries, 0 to 228495\n",
      "Data columns (total 20 columns):\n",
      " #   Column              Dtype         \n",
      "---  ------              -----         \n",
      " 0   ride_id             object        \n",
      " 1   rideable_type       object        \n",
      " 2   started_at          datetime64[ns]\n",
      " 3   ended_at            datetime64[ns]\n",
      " 4   start_station_name  object        \n",
      " 5   start_station_id    object        \n",
      " 6   end_station_name    object        \n",
      " 7   end_station_id      object        \n",
      " 8   start_lat           float64       \n",
      " 9   start_lng           float64       \n",
      " 10  end_lat             float64       \n",
      " 11  end_lng             float64       \n",
      " 12  member_casual       object        \n",
      " 13  weekday             object        \n",
      " 14  day                 int64         \n",
      " 15  month               int64         \n",
      " 16  year                int64         \n",
      " 17  ride_length_s       float64       \n",
      " 18  year_month          object        \n",
      " 19  dayofweek_weekday   object        \n",
      "dtypes: datetime64[ns](2), float64(5), int64(3), object(10)\n",
      "memory usage: 559.1+ MB\n"
     ]
    }
   ],
   "source": [
    "\n",
    "tripdataV2.info()\n"
   ]
  },
  {
   "cell_type": "code",
   "execution_count": 40,
   "id": "eca36d25",
   "metadata": {
    "execution": {
     "iopub.execute_input": "2022-06-11T04:11:36.588934Z",
     "iopub.status.busy": "2022-06-11T04:11:36.588257Z",
     "iopub.status.idle": "2022-06-11T04:11:39.427548Z",
     "shell.execute_reply": "2022-06-11T04:11:39.426645Z"
    },
    "papermill": {
     "duration": 2.861453,
     "end_time": "2022-06-11T04:11:39.429629",
     "exception": false,
     "start_time": "2022-06-11T04:11:36.568176",
     "status": "completed"
    },
    "tags": []
   },
   "outputs": [
    {
     "data": {
      "text/html": [
       "<div>\n",
       "<style scoped>\n",
       "    .dataframe tbody tr th:only-of-type {\n",
       "        vertical-align: middle;\n",
       "    }\n",
       "\n",
       "    .dataframe tbody tr th {\n",
       "        vertical-align: top;\n",
       "    }\n",
       "\n",
       "    .dataframe thead th {\n",
       "        text-align: right;\n",
       "    }\n",
       "</style>\n",
       "<table border=\"1\" class=\"dataframe\">\n",
       "  <thead>\n",
       "    <tr style=\"text-align: right;\">\n",
       "      <th></th>\n",
       "      <th>start_lat</th>\n",
       "      <th>start_lng</th>\n",
       "      <th>end_lat</th>\n",
       "      <th>end_lng</th>\n",
       "      <th>day</th>\n",
       "      <th>month</th>\n",
       "      <th>year</th>\n",
       "      <th>ride_length_s</th>\n",
       "    </tr>\n",
       "  </thead>\n",
       "  <tbody>\n",
       "    <tr>\n",
       "      <th>count</th>\n",
       "      <td>3.489539e+06</td>\n",
       "      <td>3.489539e+06</td>\n",
       "      <td>3.484802e+06</td>\n",
       "      <td>3.484802e+06</td>\n",
       "      <td>3.489539e+06</td>\n",
       "      <td>3.489539e+06</td>\n",
       "      <td>3.489539e+06</td>\n",
       "      <td>3.489539e+06</td>\n",
       "    </tr>\n",
       "    <tr>\n",
       "      <th>mean</th>\n",
       "      <td>4.190417e+01</td>\n",
       "      <td>-8.764494e+01</td>\n",
       "      <td>4.190444e+01</td>\n",
       "      <td>-8.764522e+01</td>\n",
       "      <td>1.586048e+01</td>\n",
       "      <td>7.518390e+00</td>\n",
       "      <td>2.020107e+03</td>\n",
       "      <td>2.855945e+01</td>\n",
       "    </tr>\n",
       "    <tr>\n",
       "      <th>std</th>\n",
       "      <td>4.364222e-02</td>\n",
       "      <td>2.575990e-02</td>\n",
       "      <td>4.373714e-02</td>\n",
       "      <td>2.589148e-02</td>\n",
       "      <td>8.763003e+00</td>\n",
       "      <td>2.569745e+00</td>\n",
       "      <td>3.096849e-01</td>\n",
       "      <td>9.031763e+01</td>\n",
       "    </tr>\n",
       "    <tr>\n",
       "      <th>min</th>\n",
       "      <td>4.164000e+01</td>\n",
       "      <td>-8.787000e+01</td>\n",
       "      <td>4.154000e+01</td>\n",
       "      <td>-8.807000e+01</td>\n",
       "      <td>1.000000e+00</td>\n",
       "      <td>1.000000e+00</td>\n",
       "      <td>2.020000e+03</td>\n",
       "      <td>0.000000e+00</td>\n",
       "    </tr>\n",
       "    <tr>\n",
       "      <th>25%</th>\n",
       "      <td>4.188224e+01</td>\n",
       "      <td>-8.765888e+01</td>\n",
       "      <td>4.188266e+01</td>\n",
       "      <td>-8.765917e+01</td>\n",
       "      <td>8.000000e+00</td>\n",
       "      <td>6.000000e+00</td>\n",
       "      <td>2.020000e+03</td>\n",
       "      <td>7.950000e+00</td>\n",
       "    </tr>\n",
       "    <tr>\n",
       "      <th>50%</th>\n",
       "      <td>4.190000e+01</td>\n",
       "      <td>-8.764170e+01</td>\n",
       "      <td>4.190068e+01</td>\n",
       "      <td>-8.764275e+01</td>\n",
       "      <td>1.600000e+01</td>\n",
       "      <td>8.000000e+00</td>\n",
       "      <td>2.020000e+03</td>\n",
       "      <td>1.461667e+01</td>\n",
       "    </tr>\n",
       "    <tr>\n",
       "      <th>75%</th>\n",
       "      <td>4.193000e+01</td>\n",
       "      <td>-8.762773e+01</td>\n",
       "      <td>4.193120e+01</td>\n",
       "      <td>-8.762775e+01</td>\n",
       "      <td>2.300000e+01</td>\n",
       "      <td>9.000000e+00</td>\n",
       "      <td>2.020000e+03</td>\n",
       "      <td>2.683333e+01</td>\n",
       "    </tr>\n",
       "    <tr>\n",
       "      <th>max</th>\n",
       "      <td>4.208000e+01</td>\n",
       "      <td>-8.752000e+01</td>\n",
       "      <td>4.216000e+01</td>\n",
       "      <td>-8.744000e+01</td>\n",
       "      <td>3.100000e+01</td>\n",
       "      <td>1.200000e+01</td>\n",
       "      <td>2.021000e+03</td>\n",
       "      <td>1.439983e+03</td>\n",
       "    </tr>\n",
       "  </tbody>\n",
       "</table>\n",
       "</div>"
      ],
      "text/plain": [
       "          start_lat     start_lng       end_lat       end_lng           day  \\\n",
       "count  3.489539e+06  3.489539e+06  3.484802e+06  3.484802e+06  3.489539e+06   \n",
       "mean   4.190417e+01 -8.764494e+01  4.190444e+01 -8.764522e+01  1.586048e+01   \n",
       "std    4.364222e-02  2.575990e-02  4.373714e-02  2.589148e-02  8.763003e+00   \n",
       "min    4.164000e+01 -8.787000e+01  4.154000e+01 -8.807000e+01  1.000000e+00   \n",
       "25%    4.188224e+01 -8.765888e+01  4.188266e+01 -8.765917e+01  8.000000e+00   \n",
       "50%    4.190000e+01 -8.764170e+01  4.190068e+01 -8.764275e+01  1.600000e+01   \n",
       "75%    4.193000e+01 -8.762773e+01  4.193120e+01 -8.762775e+01  2.300000e+01   \n",
       "max    4.208000e+01 -8.752000e+01  4.216000e+01 -8.744000e+01  3.100000e+01   \n",
       "\n",
       "              month          year  ride_length_s  \n",
       "count  3.489539e+06  3.489539e+06   3.489539e+06  \n",
       "mean   7.518390e+00  2.020107e+03   2.855945e+01  \n",
       "std    2.569745e+00  3.096849e-01   9.031763e+01  \n",
       "min    1.000000e+00  2.020000e+03   0.000000e+00  \n",
       "25%    6.000000e+00  2.020000e+03   7.950000e+00  \n",
       "50%    8.000000e+00  2.020000e+03   1.461667e+01  \n",
       "75%    9.000000e+00  2.020000e+03   2.683333e+01  \n",
       "max    1.200000e+01  2.021000e+03   1.439983e+03  "
      ]
     },
     "execution_count": 40,
     "metadata": {},
     "output_type": "execute_result"
    }
   ],
   "source": [
    "# a closer view to my numeric data\n",
    "\n",
    "tripdataV2.describe()"
   ]
  },
  {
   "cell_type": "markdown",
   "id": "284e924b",
   "metadata": {
    "papermill": {
     "duration": 0.018531,
     "end_time": "2022-06-11T04:11:39.467081",
     "exception": false,
     "start_time": "2022-06-11T04:11:39.448550",
     "status": "completed"
    },
    "tags": []
   },
   "source": [
    "## Analyze the key differences between members and casuals\n",
    "\n",
    "**Now we are going to analyze the members and casuals ride_length_s**"
   ]
  },
  {
   "cell_type": "markdown",
   "id": "23f4acb9",
   "metadata": {
    "papermill": {
     "duration": 0.018405,
     "end_time": "2022-06-11T04:11:39.504218",
     "exception": false,
     "start_time": "2022-06-11T04:11:39.485813",
     "status": "completed"
    },
    "tags": []
   },
   "source": []
  },
  {
   "cell_type": "code",
   "execution_count": 41,
   "id": "c0eac62a",
   "metadata": {
    "execution": {
     "iopub.execute_input": "2022-06-11T04:11:39.543738Z",
     "iopub.status.busy": "2022-06-11T04:11:39.543060Z",
     "iopub.status.idle": "2022-06-11T04:11:40.437973Z",
     "shell.execute_reply": "2022-06-11T04:11:40.437023Z"
    },
    "papermill": {
     "duration": 0.917124,
     "end_time": "2022-06-11T04:11:40.440143",
     "exception": false,
     "start_time": "2022-06-11T04:11:39.523019",
     "status": "completed"
    },
    "tags": []
   },
   "outputs": [
    {
     "data": {
      "text/html": [
       "<div>\n",
       "<style scoped>\n",
       "    .dataframe tbody tr th:only-of-type {\n",
       "        vertical-align: middle;\n",
       "    }\n",
       "\n",
       "    .dataframe tbody tr th {\n",
       "        vertical-align: top;\n",
       "    }\n",
       "\n",
       "    .dataframe thead th {\n",
       "        text-align: right;\n",
       "    }\n",
       "</style>\n",
       "<table border=\"1\" class=\"dataframe\">\n",
       "  <thead>\n",
       "    <tr style=\"text-align: right;\">\n",
       "      <th></th>\n",
       "      <th>start_lat</th>\n",
       "      <th>start_lng</th>\n",
       "      <th>end_lat</th>\n",
       "      <th>end_lng</th>\n",
       "      <th>day</th>\n",
       "      <th>month</th>\n",
       "      <th>year</th>\n",
       "      <th>ride_length_s</th>\n",
       "    </tr>\n",
       "    <tr>\n",
       "      <th>member_casual</th>\n",
       "      <th></th>\n",
       "      <th></th>\n",
       "      <th></th>\n",
       "      <th></th>\n",
       "      <th></th>\n",
       "      <th></th>\n",
       "      <th></th>\n",
       "      <th></th>\n",
       "    </tr>\n",
       "  </thead>\n",
       "  <tbody>\n",
       "    <tr>\n",
       "      <th>casual</th>\n",
       "      <td>5.993541e+07</td>\n",
       "      <td>-1.253602e+08</td>\n",
       "      <td>5.984433e+07</td>\n",
       "      <td>-1.251690e+08</td>\n",
       "      <td>22741159</td>\n",
       "      <td>10806300</td>\n",
       "      <td>2889421301</td>\n",
       "      <td>5.746084e+07</td>\n",
       "    </tr>\n",
       "    <tr>\n",
       "      <th>member</th>\n",
       "      <td>8.629083e+07</td>\n",
       "      <td>-1.804802e+08</td>\n",
       "      <td>8.618433e+07</td>\n",
       "      <td>-1.802572e+08</td>\n",
       "      <td>32604609</td>\n",
       "      <td>15429414</td>\n",
       "      <td>4159822431</td>\n",
       "      <td>4.219847e+07</td>\n",
       "    </tr>\n",
       "  </tbody>\n",
       "</table>\n",
       "</div>"
      ],
      "text/plain": [
       "                  start_lat     start_lng       end_lat       end_lng  \\\n",
       "member_casual                                                           \n",
       "casual         5.993541e+07 -1.253602e+08  5.984433e+07 -1.251690e+08   \n",
       "member         8.629083e+07 -1.804802e+08  8.618433e+07 -1.802572e+08   \n",
       "\n",
       "                    day     month        year  ride_length_s  \n",
       "member_casual                                                 \n",
       "casual         22741159  10806300  2889421301   5.746084e+07  \n",
       "member         32604609  15429414  4159822431   4.219847e+07  "
      ]
     },
     "execution_count": 41,
     "metadata": {},
     "output_type": "execute_result"
    }
   ],
   "source": [
    "\n",
    "\n",
    "\n",
    "tripdataV2.groupby(\"member_casual\").sum()\n"
   ]
  },
  {
   "cell_type": "code",
   "execution_count": null,
   "id": "6059f409",
   "metadata": {
    "papermill": {
     "duration": 0.018824,
     "end_time": "2022-06-11T04:11:40.478177",
     "exception": false,
     "start_time": "2022-06-11T04:11:40.459353",
     "status": "completed"
    },
    "tags": []
   },
   "outputs": [],
   "source": []
  },
  {
   "cell_type": "markdown",
   "id": "742b2cd9",
   "metadata": {
    "papermill": {
     "duration": 0.018888,
     "end_time": "2022-06-11T04:11:40.516057",
     "exception": false,
     "start_time": "2022-06-11T04:11:40.497169",
     "status": "completed"
    },
    "tags": []
   },
   "source": [
    "* **We have to create another dataframe to that we are going to call compare_ride_length**\n",
    "\n",
    "**With this dataframe we are going to compare the differences between member and casuals by ride length in seconds**"
   ]
  },
  {
   "cell_type": "code",
   "execution_count": 42,
   "id": "8fe68f78",
   "metadata": {
    "execution": {
     "iopub.execute_input": "2022-06-11T04:11:40.555399Z",
     "iopub.status.busy": "2022-06-11T04:11:40.555012Z",
     "iopub.status.idle": "2022-06-11T04:11:40.588994Z",
     "shell.execute_reply": "2022-06-11T04:11:40.587950Z"
    },
    "papermill": {
     "duration": 0.056265,
     "end_time": "2022-06-11T04:11:40.591212",
     "exception": false,
     "start_time": "2022-06-11T04:11:40.534947",
     "status": "completed"
    },
    "tags": []
   },
   "outputs": [
    {
     "data": {
      "text/html": [
       "<div>\n",
       "<style scoped>\n",
       "    .dataframe tbody tr th:only-of-type {\n",
       "        vertical-align: middle;\n",
       "    }\n",
       "\n",
       "    .dataframe tbody tr th {\n",
       "        vertical-align: top;\n",
       "    }\n",
       "\n",
       "    .dataframe thead th {\n",
       "        text-align: right;\n",
       "    }\n",
       "</style>\n",
       "<table border=\"1\" class=\"dataframe\">\n",
       "  <thead>\n",
       "    <tr style=\"text-align: right;\">\n",
       "      <th></th>\n",
       "      <th>member_casual</th>\n",
       "      <th>ride_length_s</th>\n",
       "    </tr>\n",
       "  </thead>\n",
       "  <tbody>\n",
       "    <tr>\n",
       "      <th>0</th>\n",
       "      <td>member</td>\n",
       "      <td>26.816667</td>\n",
       "    </tr>\n",
       "    <tr>\n",
       "      <th>1</th>\n",
       "      <td>member</td>\n",
       "      <td>8.150000</td>\n",
       "    </tr>\n",
       "    <tr>\n",
       "      <th>2</th>\n",
       "      <td>member</td>\n",
       "      <td>14.383333</td>\n",
       "    </tr>\n",
       "    <tr>\n",
       "      <th>3</th>\n",
       "      <td>member</td>\n",
       "      <td>12.200000</td>\n",
       "    </tr>\n",
       "    <tr>\n",
       "      <th>4</th>\n",
       "      <td>casual</td>\n",
       "      <td>52.916667</td>\n",
       "    </tr>\n",
       "    <tr>\n",
       "      <th>...</th>\n",
       "      <td>...</td>\n",
       "      <td>...</td>\n",
       "    </tr>\n",
       "    <tr>\n",
       "      <th>228491</th>\n",
       "      <td>casual</td>\n",
       "      <td>143.850000</td>\n",
       "    </tr>\n",
       "    <tr>\n",
       "      <th>228492</th>\n",
       "      <td>member</td>\n",
       "      <td>8.450000</td>\n",
       "    </tr>\n",
       "    <tr>\n",
       "      <th>228493</th>\n",
       "      <td>member</td>\n",
       "      <td>41.583333</td>\n",
       "    </tr>\n",
       "    <tr>\n",
       "      <th>228494</th>\n",
       "      <td>member</td>\n",
       "      <td>6.666667</td>\n",
       "    </tr>\n",
       "    <tr>\n",
       "      <th>228495</th>\n",
       "      <td>member</td>\n",
       "      <td>8.483333</td>\n",
       "    </tr>\n",
       "  </tbody>\n",
       "</table>\n",
       "<p>3489539 rows × 2 columns</p>\n",
       "</div>"
      ],
      "text/plain": [
       "       member_casual  ride_length_s\n",
       "0             member      26.816667\n",
       "1             member       8.150000\n",
       "2             member      14.383333\n",
       "3             member      12.200000\n",
       "4             casual      52.916667\n",
       "...              ...            ...\n",
       "228491        casual     143.850000\n",
       "228492        member       8.450000\n",
       "228493        member      41.583333\n",
       "228494        member       6.666667\n",
       "228495        member       8.483333\n",
       "\n",
       "[3489539 rows x 2 columns]"
      ]
     },
     "execution_count": 42,
     "metadata": {},
     "output_type": "execute_result"
    }
   ],
   "source": [
    "# Comparison between member and casuals by ride_length_s\n",
    "\n",
    "\n",
    "compare_ride_length = pd.DataFrame({'member_casual': tripdataV2[\"member_casual\"],\n",
    "                   'ride_length_s': tripdataV2[\"ride_length_s\"]})\n",
    "\n",
    "compare_ride_length"
   ]
  },
  {
   "cell_type": "markdown",
   "id": "5effe778",
   "metadata": {
    "papermill": {
     "duration": 0.019722,
     "end_time": "2022-06-11T04:11:40.630371",
     "exception": false,
     "start_time": "2022-06-11T04:11:40.610649",
     "status": "completed"
    },
    "tags": []
   },
   "source": [
    "**After create the dataframe we can use the describe function to see the differences between members and casuals**"
   ]
  },
  {
   "cell_type": "code",
   "execution_count": 43,
   "id": "e9110da9",
   "metadata": {
    "execution": {
     "iopub.execute_input": "2022-06-11T04:11:40.670819Z",
     "iopub.status.busy": "2022-06-11T04:11:40.670319Z",
     "iopub.status.idle": "2022-06-11T04:11:41.172421Z",
     "shell.execute_reply": "2022-06-11T04:11:41.171273Z"
    },
    "papermill": {
     "duration": 0.524939,
     "end_time": "2022-06-11T04:11:41.174633",
     "exception": false,
     "start_time": "2022-06-11T04:11:40.649694",
     "status": "completed"
    },
    "tags": []
   },
   "outputs": [
    {
     "data": {
      "text/html": [
       "<div>\n",
       "<style scoped>\n",
       "    .dataframe tbody tr th:only-of-type {\n",
       "        vertical-align: middle;\n",
       "    }\n",
       "\n",
       "    .dataframe tbody tr th {\n",
       "        vertical-align: top;\n",
       "    }\n",
       "\n",
       "    .dataframe thead tr th {\n",
       "        text-align: left;\n",
       "    }\n",
       "\n",
       "    .dataframe thead tr:last-of-type th {\n",
       "        text-align: right;\n",
       "    }\n",
       "</style>\n",
       "<table border=\"1\" class=\"dataframe\">\n",
       "  <thead>\n",
       "    <tr>\n",
       "      <th></th>\n",
       "      <th colspan=\"8\" halign=\"left\">ride_length_s</th>\n",
       "    </tr>\n",
       "    <tr>\n",
       "      <th></th>\n",
       "      <th>count</th>\n",
       "      <th>mean</th>\n",
       "      <th>std</th>\n",
       "      <th>min</th>\n",
       "      <th>25%</th>\n",
       "      <th>50%</th>\n",
       "      <th>75%</th>\n",
       "      <th>max</th>\n",
       "    </tr>\n",
       "    <tr>\n",
       "      <th>member_casual</th>\n",
       "      <th></th>\n",
       "      <th></th>\n",
       "      <th></th>\n",
       "      <th></th>\n",
       "      <th></th>\n",
       "      <th></th>\n",
       "      <th></th>\n",
       "      <th></th>\n",
       "    </tr>\n",
       "  </thead>\n",
       "  <tbody>\n",
       "    <tr>\n",
       "      <th>casual</th>\n",
       "      <td>1430351.0</td>\n",
       "      <td>40.172548</td>\n",
       "      <td>94.778521</td>\n",
       "      <td>0.0</td>\n",
       "      <td>11.583333</td>\n",
       "      <td>21.266667</td>\n",
       "      <td>40.450000</td>\n",
       "      <td>1439.983333</td>\n",
       "    </tr>\n",
       "    <tr>\n",
       "      <th>member</th>\n",
       "      <td>2059188.0</td>\n",
       "      <td>20.492773</td>\n",
       "      <td>86.168355</td>\n",
       "      <td>0.0</td>\n",
       "      <td>6.533333</td>\n",
       "      <td>11.533333</td>\n",
       "      <td>20.233333</td>\n",
       "      <td>1439.983333</td>\n",
       "    </tr>\n",
       "  </tbody>\n",
       "</table>\n",
       "</div>"
      ],
      "text/plain": [
       "              ride_length_s                                                   \\\n",
       "                      count       mean        std  min        25%        50%   \n",
       "member_casual                                                                  \n",
       "casual            1430351.0  40.172548  94.778521  0.0  11.583333  21.266667   \n",
       "member            2059188.0  20.492773  86.168355  0.0   6.533333  11.533333   \n",
       "\n",
       "                                       \n",
       "                     75%          max  \n",
       "member_casual                          \n",
       "casual         40.450000  1439.983333  \n",
       "member         20.233333  1439.983333  "
      ]
     },
     "execution_count": 43,
     "metadata": {},
     "output_type": "execute_result"
    }
   ],
   "source": [
    "compare_ride_length.groupby(\"member_casual\").describe()\n"
   ]
  },
  {
   "cell_type": "markdown",
   "id": "60f7bf28",
   "metadata": {
    "papermill": {
     "duration": 0.021116,
     "end_time": "2022-06-11T04:11:41.215239",
     "exception": false,
     "start_time": "2022-06-11T04:11:41.194123",
     "status": "completed"
    },
    "tags": []
   },
   "source": [
    "* **We have to do another separeted comparison because the describe function don't show this to us.**\n",
    "* **We will use the sum function to see the total length did between members and casuals**"
   ]
  },
  {
   "cell_type": "code",
   "execution_count": 44,
   "id": "d6841d2b",
   "metadata": {
    "execution": {
     "iopub.execute_input": "2022-06-11T04:11:41.255827Z",
     "iopub.status.busy": "2022-06-11T04:11:41.255467Z",
     "iopub.status.idle": "2022-06-11T04:11:41.541173Z",
     "shell.execute_reply": "2022-06-11T04:11:41.540223Z"
    },
    "papermill": {
     "duration": 0.308682,
     "end_time": "2022-06-11T04:11:41.543332",
     "exception": false,
     "start_time": "2022-06-11T04:11:41.234650",
     "status": "completed"
    },
    "tags": []
   },
   "outputs": [
    {
     "data": {
      "text/html": [
       "<div>\n",
       "<style scoped>\n",
       "    .dataframe tbody tr th:only-of-type {\n",
       "        vertical-align: middle;\n",
       "    }\n",
       "\n",
       "    .dataframe tbody tr th {\n",
       "        vertical-align: top;\n",
       "    }\n",
       "\n",
       "    .dataframe thead th {\n",
       "        text-align: right;\n",
       "    }\n",
       "</style>\n",
       "<table border=\"1\" class=\"dataframe\">\n",
       "  <thead>\n",
       "    <tr style=\"text-align: right;\">\n",
       "      <th></th>\n",
       "      <th>ride_length_s</th>\n",
       "    </tr>\n",
       "    <tr>\n",
       "      <th>member_casual</th>\n",
       "      <th></th>\n",
       "    </tr>\n",
       "  </thead>\n",
       "  <tbody>\n",
       "    <tr>\n",
       "      <th>casual</th>\n",
       "      <td>21.266667</td>\n",
       "    </tr>\n",
       "    <tr>\n",
       "      <th>member</th>\n",
       "      <td>11.533333</td>\n",
       "    </tr>\n",
       "  </tbody>\n",
       "</table>\n",
       "</div>"
      ],
      "text/plain": [
       "               ride_length_s\n",
       "member_casual               \n",
       "casual             21.266667\n",
       "member             11.533333"
      ]
     },
     "execution_count": 44,
     "metadata": {},
     "output_type": "execute_result"
    }
   ],
   "source": [
    "# Using the sum function to see the median length between members and casulas\n",
    "\n",
    "compare_ride_length.groupby(\"member_casual\").median()\n"
   ]
  },
  {
   "cell_type": "code",
   "execution_count": 45,
   "id": "4931c31a",
   "metadata": {
    "execution": {
     "iopub.execute_input": "2022-06-11T04:11:41.585136Z",
     "iopub.status.busy": "2022-06-11T04:11:41.584263Z",
     "iopub.status.idle": "2022-06-11T04:11:42.099483Z",
     "shell.execute_reply": "2022-06-11T04:11:42.098610Z"
    },
    "papermill": {
     "duration": 0.538087,
     "end_time": "2022-06-11T04:11:42.101609",
     "exception": false,
     "start_time": "2022-06-11T04:11:41.563522",
     "status": "completed"
    },
    "tags": []
   },
   "outputs": [
    {
     "data": {
      "text/html": [
       "<div>\n",
       "<style scoped>\n",
       "    .dataframe tbody tr th:only-of-type {\n",
       "        vertical-align: middle;\n",
       "    }\n",
       "\n",
       "    .dataframe tbody tr th {\n",
       "        vertical-align: top;\n",
       "    }\n",
       "\n",
       "    .dataframe thead tr th {\n",
       "        text-align: left;\n",
       "    }\n",
       "\n",
       "    .dataframe thead tr:last-of-type th {\n",
       "        text-align: right;\n",
       "    }\n",
       "</style>\n",
       "<table border=\"1\" class=\"dataframe\">\n",
       "  <thead>\n",
       "    <tr>\n",
       "      <th></th>\n",
       "      <th colspan=\"8\" halign=\"left\">ride_length_s</th>\n",
       "    </tr>\n",
       "    <tr>\n",
       "      <th></th>\n",
       "      <th>count</th>\n",
       "      <th>mean</th>\n",
       "      <th>std</th>\n",
       "      <th>min</th>\n",
       "      <th>25%</th>\n",
       "      <th>50%</th>\n",
       "      <th>75%</th>\n",
       "      <th>max</th>\n",
       "    </tr>\n",
       "    <tr>\n",
       "      <th>member_casual</th>\n",
       "      <th></th>\n",
       "      <th></th>\n",
       "      <th></th>\n",
       "      <th></th>\n",
       "      <th></th>\n",
       "      <th></th>\n",
       "      <th></th>\n",
       "      <th></th>\n",
       "    </tr>\n",
       "  </thead>\n",
       "  <tbody>\n",
       "    <tr>\n",
       "      <th>casual</th>\n",
       "      <td>1430351.0</td>\n",
       "      <td>40.172548</td>\n",
       "      <td>94.778521</td>\n",
       "      <td>0.0</td>\n",
       "      <td>11.583333</td>\n",
       "      <td>21.266667</td>\n",
       "      <td>40.450000</td>\n",
       "      <td>1439.983333</td>\n",
       "    </tr>\n",
       "    <tr>\n",
       "      <th>member</th>\n",
       "      <td>2059188.0</td>\n",
       "      <td>20.492773</td>\n",
       "      <td>86.168355</td>\n",
       "      <td>0.0</td>\n",
       "      <td>6.533333</td>\n",
       "      <td>11.533333</td>\n",
       "      <td>20.233333</td>\n",
       "      <td>1439.983333</td>\n",
       "    </tr>\n",
       "  </tbody>\n",
       "</table>\n",
       "</div>"
      ],
      "text/plain": [
       "              ride_length_s                                                   \\\n",
       "                      count       mean        std  min        25%        50%   \n",
       "member_casual                                                                  \n",
       "casual            1430351.0  40.172548  94.778521  0.0  11.583333  21.266667   \n",
       "member            2059188.0  20.492773  86.168355  0.0   6.533333  11.533333   \n",
       "\n",
       "                                       \n",
       "                     75%          max  \n",
       "member_casual                          \n",
       "casual         40.450000  1439.983333  \n",
       "member         20.233333  1439.983333  "
      ]
     },
     "execution_count": 45,
     "metadata": {},
     "output_type": "execute_result"
    }
   ],
   "source": [
    "compare_ride_length.groupby(\"member_casual\").describe() "
   ]
  },
  {
   "cell_type": "code",
   "execution_count": 46,
   "id": "6531fef8",
   "metadata": {
    "execution": {
     "iopub.execute_input": "2022-06-11T04:11:42.145001Z",
     "iopub.status.busy": "2022-06-11T04:11:42.144334Z",
     "iopub.status.idle": "2022-06-11T04:11:42.373885Z",
     "shell.execute_reply": "2022-06-11T04:11:42.372860Z"
    },
    "papermill": {
     "duration": 0.254843,
     "end_time": "2022-06-11T04:11:42.376287",
     "exception": false,
     "start_time": "2022-06-11T04:11:42.121444",
     "status": "completed"
    },
    "tags": []
   },
   "outputs": [
    {
     "data": {
      "text/html": [
       "<div>\n",
       "<style scoped>\n",
       "    .dataframe tbody tr th:only-of-type {\n",
       "        vertical-align: middle;\n",
       "    }\n",
       "\n",
       "    .dataframe tbody tr th {\n",
       "        vertical-align: top;\n",
       "    }\n",
       "\n",
       "    .dataframe thead th {\n",
       "        text-align: right;\n",
       "    }\n",
       "</style>\n",
       "<table border=\"1\" class=\"dataframe\">\n",
       "  <thead>\n",
       "    <tr style=\"text-align: right;\">\n",
       "      <th></th>\n",
       "      <th>ride_length_s</th>\n",
       "    </tr>\n",
       "    <tr>\n",
       "      <th>member_casual</th>\n",
       "      <th></th>\n",
       "    </tr>\n",
       "  </thead>\n",
       "  <tbody>\n",
       "    <tr>\n",
       "      <th>casual</th>\n",
       "      <td>40.989684</td>\n",
       "    </tr>\n",
       "    <tr>\n",
       "      <th>member</th>\n",
       "      <td>59.010316</td>\n",
       "    </tr>\n",
       "  </tbody>\n",
       "</table>\n",
       "</div>"
      ],
      "text/plain": [
       "               ride_length_s\n",
       "member_casual               \n",
       "casual             40.989684\n",
       "member             59.010316"
      ]
     },
     "execution_count": 46,
     "metadata": {},
     "output_type": "execute_result"
    }
   ],
   "source": [
    "# Counting the distribution in percenatage of members and casuals\n",
    "\n",
    "compare_ride_length.groupby(\"member_casual\").count() / len(compare_ride_length) * 100"
   ]
  },
  {
   "cell_type": "markdown",
   "id": "89e91fd6",
   "metadata": {
    "papermill": {
     "duration": 0.019522,
     "end_time": "2022-06-11T04:11:42.415823",
     "exception": false,
     "start_time": "2022-06-11T04:11:42.396301",
     "status": "completed"
    },
    "tags": []
   },
   "source": [
    "**There's another easier way to find the count, median and other statistics data between members and casuals using the agregate function and that's what we are going to do below**"
   ]
  },
  {
   "cell_type": "code",
   "execution_count": 47,
   "id": "86fb2fcc",
   "metadata": {
    "execution": {
     "iopub.execute_input": "2022-06-11T04:11:42.457863Z",
     "iopub.status.busy": "2022-06-11T04:11:42.457247Z",
     "iopub.status.idle": "2022-06-11T04:11:42.760628Z",
     "shell.execute_reply": "2022-06-11T04:11:42.759525Z"
    },
    "papermill": {
     "duration": 0.327184,
     "end_time": "2022-06-11T04:11:42.762884",
     "exception": false,
     "start_time": "2022-06-11T04:11:42.435700",
     "status": "completed"
    },
    "tags": []
   },
   "outputs": [
    {
     "data": {
      "text/html": [
       "<div>\n",
       "<style scoped>\n",
       "    .dataframe tbody tr th:only-of-type {\n",
       "        vertical-align: middle;\n",
       "    }\n",
       "\n",
       "    .dataframe tbody tr th {\n",
       "        vertical-align: top;\n",
       "    }\n",
       "\n",
       "    .dataframe thead tr th {\n",
       "        text-align: left;\n",
       "    }\n",
       "\n",
       "    .dataframe thead tr:last-of-type th {\n",
       "        text-align: right;\n",
       "    }\n",
       "</style>\n",
       "<table border=\"1\" class=\"dataframe\">\n",
       "  <thead>\n",
       "    <tr>\n",
       "      <th></th>\n",
       "      <th colspan=\"2\" halign=\"left\">ride_length_s</th>\n",
       "    </tr>\n",
       "    <tr>\n",
       "      <th></th>\n",
       "      <th>count</th>\n",
       "      <th>median</th>\n",
       "    </tr>\n",
       "    <tr>\n",
       "      <th>member_casual</th>\n",
       "      <th></th>\n",
       "      <th></th>\n",
       "    </tr>\n",
       "  </thead>\n",
       "  <tbody>\n",
       "    <tr>\n",
       "      <th>casual</th>\n",
       "      <td>1430351</td>\n",
       "      <td>21.266667</td>\n",
       "    </tr>\n",
       "    <tr>\n",
       "      <th>member</th>\n",
       "      <td>2059188</td>\n",
       "      <td>11.533333</td>\n",
       "    </tr>\n",
       "  </tbody>\n",
       "</table>\n",
       "</div>"
      ],
      "text/plain": [
       "              ride_length_s           \n",
       "                      count     median\n",
       "member_casual                         \n",
       "casual              1430351  21.266667\n",
       "member              2059188  11.533333"
      ]
     },
     "execution_count": 47,
     "metadata": {},
     "output_type": "execute_result"
    }
   ],
   "source": [
    "# Now the easiest way using the agregate function, not forgeting the groupby as well.\n",
    "\n",
    "tripdataV2.groupby(tripdataV2[\"member_casual\"]).aggregate({\"ride_length_s\":['count', 'median']})\n"
   ]
  },
  {
   "cell_type": "code",
   "execution_count": null,
   "id": "85736026",
   "metadata": {
    "papermill": {
     "duration": 0.020631,
     "end_time": "2022-06-11T04:11:42.804423",
     "exception": false,
     "start_time": "2022-06-11T04:11:42.783792",
     "status": "completed"
    },
    "tags": []
   },
   "outputs": [],
   "source": []
  }
 ],
 "metadata": {
  "kernelspec": {
   "display_name": "Python 3",
   "language": "python",
   "name": "python3"
  },
  "language_info": {
   "codemirror_mode": {
    "name": "ipython",
    "version": 3
   },
   "file_extension": ".py",
   "mimetype": "text/x-python",
   "name": "python",
   "nbconvert_exporter": "python",
   "pygments_lexer": "ipython3",
   "version": "3.7.12"
  },
  "papermill": {
   "default_parameters": {},
   "duration": 125.795336,
   "end_time": "2022-06-11T04:11:44.551979",
   "environment_variables": {},
   "exception": null,
   "input_path": "__notebook__.ipynb",
   "output_path": "__notebook__.ipynb",
   "parameters": {},
   "start_time": "2022-06-11T04:09:38.756643",
   "version": "2.3.4"
  }
 },
 "nbformat": 4,
 "nbformat_minor": 5
}
