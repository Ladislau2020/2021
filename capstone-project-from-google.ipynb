{
 "cells": [
  {
   "cell_type": "markdown",
   "id": "f269acdc",
   "metadata": {
    "papermill": {
     "duration": 0.003436,
     "end_time": "2022-06-04T08:03:42.286625",
     "exception": false,
     "start_time": "2022-06-04T08:03:42.283189",
     "status": "completed"
    },
    "tags": []
   },
   "source": [
    "# Google data analytics Capstone Project: How does a bike-share navigate speedy success\n",
    "\n",
    "Author: **[Ladislau André](http://https://ladislau2020.github.io/2021/CV/index.html)**\n",
    "dataset: [Cyclistic Dataset](http://)\n",
    "Date: *04-06-2022*\n",
    "\n"
   ]
  },
  {
   "cell_type": "markdown",
   "id": "b6a00129",
   "metadata": {
    "papermill": {
     "duration": 0.005026,
     "end_time": "2022-06-04T08:03:42.294864",
     "exception": false,
     "start_time": "2022-06-04T08:03:42.289838",
     "status": "completed"
    },
    "tags": []
   },
   "source": [
    "## Introduction\n"
   ]
  },
  {
   "cell_type": "markdown",
   "id": "e8684d6c",
   "metadata": {
    "papermill": {
     "duration": 0.002147,
     "end_time": "2022-06-04T08:03:42.299526",
     "exception": false,
     "start_time": "2022-06-04T08:03:42.297379",
     "status": "completed"
    },
    "tags": []
   },
   "source": [
    "### Loading the libraries\n",
    "We will be importing the pandas library for the ETL process."
   ]
  },
  {
   "cell_type": "code",
   "execution_count": 1,
   "id": "346b3b41",
   "metadata": {
    "execution": {
     "iopub.execute_input": "2022-06-04T08:03:42.306809Z",
     "iopub.status.busy": "2022-06-04T08:03:42.306029Z",
     "iopub.status.idle": "2022-06-04T08:03:42.317150Z",
     "shell.execute_reply": "2022-06-04T08:03:42.315856Z"
    },
    "papermill": {
     "duration": 0.017957,
     "end_time": "2022-06-04T08:03:42.319922",
     "exception": false,
     "start_time": "2022-06-04T08:03:42.301965",
     "status": "completed"
    },
    "tags": []
   },
   "outputs": [],
   "source": [
    "import pandas as pd "
   ]
  },
  {
   "cell_type": "code",
   "execution_count": null,
   "id": "ce51a91b",
   "metadata": {
    "papermill": {
     "duration": 0.002213,
     "end_time": "2022-06-04T08:03:42.324730",
     "exception": false,
     "start_time": "2022-06-04T08:03:42.322517",
     "status": "completed"
    },
    "tags": []
   },
   "outputs": [],
   "source": []
  },
  {
   "cell_type": "markdown",
   "id": "3d9d868c",
   "metadata": {
    "papermill": {
     "duration": 0.002038,
     "end_time": "2022-06-04T08:03:42.329084",
     "exception": false,
     "start_time": "2022-06-04T08:03:42.327046",
     "status": "completed"
    },
    "tags": []
   },
   "source": [
    "### Loading the Dataset\n",
    "\n",
    "As earlier said we are going to be using the cyclist dataset for the last 12 months for this project."
   ]
  },
  {
   "cell_type": "code",
   "execution_count": null,
   "id": "f05ac931",
   "metadata": {
    "execution": {
     "iopub.execute_input": "2022-06-04T07:51:05.147644Z",
     "iopub.status.busy": "2022-06-04T07:51:05.146703Z",
     "iopub.status.idle": "2022-06-04T07:51:05.229262Z",
     "shell.execute_reply": "2022-06-04T07:51:05.228038Z",
     "shell.execute_reply.started": "2022-06-04T07:51:05.147597Z"
    },
    "papermill": {
     "duration": 0.002001,
     "end_time": "2022-06-04T08:03:42.333334",
     "exception": false,
     "start_time": "2022-06-04T08:03:42.331333",
     "status": "completed"
    },
    "tags": []
   },
   "outputs": [],
   "source": []
  },
  {
   "cell_type": "code",
   "execution_count": 2,
   "id": "76c7be11",
   "metadata": {
    "execution": {
     "iopub.execute_input": "2022-06-04T08:03:42.339548Z",
     "iopub.status.busy": "2022-06-04T08:03:42.339186Z",
     "iopub.status.idle": "2022-06-04T08:04:03.924732Z",
     "shell.execute_reply": "2022-06-04T08:04:03.923562Z"
    },
    "papermill": {
     "duration": 21.591529,
     "end_time": "2022-06-04T08:04:03.927072",
     "exception": false,
     "start_time": "2022-06-04T08:03:42.335543",
     "status": "completed"
    },
    "tags": []
   },
   "outputs": [],
   "source": [
    "\n",
    "month1 = pd.read_csv(\"../input/cyclistic-bike-share/202004-divvy-tripdata.csv\")\n",
    "month2 = pd.read_csv(\"../input/cyclistic-bike-share/202005-divvy-tripdata.csv\")\n",
    "month3 = pd.read_csv(\"../input/cyclistic-bike-share/202006-divvy-tripdata.csv\")\n",
    "month4 = pd.read_csv(\"../input/cyclistic-bike-share/202007-divvy-tripdata.csv\")\n",
    "month5 = pd.read_csv(\"../input/cyclistic-bike-share/202008-divvy-tripdata.csv\")\n",
    "month6 = pd.read_csv(\"../input/cyclistic-bike-share/202009-divvy-tripdata.csv\")\n",
    "month7 = pd.read_csv(\"../input/cyclistic-bike-share/202010-divvy-tripdata.csv\")\n",
    "month8 = pd.read_csv(\"../input/cyclistic-bike-share/202011-divvy-tripdata.csv\")\n",
    "month9 = pd.read_csv(\"../input/cyclistic-bike-share/202012-divvy-tripdata.csv\")\n",
    "month10 = pd.read_csv(\"../input/cyclistic-bike-share/202101-divvy-tripdata.csv\")\n",
    "month11 = pd.read_csv(\"../input/cyclistic-bike-share/202102-divvy-tripdata.csv\")\n",
    "month12 = pd.read_csv(\"../input/cyclistic-bike-share/202103-divvy-tripdata.csv\")\n",
    "\n",
    "# after loading the dataset we are going to bind them using the concat function\n",
    "\n",
    "tripdata = pd.concat([month1, month2, month3, month4, month5, month6, month7, month8, month9, month10, month11, month12])\n"
   ]
  },
  {
   "cell_type": "markdown",
   "id": "0adc17d3",
   "metadata": {
    "papermill": {
     "duration": 0.002166,
     "end_time": "2022-06-04T08:04:03.931765",
     "exception": false,
     "start_time": "2022-06-04T08:04:03.929599",
     "status": "completed"
    },
    "tags": []
   },
   "source": []
  },
  {
   "cell_type": "code",
   "execution_count": 3,
   "id": "0c083818",
   "metadata": {
    "execution": {
     "iopub.execute_input": "2022-06-04T08:04:03.937899Z",
     "iopub.status.busy": "2022-06-04T08:04:03.937514Z",
     "iopub.status.idle": "2022-06-04T08:04:03.955673Z",
     "shell.execute_reply": "2022-06-04T08:04:03.954399Z"
    },
    "papermill": {
     "duration": 0.024289,
     "end_time": "2022-06-04T08:04:03.958362",
     "exception": false,
     "start_time": "2022-06-04T08:04:03.934073",
     "status": "completed"
    },
    "tags": []
   },
   "outputs": [
    {
     "name": "stdout",
     "output_type": "stream",
     "text": [
      "                 ride_id  rideable_type           started_at  \\\n",
      "0       A847FADBBC638E45    docked_bike  2020-04-26 17:45:14   \n",
      "1       5405B80E996FF60D    docked_bike  2020-04-17 17:08:54   \n",
      "2       5DD24A79A4E006F4    docked_bike  2020-04-01 17:54:13   \n",
      "3       2A59BBDF5CDBA725    docked_bike  2020-04-07 12:50:19   \n",
      "4       27AD306C119C6158    docked_bike  2020-04-18 10:22:59   \n",
      "...                  ...            ...                  ...   \n",
      "228491  9397BDD14798A1BA    docked_bike  2021-03-20 14:58:56   \n",
      "228492  BBBEB8D51AAD40DA   classic_bike  2021-03-02 11:35:10   \n",
      "228493  637FF754DA0BD9E1   classic_bike  2021-03-09 11:07:36   \n",
      "228494  F8F43A0B978A7A35   classic_bike  2021-03-01 18:11:57   \n",
      "228495  3AE64EA5BF43CF72  electric_bike  2021-03-26 17:58:14   \n",
      "\n",
      "                   ended_at            start_station_name start_station_id  \\\n",
      "0       2020-04-26 18:12:03                  Eckhart Park               86   \n",
      "1       2020-04-17 17:17:03     Drake Ave & Fullerton Ave              503   \n",
      "2       2020-04-01 18:08:36          McClurg Ct & Erie St              142   \n",
      "3       2020-04-07 13:02:31  California Ave & Division St              216   \n",
      "4       2020-04-18 11:15:54          Rush St & Hubbard St              125   \n",
      "...                     ...                           ...              ...   \n",
      "228491  2021-03-20 17:22:47         Michigan Ave & Oak St            13042   \n",
      "228492  2021-03-02 11:43:37      Kingsbury St & Kinzie St     KA1503000043   \n",
      "228493  2021-03-09 11:49:11         Michigan Ave & Oak St            13042   \n",
      "228494  2021-03-01 18:18:37      Kingsbury St & Kinzie St     KA1503000043   \n",
      "228495  2021-03-26 18:06:43                           NaN              NaN   \n",
      "\n",
      "                   end_station_name end_station_id  start_lat  start_lng  \\\n",
      "0       Lincoln Ave & Diversey Pkwy          152.0  41.896400 -87.661000   \n",
      "1                   Kosciuszko Park          499.0  41.924400 -87.715400   \n",
      "2        Indiana Ave & Roosevelt Rd          255.0  41.894500 -87.617900   \n",
      "3            Wood St & Augusta Blvd          657.0  41.903000 -87.697500   \n",
      "4        Sheridan Rd & Lawrence Ave          323.0  41.890200 -87.626200   \n",
      "...                             ...            ...        ...        ...   \n",
      "228491         New St & Illinois St   TA1306000013  41.900960 -87.623777   \n",
      "228492         New St & Illinois St   TA1306000013  41.889177 -87.638506   \n",
      "228493        Clark St & Berwyn Ave   KA1504000146  41.900960 -87.623777   \n",
      "228494         New St & Illinois St   TA1306000013  41.889177 -87.638506   \n",
      "228495         New St & Illinois St   TA1306000013  41.880000 -87.630000   \n",
      "\n",
      "          end_lat    end_lng member_casual  \n",
      "0       41.932200 -87.658600        member  \n",
      "1       41.930600 -87.723800        member  \n",
      "2       41.867900 -87.623000        member  \n",
      "3       41.899200 -87.672200        member  \n",
      "4       41.969500 -87.654700        casual  \n",
      "...           ...        ...           ...  \n",
      "228491  41.890847 -87.618617        casual  \n",
      "228492  41.890847 -87.618617        member  \n",
      "228493  41.977997 -87.668047        member  \n",
      "228494  41.890847 -87.618617        member  \n",
      "228495  41.890818 -87.619540        member  \n",
      "\n",
      "[3489748 rows x 13 columns]\n"
     ]
    }
   ],
   "source": [
    "print(tripdata)"
   ]
  }
 ],
 "metadata": {
  "kernelspec": {
   "display_name": "Python 3",
   "language": "python",
   "name": "python3"
  },
  "language_info": {
   "codemirror_mode": {
    "name": "ipython",
    "version": 3
   },
   "file_extension": ".py",
   "mimetype": "text/x-python",
   "name": "python",
   "nbconvert_exporter": "python",
   "pygments_lexer": "ipython3",
   "version": "3.7.12"
  },
  "papermill": {
   "default_parameters": {},
   "duration": 31.381693,
   "end_time": "2022-06-04T08:04:04.982947",
   "environment_variables": {},
   "exception": null,
   "input_path": "__notebook__.ipynb",
   "output_path": "__notebook__.ipynb",
   "parameters": {},
   "start_time": "2022-06-04T08:03:33.601254",
   "version": "2.3.4"
  }
 },
 "nbformat": 4,
 "nbformat_minor": 5
}
