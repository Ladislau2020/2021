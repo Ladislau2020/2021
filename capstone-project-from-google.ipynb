{
 "cells": [
  {
   "cell_type": "markdown",
   "id": "03755c0c",
   "metadata": {
    "papermill": {
     "duration": 0.013706,
     "end_time": "2022-06-07T11:50:02.009684",
     "exception": false,
     "start_time": "2022-06-07T11:50:01.995978",
     "status": "completed"
    },
    "tags": []
   },
   "source": [
    "# Google data analytics Capstone Project: How does a bike-share navigate speedy success\n",
    "\n",
    "Author: **[Ladislau André](http://https://ladislau2020.github.io/2021/CV/index.html)**\n",
    "dataset: [Cyclistic Dataset](http://)\n",
    "Date: *04-06-2022*\n",
    "\n"
   ]
  },
  {
   "cell_type": "markdown",
   "id": "66c1152e",
   "metadata": {
    "papermill": {
     "duration": 0.012184,
     "end_time": "2022-06-07T11:50:02.034504",
     "exception": false,
     "start_time": "2022-06-07T11:50:02.022320",
     "status": "completed"
    },
    "tags": []
   },
   "source": [
    "## Introduction\n"
   ]
  },
  {
   "cell_type": "markdown",
   "id": "08b21393",
   "metadata": {
    "papermill": {
     "duration": 0.012167,
     "end_time": "2022-06-07T11:50:02.059138",
     "exception": false,
     "start_time": "2022-06-07T11:50:02.046971",
     "status": "completed"
    },
    "tags": []
   },
   "source": [
    "### Loading the libraries\n",
    "We will be importing the pandas library for the ETL process."
   ]
  },
  {
   "cell_type": "code",
   "execution_count": null,
   "id": "baeaceaa",
   "metadata": {
    "papermill": {
     "duration": 0.012347,
     "end_time": "2022-06-07T11:50:02.083950",
     "exception": false,
     "start_time": "2022-06-07T11:50:02.071603",
     "status": "completed"
    },
    "tags": []
   },
   "outputs": [],
   "source": []
  },
  {
   "cell_type": "code",
   "execution_count": 1,
   "id": "7b4921e4",
   "metadata": {
    "execution": {
     "iopub.execute_input": "2022-06-07T11:50:02.110961Z",
     "iopub.status.busy": "2022-06-07T11:50:02.110499Z",
     "iopub.status.idle": "2022-06-07T11:50:02.122137Z",
     "shell.execute_reply": "2022-06-07T11:50:02.121257Z"
    },
    "papermill": {
     "duration": 0.027741,
     "end_time": "2022-06-07T11:50:02.124327",
     "exception": false,
     "start_time": "2022-06-07T11:50:02.096586",
     "status": "completed"
    },
    "tags": []
   },
   "outputs": [],
   "source": [
    "import pandas as pd "
   ]
  },
  {
   "cell_type": "code",
   "execution_count": null,
   "id": "5275e3df",
   "metadata": {
    "papermill": {
     "duration": 0.012482,
     "end_time": "2022-06-07T11:50:02.150121",
     "exception": false,
     "start_time": "2022-06-07T11:50:02.137639",
     "status": "completed"
    },
    "tags": []
   },
   "outputs": [],
   "source": []
  },
  {
   "cell_type": "markdown",
   "id": "bb7b36b9",
   "metadata": {
    "papermill": {
     "duration": 0.01241,
     "end_time": "2022-06-07T11:50:02.175245",
     "exception": false,
     "start_time": "2022-06-07T11:50:02.162835",
     "status": "completed"
    },
    "tags": []
   },
   "source": [
    "### Loading the Dataset\n",
    "\n",
    "As earlier said we are going to be using the cyclist dataset for the last 12 months for this project."
   ]
  },
  {
   "cell_type": "code",
   "execution_count": null,
   "id": "f8516d53",
   "metadata": {
    "papermill": {
     "duration": 0.012437,
     "end_time": "2022-06-07T11:50:02.200434",
     "exception": false,
     "start_time": "2022-06-07T11:50:02.187997",
     "status": "completed"
    },
    "tags": []
   },
   "outputs": [],
   "source": []
  },
  {
   "cell_type": "code",
   "execution_count": 2,
   "id": "a1c1d68c",
   "metadata": {
    "execution": {
     "iopub.execute_input": "2022-06-07T11:50:02.227756Z",
     "iopub.status.busy": "2022-06-07T11:50:02.226879Z",
     "iopub.status.idle": "2022-06-07T11:50:25.329374Z",
     "shell.execute_reply": "2022-06-07T11:50:25.328132Z"
    },
    "papermill": {
     "duration": 23.118724,
     "end_time": "2022-06-07T11:50:25.331830",
     "exception": false,
     "start_time": "2022-06-07T11:50:02.213106",
     "status": "completed"
    },
    "tags": []
   },
   "outputs": [],
   "source": [
    "\n",
    "month1 = pd.read_csv(\"../input/cyclistic-bike-share/202004-divvy-tripdata.csv\")\n",
    "month2 = pd.read_csv(\"../input/cyclistic-bike-share/202005-divvy-tripdata.csv\")\n",
    "month3 = pd.read_csv(\"../input/cyclistic-bike-share/202006-divvy-tripdata.csv\")\n",
    "month4 = pd.read_csv(\"../input/cyclistic-bike-share/202007-divvy-tripdata.csv\")\n",
    "month5 = pd.read_csv(\"../input/cyclistic-bike-share/202008-divvy-tripdata.csv\")\n",
    "month6 = pd.read_csv(\"../input/cyclistic-bike-share/202009-divvy-tripdata.csv\")\n",
    "month7 = pd.read_csv(\"../input/cyclistic-bike-share/202010-divvy-tripdata.csv\")\n",
    "month8 = pd.read_csv(\"../input/cyclistic-bike-share/202011-divvy-tripdata.csv\")\n",
    "month9 = pd.read_csv(\"../input/cyclistic-bike-share/202012-divvy-tripdata.csv\")\n",
    "month10 = pd.read_csv(\"../input/cyclistic-bike-share/202101-divvy-tripdata.csv\")\n",
    "month11 = pd.read_csv(\"../input/cyclistic-bike-share/202102-divvy-tripdata.csv\")\n",
    "month12 = pd.read_csv(\"../input/cyclistic-bike-share/202103-divvy-tripdata.csv\")\n",
    "\n",
    "# after loading the dataset we are going to bind them using the concat function\n",
    "\n",
    "tripdata = pd.concat([month1, month2, month3, month4, month5, month6, month7, month8, month9, month10, month11, month12])\n"
   ]
  },
  {
   "cell_type": "markdown",
   "id": "885fe99c",
   "metadata": {
    "papermill": {
     "duration": 0.012895,
     "end_time": "2022-06-07T11:50:25.357850",
     "exception": false,
     "start_time": "2022-06-07T11:50:25.344955",
     "status": "completed"
    },
    "tags": []
   },
   "source": [
    "### Inspecting my dataset and gain insights about it\n",
    "\n",
    "I will be using functions allowing me to inspect the dataset and get to know more about it."
   ]
  },
  {
   "cell_type": "markdown",
   "id": "a86fc14a",
   "metadata": {
    "papermill": {
     "duration": 0.012797,
     "end_time": "2022-06-07T11:50:25.383529",
     "exception": false,
     "start_time": "2022-06-07T11:50:25.370732",
     "status": "completed"
    },
    "tags": []
   },
   "source": []
  },
  {
   "cell_type": "code",
   "execution_count": 3,
   "id": "4f532324",
   "metadata": {
    "execution": {
     "iopub.execute_input": "2022-06-07T11:50:25.411394Z",
     "iopub.status.busy": "2022-06-07T11:50:25.410720Z",
     "iopub.status.idle": "2022-06-07T11:50:25.428298Z",
     "shell.execute_reply": "2022-06-07T11:50:25.427369Z"
    },
    "papermill": {
     "duration": 0.034696,
     "end_time": "2022-06-07T11:50:25.431179",
     "exception": false,
     "start_time": "2022-06-07T11:50:25.396483",
     "status": "completed"
    },
    "tags": []
   },
   "outputs": [
    {
     "name": "stdout",
     "output_type": "stream",
     "text": [
      "                 ride_id  rideable_type           started_at  \\\n",
      "0       A847FADBBC638E45    docked_bike  2020-04-26 17:45:14   \n",
      "1       5405B80E996FF60D    docked_bike  2020-04-17 17:08:54   \n",
      "2       5DD24A79A4E006F4    docked_bike  2020-04-01 17:54:13   \n",
      "3       2A59BBDF5CDBA725    docked_bike  2020-04-07 12:50:19   \n",
      "4       27AD306C119C6158    docked_bike  2020-04-18 10:22:59   \n",
      "...                  ...            ...                  ...   \n",
      "228491  9397BDD14798A1BA    docked_bike  2021-03-20 14:58:56   \n",
      "228492  BBBEB8D51AAD40DA   classic_bike  2021-03-02 11:35:10   \n",
      "228493  637FF754DA0BD9E1   classic_bike  2021-03-09 11:07:36   \n",
      "228494  F8F43A0B978A7A35   classic_bike  2021-03-01 18:11:57   \n",
      "228495  3AE64EA5BF43CF72  electric_bike  2021-03-26 17:58:14   \n",
      "\n",
      "                   ended_at            start_station_name start_station_id  \\\n",
      "0       2020-04-26 18:12:03                  Eckhart Park               86   \n",
      "1       2020-04-17 17:17:03     Drake Ave & Fullerton Ave              503   \n",
      "2       2020-04-01 18:08:36          McClurg Ct & Erie St              142   \n",
      "3       2020-04-07 13:02:31  California Ave & Division St              216   \n",
      "4       2020-04-18 11:15:54          Rush St & Hubbard St              125   \n",
      "...                     ...                           ...              ...   \n",
      "228491  2021-03-20 17:22:47         Michigan Ave & Oak St            13042   \n",
      "228492  2021-03-02 11:43:37      Kingsbury St & Kinzie St     KA1503000043   \n",
      "228493  2021-03-09 11:49:11         Michigan Ave & Oak St            13042   \n",
      "228494  2021-03-01 18:18:37      Kingsbury St & Kinzie St     KA1503000043   \n",
      "228495  2021-03-26 18:06:43                           NaN              NaN   \n",
      "\n",
      "                   end_station_name end_station_id  start_lat  start_lng  \\\n",
      "0       Lincoln Ave & Diversey Pkwy          152.0  41.896400 -87.661000   \n",
      "1                   Kosciuszko Park          499.0  41.924400 -87.715400   \n",
      "2        Indiana Ave & Roosevelt Rd          255.0  41.894500 -87.617900   \n",
      "3            Wood St & Augusta Blvd          657.0  41.903000 -87.697500   \n",
      "4        Sheridan Rd & Lawrence Ave          323.0  41.890200 -87.626200   \n",
      "...                             ...            ...        ...        ...   \n",
      "228491         New St & Illinois St   TA1306000013  41.900960 -87.623777   \n",
      "228492         New St & Illinois St   TA1306000013  41.889177 -87.638506   \n",
      "228493        Clark St & Berwyn Ave   KA1504000146  41.900960 -87.623777   \n",
      "228494         New St & Illinois St   TA1306000013  41.889177 -87.638506   \n",
      "228495         New St & Illinois St   TA1306000013  41.880000 -87.630000   \n",
      "\n",
      "          end_lat    end_lng member_casual  \n",
      "0       41.932200 -87.658600        member  \n",
      "1       41.930600 -87.723800        member  \n",
      "2       41.867900 -87.623000        member  \n",
      "3       41.899200 -87.672200        member  \n",
      "4       41.969500 -87.654700        casual  \n",
      "...           ...        ...           ...  \n",
      "228491  41.890847 -87.618617        casual  \n",
      "228492  41.890847 -87.618617        member  \n",
      "228493  41.977997 -87.668047        member  \n",
      "228494  41.890847 -87.618617        member  \n",
      "228495  41.890818 -87.619540        member  \n",
      "\n",
      "[3489748 rows x 13 columns]\n"
     ]
    }
   ],
   "source": [
    "print(tripdata)"
   ]
  },
  {
   "cell_type": "markdown",
   "id": "fa7bdc0a",
   "metadata": {
    "papermill": {
     "duration": 0.012615,
     "end_time": "2022-06-07T11:50:25.457752",
     "exception": false,
     "start_time": "2022-06-07T11:50:25.445137",
     "status": "completed"
    },
    "tags": []
   },
   "source": [
    "We have merged the whole data and we could notice that it has [3489748 rows x 13 columns] "
   ]
  },
  {
   "cell_type": "code",
   "execution_count": 4,
   "id": "25f82f8a",
   "metadata": {
    "execution": {
     "iopub.execute_input": "2022-06-07T11:50:25.486226Z",
     "iopub.status.busy": "2022-06-07T11:50:25.485063Z",
     "iopub.status.idle": "2022-06-07T11:50:25.507834Z",
     "shell.execute_reply": "2022-06-07T11:50:25.506715Z"
    },
    "papermill": {
     "duration": 0.039638,
     "end_time": "2022-06-07T11:50:25.510429",
     "exception": false,
     "start_time": "2022-06-07T11:50:25.470791",
     "status": "completed"
    },
    "tags": []
   },
   "outputs": [
    {
     "data": {
      "text/html": [
       "<div>\n",
       "<style scoped>\n",
       "    .dataframe tbody tr th:only-of-type {\n",
       "        vertical-align: middle;\n",
       "    }\n",
       "\n",
       "    .dataframe tbody tr th {\n",
       "        vertical-align: top;\n",
       "    }\n",
       "\n",
       "    .dataframe thead th {\n",
       "        text-align: right;\n",
       "    }\n",
       "</style>\n",
       "<table border=\"1\" class=\"dataframe\">\n",
       "  <thead>\n",
       "    <tr style=\"text-align: right;\">\n",
       "      <th></th>\n",
       "      <th>ride_id</th>\n",
       "      <th>rideable_type</th>\n",
       "      <th>started_at</th>\n",
       "      <th>ended_at</th>\n",
       "      <th>start_station_name</th>\n",
       "      <th>start_station_id</th>\n",
       "      <th>end_station_name</th>\n",
       "      <th>end_station_id</th>\n",
       "      <th>start_lat</th>\n",
       "      <th>start_lng</th>\n",
       "      <th>end_lat</th>\n",
       "      <th>end_lng</th>\n",
       "      <th>member_casual</th>\n",
       "    </tr>\n",
       "  </thead>\n",
       "  <tbody>\n",
       "    <tr>\n",
       "      <th>0</th>\n",
       "      <td>A847FADBBC638E45</td>\n",
       "      <td>docked_bike</td>\n",
       "      <td>2020-04-26 17:45:14</td>\n",
       "      <td>2020-04-26 18:12:03</td>\n",
       "      <td>Eckhart Park</td>\n",
       "      <td>86</td>\n",
       "      <td>Lincoln Ave &amp; Diversey Pkwy</td>\n",
       "      <td>152.0</td>\n",
       "      <td>41.8964</td>\n",
       "      <td>-87.6610</td>\n",
       "      <td>41.9322</td>\n",
       "      <td>-87.6586</td>\n",
       "      <td>member</td>\n",
       "    </tr>\n",
       "    <tr>\n",
       "      <th>1</th>\n",
       "      <td>5405B80E996FF60D</td>\n",
       "      <td>docked_bike</td>\n",
       "      <td>2020-04-17 17:08:54</td>\n",
       "      <td>2020-04-17 17:17:03</td>\n",
       "      <td>Drake Ave &amp; Fullerton Ave</td>\n",
       "      <td>503</td>\n",
       "      <td>Kosciuszko Park</td>\n",
       "      <td>499.0</td>\n",
       "      <td>41.9244</td>\n",
       "      <td>-87.7154</td>\n",
       "      <td>41.9306</td>\n",
       "      <td>-87.7238</td>\n",
       "      <td>member</td>\n",
       "    </tr>\n",
       "    <tr>\n",
       "      <th>2</th>\n",
       "      <td>5DD24A79A4E006F4</td>\n",
       "      <td>docked_bike</td>\n",
       "      <td>2020-04-01 17:54:13</td>\n",
       "      <td>2020-04-01 18:08:36</td>\n",
       "      <td>McClurg Ct &amp; Erie St</td>\n",
       "      <td>142</td>\n",
       "      <td>Indiana Ave &amp; Roosevelt Rd</td>\n",
       "      <td>255.0</td>\n",
       "      <td>41.8945</td>\n",
       "      <td>-87.6179</td>\n",
       "      <td>41.8679</td>\n",
       "      <td>-87.6230</td>\n",
       "      <td>member</td>\n",
       "    </tr>\n",
       "    <tr>\n",
       "      <th>3</th>\n",
       "      <td>2A59BBDF5CDBA725</td>\n",
       "      <td>docked_bike</td>\n",
       "      <td>2020-04-07 12:50:19</td>\n",
       "      <td>2020-04-07 13:02:31</td>\n",
       "      <td>California Ave &amp; Division St</td>\n",
       "      <td>216</td>\n",
       "      <td>Wood St &amp; Augusta Blvd</td>\n",
       "      <td>657.0</td>\n",
       "      <td>41.9030</td>\n",
       "      <td>-87.6975</td>\n",
       "      <td>41.8992</td>\n",
       "      <td>-87.6722</td>\n",
       "      <td>member</td>\n",
       "    </tr>\n",
       "    <tr>\n",
       "      <th>4</th>\n",
       "      <td>27AD306C119C6158</td>\n",
       "      <td>docked_bike</td>\n",
       "      <td>2020-04-18 10:22:59</td>\n",
       "      <td>2020-04-18 11:15:54</td>\n",
       "      <td>Rush St &amp; Hubbard St</td>\n",
       "      <td>125</td>\n",
       "      <td>Sheridan Rd &amp; Lawrence Ave</td>\n",
       "      <td>323.0</td>\n",
       "      <td>41.8902</td>\n",
       "      <td>-87.6262</td>\n",
       "      <td>41.9695</td>\n",
       "      <td>-87.6547</td>\n",
       "      <td>casual</td>\n",
       "    </tr>\n",
       "  </tbody>\n",
       "</table>\n",
       "</div>"
      ],
      "text/plain": [
       "            ride_id rideable_type           started_at             ended_at  \\\n",
       "0  A847FADBBC638E45   docked_bike  2020-04-26 17:45:14  2020-04-26 18:12:03   \n",
       "1  5405B80E996FF60D   docked_bike  2020-04-17 17:08:54  2020-04-17 17:17:03   \n",
       "2  5DD24A79A4E006F4   docked_bike  2020-04-01 17:54:13  2020-04-01 18:08:36   \n",
       "3  2A59BBDF5CDBA725   docked_bike  2020-04-07 12:50:19  2020-04-07 13:02:31   \n",
       "4  27AD306C119C6158   docked_bike  2020-04-18 10:22:59  2020-04-18 11:15:54   \n",
       "\n",
       "             start_station_name start_station_id             end_station_name  \\\n",
       "0                  Eckhart Park               86  Lincoln Ave & Diversey Pkwy   \n",
       "1     Drake Ave & Fullerton Ave              503              Kosciuszko Park   \n",
       "2          McClurg Ct & Erie St              142   Indiana Ave & Roosevelt Rd   \n",
       "3  California Ave & Division St              216       Wood St & Augusta Blvd   \n",
       "4          Rush St & Hubbard St              125   Sheridan Rd & Lawrence Ave   \n",
       "\n",
       "  end_station_id  start_lat  start_lng  end_lat  end_lng member_casual  \n",
       "0          152.0    41.8964   -87.6610  41.9322 -87.6586        member  \n",
       "1          499.0    41.9244   -87.7154  41.9306 -87.7238        member  \n",
       "2          255.0    41.8945   -87.6179  41.8679 -87.6230        member  \n",
       "3          657.0    41.9030   -87.6975  41.8992 -87.6722        member  \n",
       "4          323.0    41.8902   -87.6262  41.9695 -87.6547        casual  "
      ]
     },
     "execution_count": 4,
     "metadata": {},
     "output_type": "execute_result"
    }
   ],
   "source": [
    "#Watching the first five rows of the data for inspecting purposes\n",
    "\n",
    "tripdata.head()"
   ]
  },
  {
   "cell_type": "code",
   "execution_count": 5,
   "id": "419cfdba",
   "metadata": {
    "execution": {
     "iopub.execute_input": "2022-06-07T11:50:25.538788Z",
     "iopub.status.busy": "2022-06-07T11:50:25.538402Z",
     "iopub.status.idle": "2022-06-07T11:50:27.507190Z",
     "shell.execute_reply": "2022-06-07T11:50:27.506252Z"
    },
    "papermill": {
     "duration": 1.985621,
     "end_time": "2022-06-07T11:50:27.509498",
     "exception": false,
     "start_time": "2022-06-07T11:50:25.523877",
     "status": "completed"
    },
    "tags": []
   },
   "outputs": [
    {
     "data": {
      "text/html": [
       "<div>\n",
       "<style scoped>\n",
       "    .dataframe tbody tr th:only-of-type {\n",
       "        vertical-align: middle;\n",
       "    }\n",
       "\n",
       "    .dataframe tbody tr th {\n",
       "        vertical-align: top;\n",
       "    }\n",
       "\n",
       "    .dataframe thead th {\n",
       "        text-align: right;\n",
       "    }\n",
       "</style>\n",
       "<table border=\"1\" class=\"dataframe\">\n",
       "  <thead>\n",
       "    <tr style=\"text-align: right;\">\n",
       "      <th></th>\n",
       "      <th>start_lat</th>\n",
       "      <th>start_lng</th>\n",
       "      <th>end_lat</th>\n",
       "      <th>end_lng</th>\n",
       "    </tr>\n",
       "  </thead>\n",
       "  <tbody>\n",
       "    <tr>\n",
       "      <th>count</th>\n",
       "      <td>3.489748e+06</td>\n",
       "      <td>3.489748e+06</td>\n",
       "      <td>3.485010e+06</td>\n",
       "      <td>3.485010e+06</td>\n",
       "    </tr>\n",
       "    <tr>\n",
       "      <th>mean</th>\n",
       "      <td>4.190417e+01</td>\n",
       "      <td>-8.764494e+01</td>\n",
       "      <td>4.190444e+01</td>\n",
       "      <td>-8.764522e+01</td>\n",
       "    </tr>\n",
       "    <tr>\n",
       "      <th>std</th>\n",
       "      <td>4.364222e-02</td>\n",
       "      <td>2.575969e-02</td>\n",
       "      <td>4.373705e-02</td>\n",
       "      <td>2.589123e-02</td>\n",
       "    </tr>\n",
       "    <tr>\n",
       "      <th>min</th>\n",
       "      <td>4.164000e+01</td>\n",
       "      <td>-8.787000e+01</td>\n",
       "      <td>4.154000e+01</td>\n",
       "      <td>-8.807000e+01</td>\n",
       "    </tr>\n",
       "    <tr>\n",
       "      <th>25%</th>\n",
       "      <td>4.188224e+01</td>\n",
       "      <td>-8.765888e+01</td>\n",
       "      <td>4.188266e+01</td>\n",
       "      <td>-8.765917e+01</td>\n",
       "    </tr>\n",
       "    <tr>\n",
       "      <th>50%</th>\n",
       "      <td>4.190000e+01</td>\n",
       "      <td>-8.764170e+01</td>\n",
       "      <td>4.190068e+01</td>\n",
       "      <td>-8.764275e+01</td>\n",
       "    </tr>\n",
       "    <tr>\n",
       "      <th>75%</th>\n",
       "      <td>4.193000e+01</td>\n",
       "      <td>-8.762773e+01</td>\n",
       "      <td>4.193120e+01</td>\n",
       "      <td>-8.762775e+01</td>\n",
       "    </tr>\n",
       "    <tr>\n",
       "      <th>max</th>\n",
       "      <td>4.208000e+01</td>\n",
       "      <td>-8.752000e+01</td>\n",
       "      <td>4.216000e+01</td>\n",
       "      <td>-8.744000e+01</td>\n",
       "    </tr>\n",
       "  </tbody>\n",
       "</table>\n",
       "</div>"
      ],
      "text/plain": [
       "          start_lat     start_lng       end_lat       end_lng\n",
       "count  3.489748e+06  3.489748e+06  3.485010e+06  3.485010e+06\n",
       "mean   4.190417e+01 -8.764494e+01  4.190444e+01 -8.764522e+01\n",
       "std    4.364222e-02  2.575969e-02  4.373705e-02  2.589123e-02\n",
       "min    4.164000e+01 -8.787000e+01  4.154000e+01 -8.807000e+01\n",
       "25%    4.188224e+01 -8.765888e+01  4.188266e+01 -8.765917e+01\n",
       "50%    4.190000e+01 -8.764170e+01  4.190068e+01 -8.764275e+01\n",
       "75%    4.193000e+01 -8.762773e+01  4.193120e+01 -8.762775e+01\n",
       "max    4.208000e+01 -8.752000e+01  4.216000e+01 -8.744000e+01"
      ]
     },
     "execution_count": 5,
     "metadata": {},
     "output_type": "execute_result"
    }
   ],
   "source": [
    "#The main informations about my dataset as max, min and others\n",
    "\n",
    "tripdata.describe()"
   ]
  },
  {
   "cell_type": "code",
   "execution_count": 6,
   "id": "0ee6b052",
   "metadata": {
    "execution": {
     "iopub.execute_input": "2022-06-07T11:50:27.537963Z",
     "iopub.status.busy": "2022-06-07T11:50:27.537587Z",
     "iopub.status.idle": "2022-06-07T11:50:27.557527Z",
     "shell.execute_reply": "2022-06-07T11:50:27.556495Z"
    },
    "papermill": {
     "duration": 0.036382,
     "end_time": "2022-06-07T11:50:27.559382",
     "exception": false,
     "start_time": "2022-06-07T11:50:27.523000",
     "status": "completed"
    },
    "tags": []
   },
   "outputs": [
    {
     "data": {
      "text/html": [
       "<div>\n",
       "<style scoped>\n",
       "    .dataframe tbody tr th:only-of-type {\n",
       "        vertical-align: middle;\n",
       "    }\n",
       "\n",
       "    .dataframe tbody tr th {\n",
       "        vertical-align: top;\n",
       "    }\n",
       "\n",
       "    .dataframe thead th {\n",
       "        text-align: right;\n",
       "    }\n",
       "</style>\n",
       "<table border=\"1\" class=\"dataframe\">\n",
       "  <thead>\n",
       "    <tr style=\"text-align: right;\">\n",
       "      <th></th>\n",
       "      <th>ride_id</th>\n",
       "      <th>rideable_type</th>\n",
       "      <th>started_at</th>\n",
       "      <th>ended_at</th>\n",
       "      <th>start_station_name</th>\n",
       "      <th>start_station_id</th>\n",
       "      <th>end_station_name</th>\n",
       "      <th>end_station_id</th>\n",
       "      <th>start_lat</th>\n",
       "      <th>start_lng</th>\n",
       "      <th>end_lat</th>\n",
       "      <th>end_lng</th>\n",
       "      <th>member_casual</th>\n",
       "    </tr>\n",
       "  </thead>\n",
       "  <tbody>\n",
       "    <tr>\n",
       "      <th>228491</th>\n",
       "      <td>9397BDD14798A1BA</td>\n",
       "      <td>docked_bike</td>\n",
       "      <td>2021-03-20 14:58:56</td>\n",
       "      <td>2021-03-20 17:22:47</td>\n",
       "      <td>Michigan Ave &amp; Oak St</td>\n",
       "      <td>13042</td>\n",
       "      <td>New St &amp; Illinois St</td>\n",
       "      <td>TA1306000013</td>\n",
       "      <td>41.900960</td>\n",
       "      <td>-87.623777</td>\n",
       "      <td>41.890847</td>\n",
       "      <td>-87.618617</td>\n",
       "      <td>casual</td>\n",
       "    </tr>\n",
       "    <tr>\n",
       "      <th>228492</th>\n",
       "      <td>BBBEB8D51AAD40DA</td>\n",
       "      <td>classic_bike</td>\n",
       "      <td>2021-03-02 11:35:10</td>\n",
       "      <td>2021-03-02 11:43:37</td>\n",
       "      <td>Kingsbury St &amp; Kinzie St</td>\n",
       "      <td>KA1503000043</td>\n",
       "      <td>New St &amp; Illinois St</td>\n",
       "      <td>TA1306000013</td>\n",
       "      <td>41.889177</td>\n",
       "      <td>-87.638506</td>\n",
       "      <td>41.890847</td>\n",
       "      <td>-87.618617</td>\n",
       "      <td>member</td>\n",
       "    </tr>\n",
       "    <tr>\n",
       "      <th>228493</th>\n",
       "      <td>637FF754DA0BD9E1</td>\n",
       "      <td>classic_bike</td>\n",
       "      <td>2021-03-09 11:07:36</td>\n",
       "      <td>2021-03-09 11:49:11</td>\n",
       "      <td>Michigan Ave &amp; Oak St</td>\n",
       "      <td>13042</td>\n",
       "      <td>Clark St &amp; Berwyn Ave</td>\n",
       "      <td>KA1504000146</td>\n",
       "      <td>41.900960</td>\n",
       "      <td>-87.623777</td>\n",
       "      <td>41.977997</td>\n",
       "      <td>-87.668047</td>\n",
       "      <td>member</td>\n",
       "    </tr>\n",
       "    <tr>\n",
       "      <th>228494</th>\n",
       "      <td>F8F43A0B978A7A35</td>\n",
       "      <td>classic_bike</td>\n",
       "      <td>2021-03-01 18:11:57</td>\n",
       "      <td>2021-03-01 18:18:37</td>\n",
       "      <td>Kingsbury St &amp; Kinzie St</td>\n",
       "      <td>KA1503000043</td>\n",
       "      <td>New St &amp; Illinois St</td>\n",
       "      <td>TA1306000013</td>\n",
       "      <td>41.889177</td>\n",
       "      <td>-87.638506</td>\n",
       "      <td>41.890847</td>\n",
       "      <td>-87.618617</td>\n",
       "      <td>member</td>\n",
       "    </tr>\n",
       "    <tr>\n",
       "      <th>228495</th>\n",
       "      <td>3AE64EA5BF43CF72</td>\n",
       "      <td>electric_bike</td>\n",
       "      <td>2021-03-26 17:58:14</td>\n",
       "      <td>2021-03-26 18:06:43</td>\n",
       "      <td>NaN</td>\n",
       "      <td>NaN</td>\n",
       "      <td>New St &amp; Illinois St</td>\n",
       "      <td>TA1306000013</td>\n",
       "      <td>41.880000</td>\n",
       "      <td>-87.630000</td>\n",
       "      <td>41.890818</td>\n",
       "      <td>-87.619540</td>\n",
       "      <td>member</td>\n",
       "    </tr>\n",
       "  </tbody>\n",
       "</table>\n",
       "</div>"
      ],
      "text/plain": [
       "                 ride_id  rideable_type           started_at  \\\n",
       "228491  9397BDD14798A1BA    docked_bike  2021-03-20 14:58:56   \n",
       "228492  BBBEB8D51AAD40DA   classic_bike  2021-03-02 11:35:10   \n",
       "228493  637FF754DA0BD9E1   classic_bike  2021-03-09 11:07:36   \n",
       "228494  F8F43A0B978A7A35   classic_bike  2021-03-01 18:11:57   \n",
       "228495  3AE64EA5BF43CF72  electric_bike  2021-03-26 17:58:14   \n",
       "\n",
       "                   ended_at        start_station_name start_station_id  \\\n",
       "228491  2021-03-20 17:22:47     Michigan Ave & Oak St            13042   \n",
       "228492  2021-03-02 11:43:37  Kingsbury St & Kinzie St     KA1503000043   \n",
       "228493  2021-03-09 11:49:11     Michigan Ave & Oak St            13042   \n",
       "228494  2021-03-01 18:18:37  Kingsbury St & Kinzie St     KA1503000043   \n",
       "228495  2021-03-26 18:06:43                       NaN              NaN   \n",
       "\n",
       "             end_station_name end_station_id  start_lat  start_lng    end_lat  \\\n",
       "228491   New St & Illinois St   TA1306000013  41.900960 -87.623777  41.890847   \n",
       "228492   New St & Illinois St   TA1306000013  41.889177 -87.638506  41.890847   \n",
       "228493  Clark St & Berwyn Ave   KA1504000146  41.900960 -87.623777  41.977997   \n",
       "228494   New St & Illinois St   TA1306000013  41.889177 -87.638506  41.890847   \n",
       "228495   New St & Illinois St   TA1306000013  41.880000 -87.630000  41.890818   \n",
       "\n",
       "          end_lng member_casual  \n",
       "228491 -87.618617        casual  \n",
       "228492 -87.618617        member  \n",
       "228493 -87.668047        member  \n",
       "228494 -87.618617        member  \n",
       "228495 -87.619540        member  "
      ]
     },
     "execution_count": 6,
     "metadata": {},
     "output_type": "execute_result"
    }
   ],
   "source": [
    "# This function shows random rows informations or observations\n",
    "\n",
    "tripdata.tail()"
   ]
  },
  {
   "cell_type": "code",
   "execution_count": 7,
   "id": "776794de",
   "metadata": {
    "execution": {
     "iopub.execute_input": "2022-06-07T11:50:27.589497Z",
     "iopub.status.busy": "2022-06-07T11:50:27.588812Z",
     "iopub.status.idle": "2022-06-07T11:50:27.603375Z",
     "shell.execute_reply": "2022-06-07T11:50:27.602348Z"
    },
    "papermill": {
     "duration": 0.032649,
     "end_time": "2022-06-07T11:50:27.606352",
     "exception": false,
     "start_time": "2022-06-07T11:50:27.573703",
     "status": "completed"
    },
    "tags": []
   },
   "outputs": [
    {
     "name": "stdout",
     "output_type": "stream",
     "text": [
      "<class 'pandas.core.frame.DataFrame'>\n",
      "Int64Index: 3489748 entries, 0 to 228495\n",
      "Data columns (total 13 columns):\n",
      " #   Column              Dtype  \n",
      "---  ------              -----  \n",
      " 0   ride_id             object \n",
      " 1   rideable_type       object \n",
      " 2   started_at          object \n",
      " 3   ended_at            object \n",
      " 4   start_station_name  object \n",
      " 5   start_station_id    object \n",
      " 6   end_station_name    object \n",
      " 7   end_station_id      object \n",
      " 8   start_lat           float64\n",
      " 9   start_lng           float64\n",
      " 10  end_lat             float64\n",
      " 11  end_lng             float64\n",
      " 12  member_casual       object \n",
      "dtypes: float64(4), object(9)\n",
      "memory usage: 372.7+ MB\n"
     ]
    }
   ],
   "source": [
    "# More information about the data, this functions displays the type of the variables or columns\n",
    "# it also shows the count of the data format\n",
    "\n",
    "tripdata.info()"
   ]
  },
  {
   "cell_type": "markdown",
   "id": "da0ecb17",
   "metadata": {
    "papermill": {
     "duration": 0.013443,
     "end_time": "2022-06-07T11:50:27.634605",
     "exception": false,
     "start_time": "2022-06-07T11:50:27.621162",
     "status": "completed"
    },
    "tags": []
   },
   "source": [
    "**Now that we have a quick overview of what our dataframe looks like, we will clean the data and prepare for analysis**"
   ]
  },
  {
   "cell_type": "markdown",
   "id": "75730906",
   "metadata": {
    "papermill": {
     "duration": 0.013237,
     "end_time": "2022-06-07T11:50:27.661590",
     "exception": false,
     "start_time": "2022-06-07T11:50:27.648353",
     "status": "completed"
    },
    "tags": []
   },
   "source": [
    "## Data Cleaning Process\n",
    "**Remove duplicated rows using the ride_id variable**\n",
    "\n"
   ]
  },
  {
   "cell_type": "code",
   "execution_count": 8,
   "id": "7b4fed10",
   "metadata": {
    "execution": {
     "iopub.execute_input": "2022-06-07T11:50:27.690712Z",
     "iopub.status.busy": "2022-06-07T11:50:27.689859Z",
     "iopub.status.idle": "2022-06-07T11:50:29.992981Z",
     "shell.execute_reply": "2022-06-07T11:50:29.991985Z"
    },
    "papermill": {
     "duration": 2.320304,
     "end_time": "2022-06-07T11:50:29.995541",
     "exception": false,
     "start_time": "2022-06-07T11:50:27.675237",
     "status": "completed"
    },
    "tags": []
   },
   "outputs": [
    {
     "data": {
      "text/plain": [
       "209"
      ]
     },
     "execution_count": 8,
     "metadata": {},
     "output_type": "execute_result"
    }
   ],
   "source": [
    "# Using the duplicated() function combined with the sum() to have the total number of duplicated values\n",
    "\n",
    "tripdata[\"ride_id\"].duplicated().sum()\n",
    " "
   ]
  },
  {
   "cell_type": "code",
   "execution_count": null,
   "id": "536ed6bb",
   "metadata": {
    "papermill": {
     "duration": 0.013864,
     "end_time": "2022-06-07T11:50:30.023754",
     "exception": false,
     "start_time": "2022-06-07T11:50:30.009890",
     "status": "completed"
    },
    "tags": []
   },
   "outputs": [],
   "source": []
  },
  {
   "cell_type": "code",
   "execution_count": 9,
   "id": "b13317fb",
   "metadata": {
    "execution": {
     "iopub.execute_input": "2022-06-07T11:50:30.054037Z",
     "iopub.status.busy": "2022-06-07T11:50:30.053645Z",
     "iopub.status.idle": "2022-06-07T11:50:36.488993Z",
     "shell.execute_reply": "2022-06-07T11:50:36.487804Z"
    },
    "papermill": {
     "duration": 6.453366,
     "end_time": "2022-06-07T11:50:36.491367",
     "exception": false,
     "start_time": "2022-06-07T11:50:30.038001",
     "status": "completed"
    },
    "tags": []
   },
   "outputs": [
    {
     "data": {
      "text/plain": [
       "EAB41740602B3BA6     True\n",
       "FF49C6C596507F0B     True\n",
       "87D4C892CA85DB8F     True\n",
       "86E0216311A75D74     True\n",
       "50031BC4290040DF     True\n",
       "                    ...  \n",
       "2200D3DB88D6541F    False\n",
       "0DBF9C9E5B2D15D7    False\n",
       "939883F8F15CF27B    False\n",
       "2B05690EF1C97E8B    False\n",
       "3AE64EA5BF43CF72    False\n",
       "Name: ride_id, Length: 3489539, dtype: bool"
      ]
     },
     "execution_count": 9,
     "metadata": {},
     "output_type": "execute_result"
    }
   ],
   "source": [
    "tripdata[\"ride_id\"].value_counts() > 1\n",
    "\n",
    "# we could see that there are duplicated values"
   ]
  },
  {
   "cell_type": "code",
   "execution_count": 10,
   "id": "ea2df89f",
   "metadata": {
    "execution": {
     "iopub.execute_input": "2022-06-07T11:50:36.522094Z",
     "iopub.status.busy": "2022-06-07T11:50:36.521712Z",
     "iopub.status.idle": "2022-06-07T11:50:39.577367Z",
     "shell.execute_reply": "2022-06-07T11:50:39.576297Z"
    },
    "papermill": {
     "duration": 3.073833,
     "end_time": "2022-06-07T11:50:39.579493",
     "exception": false,
     "start_time": "2022-06-07T11:50:36.505660",
     "status": "completed"
    },
    "tags": []
   },
   "outputs": [
    {
     "data": {
      "text/html": [
       "<div>\n",
       "<style scoped>\n",
       "    .dataframe tbody tr th:only-of-type {\n",
       "        vertical-align: middle;\n",
       "    }\n",
       "\n",
       "    .dataframe tbody tr th {\n",
       "        vertical-align: top;\n",
       "    }\n",
       "\n",
       "    .dataframe thead th {\n",
       "        text-align: right;\n",
       "    }\n",
       "</style>\n",
       "<table border=\"1\" class=\"dataframe\">\n",
       "  <thead>\n",
       "    <tr style=\"text-align: right;\">\n",
       "      <th></th>\n",
       "      <th>ride_id</th>\n",
       "      <th>rideable_type</th>\n",
       "      <th>started_at</th>\n",
       "      <th>ended_at</th>\n",
       "      <th>start_station_name</th>\n",
       "      <th>start_station_id</th>\n",
       "      <th>end_station_name</th>\n",
       "      <th>end_station_id</th>\n",
       "      <th>start_lat</th>\n",
       "      <th>start_lng</th>\n",
       "      <th>end_lat</th>\n",
       "      <th>end_lng</th>\n",
       "      <th>member_casual</th>\n",
       "    </tr>\n",
       "  </thead>\n",
       "  <tbody>\n",
       "    <tr>\n",
       "      <th>0</th>\n",
       "      <td>A847FADBBC638E45</td>\n",
       "      <td>docked_bike</td>\n",
       "      <td>2020-04-26 17:45:14</td>\n",
       "      <td>2020-04-26 18:12:03</td>\n",
       "      <td>Eckhart Park</td>\n",
       "      <td>86</td>\n",
       "      <td>Lincoln Ave &amp; Diversey Pkwy</td>\n",
       "      <td>152.0</td>\n",
       "      <td>41.896400</td>\n",
       "      <td>-87.661000</td>\n",
       "      <td>41.932200</td>\n",
       "      <td>-87.658600</td>\n",
       "      <td>member</td>\n",
       "    </tr>\n",
       "    <tr>\n",
       "      <th>1</th>\n",
       "      <td>5405B80E996FF60D</td>\n",
       "      <td>docked_bike</td>\n",
       "      <td>2020-04-17 17:08:54</td>\n",
       "      <td>2020-04-17 17:17:03</td>\n",
       "      <td>Drake Ave &amp; Fullerton Ave</td>\n",
       "      <td>503</td>\n",
       "      <td>Kosciuszko Park</td>\n",
       "      <td>499.0</td>\n",
       "      <td>41.924400</td>\n",
       "      <td>-87.715400</td>\n",
       "      <td>41.930600</td>\n",
       "      <td>-87.723800</td>\n",
       "      <td>member</td>\n",
       "    </tr>\n",
       "    <tr>\n",
       "      <th>2</th>\n",
       "      <td>5DD24A79A4E006F4</td>\n",
       "      <td>docked_bike</td>\n",
       "      <td>2020-04-01 17:54:13</td>\n",
       "      <td>2020-04-01 18:08:36</td>\n",
       "      <td>McClurg Ct &amp; Erie St</td>\n",
       "      <td>142</td>\n",
       "      <td>Indiana Ave &amp; Roosevelt Rd</td>\n",
       "      <td>255.0</td>\n",
       "      <td>41.894500</td>\n",
       "      <td>-87.617900</td>\n",
       "      <td>41.867900</td>\n",
       "      <td>-87.623000</td>\n",
       "      <td>member</td>\n",
       "    </tr>\n",
       "    <tr>\n",
       "      <th>3</th>\n",
       "      <td>2A59BBDF5CDBA725</td>\n",
       "      <td>docked_bike</td>\n",
       "      <td>2020-04-07 12:50:19</td>\n",
       "      <td>2020-04-07 13:02:31</td>\n",
       "      <td>California Ave &amp; Division St</td>\n",
       "      <td>216</td>\n",
       "      <td>Wood St &amp; Augusta Blvd</td>\n",
       "      <td>657.0</td>\n",
       "      <td>41.903000</td>\n",
       "      <td>-87.697500</td>\n",
       "      <td>41.899200</td>\n",
       "      <td>-87.672200</td>\n",
       "      <td>member</td>\n",
       "    </tr>\n",
       "    <tr>\n",
       "      <th>4</th>\n",
       "      <td>27AD306C119C6158</td>\n",
       "      <td>docked_bike</td>\n",
       "      <td>2020-04-18 10:22:59</td>\n",
       "      <td>2020-04-18 11:15:54</td>\n",
       "      <td>Rush St &amp; Hubbard St</td>\n",
       "      <td>125</td>\n",
       "      <td>Sheridan Rd &amp; Lawrence Ave</td>\n",
       "      <td>323.0</td>\n",
       "      <td>41.890200</td>\n",
       "      <td>-87.626200</td>\n",
       "      <td>41.969500</td>\n",
       "      <td>-87.654700</td>\n",
       "      <td>casual</td>\n",
       "    </tr>\n",
       "    <tr>\n",
       "      <th>...</th>\n",
       "      <td>...</td>\n",
       "      <td>...</td>\n",
       "      <td>...</td>\n",
       "      <td>...</td>\n",
       "      <td>...</td>\n",
       "      <td>...</td>\n",
       "      <td>...</td>\n",
       "      <td>...</td>\n",
       "      <td>...</td>\n",
       "      <td>...</td>\n",
       "      <td>...</td>\n",
       "      <td>...</td>\n",
       "      <td>...</td>\n",
       "    </tr>\n",
       "    <tr>\n",
       "      <th>228491</th>\n",
       "      <td>9397BDD14798A1BA</td>\n",
       "      <td>docked_bike</td>\n",
       "      <td>2021-03-20 14:58:56</td>\n",
       "      <td>2021-03-20 17:22:47</td>\n",
       "      <td>Michigan Ave &amp; Oak St</td>\n",
       "      <td>13042</td>\n",
       "      <td>New St &amp; Illinois St</td>\n",
       "      <td>TA1306000013</td>\n",
       "      <td>41.900960</td>\n",
       "      <td>-87.623777</td>\n",
       "      <td>41.890847</td>\n",
       "      <td>-87.618617</td>\n",
       "      <td>casual</td>\n",
       "    </tr>\n",
       "    <tr>\n",
       "      <th>228492</th>\n",
       "      <td>BBBEB8D51AAD40DA</td>\n",
       "      <td>classic_bike</td>\n",
       "      <td>2021-03-02 11:35:10</td>\n",
       "      <td>2021-03-02 11:43:37</td>\n",
       "      <td>Kingsbury St &amp; Kinzie St</td>\n",
       "      <td>KA1503000043</td>\n",
       "      <td>New St &amp; Illinois St</td>\n",
       "      <td>TA1306000013</td>\n",
       "      <td>41.889177</td>\n",
       "      <td>-87.638506</td>\n",
       "      <td>41.890847</td>\n",
       "      <td>-87.618617</td>\n",
       "      <td>member</td>\n",
       "    </tr>\n",
       "    <tr>\n",
       "      <th>228493</th>\n",
       "      <td>637FF754DA0BD9E1</td>\n",
       "      <td>classic_bike</td>\n",
       "      <td>2021-03-09 11:07:36</td>\n",
       "      <td>2021-03-09 11:49:11</td>\n",
       "      <td>Michigan Ave &amp; Oak St</td>\n",
       "      <td>13042</td>\n",
       "      <td>Clark St &amp; Berwyn Ave</td>\n",
       "      <td>KA1504000146</td>\n",
       "      <td>41.900960</td>\n",
       "      <td>-87.623777</td>\n",
       "      <td>41.977997</td>\n",
       "      <td>-87.668047</td>\n",
       "      <td>member</td>\n",
       "    </tr>\n",
       "    <tr>\n",
       "      <th>228494</th>\n",
       "      <td>F8F43A0B978A7A35</td>\n",
       "      <td>classic_bike</td>\n",
       "      <td>2021-03-01 18:11:57</td>\n",
       "      <td>2021-03-01 18:18:37</td>\n",
       "      <td>Kingsbury St &amp; Kinzie St</td>\n",
       "      <td>KA1503000043</td>\n",
       "      <td>New St &amp; Illinois St</td>\n",
       "      <td>TA1306000013</td>\n",
       "      <td>41.889177</td>\n",
       "      <td>-87.638506</td>\n",
       "      <td>41.890847</td>\n",
       "      <td>-87.618617</td>\n",
       "      <td>member</td>\n",
       "    </tr>\n",
       "    <tr>\n",
       "      <th>228495</th>\n",
       "      <td>3AE64EA5BF43CF72</td>\n",
       "      <td>electric_bike</td>\n",
       "      <td>2021-03-26 17:58:14</td>\n",
       "      <td>2021-03-26 18:06:43</td>\n",
       "      <td>NaN</td>\n",
       "      <td>NaN</td>\n",
       "      <td>New St &amp; Illinois St</td>\n",
       "      <td>TA1306000013</td>\n",
       "      <td>41.880000</td>\n",
       "      <td>-87.630000</td>\n",
       "      <td>41.890818</td>\n",
       "      <td>-87.619540</td>\n",
       "      <td>member</td>\n",
       "    </tr>\n",
       "  </tbody>\n",
       "</table>\n",
       "<p>3489539 rows × 13 columns</p>\n",
       "</div>"
      ],
      "text/plain": [
       "                 ride_id  rideable_type           started_at  \\\n",
       "0       A847FADBBC638E45    docked_bike  2020-04-26 17:45:14   \n",
       "1       5405B80E996FF60D    docked_bike  2020-04-17 17:08:54   \n",
       "2       5DD24A79A4E006F4    docked_bike  2020-04-01 17:54:13   \n",
       "3       2A59BBDF5CDBA725    docked_bike  2020-04-07 12:50:19   \n",
       "4       27AD306C119C6158    docked_bike  2020-04-18 10:22:59   \n",
       "...                  ...            ...                  ...   \n",
       "228491  9397BDD14798A1BA    docked_bike  2021-03-20 14:58:56   \n",
       "228492  BBBEB8D51AAD40DA   classic_bike  2021-03-02 11:35:10   \n",
       "228493  637FF754DA0BD9E1   classic_bike  2021-03-09 11:07:36   \n",
       "228494  F8F43A0B978A7A35   classic_bike  2021-03-01 18:11:57   \n",
       "228495  3AE64EA5BF43CF72  electric_bike  2021-03-26 17:58:14   \n",
       "\n",
       "                   ended_at            start_station_name start_station_id  \\\n",
       "0       2020-04-26 18:12:03                  Eckhart Park               86   \n",
       "1       2020-04-17 17:17:03     Drake Ave & Fullerton Ave              503   \n",
       "2       2020-04-01 18:08:36          McClurg Ct & Erie St              142   \n",
       "3       2020-04-07 13:02:31  California Ave & Division St              216   \n",
       "4       2020-04-18 11:15:54          Rush St & Hubbard St              125   \n",
       "...                     ...                           ...              ...   \n",
       "228491  2021-03-20 17:22:47         Michigan Ave & Oak St            13042   \n",
       "228492  2021-03-02 11:43:37      Kingsbury St & Kinzie St     KA1503000043   \n",
       "228493  2021-03-09 11:49:11         Michigan Ave & Oak St            13042   \n",
       "228494  2021-03-01 18:18:37      Kingsbury St & Kinzie St     KA1503000043   \n",
       "228495  2021-03-26 18:06:43                           NaN              NaN   \n",
       "\n",
       "                   end_station_name end_station_id  start_lat  start_lng  \\\n",
       "0       Lincoln Ave & Diversey Pkwy          152.0  41.896400 -87.661000   \n",
       "1                   Kosciuszko Park          499.0  41.924400 -87.715400   \n",
       "2        Indiana Ave & Roosevelt Rd          255.0  41.894500 -87.617900   \n",
       "3            Wood St & Augusta Blvd          657.0  41.903000 -87.697500   \n",
       "4        Sheridan Rd & Lawrence Ave          323.0  41.890200 -87.626200   \n",
       "...                             ...            ...        ...        ...   \n",
       "228491         New St & Illinois St   TA1306000013  41.900960 -87.623777   \n",
       "228492         New St & Illinois St   TA1306000013  41.889177 -87.638506   \n",
       "228493        Clark St & Berwyn Ave   KA1504000146  41.900960 -87.623777   \n",
       "228494         New St & Illinois St   TA1306000013  41.889177 -87.638506   \n",
       "228495         New St & Illinois St   TA1306000013  41.880000 -87.630000   \n",
       "\n",
       "          end_lat    end_lng member_casual  \n",
       "0       41.932200 -87.658600        member  \n",
       "1       41.930600 -87.723800        member  \n",
       "2       41.867900 -87.623000        member  \n",
       "3       41.899200 -87.672200        member  \n",
       "4       41.969500 -87.654700        casual  \n",
       "...           ...        ...           ...  \n",
       "228491  41.890847 -87.618617        casual  \n",
       "228492  41.890847 -87.618617        member  \n",
       "228493  41.977997 -87.668047        member  \n",
       "228494  41.890847 -87.618617        member  \n",
       "228495  41.890818 -87.619540        member  \n",
       "\n",
       "[3489539 rows x 13 columns]"
      ]
     },
     "execution_count": 10,
     "metadata": {},
     "output_type": "execute_result"
    }
   ],
   "source": [
    "# assigning the filtered data to a new variable with the duplicates removed \n",
    "\n",
    "tripdataV1 = tripdata.drop_duplicates(subset=[\"ride_id\"])\n",
    "\n",
    "tripdataV1\n",
    "\n",
    "# It´s good to know that i have made the difference between the tripdata and the tripdata_filtered to have sure we removed the exact number of duplicated rows and yeah it was 209."
   ]
  },
  {
   "cell_type": "code",
   "execution_count": 11,
   "id": "6c0f5f39",
   "metadata": {
    "execution": {
     "iopub.execute_input": "2022-06-07T11:50:39.610612Z",
     "iopub.status.busy": "2022-06-07T11:50:39.610245Z",
     "iopub.status.idle": "2022-06-07T11:50:39.632670Z",
     "shell.execute_reply": "2022-06-07T11:50:39.631667Z"
    },
    "papermill": {
     "duration": 0.040581,
     "end_time": "2022-06-07T11:50:39.634845",
     "exception": false,
     "start_time": "2022-06-07T11:50:39.594264",
     "status": "completed"
    },
    "tags": []
   },
   "outputs": [
    {
     "data": {
      "text/html": [
       "<div>\n",
       "<style scoped>\n",
       "    .dataframe tbody tr th:only-of-type {\n",
       "        vertical-align: middle;\n",
       "    }\n",
       "\n",
       "    .dataframe tbody tr th {\n",
       "        vertical-align: top;\n",
       "    }\n",
       "\n",
       "    .dataframe thead th {\n",
       "        text-align: right;\n",
       "    }\n",
       "</style>\n",
       "<table border=\"1\" class=\"dataframe\">\n",
       "  <thead>\n",
       "    <tr style=\"text-align: right;\">\n",
       "      <th></th>\n",
       "      <th>ride_id</th>\n",
       "      <th>rideable_type</th>\n",
       "      <th>started_at</th>\n",
       "      <th>ended_at</th>\n",
       "      <th>start_station_name</th>\n",
       "      <th>start_station_id</th>\n",
       "      <th>end_station_name</th>\n",
       "      <th>end_station_id</th>\n",
       "      <th>start_lat</th>\n",
       "      <th>start_lng</th>\n",
       "      <th>end_lat</th>\n",
       "      <th>end_lng</th>\n",
       "      <th>member_casual</th>\n",
       "    </tr>\n",
       "  </thead>\n",
       "  <tbody>\n",
       "    <tr>\n",
       "      <th>0</th>\n",
       "      <td>A847FADBBC638E45</td>\n",
       "      <td>docked_bike</td>\n",
       "      <td>2020-04-26 17:45:14</td>\n",
       "      <td>2020-04-26 18:12:03</td>\n",
       "      <td>Eckhart Park</td>\n",
       "      <td>86</td>\n",
       "      <td>Lincoln Ave &amp; Diversey Pkwy</td>\n",
       "      <td>152.0</td>\n",
       "      <td>41.896400</td>\n",
       "      <td>-87.661000</td>\n",
       "      <td>41.932200</td>\n",
       "      <td>-87.658600</td>\n",
       "      <td>member</td>\n",
       "    </tr>\n",
       "    <tr>\n",
       "      <th>1</th>\n",
       "      <td>5405B80E996FF60D</td>\n",
       "      <td>docked_bike</td>\n",
       "      <td>2020-04-17 17:08:54</td>\n",
       "      <td>2020-04-17 17:17:03</td>\n",
       "      <td>Drake Ave &amp; Fullerton Ave</td>\n",
       "      <td>503</td>\n",
       "      <td>Kosciuszko Park</td>\n",
       "      <td>499.0</td>\n",
       "      <td>41.924400</td>\n",
       "      <td>-87.715400</td>\n",
       "      <td>41.930600</td>\n",
       "      <td>-87.723800</td>\n",
       "      <td>member</td>\n",
       "    </tr>\n",
       "    <tr>\n",
       "      <th>2</th>\n",
       "      <td>5DD24A79A4E006F4</td>\n",
       "      <td>docked_bike</td>\n",
       "      <td>2020-04-01 17:54:13</td>\n",
       "      <td>2020-04-01 18:08:36</td>\n",
       "      <td>McClurg Ct &amp; Erie St</td>\n",
       "      <td>142</td>\n",
       "      <td>Indiana Ave &amp; Roosevelt Rd</td>\n",
       "      <td>255.0</td>\n",
       "      <td>41.894500</td>\n",
       "      <td>-87.617900</td>\n",
       "      <td>41.867900</td>\n",
       "      <td>-87.623000</td>\n",
       "      <td>member</td>\n",
       "    </tr>\n",
       "    <tr>\n",
       "      <th>3</th>\n",
       "      <td>2A59BBDF5CDBA725</td>\n",
       "      <td>docked_bike</td>\n",
       "      <td>2020-04-07 12:50:19</td>\n",
       "      <td>2020-04-07 13:02:31</td>\n",
       "      <td>California Ave &amp; Division St</td>\n",
       "      <td>216</td>\n",
       "      <td>Wood St &amp; Augusta Blvd</td>\n",
       "      <td>657.0</td>\n",
       "      <td>41.903000</td>\n",
       "      <td>-87.697500</td>\n",
       "      <td>41.899200</td>\n",
       "      <td>-87.672200</td>\n",
       "      <td>member</td>\n",
       "    </tr>\n",
       "    <tr>\n",
       "      <th>4</th>\n",
       "      <td>27AD306C119C6158</td>\n",
       "      <td>docked_bike</td>\n",
       "      <td>2020-04-18 10:22:59</td>\n",
       "      <td>2020-04-18 11:15:54</td>\n",
       "      <td>Rush St &amp; Hubbard St</td>\n",
       "      <td>125</td>\n",
       "      <td>Sheridan Rd &amp; Lawrence Ave</td>\n",
       "      <td>323.0</td>\n",
       "      <td>41.890200</td>\n",
       "      <td>-87.626200</td>\n",
       "      <td>41.969500</td>\n",
       "      <td>-87.654700</td>\n",
       "      <td>casual</td>\n",
       "    </tr>\n",
       "    <tr>\n",
       "      <th>...</th>\n",
       "      <td>...</td>\n",
       "      <td>...</td>\n",
       "      <td>...</td>\n",
       "      <td>...</td>\n",
       "      <td>...</td>\n",
       "      <td>...</td>\n",
       "      <td>...</td>\n",
       "      <td>...</td>\n",
       "      <td>...</td>\n",
       "      <td>...</td>\n",
       "      <td>...</td>\n",
       "      <td>...</td>\n",
       "      <td>...</td>\n",
       "    </tr>\n",
       "    <tr>\n",
       "      <th>228491</th>\n",
       "      <td>9397BDD14798A1BA</td>\n",
       "      <td>docked_bike</td>\n",
       "      <td>2021-03-20 14:58:56</td>\n",
       "      <td>2021-03-20 17:22:47</td>\n",
       "      <td>Michigan Ave &amp; Oak St</td>\n",
       "      <td>13042</td>\n",
       "      <td>New St &amp; Illinois St</td>\n",
       "      <td>TA1306000013</td>\n",
       "      <td>41.900960</td>\n",
       "      <td>-87.623777</td>\n",
       "      <td>41.890847</td>\n",
       "      <td>-87.618617</td>\n",
       "      <td>casual</td>\n",
       "    </tr>\n",
       "    <tr>\n",
       "      <th>228492</th>\n",
       "      <td>BBBEB8D51AAD40DA</td>\n",
       "      <td>classic_bike</td>\n",
       "      <td>2021-03-02 11:35:10</td>\n",
       "      <td>2021-03-02 11:43:37</td>\n",
       "      <td>Kingsbury St &amp; Kinzie St</td>\n",
       "      <td>KA1503000043</td>\n",
       "      <td>New St &amp; Illinois St</td>\n",
       "      <td>TA1306000013</td>\n",
       "      <td>41.889177</td>\n",
       "      <td>-87.638506</td>\n",
       "      <td>41.890847</td>\n",
       "      <td>-87.618617</td>\n",
       "      <td>member</td>\n",
       "    </tr>\n",
       "    <tr>\n",
       "      <th>228493</th>\n",
       "      <td>637FF754DA0BD9E1</td>\n",
       "      <td>classic_bike</td>\n",
       "      <td>2021-03-09 11:07:36</td>\n",
       "      <td>2021-03-09 11:49:11</td>\n",
       "      <td>Michigan Ave &amp; Oak St</td>\n",
       "      <td>13042</td>\n",
       "      <td>Clark St &amp; Berwyn Ave</td>\n",
       "      <td>KA1504000146</td>\n",
       "      <td>41.900960</td>\n",
       "      <td>-87.623777</td>\n",
       "      <td>41.977997</td>\n",
       "      <td>-87.668047</td>\n",
       "      <td>member</td>\n",
       "    </tr>\n",
       "    <tr>\n",
       "      <th>228494</th>\n",
       "      <td>F8F43A0B978A7A35</td>\n",
       "      <td>classic_bike</td>\n",
       "      <td>2021-03-01 18:11:57</td>\n",
       "      <td>2021-03-01 18:18:37</td>\n",
       "      <td>Kingsbury St &amp; Kinzie St</td>\n",
       "      <td>KA1503000043</td>\n",
       "      <td>New St &amp; Illinois St</td>\n",
       "      <td>TA1306000013</td>\n",
       "      <td>41.889177</td>\n",
       "      <td>-87.638506</td>\n",
       "      <td>41.890847</td>\n",
       "      <td>-87.618617</td>\n",
       "      <td>member</td>\n",
       "    </tr>\n",
       "    <tr>\n",
       "      <th>228495</th>\n",
       "      <td>3AE64EA5BF43CF72</td>\n",
       "      <td>electric_bike</td>\n",
       "      <td>2021-03-26 17:58:14</td>\n",
       "      <td>2021-03-26 18:06:43</td>\n",
       "      <td>NaN</td>\n",
       "      <td>NaN</td>\n",
       "      <td>New St &amp; Illinois St</td>\n",
       "      <td>TA1306000013</td>\n",
       "      <td>41.880000</td>\n",
       "      <td>-87.630000</td>\n",
       "      <td>41.890818</td>\n",
       "      <td>-87.619540</td>\n",
       "      <td>member</td>\n",
       "    </tr>\n",
       "  </tbody>\n",
       "</table>\n",
       "<p>3489539 rows × 13 columns</p>\n",
       "</div>"
      ],
      "text/plain": [
       "                 ride_id  rideable_type           started_at  \\\n",
       "0       A847FADBBC638E45    docked_bike  2020-04-26 17:45:14   \n",
       "1       5405B80E996FF60D    docked_bike  2020-04-17 17:08:54   \n",
       "2       5DD24A79A4E006F4    docked_bike  2020-04-01 17:54:13   \n",
       "3       2A59BBDF5CDBA725    docked_bike  2020-04-07 12:50:19   \n",
       "4       27AD306C119C6158    docked_bike  2020-04-18 10:22:59   \n",
       "...                  ...            ...                  ...   \n",
       "228491  9397BDD14798A1BA    docked_bike  2021-03-20 14:58:56   \n",
       "228492  BBBEB8D51AAD40DA   classic_bike  2021-03-02 11:35:10   \n",
       "228493  637FF754DA0BD9E1   classic_bike  2021-03-09 11:07:36   \n",
       "228494  F8F43A0B978A7A35   classic_bike  2021-03-01 18:11:57   \n",
       "228495  3AE64EA5BF43CF72  electric_bike  2021-03-26 17:58:14   \n",
       "\n",
       "                   ended_at            start_station_name start_station_id  \\\n",
       "0       2020-04-26 18:12:03                  Eckhart Park               86   \n",
       "1       2020-04-17 17:17:03     Drake Ave & Fullerton Ave              503   \n",
       "2       2020-04-01 18:08:36          McClurg Ct & Erie St              142   \n",
       "3       2020-04-07 13:02:31  California Ave & Division St              216   \n",
       "4       2020-04-18 11:15:54          Rush St & Hubbard St              125   \n",
       "...                     ...                           ...              ...   \n",
       "228491  2021-03-20 17:22:47         Michigan Ave & Oak St            13042   \n",
       "228492  2021-03-02 11:43:37      Kingsbury St & Kinzie St     KA1503000043   \n",
       "228493  2021-03-09 11:49:11         Michigan Ave & Oak St            13042   \n",
       "228494  2021-03-01 18:18:37      Kingsbury St & Kinzie St     KA1503000043   \n",
       "228495  2021-03-26 18:06:43                           NaN              NaN   \n",
       "\n",
       "                   end_station_name end_station_id  start_lat  start_lng  \\\n",
       "0       Lincoln Ave & Diversey Pkwy          152.0  41.896400 -87.661000   \n",
       "1                   Kosciuszko Park          499.0  41.924400 -87.715400   \n",
       "2        Indiana Ave & Roosevelt Rd          255.0  41.894500 -87.617900   \n",
       "3            Wood St & Augusta Blvd          657.0  41.903000 -87.697500   \n",
       "4        Sheridan Rd & Lawrence Ave          323.0  41.890200 -87.626200   \n",
       "...                             ...            ...        ...        ...   \n",
       "228491         New St & Illinois St   TA1306000013  41.900960 -87.623777   \n",
       "228492         New St & Illinois St   TA1306000013  41.889177 -87.638506   \n",
       "228493        Clark St & Berwyn Ave   KA1504000146  41.900960 -87.623777   \n",
       "228494         New St & Illinois St   TA1306000013  41.889177 -87.638506   \n",
       "228495         New St & Illinois St   TA1306000013  41.880000 -87.630000   \n",
       "\n",
       "          end_lat    end_lng member_casual  \n",
       "0       41.932200 -87.658600        member  \n",
       "1       41.930600 -87.723800        member  \n",
       "2       41.867900 -87.623000        member  \n",
       "3       41.899200 -87.672200        member  \n",
       "4       41.969500 -87.654700        casual  \n",
       "...           ...        ...           ...  \n",
       "228491  41.890847 -87.618617        casual  \n",
       "228492  41.890847 -87.618617        member  \n",
       "228493  41.977997 -87.668047        member  \n",
       "228494  41.890847 -87.618617        member  \n",
       "228495  41.890818 -87.619540        member  \n",
       "\n",
       "[3489539 rows x 13 columns]"
      ]
     },
     "execution_count": 11,
     "metadata": {},
     "output_type": "execute_result"
    }
   ],
   "source": [
    "\n",
    "tripdataV1\n",
    "\n",
    "        "
   ]
  },
  {
   "cell_type": "code",
   "execution_count": null,
   "id": "5c39b22d",
   "metadata": {
    "papermill": {
     "duration": 0.014581,
     "end_time": "2022-06-07T11:50:39.664424",
     "exception": false,
     "start_time": "2022-06-07T11:50:39.649843",
     "status": "completed"
    },
    "tags": []
   },
   "outputs": [],
   "source": []
  },
  {
   "cell_type": "code",
   "execution_count": null,
   "id": "07de3bec",
   "metadata": {
    "papermill": {
     "duration": 0.014451,
     "end_time": "2022-06-07T11:50:39.693729",
     "exception": false,
     "start_time": "2022-06-07T11:50:39.679278",
     "status": "completed"
    },
    "tags": []
   },
   "outputs": [],
   "source": []
  },
  {
   "cell_type": "code",
   "execution_count": 12,
   "id": "819fa4cf",
   "metadata": {
    "execution": {
     "iopub.execute_input": "2022-06-07T11:50:39.725223Z",
     "iopub.status.busy": "2022-06-07T11:50:39.724664Z",
     "iopub.status.idle": "2022-06-07T11:50:42.752494Z",
     "shell.execute_reply": "2022-06-07T11:50:42.751556Z"
    },
    "papermill": {
     "duration": 3.046108,
     "end_time": "2022-06-07T11:50:42.754661",
     "exception": false,
     "start_time": "2022-06-07T11:50:39.708553",
     "status": "completed"
    },
    "tags": []
   },
   "outputs": [
    {
     "data": {
      "text/plain": [
       "ride_id                    0\n",
       "rideable_type              0\n",
       "started_at                 0\n",
       "ended_at                   0\n",
       "start_station_name    122175\n",
       "start_station_id      122801\n",
       "end_station_name      143241\n",
       "end_station_id        143702\n",
       "start_lat                  0\n",
       "start_lng                  0\n",
       "end_lat                 4737\n",
       "end_lng                 4737\n",
       "member_casual              0\n",
       "dtype: int64"
      ]
     },
     "execution_count": 12,
     "metadata": {},
     "output_type": "execute_result"
    }
   ],
   "source": [
    "#Checking the null values and counting with the sum() function\n",
    "# Yeah i know it's weird the sum() function be counting\n",
    "# I was thinking it should be the count() function\n",
    "\n",
    "tripdataV1.isna().sum()\n"
   ]
  },
  {
   "cell_type": "markdown",
   "id": "24faba87",
   "metadata": {
    "papermill": {
     "duration": 0.014925,
     "end_time": "2022-06-07T11:50:42.784604",
     "exception": false,
     "start_time": "2022-06-07T11:50:42.769679",
     "status": "completed"
    },
    "tags": []
   },
   "source": [
    "Now we could see there are lot of null values such as:\n",
    "1. start_station_name has 122175\n",
    "2. start_station_id has 122801\n",
    "3. end_station_name has 143241\n",
    "4. end_station_id has 143702\n",
    "5. end_lat has 4737\n",
    "6. end_lng has 4737\n",
    "\n",
    "We will handle this null values"
   ]
  },
  {
   "cell_type": "code",
   "execution_count": 13,
   "id": "f9416ca2",
   "metadata": {
    "execution": {
     "iopub.execute_input": "2022-06-07T11:50:42.816890Z",
     "iopub.status.busy": "2022-06-07T11:50:42.816168Z",
     "iopub.status.idle": "2022-06-07T11:50:43.193447Z",
     "shell.execute_reply": "2022-06-07T11:50:43.192455Z"
    },
    "papermill": {
     "duration": 0.395863,
     "end_time": "2022-06-07T11:50:43.195694",
     "exception": false,
     "start_time": "2022-06-07T11:50:42.799831",
     "status": "completed"
    },
    "tags": []
   },
   "outputs": [
    {
     "data": {
      "text/plain": [
       "0"
      ]
     },
     "execution_count": 13,
     "metadata": {},
     "output_type": "execute_result"
    }
   ],
   "source": [
    "# As we can see in my unique values i don't have nulls values\n",
    "\n",
    "tripdataV1[\"ride_id\"].isna().sum()\n"
   ]
  },
  {
   "cell_type": "code",
   "execution_count": 14,
   "id": "2966b6af",
   "metadata": {
    "execution": {
     "iopub.execute_input": "2022-06-07T11:50:43.228115Z",
     "iopub.status.busy": "2022-06-07T11:50:43.227279Z",
     "iopub.status.idle": "2022-06-07T11:50:43.235184Z",
     "shell.execute_reply": "2022-06-07T11:50:43.234245Z"
    },
    "papermill": {
     "duration": 0.026324,
     "end_time": "2022-06-07T11:50:43.237083",
     "exception": false,
     "start_time": "2022-06-07T11:50:43.210759",
     "status": "completed"
    },
    "tags": []
   },
   "outputs": [
    {
     "data": {
      "text/plain": [
       "ride_id                         E4CE369DF59D80C5\n",
       "rideable_type                        docked_bike\n",
       "started_at                   2020-05-12 13:14:43\n",
       "ended_at                     2020-05-12 13:21:55\n",
       "start_station_name    Larrabee St & Kingsbury St\n",
       "start_station_id                              48\n",
       "end_station_name           Dearborn St & Erie St\n",
       "end_station_id                             110.0\n",
       "start_lat                                41.8978\n",
       "start_lng                               -87.6429\n",
       "end_lat                                   41.894\n",
       "end_lng                                 -87.6293\n",
       "member_casual                             member\n",
       "Name: 143718, dtype: object"
      ]
     },
     "execution_count": 14,
     "metadata": {},
     "output_type": "execute_result"
    }
   ],
   "source": [
    "# Using this function to see this specific row index values\n",
    "\n",
    "tripdataV1.iloc[228494]\n"
   ]
  },
  {
   "cell_type": "markdown",
   "id": "162c6493",
   "metadata": {
    "papermill": {
     "duration": 0.015167,
     "end_time": "2022-06-07T11:50:43.267517",
     "exception": false,
     "start_time": "2022-06-07T11:50:43.252350",
     "status": "completed"
    },
    "tags": []
   },
   "source": [
    "**Converting types**\n"
   ]
  },
  {
   "cell_type": "code",
   "execution_count": 15,
   "id": "75b565e8",
   "metadata": {
    "execution": {
     "iopub.execute_input": "2022-06-07T11:50:43.300674Z",
     "iopub.status.busy": "2022-06-07T11:50:43.300122Z",
     "iopub.status.idle": "2022-06-07T11:50:43.304790Z",
     "shell.execute_reply": "2022-06-07T11:50:43.304189Z"
    },
    "papermill": {
     "duration": 0.023399,
     "end_time": "2022-06-07T11:50:43.306734",
     "exception": false,
     "start_time": "2022-06-07T11:50:43.283335",
     "status": "completed"
    },
    "tags": []
   },
   "outputs": [
    {
     "data": {
      "text/plain": [
       "3489539"
      ]
     },
     "execution_count": 15,
     "metadata": {},
     "output_type": "execute_result"
    }
   ],
   "source": [
    "# Checking again the number of rows\n",
    "\n",
    "len(tripdataV1)\n"
   ]
  },
  {
   "cell_type": "code",
   "execution_count": 16,
   "id": "7d253485",
   "metadata": {
    "execution": {
     "iopub.execute_input": "2022-06-07T11:50:43.339608Z",
     "iopub.status.busy": "2022-06-07T11:50:43.339102Z",
     "iopub.status.idle": "2022-06-07T11:50:43.583224Z",
     "shell.execute_reply": "2022-06-07T11:50:43.582266Z"
    },
    "papermill": {
     "duration": 0.263201,
     "end_time": "2022-06-07T11:50:43.585502",
     "exception": false,
     "start_time": "2022-06-07T11:50:43.322301",
     "status": "completed"
    },
    "tags": []
   },
   "outputs": [
    {
     "data": {
      "text/plain": [
       "2"
      ]
     },
     "execution_count": 16,
     "metadata": {},
     "output_type": "execute_result"
    }
   ],
   "source": [
    "# Checking outliers\n",
    "\n",
    "tripdataV1[\"member_casual\"].nunique()\n"
   ]
  },
  {
   "cell_type": "code",
   "execution_count": 17,
   "id": "69deccce",
   "metadata": {
    "execution": {
     "iopub.execute_input": "2022-06-07T11:50:43.619356Z",
     "iopub.status.busy": "2022-06-07T11:50:43.618926Z",
     "iopub.status.idle": "2022-06-07T11:50:43.886647Z",
     "shell.execute_reply": "2022-06-07T11:50:43.885726Z"
    },
    "papermill": {
     "duration": 0.2879,
     "end_time": "2022-06-07T11:50:43.889182",
     "exception": false,
     "start_time": "2022-06-07T11:50:43.601282",
     "status": "completed"
    },
    "tags": []
   },
   "outputs": [
    {
     "data": {
      "text/plain": [
       "3"
      ]
     },
     "execution_count": 17,
     "metadata": {},
     "output_type": "execute_result"
    }
   ],
   "source": [
    "# Checking outliers\n",
    "\n",
    "tripdataV1[\"rideable_type\"].nunique()\n"
   ]
  },
  {
   "cell_type": "code",
   "execution_count": 18,
   "id": "e8318f2a",
   "metadata": {
    "execution": {
     "iopub.execute_input": "2022-06-07T11:50:43.922276Z",
     "iopub.status.busy": "2022-06-07T11:50:43.921851Z",
     "iopub.status.idle": "2022-06-07T11:50:48.235976Z",
     "shell.execute_reply": "2022-06-07T11:50:48.234826Z"
    },
    "papermill": {
     "duration": 4.333403,
     "end_time": "2022-06-07T11:50:48.238471",
     "exception": false,
     "start_time": "2022-06-07T11:50:43.905068",
     "status": "completed"
    },
    "tags": []
   },
   "outputs": [
    {
     "data": {
      "text/plain": [
       "count                 3489539\n",
       "unique                3040064\n",
       "top       2020-07-12 13:16:59\n",
       "freq                       12\n",
       "Name: started_at, dtype: object"
      ]
     },
     "execution_count": 18,
     "metadata": {},
     "output_type": "execute_result"
    }
   ],
   "source": [
    "# Watching a brief description about the column so i can be sure of the type\n",
    "\n",
    "tripdataV1[\"started_at\"].describe()\n",
    "\n"
   ]
  },
  {
   "cell_type": "markdown",
   "id": "31e10705",
   "metadata": {
    "papermill": {
     "duration": 0.015709,
     "end_time": "2022-06-07T11:50:48.270583",
     "exception": false,
     "start_time": "2022-06-07T11:50:48.254874",
     "status": "completed"
    },
    "tags": []
   },
   "source": [
    "**As seem above the started_at is in an object data type**\n",
    "**The ended_at column has the same format and we want them to be datetime**"
   ]
  },
  {
   "cell_type": "code",
   "execution_count": 19,
   "id": "ffb18aba",
   "metadata": {
    "execution": {
     "iopub.execute_input": "2022-06-07T11:50:48.304308Z",
     "iopub.status.busy": "2022-06-07T11:50:48.303916Z",
     "iopub.status.idle": "2022-06-07T11:50:49.904027Z",
     "shell.execute_reply": "2022-06-07T11:50:49.902536Z"
    },
    "papermill": {
     "duration": 1.620375,
     "end_time": "2022-06-07T11:50:49.907248",
     "exception": false,
     "start_time": "2022-06-07T11:50:48.286873",
     "status": "completed"
    },
    "tags": []
   },
   "outputs": [
    {
     "name": "stderr",
     "output_type": "stream",
     "text": [
      "/opt/conda/lib/python3.7/site-packages/ipykernel_launcher.py:4: SettingWithCopyWarning: \n",
      "A value is trying to be set on a copy of a slice from a DataFrame.\n",
      "Try using .loc[row_indexer,col_indexer] = value instead\n",
      "\n",
      "See the caveats in the documentation: https://pandas.pydata.org/pandas-docs/stable/user_guide/indexing.html#returning-a-view-versus-a-copy\n",
      "  after removing the cwd from sys.path.\n"
     ]
    }
   ],
   "source": [
    "# Converting to a datetime format the column that was in an object format\n",
    "\n",
    "\n",
    "tripdataV1[\"started_at\"] = pd.to_datetime(tripdataV1[\"started_at\"])\n"
   ]
  },
  {
   "cell_type": "code",
   "execution_count": 20,
   "id": "0011502b",
   "metadata": {
    "execution": {
     "iopub.execute_input": "2022-06-07T11:50:49.942471Z",
     "iopub.status.busy": "2022-06-07T11:50:49.941923Z",
     "iopub.status.idle": "2022-06-07T11:50:49.948678Z",
     "shell.execute_reply": "2022-06-07T11:50:49.947969Z"
    },
    "papermill": {
     "duration": 0.026342,
     "end_time": "2022-06-07T11:50:49.950428",
     "exception": false,
     "start_time": "2022-06-07T11:50:49.924086",
     "status": "completed"
    },
    "tags": []
   },
   "outputs": [
    {
     "data": {
      "text/plain": [
       "0        2020-04-26 17:45:14\n",
       "1        2020-04-17 17:08:54\n",
       "2        2020-04-01 17:54:13\n",
       "3        2020-04-07 12:50:19\n",
       "4        2020-04-18 10:22:59\n",
       "                 ...        \n",
       "228491   2021-03-20 14:58:56\n",
       "228492   2021-03-02 11:35:10\n",
       "228493   2021-03-09 11:07:36\n",
       "228494   2021-03-01 18:11:57\n",
       "228495   2021-03-26 17:58:14\n",
       "Name: started_at, Length: 3489539, dtype: datetime64[ns]"
      ]
     },
     "execution_count": 20,
     "metadata": {},
     "output_type": "execute_result"
    }
   ],
   "source": [
    "# Checking if the started_at column already has a datatime type format\n",
    "\n",
    "tripdataV1[\"started_at\"]\n"
   ]
  },
  {
   "cell_type": "code",
   "execution_count": 21,
   "id": "8955ba16",
   "metadata": {
    "execution": {
     "iopub.execute_input": "2022-06-07T11:50:49.984676Z",
     "iopub.status.busy": "2022-06-07T11:50:49.984254Z",
     "iopub.status.idle": "2022-06-07T11:50:51.606269Z",
     "shell.execute_reply": "2022-06-07T11:50:51.605354Z"
    },
    "papermill": {
     "duration": 1.641665,
     "end_time": "2022-06-07T11:50:51.608657",
     "exception": false,
     "start_time": "2022-06-07T11:50:49.966992",
     "status": "completed"
    },
    "tags": []
   },
   "outputs": [
    {
     "name": "stderr",
     "output_type": "stream",
     "text": [
      "/opt/conda/lib/python3.7/site-packages/ipykernel_launcher.py:3: SettingWithCopyWarning: \n",
      "A value is trying to be set on a copy of a slice from a DataFrame.\n",
      "Try using .loc[row_indexer,col_indexer] = value instead\n",
      "\n",
      "See the caveats in the documentation: https://pandas.pydata.org/pandas-docs/stable/user_guide/indexing.html#returning-a-view-versus-a-copy\n",
      "  This is separate from the ipykernel package so we can avoid doing imports until\n"
     ]
    }
   ],
   "source": [
    "# Converting the ended_at column to datetime format\n",
    "\n",
    "tripdataV1[\"ended_at\"] = pd.to_datetime(tripdataV1[\"ended_at\"])\n",
    "\n"
   ]
  },
  {
   "cell_type": "code",
   "execution_count": 22,
   "id": "7d494705",
   "metadata": {
    "execution": {
     "iopub.execute_input": "2022-06-07T11:50:51.642807Z",
     "iopub.status.busy": "2022-06-07T11:50:51.641947Z",
     "iopub.status.idle": "2022-06-07T11:50:51.650103Z",
     "shell.execute_reply": "2022-06-07T11:50:51.649294Z"
    },
    "papermill": {
     "duration": 0.027373,
     "end_time": "2022-06-07T11:50:51.652084",
     "exception": false,
     "start_time": "2022-06-07T11:50:51.624711",
     "status": "completed"
    },
    "tags": []
   },
   "outputs": [
    {
     "data": {
      "text/plain": [
       "0        2020-04-26 18:12:03\n",
       "1        2020-04-17 17:17:03\n",
       "2        2020-04-01 18:08:36\n",
       "3        2020-04-07 13:02:31\n",
       "4        2020-04-18 11:15:54\n",
       "                 ...        \n",
       "228491   2021-03-20 17:22:47\n",
       "228492   2021-03-02 11:43:37\n",
       "228493   2021-03-09 11:49:11\n",
       "228494   2021-03-01 18:18:37\n",
       "228495   2021-03-26 18:06:43\n",
       "Name: ended_at, Length: 3489539, dtype: datetime64[ns]"
      ]
     },
     "execution_count": 22,
     "metadata": {},
     "output_type": "execute_result"
    }
   ],
   "source": [
    "# Checking if the changed was made\n",
    "\n",
    "tripdataV1[\"ended_at\"]\n"
   ]
  },
  {
   "cell_type": "code",
   "execution_count": 23,
   "id": "4e75ac70",
   "metadata": {
    "execution": {
     "iopub.execute_input": "2022-06-07T11:50:51.686677Z",
     "iopub.status.busy": "2022-06-07T11:50:51.685903Z",
     "iopub.status.idle": "2022-06-07T11:50:51.697362Z",
     "shell.execute_reply": "2022-06-07T11:50:51.696201Z"
    },
    "papermill": {
     "duration": 0.031291,
     "end_time": "2022-06-07T11:50:51.699693",
     "exception": false,
     "start_time": "2022-06-07T11:50:51.668402",
     "status": "completed"
    },
    "tags": []
   },
   "outputs": [
    {
     "name": "stdout",
     "output_type": "stream",
     "text": [
      "<class 'pandas.core.frame.DataFrame'>\n",
      "Int64Index: 3489539 entries, 0 to 228495\n",
      "Data columns (total 13 columns):\n",
      " #   Column              Dtype         \n",
      "---  ------              -----         \n",
      " 0   ride_id             object        \n",
      " 1   rideable_type       object        \n",
      " 2   started_at          datetime64[ns]\n",
      " 3   ended_at            datetime64[ns]\n",
      " 4   start_station_name  object        \n",
      " 5   start_station_id    object        \n",
      " 6   end_station_name    object        \n",
      " 7   end_station_id      object        \n",
      " 8   start_lat           float64       \n",
      " 9   start_lng           float64       \n",
      " 10  end_lat             float64       \n",
      " 11  end_lng             float64       \n",
      " 12  member_casual       object        \n",
      "dtypes: datetime64[ns](2), float64(4), object(7)\n",
      "memory usage: 372.7+ MB\n"
     ]
    }
   ],
   "source": [
    "tripdataV1.info()\n",
    "\n",
    "# Checking my data types format and we have two date times as intended"
   ]
  },
  {
   "cell_type": "code",
   "execution_count": null,
   "id": "8722bcb4",
   "metadata": {
    "papermill": {
     "duration": 0.016031,
     "end_time": "2022-06-07T11:50:51.732063",
     "exception": false,
     "start_time": "2022-06-07T11:50:51.716032",
     "status": "completed"
    },
    "tags": []
   },
   "outputs": [],
   "source": []
  },
  {
   "cell_type": "markdown",
   "id": "a0845837",
   "metadata": {
    "papermill": {
     "duration": 0.016006,
     "end_time": "2022-06-07T11:50:51.764355",
     "exception": false,
     "start_time": "2022-06-07T11:50:51.748349",
     "status": "completed"
    },
    "tags": []
   },
   "source": [
    "### Manipulating the data"
   ]
  },
  {
   "cell_type": "markdown",
   "id": "30718083",
   "metadata": {
    "papermill": {
     "duration": 0.016498,
     "end_time": "2022-06-07T11:50:51.797784",
     "exception": false,
     "start_time": "2022-06-07T11:50:51.781286",
     "status": "completed"
    },
    "tags": []
   },
   "source": [
    "* **Add new columns**"
   ]
  },
  {
   "cell_type": "code",
   "execution_count": null,
   "id": "d7a721db",
   "metadata": {
    "papermill": {
     "duration": 0.015964,
     "end_time": "2022-06-07T11:50:51.830707",
     "exception": false,
     "start_time": "2022-06-07T11:50:51.814743",
     "status": "completed"
    },
    "tags": []
   },
   "outputs": [],
   "source": []
  },
  {
   "cell_type": "code",
   "execution_count": null,
   "id": "022b89e7",
   "metadata": {
    "papermill": {
     "duration": 0.016033,
     "end_time": "2022-06-07T11:50:51.862971",
     "exception": false,
     "start_time": "2022-06-07T11:50:51.846938",
     "status": "completed"
    },
    "tags": []
   },
   "outputs": [],
   "source": []
  },
  {
   "cell_type": "code",
   "execution_count": 24,
   "id": "efd918b2",
   "metadata": {
    "execution": {
     "iopub.execute_input": "2022-06-07T11:50:51.897563Z",
     "iopub.status.busy": "2022-06-07T11:50:51.897047Z",
     "iopub.status.idle": "2022-06-07T11:50:52.252280Z",
     "shell.execute_reply": "2022-06-07T11:50:52.251499Z"
    },
    "papermill": {
     "duration": 0.375098,
     "end_time": "2022-06-07T11:50:52.254487",
     "exception": false,
     "start_time": "2022-06-07T11:50:51.879389",
     "status": "completed"
    },
    "tags": []
   },
   "outputs": [
    {
     "data": {
      "text/plain": [
       "0         6\n",
       "1         4\n",
       "2         2\n",
       "3         1\n",
       "4         5\n",
       "         ..\n",
       "228491    5\n",
       "228492    1\n",
       "228493    1\n",
       "228494    0\n",
       "228495    4\n",
       "Name: started_at, Length: 3489539, dtype: int64"
      ]
     },
     "execution_count": 24,
     "metadata": {},
     "output_type": "execute_result"
    }
   ],
   "source": [
    "# Using the dt.dayofweek to find the day of the week for each date\n",
    "\n",
    "tripdataV1[\"started_at\"].dt.dayofweek"
   ]
  },
  {
   "cell_type": "code",
   "execution_count": 25,
   "id": "ba618b4d",
   "metadata": {
    "execution": {
     "iopub.execute_input": "2022-06-07T11:50:52.290622Z",
     "iopub.status.busy": "2022-06-07T11:50:52.289557Z",
     "iopub.status.idle": "2022-06-07T11:50:53.534188Z",
     "shell.execute_reply": "2022-06-07T11:50:53.533483Z"
    },
    "papermill": {
     "duration": 1.264492,
     "end_time": "2022-06-07T11:50:53.536201",
     "exception": false,
     "start_time": "2022-06-07T11:50:52.271709",
     "status": "completed"
    },
    "tags": []
   },
   "outputs": [
    {
     "data": {
      "text/plain": [
       "0            Sunday\n",
       "1            Friday\n",
       "2         Wednesday\n",
       "3           Tuesday\n",
       "4          Saturday\n",
       "            ...    \n",
       "228491     Saturday\n",
       "228492      Tuesday\n",
       "228493      Tuesday\n",
       "228494       Monday\n",
       "228495       Friday\n",
       "Name: started_at, Length: 3489539, dtype: object"
      ]
     },
     "execution_count": 25,
     "metadata": {},
     "output_type": "execute_result"
    }
   ],
   "source": [
    "# Using the dt.day_name() to get the name of the day to each date\n",
    "\n",
    "tripdataV1[\"started_at\"].dt.day_name()\n"
   ]
  },
  {
   "cell_type": "code",
   "execution_count": 26,
   "id": "2cb63d54",
   "metadata": {
    "execution": {
     "iopub.execute_input": "2022-06-07T11:50:53.571610Z",
     "iopub.status.busy": "2022-06-07T11:50:53.571044Z",
     "iopub.status.idle": "2022-06-07T11:50:53.891659Z",
     "shell.execute_reply": "2022-06-07T11:50:53.890717Z"
    },
    "papermill": {
     "duration": 0.341358,
     "end_time": "2022-06-07T11:50:53.894442",
     "exception": false,
     "start_time": "2022-06-07T11:50:53.553084",
     "status": "completed"
    },
    "tags": []
   },
   "outputs": [
    {
     "data": {
      "text/plain": [
       "0         4\n",
       "1         4\n",
       "2         4\n",
       "3         4\n",
       "4         4\n",
       "         ..\n",
       "228491    3\n",
       "228492    3\n",
       "228493    3\n",
       "228494    3\n",
       "228495    3\n",
       "Name: started_at, Length: 3489539, dtype: int64"
      ]
     },
     "execution_count": 26,
     "metadata": {},
     "output_type": "execute_result"
    }
   ],
   "source": [
    "# df['month_of_date'] = df['date_given'].dt.month\n",
    "\n",
    "tripdataV1[\"started_at\"].dt.month\n"
   ]
  },
  {
   "cell_type": "code",
   "execution_count": 27,
   "id": "ce74c07a",
   "metadata": {
    "execution": {
     "iopub.execute_input": "2022-06-07T11:50:53.931371Z",
     "iopub.status.busy": "2022-06-07T11:50:53.930900Z",
     "iopub.status.idle": "2022-06-07T11:50:55.115088Z",
     "shell.execute_reply": "2022-06-07T11:50:55.113956Z"
    },
    "papermill": {
     "duration": 1.205928,
     "end_time": "2022-06-07T11:50:55.117686",
     "exception": false,
     "start_time": "2022-06-07T11:50:53.911758",
     "status": "completed"
    },
    "tags": []
   },
   "outputs": [
    {
     "data": {
      "text/plain": [
       "0         April\n",
       "1         April\n",
       "2         April\n",
       "3         April\n",
       "4         April\n",
       "          ...  \n",
       "228491    March\n",
       "228492    March\n",
       "228493    March\n",
       "228494    March\n",
       "228495    March\n",
       "Name: started_at, Length: 3489539, dtype: object"
      ]
     },
     "execution_count": 27,
     "metadata": {},
     "output_type": "execute_result"
    }
   ],
   "source": [
    "# Using the dat.month_name to see the months of each date\n",
    "# later we will assign it into a new column\n",
    "\n",
    "tripdataV1[\"started_at\"].dt.month_name()\n"
   ]
  },
  {
   "cell_type": "code",
   "execution_count": 28,
   "id": "5739ee44",
   "metadata": {
    "execution": {
     "iopub.execute_input": "2022-06-07T11:50:55.153454Z",
     "iopub.status.busy": "2022-06-07T11:50:55.153035Z",
     "iopub.status.idle": "2022-06-07T11:50:55.475450Z",
     "shell.execute_reply": "2022-06-07T11:50:55.474410Z"
    },
    "papermill": {
     "duration": 0.342884,
     "end_time": "2022-06-07T11:50:55.477758",
     "exception": false,
     "start_time": "2022-06-07T11:50:55.134874",
     "status": "completed"
    },
    "tags": []
   },
   "outputs": [
    {
     "data": {
      "text/plain": [
       "0         2020\n",
       "1         2020\n",
       "2         2020\n",
       "3         2020\n",
       "4         2020\n",
       "          ... \n",
       "228491    2021\n",
       "228492    2021\n",
       "228493    2021\n",
       "228494    2021\n",
       "228495    2021\n",
       "Name: started_at, Length: 3489539, dtype: int64"
      ]
     },
     "execution_count": 28,
     "metadata": {},
     "output_type": "execute_result"
    }
   ],
   "source": [
    "# Now taking the year this \"dt.\" is kind a a library to manipulate date\n",
    "\n",
    "tripdataV1[\"started_at\"].dt.year"
   ]
  },
  {
   "cell_type": "code",
   "execution_count": 29,
   "id": "4d822dd4",
   "metadata": {
    "execution": {
     "iopub.execute_input": "2022-06-07T11:50:55.514708Z",
     "iopub.status.busy": "2022-06-07T11:50:55.514293Z",
     "iopub.status.idle": "2022-06-07T11:50:55.841649Z",
     "shell.execute_reply": "2022-06-07T11:50:55.840740Z"
    },
    "papermill": {
     "duration": 0.347908,
     "end_time": "2022-06-07T11:50:55.843588",
     "exception": false,
     "start_time": "2022-06-07T11:50:55.495680",
     "status": "completed"
    },
    "tags": []
   },
   "outputs": [
    {
     "data": {
      "text/plain": [
       "0         26\n",
       "1         17\n",
       "2          1\n",
       "3          7\n",
       "4         18\n",
       "          ..\n",
       "228491    20\n",
       "228492     2\n",
       "228493     9\n",
       "228494     1\n",
       "228495    26\n",
       "Name: started_at, Length: 3489539, dtype: int64"
      ]
     },
     "execution_count": 29,
     "metadata": {},
     "output_type": "execute_result"
    }
   ],
   "source": [
    "# Extracting the specific day\n",
    "\n",
    "tripdataV1[\"started_at\"].dt.day"
   ]
  },
  {
   "cell_type": "markdown",
   "id": "623f2a5b",
   "metadata": {
    "papermill": {
     "duration": 0.016942,
     "end_time": "2022-06-07T11:50:55.877627",
     "exception": false,
     "start_time": "2022-06-07T11:50:55.860685",
     "status": "completed"
    },
    "tags": []
   },
   "source": [
    "**After wacthing the new values we need to create new columns we are going to create and insert the new columns**"
   ]
  },
  {
   "cell_type": "code",
   "execution_count": 30,
   "id": "2fa33ae1",
   "metadata": {
    "execution": {
     "iopub.execute_input": "2022-06-07T11:50:55.914314Z",
     "iopub.status.busy": "2022-06-07T11:50:55.913872Z",
     "iopub.status.idle": "2022-06-07T11:50:58.279749Z",
     "shell.execute_reply": "2022-06-07T11:50:58.278572Z"
    },
    "papermill": {
     "duration": 2.387929,
     "end_time": "2022-06-07T11:50:58.282983",
     "exception": false,
     "start_time": "2022-06-07T11:50:55.895054",
     "status": "completed"
    },
    "tags": []
   },
   "outputs": [
    {
     "name": "stderr",
     "output_type": "stream",
     "text": [
      "/opt/conda/lib/python3.7/site-packages/ipykernel_launcher.py:3: SettingWithCopyWarning: \n",
      "A value is trying to be set on a copy of a slice from a DataFrame.\n",
      "Try using .loc[row_indexer,col_indexer] = value instead\n",
      "\n",
      "See the caveats in the documentation: https://pandas.pydata.org/pandas-docs/stable/user_guide/indexing.html#returning-a-view-versus-a-copy\n",
      "  This is separate from the ipykernel package so we can avoid doing imports until\n",
      "/opt/conda/lib/python3.7/site-packages/ipykernel_launcher.py:5: SettingWithCopyWarning: \n",
      "A value is trying to be set on a copy of a slice from a DataFrame.\n",
      "Try using .loc[row_indexer,col_indexer] = value instead\n",
      "\n",
      "See the caveats in the documentation: https://pandas.pydata.org/pandas-docs/stable/user_guide/indexing.html#returning-a-view-versus-a-copy\n",
      "  \"\"\"\n",
      "/opt/conda/lib/python3.7/site-packages/ipykernel_launcher.py:6: SettingWithCopyWarning: \n",
      "A value is trying to be set on a copy of a slice from a DataFrame.\n",
      "Try using .loc[row_indexer,col_indexer] = value instead\n",
      "\n",
      "See the caveats in the documentation: https://pandas.pydata.org/pandas-docs/stable/user_guide/indexing.html#returning-a-view-versus-a-copy\n",
      "  \n",
      "/opt/conda/lib/python3.7/site-packages/ipykernel_launcher.py:7: SettingWithCopyWarning: \n",
      "A value is trying to be set on a copy of a slice from a DataFrame.\n",
      "Try using .loc[row_indexer,col_indexer] = value instead\n",
      "\n",
      "See the caveats in the documentation: https://pandas.pydata.org/pandas-docs/stable/user_guide/indexing.html#returning-a-view-versus-a-copy\n",
      "  import sys\n"
     ]
    },
    {
     "data": {
      "text/html": [
       "<div>\n",
       "<style scoped>\n",
       "    .dataframe tbody tr th:only-of-type {\n",
       "        vertical-align: middle;\n",
       "    }\n",
       "\n",
       "    .dataframe tbody tr th {\n",
       "        vertical-align: top;\n",
       "    }\n",
       "\n",
       "    .dataframe thead th {\n",
       "        text-align: right;\n",
       "    }\n",
       "</style>\n",
       "<table border=\"1\" class=\"dataframe\">\n",
       "  <thead>\n",
       "    <tr style=\"text-align: right;\">\n",
       "      <th></th>\n",
       "      <th>ride_id</th>\n",
       "      <th>rideable_type</th>\n",
       "      <th>started_at</th>\n",
       "      <th>ended_at</th>\n",
       "      <th>start_station_name</th>\n",
       "      <th>start_station_id</th>\n",
       "      <th>end_station_name</th>\n",
       "      <th>end_station_id</th>\n",
       "      <th>start_lat</th>\n",
       "      <th>start_lng</th>\n",
       "      <th>end_lat</th>\n",
       "      <th>end_lng</th>\n",
       "      <th>member_casual</th>\n",
       "      <th>weekday</th>\n",
       "      <th>day</th>\n",
       "      <th>month</th>\n",
       "      <th>year</th>\n",
       "    </tr>\n",
       "  </thead>\n",
       "  <tbody>\n",
       "    <tr>\n",
       "      <th>0</th>\n",
       "      <td>A847FADBBC638E45</td>\n",
       "      <td>docked_bike</td>\n",
       "      <td>2020-04-26 17:45:14</td>\n",
       "      <td>2020-04-26 18:12:03</td>\n",
       "      <td>Eckhart Park</td>\n",
       "      <td>86</td>\n",
       "      <td>Lincoln Ave &amp; Diversey Pkwy</td>\n",
       "      <td>152.0</td>\n",
       "      <td>41.896400</td>\n",
       "      <td>-87.661000</td>\n",
       "      <td>41.932200</td>\n",
       "      <td>-87.658600</td>\n",
       "      <td>member</td>\n",
       "      <td>Sunday</td>\n",
       "      <td>26</td>\n",
       "      <td>4</td>\n",
       "      <td>2020</td>\n",
       "    </tr>\n",
       "    <tr>\n",
       "      <th>1</th>\n",
       "      <td>5405B80E996FF60D</td>\n",
       "      <td>docked_bike</td>\n",
       "      <td>2020-04-17 17:08:54</td>\n",
       "      <td>2020-04-17 17:17:03</td>\n",
       "      <td>Drake Ave &amp; Fullerton Ave</td>\n",
       "      <td>503</td>\n",
       "      <td>Kosciuszko Park</td>\n",
       "      <td>499.0</td>\n",
       "      <td>41.924400</td>\n",
       "      <td>-87.715400</td>\n",
       "      <td>41.930600</td>\n",
       "      <td>-87.723800</td>\n",
       "      <td>member</td>\n",
       "      <td>Friday</td>\n",
       "      <td>17</td>\n",
       "      <td>4</td>\n",
       "      <td>2020</td>\n",
       "    </tr>\n",
       "    <tr>\n",
       "      <th>2</th>\n",
       "      <td>5DD24A79A4E006F4</td>\n",
       "      <td>docked_bike</td>\n",
       "      <td>2020-04-01 17:54:13</td>\n",
       "      <td>2020-04-01 18:08:36</td>\n",
       "      <td>McClurg Ct &amp; Erie St</td>\n",
       "      <td>142</td>\n",
       "      <td>Indiana Ave &amp; Roosevelt Rd</td>\n",
       "      <td>255.0</td>\n",
       "      <td>41.894500</td>\n",
       "      <td>-87.617900</td>\n",
       "      <td>41.867900</td>\n",
       "      <td>-87.623000</td>\n",
       "      <td>member</td>\n",
       "      <td>Wednesday</td>\n",
       "      <td>1</td>\n",
       "      <td>4</td>\n",
       "      <td>2020</td>\n",
       "    </tr>\n",
       "    <tr>\n",
       "      <th>3</th>\n",
       "      <td>2A59BBDF5CDBA725</td>\n",
       "      <td>docked_bike</td>\n",
       "      <td>2020-04-07 12:50:19</td>\n",
       "      <td>2020-04-07 13:02:31</td>\n",
       "      <td>California Ave &amp; Division St</td>\n",
       "      <td>216</td>\n",
       "      <td>Wood St &amp; Augusta Blvd</td>\n",
       "      <td>657.0</td>\n",
       "      <td>41.903000</td>\n",
       "      <td>-87.697500</td>\n",
       "      <td>41.899200</td>\n",
       "      <td>-87.672200</td>\n",
       "      <td>member</td>\n",
       "      <td>Tuesday</td>\n",
       "      <td>7</td>\n",
       "      <td>4</td>\n",
       "      <td>2020</td>\n",
       "    </tr>\n",
       "    <tr>\n",
       "      <th>4</th>\n",
       "      <td>27AD306C119C6158</td>\n",
       "      <td>docked_bike</td>\n",
       "      <td>2020-04-18 10:22:59</td>\n",
       "      <td>2020-04-18 11:15:54</td>\n",
       "      <td>Rush St &amp; Hubbard St</td>\n",
       "      <td>125</td>\n",
       "      <td>Sheridan Rd &amp; Lawrence Ave</td>\n",
       "      <td>323.0</td>\n",
       "      <td>41.890200</td>\n",
       "      <td>-87.626200</td>\n",
       "      <td>41.969500</td>\n",
       "      <td>-87.654700</td>\n",
       "      <td>casual</td>\n",
       "      <td>Saturday</td>\n",
       "      <td>18</td>\n",
       "      <td>4</td>\n",
       "      <td>2020</td>\n",
       "    </tr>\n",
       "    <tr>\n",
       "      <th>...</th>\n",
       "      <td>...</td>\n",
       "      <td>...</td>\n",
       "      <td>...</td>\n",
       "      <td>...</td>\n",
       "      <td>...</td>\n",
       "      <td>...</td>\n",
       "      <td>...</td>\n",
       "      <td>...</td>\n",
       "      <td>...</td>\n",
       "      <td>...</td>\n",
       "      <td>...</td>\n",
       "      <td>...</td>\n",
       "      <td>...</td>\n",
       "      <td>...</td>\n",
       "      <td>...</td>\n",
       "      <td>...</td>\n",
       "      <td>...</td>\n",
       "    </tr>\n",
       "    <tr>\n",
       "      <th>228491</th>\n",
       "      <td>9397BDD14798A1BA</td>\n",
       "      <td>docked_bike</td>\n",
       "      <td>2021-03-20 14:58:56</td>\n",
       "      <td>2021-03-20 17:22:47</td>\n",
       "      <td>Michigan Ave &amp; Oak St</td>\n",
       "      <td>13042</td>\n",
       "      <td>New St &amp; Illinois St</td>\n",
       "      <td>TA1306000013</td>\n",
       "      <td>41.900960</td>\n",
       "      <td>-87.623777</td>\n",
       "      <td>41.890847</td>\n",
       "      <td>-87.618617</td>\n",
       "      <td>casual</td>\n",
       "      <td>Saturday</td>\n",
       "      <td>20</td>\n",
       "      <td>3</td>\n",
       "      <td>2021</td>\n",
       "    </tr>\n",
       "    <tr>\n",
       "      <th>228492</th>\n",
       "      <td>BBBEB8D51AAD40DA</td>\n",
       "      <td>classic_bike</td>\n",
       "      <td>2021-03-02 11:35:10</td>\n",
       "      <td>2021-03-02 11:43:37</td>\n",
       "      <td>Kingsbury St &amp; Kinzie St</td>\n",
       "      <td>KA1503000043</td>\n",
       "      <td>New St &amp; Illinois St</td>\n",
       "      <td>TA1306000013</td>\n",
       "      <td>41.889177</td>\n",
       "      <td>-87.638506</td>\n",
       "      <td>41.890847</td>\n",
       "      <td>-87.618617</td>\n",
       "      <td>member</td>\n",
       "      <td>Tuesday</td>\n",
       "      <td>2</td>\n",
       "      <td>3</td>\n",
       "      <td>2021</td>\n",
       "    </tr>\n",
       "    <tr>\n",
       "      <th>228493</th>\n",
       "      <td>637FF754DA0BD9E1</td>\n",
       "      <td>classic_bike</td>\n",
       "      <td>2021-03-09 11:07:36</td>\n",
       "      <td>2021-03-09 11:49:11</td>\n",
       "      <td>Michigan Ave &amp; Oak St</td>\n",
       "      <td>13042</td>\n",
       "      <td>Clark St &amp; Berwyn Ave</td>\n",
       "      <td>KA1504000146</td>\n",
       "      <td>41.900960</td>\n",
       "      <td>-87.623777</td>\n",
       "      <td>41.977997</td>\n",
       "      <td>-87.668047</td>\n",
       "      <td>member</td>\n",
       "      <td>Tuesday</td>\n",
       "      <td>9</td>\n",
       "      <td>3</td>\n",
       "      <td>2021</td>\n",
       "    </tr>\n",
       "    <tr>\n",
       "      <th>228494</th>\n",
       "      <td>F8F43A0B978A7A35</td>\n",
       "      <td>classic_bike</td>\n",
       "      <td>2021-03-01 18:11:57</td>\n",
       "      <td>2021-03-01 18:18:37</td>\n",
       "      <td>Kingsbury St &amp; Kinzie St</td>\n",
       "      <td>KA1503000043</td>\n",
       "      <td>New St &amp; Illinois St</td>\n",
       "      <td>TA1306000013</td>\n",
       "      <td>41.889177</td>\n",
       "      <td>-87.638506</td>\n",
       "      <td>41.890847</td>\n",
       "      <td>-87.618617</td>\n",
       "      <td>member</td>\n",
       "      <td>Monday</td>\n",
       "      <td>1</td>\n",
       "      <td>3</td>\n",
       "      <td>2021</td>\n",
       "    </tr>\n",
       "    <tr>\n",
       "      <th>228495</th>\n",
       "      <td>3AE64EA5BF43CF72</td>\n",
       "      <td>electric_bike</td>\n",
       "      <td>2021-03-26 17:58:14</td>\n",
       "      <td>2021-03-26 18:06:43</td>\n",
       "      <td>NaN</td>\n",
       "      <td>NaN</td>\n",
       "      <td>New St &amp; Illinois St</td>\n",
       "      <td>TA1306000013</td>\n",
       "      <td>41.880000</td>\n",
       "      <td>-87.630000</td>\n",
       "      <td>41.890818</td>\n",
       "      <td>-87.619540</td>\n",
       "      <td>member</td>\n",
       "      <td>Friday</td>\n",
       "      <td>26</td>\n",
       "      <td>3</td>\n",
       "      <td>2021</td>\n",
       "    </tr>\n",
       "  </tbody>\n",
       "</table>\n",
       "<p>3489539 rows × 17 columns</p>\n",
       "</div>"
      ],
      "text/plain": [
       "                 ride_id  rideable_type          started_at  \\\n",
       "0       A847FADBBC638E45    docked_bike 2020-04-26 17:45:14   \n",
       "1       5405B80E996FF60D    docked_bike 2020-04-17 17:08:54   \n",
       "2       5DD24A79A4E006F4    docked_bike 2020-04-01 17:54:13   \n",
       "3       2A59BBDF5CDBA725    docked_bike 2020-04-07 12:50:19   \n",
       "4       27AD306C119C6158    docked_bike 2020-04-18 10:22:59   \n",
       "...                  ...            ...                 ...   \n",
       "228491  9397BDD14798A1BA    docked_bike 2021-03-20 14:58:56   \n",
       "228492  BBBEB8D51AAD40DA   classic_bike 2021-03-02 11:35:10   \n",
       "228493  637FF754DA0BD9E1   classic_bike 2021-03-09 11:07:36   \n",
       "228494  F8F43A0B978A7A35   classic_bike 2021-03-01 18:11:57   \n",
       "228495  3AE64EA5BF43CF72  electric_bike 2021-03-26 17:58:14   \n",
       "\n",
       "                  ended_at            start_station_name start_station_id  \\\n",
       "0      2020-04-26 18:12:03                  Eckhart Park               86   \n",
       "1      2020-04-17 17:17:03     Drake Ave & Fullerton Ave              503   \n",
       "2      2020-04-01 18:08:36          McClurg Ct & Erie St              142   \n",
       "3      2020-04-07 13:02:31  California Ave & Division St              216   \n",
       "4      2020-04-18 11:15:54          Rush St & Hubbard St              125   \n",
       "...                    ...                           ...              ...   \n",
       "228491 2021-03-20 17:22:47         Michigan Ave & Oak St            13042   \n",
       "228492 2021-03-02 11:43:37      Kingsbury St & Kinzie St     KA1503000043   \n",
       "228493 2021-03-09 11:49:11         Michigan Ave & Oak St            13042   \n",
       "228494 2021-03-01 18:18:37      Kingsbury St & Kinzie St     KA1503000043   \n",
       "228495 2021-03-26 18:06:43                           NaN              NaN   \n",
       "\n",
       "                   end_station_name end_station_id  start_lat  start_lng  \\\n",
       "0       Lincoln Ave & Diversey Pkwy          152.0  41.896400 -87.661000   \n",
       "1                   Kosciuszko Park          499.0  41.924400 -87.715400   \n",
       "2        Indiana Ave & Roosevelt Rd          255.0  41.894500 -87.617900   \n",
       "3            Wood St & Augusta Blvd          657.0  41.903000 -87.697500   \n",
       "4        Sheridan Rd & Lawrence Ave          323.0  41.890200 -87.626200   \n",
       "...                             ...            ...        ...        ...   \n",
       "228491         New St & Illinois St   TA1306000013  41.900960 -87.623777   \n",
       "228492         New St & Illinois St   TA1306000013  41.889177 -87.638506   \n",
       "228493        Clark St & Berwyn Ave   KA1504000146  41.900960 -87.623777   \n",
       "228494         New St & Illinois St   TA1306000013  41.889177 -87.638506   \n",
       "228495         New St & Illinois St   TA1306000013  41.880000 -87.630000   \n",
       "\n",
       "          end_lat    end_lng member_casual    weekday  day  month  year  \n",
       "0       41.932200 -87.658600        member     Sunday   26      4  2020  \n",
       "1       41.930600 -87.723800        member     Friday   17      4  2020  \n",
       "2       41.867900 -87.623000        member  Wednesday    1      4  2020  \n",
       "3       41.899200 -87.672200        member    Tuesday    7      4  2020  \n",
       "4       41.969500 -87.654700        casual   Saturday   18      4  2020  \n",
       "...           ...        ...           ...        ...  ...    ...   ...  \n",
       "228491  41.890847 -87.618617        casual   Saturday   20      3  2021  \n",
       "228492  41.890847 -87.618617        member    Tuesday    2      3  2021  \n",
       "228493  41.977997 -87.668047        member    Tuesday    9      3  2021  \n",
       "228494  41.890847 -87.618617        member     Monday    1      3  2021  \n",
       "228495  41.890818 -87.619540        member     Friday   26      3  2021  \n",
       "\n",
       "[3489539 rows x 17 columns]"
      ]
     },
     "execution_count": 30,
     "metadata": {},
     "output_type": "execute_result"
    }
   ],
   "source": [
    "# Adding the day as a new columns \n",
    "\n",
    "tripdataV1[\"weekday\"] = tripdataV1[\"started_at\"].dt.day_name() #the code for the new \"weekday\" column\n",
    "\n",
    "tripdataV1[\"day\"] = tripdataV1[\"started_at\"].dt.day\n",
    "tripdataV1[\"month\"] = tripdataV1[\"started_at\"].dt.month\n",
    "tripdataV1[\"year\"] = tripdataV1[\"started_at\"].dt.year\n",
    "\n",
    "\n",
    "tripdataV1"
   ]
  },
  {
   "cell_type": "markdown",
   "id": "3ebc9d8c",
   "metadata": {
    "papermill": {
     "duration": 0.018441,
     "end_time": "2022-06-07T11:50:58.320179",
     "exception": false,
     "start_time": "2022-06-07T11:50:58.301738",
     "status": "completed"
    },
    "tags": []
   },
   "source": [
    "**We have added the new four columns**\n",
    "**The weekday, day, month and year**\n",
    "**This columns will help us make a deep analysis between the casual and members**"
   ]
  },
  {
   "cell_type": "code",
   "execution_count": null,
   "id": "f6f06dc1",
   "metadata": {
    "papermill": {
     "duration": 0.017713,
     "end_time": "2022-06-07T11:50:58.356091",
     "exception": false,
     "start_time": "2022-06-07T11:50:58.338378",
     "status": "completed"
    },
    "tags": []
   },
   "outputs": [],
   "source": []
  }
 ],
 "metadata": {
  "kernelspec": {
   "display_name": "Python 3",
   "language": "python",
   "name": "python3"
  },
  "language_info": {
   "codemirror_mode": {
    "name": "ipython",
    "version": 3
   },
   "file_extension": ".py",
   "mimetype": "text/x-python",
   "name": "python",
   "nbconvert_exporter": "python",
   "pygments_lexer": "ipython3",
   "version": "3.7.12"
  },
  "papermill": {
   "default_parameters": {},
   "duration": 68.464994,
   "end_time": "2022-06-07T11:51:00.300779",
   "environment_variables": {},
   "exception": null,
   "input_path": "__notebook__.ipynb",
   "output_path": "__notebook__.ipynb",
   "parameters": {},
   "start_time": "2022-06-07T11:49:51.835785",
   "version": "2.3.4"
  }
 },
 "nbformat": 4,
 "nbformat_minor": 5
}
